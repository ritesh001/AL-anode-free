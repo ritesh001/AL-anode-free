{
 "cells": [
  {
   "cell_type": "markdown",
   "id": "52687f78",
   "metadata": {},
   "source": [
    "## Notebook to screen original eMolecules database"
   ]
  },
  {
   "cell_type": "code",
   "execution_count": 19,
   "id": "0d1fb960",
   "metadata": {},
   "outputs": [],
   "source": [
    "from rdkit import Chem\n",
    "import pandas as pd\n",
    "import numpy as np\n",
    "from rdkit.Chem import AllChem, DataStructs, Fragments, Lipinski\n",
    "import rdkit.Chem.rdMolDescriptors as MolDescriptors\n",
    "import os, sys\n",
    "import warnings\n",
    "warnings.filterwarnings('ignore')"
   ]
  },
  {
   "cell_type": "code",
   "execution_count": 3,
   "id": "e4b7d49a",
   "metadata": {},
   "outputs": [
    {
     "data": {
      "text/plain": [
       "24639820"
      ]
     },
     "execution_count": 3,
     "metadata": {},
     "output_type": "execute_result"
    }
   ],
   "source": [
    "file_name = 'emolecule_database.smi'\n",
    "\n",
    "with open(file_name, \"r\") as ins:\n",
    "    smiles = []\n",
    "    ids = []\n",
    "    for line in ins:\n",
    "        lin = line.split('\\n')\n",
    "        smiles.append(lin[0].split(' ')[0])\n",
    "        ids.append(lin[0].split(' ')[1])\n",
    "len(smiles)"
   ]
  },
  {
   "cell_type": "code",
   "execution_count": 4,
   "id": "4cb9e830-8d1a-4f2f-9154-1c2a83d9359b",
   "metadata": {},
   "outputs": [
    {
     "data": {
      "text/html": [
       "<div>\n",
       "<style scoped>\n",
       "    .dataframe tbody tr th:only-of-type {\n",
       "        vertical-align: middle;\n",
       "    }\n",
       "\n",
       "    .dataframe tbody tr th {\n",
       "        vertical-align: top;\n",
       "    }\n",
       "\n",
       "    .dataframe thead th {\n",
       "        text-align: right;\n",
       "    }\n",
       "</style>\n",
       "<table border=\"1\" class=\"dataframe\">\n",
       "  <thead>\n",
       "    <tr style=\"text-align: right;\">\n",
       "      <th></th>\n",
       "      <th>smiles</th>\n",
       "    </tr>\n",
       "  </thead>\n",
       "  <tbody>\n",
       "    <tr>\n",
       "      <th>0</th>\n",
       "      <td>isosmiles</td>\n",
       "    </tr>\n",
       "    <tr>\n",
       "      <th>1</th>\n",
       "      <td>CC(C)CCC[C@@H](C)[C@H]1CC[C@H]2[C@@H]3CC=C4CC(...</td>\n",
       "    </tr>\n",
       "    <tr>\n",
       "      <th>2</th>\n",
       "      <td>CC(C)CCC[C@@H](C)[C@H]1CCC2C3CC=C4CC(CC[C@]4(C...</td>\n",
       "    </tr>\n",
       "    <tr>\n",
       "      <th>3</th>\n",
       "      <td>CCCCCCCCCCCCCC(=O)OC1CC[C@]2(C)C3CC[C@]4(C)[C@...</td>\n",
       "    </tr>\n",
       "    <tr>\n",
       "      <th>4</th>\n",
       "      <td>Br.Oc1cc(on1)C1CCNCC1</td>\n",
       "    </tr>\n",
       "    <tr>\n",
       "      <th>...</th>\n",
       "      <td>...</td>\n",
       "    </tr>\n",
       "    <tr>\n",
       "      <th>24639815</th>\n",
       "      <td>C[C@@H]1[C@@H](CN1C(c1ccccc1)c1ccccc1)C(O)=O</td>\n",
       "    </tr>\n",
       "    <tr>\n",
       "      <th>24639816</th>\n",
       "      <td>C[C@@H]1C(CO)CN1C(=O)OC(C)(C)C</td>\n",
       "    </tr>\n",
       "    <tr>\n",
       "      <th>24639817</th>\n",
       "      <td>Cl.CCC(=O)C1(F)CNC1</td>\n",
       "    </tr>\n",
       "    <tr>\n",
       "      <th>24639818</th>\n",
       "      <td>CC1(C)[C@H]2C[C@@]3(O)CC(=O)[C@](O)([C@@H]2[C@...</td>\n",
       "    </tr>\n",
       "    <tr>\n",
       "      <th>24639819</th>\n",
       "      <td>C[C@@]1(CCCN(CC1)C(=O)OCC1c2ccccc2-c2ccccc12)C...</td>\n",
       "    </tr>\n",
       "  </tbody>\n",
       "</table>\n",
       "<p>24639820 rows × 1 columns</p>\n",
       "</div>"
      ],
      "text/plain": [
       "                                                     smiles\n",
       "0                                                 isosmiles\n",
       "1         CC(C)CCC[C@@H](C)[C@H]1CC[C@H]2[C@@H]3CC=C4CC(...\n",
       "2         CC(C)CCC[C@@H](C)[C@H]1CCC2C3CC=C4CC(CC[C@]4(C...\n",
       "3         CCCCCCCCCCCCCC(=O)OC1CC[C@]2(C)C3CC[C@]4(C)[C@...\n",
       "4                                     Br.Oc1cc(on1)C1CCNCC1\n",
       "...                                                     ...\n",
       "24639815       C[C@@H]1[C@@H](CN1C(c1ccccc1)c1ccccc1)C(O)=O\n",
       "24639816                     C[C@@H]1C(CO)CN1C(=O)OC(C)(C)C\n",
       "24639817                                Cl.CCC(=O)C1(F)CNC1\n",
       "24639818  CC1(C)[C@H]2C[C@@]3(O)CC(=O)[C@](O)([C@@H]2[C@...\n",
       "24639819  C[C@@]1(CCCN(CC1)C(=O)OCC1c2ccccc2-c2ccccc12)C...\n",
       "\n",
       "[24639820 rows x 1 columns]"
      ]
     },
     "execution_count": 4,
     "metadata": {},
     "output_type": "execute_result"
    }
   ],
   "source": [
    "df = pd.DataFrame()\n",
    "df['smiles'] = smiles\n",
    "df"
   ]
  },
  {
   "cell_type": "code",
   "execution_count": 5,
   "id": "1e2430be",
   "metadata": {},
   "outputs": [],
   "source": [
    "df.drop(index=[0], inplace=True)"
   ]
  },
  {
   "cell_type": "markdown",
   "id": "f0a806a5",
   "metadata": {},
   "source": [
    "**Screen for GM model**"
   ]
  },
  {
   "cell_type": "code",
   "execution_count": 6,
   "id": "2e4f5b33",
   "metadata": {},
   "outputs": [
    {
     "data": {
      "text/html": [
       "<div>\n",
       "<style scoped>\n",
       "    .dataframe tbody tr th:only-of-type {\n",
       "        vertical-align: middle;\n",
       "    }\n",
       "\n",
       "    .dataframe tbody tr th {\n",
       "        vertical-align: top;\n",
       "    }\n",
       "\n",
       "    .dataframe thead th {\n",
       "        text-align: right;\n",
       "    }\n",
       "</style>\n",
       "<table border=\"1\" class=\"dataframe\">\n",
       "  <thead>\n",
       "    <tr style=\"text-align: right;\">\n",
       "      <th></th>\n",
       "      <th>solvent</th>\n",
       "    </tr>\n",
       "  </thead>\n",
       "  <tbody>\n",
       "    <tr>\n",
       "      <th>0</th>\n",
       "      <td>O=C1OCCO1</td>\n",
       "    </tr>\n",
       "    <tr>\n",
       "      <th>1</th>\n",
       "      <td>COC(=O)OC</td>\n",
       "    </tr>\n",
       "    <tr>\n",
       "      <th>2</th>\n",
       "      <td>CCCCOC(=O)OC</td>\n",
       "    </tr>\n",
       "    <tr>\n",
       "      <th>3</th>\n",
       "      <td>CC(C)COC(=O)OC</td>\n",
       "    </tr>\n",
       "    <tr>\n",
       "      <th>4</th>\n",
       "      <td>CCC(C)OC(=O)OC</td>\n",
       "    </tr>\n",
       "    <tr>\n",
       "      <th>...</th>\n",
       "      <td>...</td>\n",
       "    </tr>\n",
       "    <tr>\n",
       "      <th>208</th>\n",
       "      <td>CS(=O)(=O)CCOCC(F)(F)F</td>\n",
       "    </tr>\n",
       "    <tr>\n",
       "      <th>209</th>\n",
       "      <td>CC(C)S(=O)(=O)CCOCC(F)(F)F</td>\n",
       "    </tr>\n",
       "    <tr>\n",
       "      <th>210</th>\n",
       "      <td>O=S(=O)(CCOCC(F)(F)F)CC(F)(F)F</td>\n",
       "    </tr>\n",
       "    <tr>\n",
       "      <th>211</th>\n",
       "      <td>COS(=O)OC</td>\n",
       "    </tr>\n",
       "    <tr>\n",
       "      <th>212</th>\n",
       "      <td>CCOS(=O)OCC</td>\n",
       "    </tr>\n",
       "  </tbody>\n",
       "</table>\n",
       "<p>213 rows × 1 columns</p>\n",
       "</div>"
      ],
      "text/plain": [
       "                            solvent\n",
       "0                         O=C1OCCO1\n",
       "1                         COC(=O)OC\n",
       "2                      CCCCOC(=O)OC\n",
       "3                    CC(C)COC(=O)OC\n",
       "4                    CCC(C)OC(=O)OC\n",
       "..                              ...\n",
       "208          CS(=O)(=O)CCOCC(F)(F)F\n",
       "209      CC(C)S(=O)(=O)CCOCC(F)(F)F\n",
       "210  O=S(=O)(CCOCC(F)(F)F)CC(F)(F)F\n",
       "211                       COS(=O)OC\n",
       "212                     CCOS(=O)OCC\n",
       "\n",
       "[213 rows x 1 columns]"
      ]
     },
     "execution_count": 6,
     "metadata": {},
     "output_type": "execute_result"
    }
   ],
   "source": [
    "df_ref = pd.read_csv('just_solvents_list_all.csv')\n",
    "ref = df_ref['solvent']\n",
    "df_ref"
   ]
  },
  {
   "cell_type": "code",
   "execution_count": 13,
   "id": "3339fe00",
   "metadata": {},
   "outputs": [
    {
     "data": {
      "text/html": [
       "<div>\n",
       "<style scoped>\n",
       "    .dataframe tbody tr th:only-of-type {\n",
       "        vertical-align: middle;\n",
       "    }\n",
       "\n",
       "    .dataframe tbody tr th {\n",
       "        vertical-align: top;\n",
       "    }\n",
       "\n",
       "    .dataframe thead th {\n",
       "        text-align: right;\n",
       "    }\n",
       "</style>\n",
       "<table border=\"1\" class=\"dataframe\">\n",
       "  <thead>\n",
       "    <tr style=\"text-align: right;\">\n",
       "      <th></th>\n",
       "      <th>smiles</th>\n",
       "    </tr>\n",
       "  </thead>\n",
       "  <tbody>\n",
       "    <tr>\n",
       "      <th>1</th>\n",
       "      <td>CC(C)CCC[C@@H](C)[C@H]1CC[C@H]2[C@@H]3CC=C4CC(...</td>\n",
       "    </tr>\n",
       "    <tr>\n",
       "      <th>2</th>\n",
       "      <td>CC(C)CCC[C@@H](C)[C@H]1CCC2C3CC=C4CC(CC[C@]4(C...</td>\n",
       "    </tr>\n",
       "    <tr>\n",
       "      <th>3</th>\n",
       "      <td>CCCCCCCCCCCCCC(=O)OC1CC[C@]2(C)C3CC[C@]4(C)[C@...</td>\n",
       "    </tr>\n",
       "    <tr>\n",
       "      <th>4</th>\n",
       "      <td>Br.Oc1cc(on1)C1CCNCC1</td>\n",
       "    </tr>\n",
       "    <tr>\n",
       "      <th>5</th>\n",
       "      <td>Cn1ncc2cc(CN)ccc12</td>\n",
       "    </tr>\n",
       "    <tr>\n",
       "      <th>...</th>\n",
       "      <td>...</td>\n",
       "    </tr>\n",
       "    <tr>\n",
       "      <th>24639815</th>\n",
       "      <td>C[C@@H]1[C@@H](CN1C(c1ccccc1)c1ccccc1)C(O)=O</td>\n",
       "    </tr>\n",
       "    <tr>\n",
       "      <th>24639816</th>\n",
       "      <td>C[C@@H]1C(CO)CN1C(=O)OC(C)(C)C</td>\n",
       "    </tr>\n",
       "    <tr>\n",
       "      <th>24639817</th>\n",
       "      <td>Cl.CCC(=O)C1(F)CNC1</td>\n",
       "    </tr>\n",
       "    <tr>\n",
       "      <th>24639818</th>\n",
       "      <td>CC1(C)[C@H]2C[C@@]3(O)CC(=O)[C@](O)([C@@H]2[C@...</td>\n",
       "    </tr>\n",
       "    <tr>\n",
       "      <th>24639819</th>\n",
       "      <td>C[C@@]1(CCCN(CC1)C(=O)OCC1c2ccccc2-c2ccccc12)C...</td>\n",
       "    </tr>\n",
       "  </tbody>\n",
       "</table>\n",
       "<p>24639819 rows × 1 columns</p>\n",
       "</div>"
      ],
      "text/plain": [
       "                                                     smiles\n",
       "1         CC(C)CCC[C@@H](C)[C@H]1CC[C@H]2[C@@H]3CC=C4CC(...\n",
       "2         CC(C)CCC[C@@H](C)[C@H]1CCC2C3CC=C4CC(CC[C@]4(C...\n",
       "3         CCCCCCCCCCCCCC(=O)OC1CC[C@]2(C)C3CC[C@]4(C)[C@...\n",
       "4                                     Br.Oc1cc(on1)C1CCNCC1\n",
       "5                                        Cn1ncc2cc(CN)ccc12\n",
       "...                                                     ...\n",
       "24639815       C[C@@H]1[C@@H](CN1C(c1ccccc1)c1ccccc1)C(O)=O\n",
       "24639816                     C[C@@H]1C(CO)CN1C(=O)OC(C)(C)C\n",
       "24639817                                Cl.CCC(=O)C1(F)CNC1\n",
       "24639818  CC1(C)[C@H]2C[C@@]3(O)CC(=O)[C@](O)([C@@H]2[C@...\n",
       "24639819  C[C@@]1(CCCN(CC1)C(=O)OCC1c2ccccc2-c2ccccc12)C...\n",
       "\n",
       "[24639819 rows x 1 columns]"
      ]
     },
     "execution_count": 13,
     "metadata": {},
     "output_type": "execute_result"
    }
   ],
   "source": [
    "df_trunc_1 = df.query(\"smiles.str.contains('.')\")\n",
    "df_trunc_1"
   ]
  },
  {
   "cell_type": "code",
   "execution_count": 14,
   "id": "ea230dc5",
   "metadata": {},
   "outputs": [
    {
     "data": {
      "text/html": [
       "<div>\n",
       "<style scoped>\n",
       "    .dataframe tbody tr th:only-of-type {\n",
       "        vertical-align: middle;\n",
       "    }\n",
       "\n",
       "    .dataframe tbody tr th {\n",
       "        vertical-align: top;\n",
       "    }\n",
       "\n",
       "    .dataframe thead th {\n",
       "        text-align: right;\n",
       "    }\n",
       "</style>\n",
       "<table border=\"1\" class=\"dataframe\">\n",
       "  <thead>\n",
       "    <tr style=\"text-align: right;\">\n",
       "      <th></th>\n",
       "      <th>smiles</th>\n",
       "    </tr>\n",
       "  </thead>\n",
       "  <tbody>\n",
       "    <tr>\n",
       "      <th>1</th>\n",
       "      <td>CC(C)CCC[C@@H](C)[C@H]1CC[C@H]2[C@@H]3CC=C4CC(...</td>\n",
       "    </tr>\n",
       "    <tr>\n",
       "      <th>2</th>\n",
       "      <td>CC(C)CCC[C@@H](C)[C@H]1CCC2C3CC=C4CC(CC[C@]4(C...</td>\n",
       "    </tr>\n",
       "    <tr>\n",
       "      <th>3</th>\n",
       "      <td>CCCCCCCCCCCCCC(=O)OC1CC[C@]2(C)C3CC[C@]4(C)[C@...</td>\n",
       "    </tr>\n",
       "    <tr>\n",
       "      <th>4</th>\n",
       "      <td>Br.Oc1cc(on1)C1CCNCC1</td>\n",
       "    </tr>\n",
       "    <tr>\n",
       "      <th>5</th>\n",
       "      <td>Cn1ncc2cc(CN)ccc12</td>\n",
       "    </tr>\n",
       "    <tr>\n",
       "      <th>...</th>\n",
       "      <td>...</td>\n",
       "    </tr>\n",
       "    <tr>\n",
       "      <th>24639815</th>\n",
       "      <td>C[C@@H]1[C@@H](CN1C(c1ccccc1)c1ccccc1)C(O)=O</td>\n",
       "    </tr>\n",
       "    <tr>\n",
       "      <th>24639816</th>\n",
       "      <td>C[C@@H]1C(CO)CN1C(=O)OC(C)(C)C</td>\n",
       "    </tr>\n",
       "    <tr>\n",
       "      <th>24639817</th>\n",
       "      <td>Cl.CCC(=O)C1(F)CNC1</td>\n",
       "    </tr>\n",
       "    <tr>\n",
       "      <th>24639818</th>\n",
       "      <td>CC1(C)[C@H]2C[C@@]3(O)CC(=O)[C@](O)([C@@H]2[C@...</td>\n",
       "    </tr>\n",
       "    <tr>\n",
       "      <th>24639819</th>\n",
       "      <td>C[C@@]1(CCCN(CC1)C(=O)OCC1c2ccccc2-c2ccccc12)C...</td>\n",
       "    </tr>\n",
       "  </tbody>\n",
       "</table>\n",
       "<p>24548069 rows × 1 columns</p>\n",
       "</div>"
      ],
      "text/plain": [
       "                                                     smiles\n",
       "1         CC(C)CCC[C@@H](C)[C@H]1CC[C@H]2[C@@H]3CC=C4CC(...\n",
       "2         CC(C)CCC[C@@H](C)[C@H]1CCC2C3CC=C4CC(CC[C@]4(C...\n",
       "3         CCCCCCCCCCCCCC(=O)OC1CC[C@]2(C)C3CC[C@]4(C)[C@...\n",
       "4                                     Br.Oc1cc(on1)C1CCNCC1\n",
       "5                                        Cn1ncc2cc(CN)ccc12\n",
       "...                                                     ...\n",
       "24639815       C[C@@H]1[C@@H](CN1C(c1ccccc1)c1ccccc1)C(O)=O\n",
       "24639816                     C[C@@H]1C(CO)CN1C(=O)OC(C)(C)C\n",
       "24639817                                Cl.CCC(=O)C1(F)CNC1\n",
       "24639818  CC1(C)[C@H]2C[C@@]3(O)CC(=O)[C@](O)([C@@H]2[C@...\n",
       "24639819  C[C@@]1(CCCN(CC1)C(=O)OCC1c2ccccc2-c2ccccc12)C...\n",
       "\n",
       "[24548069 rows x 1 columns]"
      ]
     },
     "execution_count": 14,
     "metadata": {},
     "output_type": "execute_result"
    }
   ],
   "source": [
    "df_trunc_2 = df_trunc_1.query(\"~smiles.str.contains('C#C')\")\n",
    "df_trunc_2"
   ]
  },
  {
   "cell_type": "code",
   "execution_count": 15,
   "id": "813e5780",
   "metadata": {},
   "outputs": [
    {
     "data": {
      "text/html": [
       "<div>\n",
       "<style scoped>\n",
       "    .dataframe tbody tr th:only-of-type {\n",
       "        vertical-align: middle;\n",
       "    }\n",
       "\n",
       "    .dataframe tbody tr th {\n",
       "        vertical-align: top;\n",
       "    }\n",
       "\n",
       "    .dataframe thead th {\n",
       "        text-align: right;\n",
       "    }\n",
       "</style>\n",
       "<table border=\"1\" class=\"dataframe\">\n",
       "  <thead>\n",
       "    <tr style=\"text-align: right;\">\n",
       "      <th></th>\n",
       "      <th>smiles</th>\n",
       "    </tr>\n",
       "  </thead>\n",
       "  <tbody>\n",
       "    <tr>\n",
       "      <th>1</th>\n",
       "      <td>CC(C)CCC[C@@H](C)[C@H]1CC[C@H]2[C@@H]3CC=C4CC(...</td>\n",
       "    </tr>\n",
       "    <tr>\n",
       "      <th>2</th>\n",
       "      <td>CC(C)CCC[C@@H](C)[C@H]1CCC2C3CC=C4CC(CC[C@]4(C...</td>\n",
       "    </tr>\n",
       "    <tr>\n",
       "      <th>3</th>\n",
       "      <td>CCCCCCCCCCCCCC(=O)OC1CC[C@]2(C)C3CC[C@]4(C)[C@...</td>\n",
       "    </tr>\n",
       "    <tr>\n",
       "      <th>4</th>\n",
       "      <td>Br.Oc1cc(on1)C1CCNCC1</td>\n",
       "    </tr>\n",
       "    <tr>\n",
       "      <th>5</th>\n",
       "      <td>Cn1ncc2cc(CN)ccc12</td>\n",
       "    </tr>\n",
       "    <tr>\n",
       "      <th>...</th>\n",
       "      <td>...</td>\n",
       "    </tr>\n",
       "    <tr>\n",
       "      <th>24639814</th>\n",
       "      <td>Cl.C[C@H]1NC[C@@H]1C#N</td>\n",
       "    </tr>\n",
       "    <tr>\n",
       "      <th>24639815</th>\n",
       "      <td>C[C@@H]1[C@@H](CN1C(c1ccccc1)c1ccccc1)C(O)=O</td>\n",
       "    </tr>\n",
       "    <tr>\n",
       "      <th>24639816</th>\n",
       "      <td>C[C@@H]1C(CO)CN1C(=O)OC(C)(C)C</td>\n",
       "    </tr>\n",
       "    <tr>\n",
       "      <th>24639817</th>\n",
       "      <td>Cl.CCC(=O)C1(F)CNC1</td>\n",
       "    </tr>\n",
       "    <tr>\n",
       "      <th>24639818</th>\n",
       "      <td>CC1(C)[C@H]2C[C@@]3(O)CC(=O)[C@](O)([C@@H]2[C@...</td>\n",
       "    </tr>\n",
       "  </tbody>\n",
       "</table>\n",
       "<p>18736032 rows × 1 columns</p>\n",
       "</div>"
      ],
      "text/plain": [
       "                                                     smiles\n",
       "1         CC(C)CCC[C@@H](C)[C@H]1CC[C@H]2[C@@H]3CC=C4CC(...\n",
       "2         CC(C)CCC[C@@H](C)[C@H]1CCC2C3CC=C4CC(CC[C@]4(C...\n",
       "3         CCCCCCCCCCCCCC(=O)OC1CC[C@]2(C)C3CC[C@]4(C)[C@...\n",
       "4                                     Br.Oc1cc(on1)C1CCNCC1\n",
       "5                                        Cn1ncc2cc(CN)ccc12\n",
       "...                                                     ...\n",
       "24639814                             Cl.C[C@H]1NC[C@@H]1C#N\n",
       "24639815       C[C@@H]1[C@@H](CN1C(c1ccccc1)c1ccccc1)C(O)=O\n",
       "24639816                     C[C@@H]1C(CO)CN1C(=O)OC(C)(C)C\n",
       "24639817                                Cl.CCC(=O)C1(F)CNC1\n",
       "24639818  CC1(C)[C@H]2C[C@@]3(O)CC(=O)[C@](O)([C@@H]2[C@...\n",
       "\n",
       "[18736032 rows x 1 columns]"
      ]
     },
     "execution_count": 15,
     "metadata": {},
     "output_type": "execute_result"
    }
   ],
   "source": [
    "df_trunc_3 = df_trunc_2.query(\"~smiles.str.contains('-')\")\n",
    "df_trunc_3"
   ]
  },
  {
   "cell_type": "code",
   "execution_count": 16,
   "id": "e2d00788",
   "metadata": {},
   "outputs": [
    {
     "data": {
      "text/html": [
       "<div>\n",
       "<style scoped>\n",
       "    .dataframe tbody tr th:only-of-type {\n",
       "        vertical-align: middle;\n",
       "    }\n",
       "\n",
       "    .dataframe tbody tr th {\n",
       "        vertical-align: top;\n",
       "    }\n",
       "\n",
       "    .dataframe thead th {\n",
       "        text-align: right;\n",
       "    }\n",
       "</style>\n",
       "<table border=\"1\" class=\"dataframe\">\n",
       "  <thead>\n",
       "    <tr style=\"text-align: right;\">\n",
       "      <th></th>\n",
       "      <th>smiles</th>\n",
       "    </tr>\n",
       "  </thead>\n",
       "  <tbody>\n",
       "    <tr>\n",
       "      <th>4</th>\n",
       "      <td>Br.Oc1cc(on1)C1CCNCC1</td>\n",
       "    </tr>\n",
       "    <tr>\n",
       "      <th>5</th>\n",
       "      <td>Cn1ncc2cc(CN)ccc12</td>\n",
       "    </tr>\n",
       "    <tr>\n",
       "      <th>6</th>\n",
       "      <td>OC(=O)c1cc(Cl)cs1</td>\n",
       "    </tr>\n",
       "    <tr>\n",
       "      <th>7</th>\n",
       "      <td>Cl.Cc1cc(CN)ncc1Br</td>\n",
       "    </tr>\n",
       "    <tr>\n",
       "      <th>10</th>\n",
       "      <td>Cc1ccc(F)c(n1)C#N</td>\n",
       "    </tr>\n",
       "    <tr>\n",
       "      <th>...</th>\n",
       "      <td>...</td>\n",
       "    </tr>\n",
       "    <tr>\n",
       "      <th>24639809</th>\n",
       "      <td>CC1Cc2c(CN1)nn(C)c2Br</td>\n",
       "    </tr>\n",
       "    <tr>\n",
       "      <th>24639810</th>\n",
       "      <td>NC(=O)C12CNC(CS1)C2</td>\n",
       "    </tr>\n",
       "    <tr>\n",
       "      <th>24639812</th>\n",
       "      <td>CC1(C)CCc2cccc(N)c2N1</td>\n",
       "    </tr>\n",
       "    <tr>\n",
       "      <th>24639813</th>\n",
       "      <td>FC1COc2ccc(F)cc2C1</td>\n",
       "    </tr>\n",
       "    <tr>\n",
       "      <th>24639817</th>\n",
       "      <td>Cl.CCC(=O)C1(F)CNC1</td>\n",
       "    </tr>\n",
       "  </tbody>\n",
       "</table>\n",
       "<p>17950413 rows × 1 columns</p>\n",
       "</div>"
      ],
      "text/plain": [
       "                         smiles\n",
       "4         Br.Oc1cc(on1)C1CCNCC1\n",
       "5            Cn1ncc2cc(CN)ccc12\n",
       "6             OC(=O)c1cc(Cl)cs1\n",
       "7            Cl.Cc1cc(CN)ncc1Br\n",
       "10            Cc1ccc(F)c(n1)C#N\n",
       "...                         ...\n",
       "24639809  CC1Cc2c(CN1)nn(C)c2Br\n",
       "24639810    NC(=O)C12CNC(CS1)C2\n",
       "24639812  CC1(C)CCc2cccc(N)c2N1\n",
       "24639813     FC1COc2ccc(F)cc2C1\n",
       "24639817    Cl.CCC(=O)C1(F)CNC1\n",
       "\n",
       "[17950413 rows x 1 columns]"
      ]
     },
     "execution_count": 16,
     "metadata": {},
     "output_type": "execute_result"
    }
   ],
   "source": [
    "df_trunc_4 = df_trunc_3.query(\"~smiles.str.contains('@')\")\n",
    "df_trunc_4"
   ]
  },
  {
   "cell_type": "code",
   "execution_count": 17,
   "id": "2e4e81f7",
   "metadata": {},
   "outputs": [
    {
     "data": {
      "text/plain": [
       "17950413"
      ]
     },
     "execution_count": 17,
     "metadata": {},
     "output_type": "execute_result"
    }
   ],
   "source": [
    "sm = df_trunc_4['smiles'].unique()\n",
    "len(sm)"
   ]
  },
  {
   "cell_type": "code",
   "execution_count": 18,
   "id": "f17e9b2b",
   "metadata": {},
   "outputs": [],
   "source": [
    "df_trunc_4.to_csv('trunc_smiles_list_emol.csv', index=False)"
   ]
  },
  {
   "cell_type": "code",
   "execution_count": 24,
   "id": "af81eeb3",
   "metadata": {},
   "outputs": [
    {
     "data": {
      "text/html": [
       "<div>\n",
       "<style scoped>\n",
       "    .dataframe tbody tr th:only-of-type {\n",
       "        vertical-align: middle;\n",
       "    }\n",
       "\n",
       "    .dataframe tbody tr th {\n",
       "        vertical-align: top;\n",
       "    }\n",
       "\n",
       "    .dataframe thead th {\n",
       "        text-align: right;\n",
       "    }\n",
       "</style>\n",
       "<table border=\"1\" class=\"dataframe\">\n",
       "  <thead>\n",
       "    <tr style=\"text-align: right;\">\n",
       "      <th></th>\n",
       "      <th>smiles</th>\n",
       "    </tr>\n",
       "  </thead>\n",
       "  <tbody>\n",
       "    <tr>\n",
       "      <th>0</th>\n",
       "      <td>Br.Oc1cc(on1)C1CCNCC1</td>\n",
       "    </tr>\n",
       "    <tr>\n",
       "      <th>1</th>\n",
       "      <td>Cn1ncc2cc(CN)ccc12</td>\n",
       "    </tr>\n",
       "    <tr>\n",
       "      <th>2</th>\n",
       "      <td>OC(=O)c1cc(Cl)cs1</td>\n",
       "    </tr>\n",
       "    <tr>\n",
       "      <th>3</th>\n",
       "      <td>Cl.Cc1cc(CN)ncc1Br</td>\n",
       "    </tr>\n",
       "    <tr>\n",
       "      <th>4</th>\n",
       "      <td>Cc1ccc(F)c(n1)C#N</td>\n",
       "    </tr>\n",
       "    <tr>\n",
       "      <th>...</th>\n",
       "      <td>...</td>\n",
       "    </tr>\n",
       "    <tr>\n",
       "      <th>17950408</th>\n",
       "      <td>CC1Cc2c(CN1)nn(C)c2Br</td>\n",
       "    </tr>\n",
       "    <tr>\n",
       "      <th>17950409</th>\n",
       "      <td>NC(=O)C12CNC(CS1)C2</td>\n",
       "    </tr>\n",
       "    <tr>\n",
       "      <th>17950410</th>\n",
       "      <td>CC1(C)CCc2cccc(N)c2N1</td>\n",
       "    </tr>\n",
       "    <tr>\n",
       "      <th>17950411</th>\n",
       "      <td>FC1COc2ccc(F)cc2C1</td>\n",
       "    </tr>\n",
       "    <tr>\n",
       "      <th>17950412</th>\n",
       "      <td>Cl.CCC(=O)C1(F)CNC1</td>\n",
       "    </tr>\n",
       "  </tbody>\n",
       "</table>\n",
       "<p>17950413 rows × 1 columns</p>\n",
       "</div>"
      ],
      "text/plain": [
       "                         smiles\n",
       "0         Br.Oc1cc(on1)C1CCNCC1\n",
       "1            Cn1ncc2cc(CN)ccc12\n",
       "2             OC(=O)c1cc(Cl)cs1\n",
       "3            Cl.Cc1cc(CN)ncc1Br\n",
       "4             Cc1ccc(F)c(n1)C#N\n",
       "...                         ...\n",
       "17950408  CC1Cc2c(CN1)nn(C)c2Br\n",
       "17950409    NC(=O)C12CNC(CS1)C2\n",
       "17950410  CC1(C)CCc2cccc(N)c2N1\n",
       "17950411     FC1COc2ccc(F)cc2C1\n",
       "17950412    Cl.CCC(=O)C1(F)CNC1\n",
       "\n",
       "[17950413 rows x 1 columns]"
      ]
     },
     "execution_count": 24,
     "metadata": {},
     "output_type": "execute_result"
    }
   ],
   "source": [
    "df = pd.read_csv('trunc_smiles_list_emol.csv')\n",
    "df"
   ]
  },
  {
   "cell_type": "code",
   "execution_count": 25,
   "id": "be51c1ef",
   "metadata": {},
   "outputs": [],
   "source": [
    "def num_double_bond(mol):\n",
    "    bond_number = 0\n",
    "    for bond in mol.GetBonds():\n",
    "        # e = bond.GetEndAtom()\n",
    "        if bond.GetBondType() == Chem.BondType.DOUBLE:\n",
    "            e = bond.GetEndAtom()\n",
    "            f = bond.GetBeginAtom()\n",
    "            if e.GetAtomicNum() == 8 or f.GetAtomicNum() == 8:\n",
    "                # bond_number = 0\n",
    "                continue\n",
    "            elif e.GetAtomicNum() == 6 or e.GetAtomicNum() == 7:\n",
    "                bond_number += 1\n",
    "            elif f.GetAtomicNum() == 6 or f.GetAtomicNum() == 7:\n",
    "                bond_number += 1\n",
    "    return bond_number"
   ]
  },
  {
   "cell_type": "code",
   "execution_count": 26,
   "id": "737649dd",
   "metadata": {},
   "outputs": [],
   "source": [
    "df_rem_elem = pd.read_csv('not-allowed-el.csv')\n",
    "rem_elem = df_rem_elem['elements']\n",
    "\n",
    "def check_present(smile):\n",
    "    ctr = 0\n",
    "    for el in rem_elem:\n",
    "        if el in smile:\n",
    "            ctr += 1\n",
    "        else:\n",
    "            continue\n",
    "    return ctr"
   ]
  },
  {
   "cell_type": "code",
   "execution_count": 27,
   "id": "694f8e83",
   "metadata": {},
   "outputs": [
    {
     "name": "stdout",
     "output_type": "stream",
     "text": [
      "Currently on 0th data\n"
     ]
    },
    {
     "name": "stderr",
     "output_type": "stream",
     "text": [
      "[02:42:43] Explicit valence for atom # 1 Br, 2, is greater than permitted\n"
     ]
    },
    {
     "name": "stdout",
     "output_type": "stream",
     "text": [
      "Wrong SMILES for:  70678 (removed!)\n"
     ]
    },
    {
     "name": "stderr",
     "output_type": "stream",
     "text": [
      "[02:42:44] Explicit valence for atom # 0 B, 5, is greater than permitted\n"
     ]
    },
    {
     "name": "stdout",
     "output_type": "stream",
     "text": [
      "Wrong SMILES for:  74611 (removed!)\n"
     ]
    },
    {
     "name": "stderr",
     "output_type": "stream",
     "text": [
      "[02:42:45] Explicit valence for atom # 1 Br, 2, is greater than permitted\n"
     ]
    },
    {
     "name": "stdout",
     "output_type": "stream",
     "text": [
      "Wrong SMILES for:  77004 (removed!)\n",
      "Currently on 100000th data\n",
      "Currently on 200000th data\n",
      "Currently on 300000th data\n",
      "Currently on 400000th data\n",
      "Currently on 500000th data\n",
      "Currently on 600000th data\n",
      "Currently on 700000th data\n",
      "Currently on 800000th data\n",
      "Currently on 900000th data\n"
     ]
    },
    {
     "name": "stderr",
     "output_type": "stream",
     "text": [
      "[02:46:48] Explicit valence for atom # 5 C, 6, is greater than permitted\n",
      "[02:46:48] Explicit valence for atom # 8 C, 6, is greater than permitted\n",
      "[02:46:48] Explicit valence for atom # 14 C, 6, is greater than permitted\n"
     ]
    },
    {
     "name": "stdout",
     "output_type": "stream",
     "text": [
      "Wrong SMILES for:  909881 (removed!)\n",
      "Wrong SMILES for:  909882 (removed!)\n",
      "Wrong SMILES for:  909883 (removed!)\n"
     ]
    },
    {
     "name": "stderr",
     "output_type": "stream",
     "text": [
      "[02:46:56] Explicit valence for atom # 1 Br, 2, is greater than permitted\n"
     ]
    },
    {
     "name": "stdout",
     "output_type": "stream",
     "text": [
      "Wrong SMILES for:  933824 (removed!)\n",
      "Currently on 1000000th data\n",
      "Currently on 1100000th data\n",
      "Currently on 1200000th data\n",
      "Currently on 1300000th data\n",
      "Currently on 1400000th data\n",
      "Currently on 1500000th data\n",
      "Currently on 1600000th data\n",
      "Currently on 1700000th data\n"
     ]
    },
    {
     "name": "stderr",
     "output_type": "stream",
     "text": [
      "[02:51:23] Explicit valence for atom # 4 C, 6, is greater than permitted\n",
      "[02:51:23] Explicit valence for atom # 2 C, 6, is greater than permitted\n"
     ]
    },
    {
     "name": "stdout",
     "output_type": "stream",
     "text": [
      "Wrong SMILES for:  1785143 (removed!)\n",
      "Wrong SMILES for:  1785144 (removed!)\n"
     ]
    },
    {
     "name": "stderr",
     "output_type": "stream",
     "text": [
      "[02:51:26] Explicit valence for atom # 1 B, 4, is greater than permitted\n"
     ]
    },
    {
     "name": "stdout",
     "output_type": "stream",
     "text": [
      "Wrong SMILES for:  1796991 (removed!)\n",
      "Currently on 1800000th data\n",
      "Currently on 1900000th data\n",
      "Currently on 2000000th data\n",
      "Currently on 2100000th data\n",
      "Currently on 2200000th data\n"
     ]
    },
    {
     "name": "stderr",
     "output_type": "stream",
     "text": [
      "[02:53:39] Explicit valence for atom # 4 Cl, 3, is greater than permitted\n"
     ]
    },
    {
     "name": "stdout",
     "output_type": "stream",
     "text": [
      "Wrong SMILES for:  2243393 (removed!)\n"
     ]
    },
    {
     "name": "stderr",
     "output_type": "stream",
     "text": [
      "[02:53:44] Explicit valence for atom # 1 Br, 3, is greater than permitted\n"
     ]
    },
    {
     "name": "stdout",
     "output_type": "stream",
     "text": [
      "Wrong SMILES for:  2263455 (removed!)\n"
     ]
    },
    {
     "name": "stderr",
     "output_type": "stream",
     "text": [
      "[02:53:50] Explicit valence for atom # 3 C, 6, is greater than permitted\n"
     ]
    },
    {
     "name": "stdout",
     "output_type": "stream",
     "text": [
      "Wrong SMILES for:  2286031 (removed!)\n",
      "Currently on 2300000th data\n",
      "Currently on 2400000th data\n",
      "Currently on 2500000th data\n"
     ]
    },
    {
     "name": "stderr",
     "output_type": "stream",
     "text": [
      "[02:54:45] Explicit valence for atom # 10 Cl, 2, is greater than permitted\n"
     ]
    },
    {
     "name": "stdout",
     "output_type": "stream",
     "text": [
      "Wrong SMILES for:  2516025 (removed!)\n",
      "Currently on 2600000th data\n"
     ]
    },
    {
     "name": "stderr",
     "output_type": "stream",
     "text": [
      "[02:55:25] Explicit valence for atom # 1 Br, 2, is greater than permitted\n"
     ]
    },
    {
     "name": "stdout",
     "output_type": "stream",
     "text": [
      "Wrong SMILES for:  2656018 (removed!)\n"
     ]
    },
    {
     "name": "stderr",
     "output_type": "stream",
     "text": [
      "[02:55:35] Explicit valence for atom # 15 H, 3, is greater than permitted\n",
      "[02:55:35] Explicit valence for atom # 6 H, 3, is greater than permitted\n"
     ]
    },
    {
     "name": "stdout",
     "output_type": "stream",
     "text": [
      "Wrong SMILES for:  2695064 (removed!)\n",
      "Wrong SMILES for:  2695065 (removed!)\n",
      "Currently on 2700000th data\n",
      "Currently on 2800000th data\n",
      "Currently on 2900000th data\n"
     ]
    },
    {
     "name": "stderr",
     "output_type": "stream",
     "text": [
      "[02:56:58] WARNING: not removing hydrogen atom without neighbors\n",
      "[02:56:59] Explicit valence for atom # 10 N, 4, is greater than permitted\n"
     ]
    },
    {
     "name": "stdout",
     "output_type": "stream",
     "text": [
      "Wrong SMILES for:  2978486 (removed!)\n",
      "Currently on 3000000th data\n"
     ]
    },
    {
     "name": "stderr",
     "output_type": "stream",
     "text": [
      "[02:57:14] WARNING: not removing hydrogen atom without neighbors\n"
     ]
    },
    {
     "name": "stdout",
     "output_type": "stream",
     "text": [
      "Currently on 3100000th data\n"
     ]
    },
    {
     "name": "stderr",
     "output_type": "stream",
     "text": [
      "[02:57:39] Explicit valence for atom # 1 N, 4, is greater than permitted\n"
     ]
    },
    {
     "name": "stdout",
     "output_type": "stream",
     "text": [
      "Wrong SMILES for:  3134445 (removed!)\n",
      "Currently on 3200000th data\n",
      "Currently on 3300000th data\n"
     ]
    },
    {
     "name": "stderr",
     "output_type": "stream",
     "text": [
      "[02:58:31] WARNING: not removing hydrogen atom without neighbors\n",
      "[02:58:31] WARNING: not removing hydrogen atom without neighbors\n",
      "[02:58:31] Explicit valence for atom # 4 N, 4, is greater than permitted\n"
     ]
    },
    {
     "name": "stdout",
     "output_type": "stream",
     "text": [
      "Wrong SMILES for:  3370772 (removed!)\n",
      "Currently on 3400000th data\n"
     ]
    },
    {
     "name": "stderr",
     "output_type": "stream",
     "text": [
      "[02:58:56] Explicit valence for atom # 1 H, 3, is greater than permitted\n",
      "[02:58:56] Explicit valence for atom # 1 H, 3, is greater than permitted\n",
      "[02:58:56] Explicit valence for atom # 1 H, 3, is greater than permitted\n",
      "[02:58:56] WARNING: not removing hydrogen atom without neighbors\n",
      "[02:58:56] Explicit valence for atom # 31 Cl, 2, is greater than permitted\n"
     ]
    },
    {
     "name": "stdout",
     "output_type": "stream",
     "text": [
      "Wrong SMILES for:  3465793 (removed!)\n",
      "Wrong SMILES for:  3465807 (removed!)\n",
      "Wrong SMILES for:  3465815 (removed!)\n",
      "Wrong SMILES for:  3465936 (removed!)\n",
      "Currently on 3500000th data\n",
      "Currently on 3600000th data\n",
      "Currently on 3700000th data\n",
      "Currently on 3800000th data\n"
     ]
    },
    {
     "name": "stderr",
     "output_type": "stream",
     "text": [
      "[03:00:18] Explicit valence for atom # 6 Br, 2, is greater than permitted\n",
      "[03:00:18] Explicit valence for atom # 7 Br, 2, is greater than permitted\n",
      "[03:00:18] Explicit valence for atom # 5 Br, 2, is greater than permitted\n",
      "[03:00:18] Explicit valence for atom # 10 Br, 2, is greater than permitted\n"
     ]
    },
    {
     "name": "stdout",
     "output_type": "stream",
     "text": [
      "Wrong SMILES for:  3802309 (removed!)\n",
      "Wrong SMILES for:  3802363 (removed!)\n",
      "Wrong SMILES for:  3802468 (removed!)\n",
      "Wrong SMILES for:  3802580 (removed!)\n",
      "Currently on 3900000th data\n",
      "Currently on 4000000th data\n"
     ]
    },
    {
     "name": "stderr",
     "output_type": "stream",
     "text": [
      "[03:01:11] Explicit valence for atom # 12 Br, 2, is greater than permitted\n",
      "[03:01:11] Explicit valence for atom # 15 Br, 2, is greater than permitted\n",
      "[03:01:11] Explicit valence for atom # 14 Br, 2, is greater than permitted\n",
      "[03:01:11] Explicit valence for atom # 14 Br, 2, is greater than permitted\n",
      "[03:01:11] Explicit valence for atom # 13 Br, 2, is greater than permitted\n",
      "[03:01:11] Explicit valence for atom # 15 Br, 2, is greater than permitted\n"
     ]
    },
    {
     "name": "stdout",
     "output_type": "stream",
     "text": [
      "Wrong SMILES for:  4006961 (removed!)\n",
      "Wrong SMILES for:  4007049 (removed!)\n",
      "Wrong SMILES for:  4007132 (removed!)\n",
      "Wrong SMILES for:  4007330 (removed!)\n",
      "Wrong SMILES for:  4007557 (removed!)\n",
      "Wrong SMILES for:  4007653 (removed!)\n"
     ]
    },
    {
     "name": "stderr",
     "output_type": "stream",
     "text": [
      "[03:01:11] Explicit valence for atom # 13 Br, 2, is greater than permitted\n",
      "[03:01:11] Explicit valence for atom # 15 Br, 2, is greater than permitted\n",
      "[03:01:11] Explicit valence for atom # 13 Br, 2, is greater than permitted\n",
      "[03:01:11] Explicit valence for atom # 15 Br, 2, is greater than permitted\n"
     ]
    },
    {
     "name": "stdout",
     "output_type": "stream",
     "text": [
      "Wrong SMILES for:  4008047 (removed!)\n",
      "Wrong SMILES for:  4008143 (removed!)\n",
      "Wrong SMILES for:  4008469 (removed!)\n",
      "Wrong SMILES for:  4008565 (removed!)\n"
     ]
    },
    {
     "name": "stderr",
     "output_type": "stream",
     "text": [
      "[03:01:12] Explicit valence for atom # 13 Br, 2, is greater than permitted\n",
      "[03:01:12] Explicit valence for atom # 13 Br, 2, is greater than permitted\n",
      "[03:01:12] Explicit valence for atom # 13 Br, 2, is greater than permitted\n"
     ]
    },
    {
     "name": "stdout",
     "output_type": "stream",
     "text": [
      "Wrong SMILES for:  4008811 (removed!)\n",
      "Wrong SMILES for:  4009049 (removed!)\n",
      "Wrong SMILES for:  4009415 (removed!)\n"
     ]
    },
    {
     "name": "stderr",
     "output_type": "stream",
     "text": [
      "[03:01:12] Explicit valence for atom # 13 Br, 2, is greater than permitted\n"
     ]
    },
    {
     "name": "stdout",
     "output_type": "stream",
     "text": [
      "Wrong SMILES for:  4009944 (removed!)\n",
      "Currently on 4100000th data\n",
      "Currently on 4200000th data\n",
      "Currently on 4300000th data\n",
      "Currently on 4400000th data\n",
      "Currently on 4500000th data\n",
      "Currently on 4600000th data\n",
      "Currently on 4700000th data\n",
      "Currently on 4800000th data\n",
      "Currently on 4900000th data\n",
      "Currently on 5000000th data\n",
      "Currently on 5100000th data\n",
      "Currently on 5200000th data\n",
      "Currently on 5300000th data\n",
      "Currently on 5400000th data\n",
      "Currently on 5500000th data\n",
      "Currently on 5600000th data\n",
      "Currently on 5700000th data\n",
      "Currently on 5800000th data\n",
      "Currently on 5900000th data\n",
      "Currently on 6000000th data\n"
     ]
    },
    {
     "name": "stderr",
     "output_type": "stream",
     "text": [
      "[03:10:46] Explicit valence for atom # 0 Cl, 2, is greater than permitted\n",
      "[03:10:46] WARNING: not removing hydrogen atom without neighbors\n"
     ]
    },
    {
     "name": "stdout",
     "output_type": "stream",
     "text": [
      "Wrong SMILES for:  6023979 (removed!)\n",
      "Currently on 6100000th data\n",
      "Currently on 6200000th data\n"
     ]
    },
    {
     "name": "stderr",
     "output_type": "stream",
     "text": [
      "[03:11:48] WARNING: not removing hydrogen atom without neighbors\n"
     ]
    },
    {
     "name": "stdout",
     "output_type": "stream",
     "text": [
      "Currently on 6300000th data\n"
     ]
    },
    {
     "name": "stderr",
     "output_type": "stream",
     "text": [
      "[03:12:09] Explicit valence for atom # 10 Cl, 2, is greater than permitted\n"
     ]
    },
    {
     "name": "stdout",
     "output_type": "stream",
     "text": [
      "Wrong SMILES for:  6337437 (removed!)\n",
      "Currently on 6400000th data\n"
     ]
    },
    {
     "name": "stderr",
     "output_type": "stream",
     "text": [
      "[03:12:31] Explicit valence for atom # 17 N, 4, is greater than permitted\n",
      "[03:12:31] Explicit valence for atom # 1 O, 3, is greater than permitted\n",
      "[03:12:31] Explicit valence for atom # 3 N, 4, is greater than permitted\n",
      "[03:12:31] Explicit valence for atom # 9 N, 4, is greater than permitted\n"
     ]
    },
    {
     "name": "stdout",
     "output_type": "stream",
     "text": [
      "Wrong SMILES for:  6422663 (removed!)\n",
      "Wrong SMILES for:  6422892 (removed!)\n",
      "Wrong SMILES for:  6422953 (removed!)\n",
      "Wrong SMILES for:  6423208 (removed!)\n"
     ]
    },
    {
     "name": "stderr",
     "output_type": "stream",
     "text": [
      "[03:12:31] Explicit valence for atom # 9 C, 5, is greater than permitted\n",
      "[03:12:31] Explicit valence for atom # 11 B, 4, is greater than permitted\n",
      "[03:12:31] Explicit valence for atom # 4 C, 5, is greater than permitted\n",
      "[03:12:31] Explicit valence for atom # 2 B, 4, is greater than permitted\n",
      "[03:12:31] Explicit valence for atom # 2 B, 4, is greater than permitted\n",
      "[03:12:31] Explicit valence for atom # 2 B, 4, is greater than permitted\n",
      "[03:12:31] Explicit valence for atom # 2 B, 4, is greater than permitted\n",
      "[03:12:31] Explicit valence for atom # 7 C, 5, is greater than permitted\n",
      "[03:12:31] Explicit valence for atom # 2 B, 4, is greater than permitted\n",
      "[03:12:31] Explicit valence for atom # 25 C, 5, is greater than permitted\n",
      "[03:12:31] Explicit valence for atom # 5 N, 4, is greater than permitted\n",
      "[03:12:31] Explicit valence for atom # 17 N, 4, is greater than permitted\n",
      "[03:12:31] Explicit valence for atom # 2 N, 4, is greater than permitted\n",
      "[03:12:31] Explicit valence for atom # 2 N, 4, is greater than permitted\n",
      "[03:12:31] Explicit valence for atom # 16 N, 4, is greater than permitted\n",
      "[03:12:31] Explicit valence for atom # 7 N, 4, is greater than permitted\n",
      "[03:12:31] Explicit valence for atom # 2 N, 4, is greater than permitted\n",
      "[03:12:31] Explicit valence for atom # 2 N, 4, is greater than permitted\n",
      "[03:12:31] Explicit valence for atom # 18 N, 4, is greater than permitted\n",
      "[03:12:31] Explicit valence for atom # 1 N, 4, is greater than permitted\n"
     ]
    },
    {
     "name": "stdout",
     "output_type": "stream",
     "text": [
      "Wrong SMILES for:  6423481 (removed!)\n",
      "Wrong SMILES for:  6423557 (removed!)\n",
      "Wrong SMILES for:  6423601 (removed!)\n",
      "Wrong SMILES for:  6423639 (removed!)\n",
      "Wrong SMILES for:  6423717 (removed!)\n",
      "Wrong SMILES for:  6423755 (removed!)\n",
      "Wrong SMILES for:  6423820 (removed!)\n",
      "Wrong SMILES for:  6423853 (removed!)\n",
      "Wrong SMILES for:  6423993 (removed!)\n",
      "Wrong SMILES for:  6423994 (removed!)\n",
      "Wrong SMILES for:  6424058 (removed!)\n",
      "Wrong SMILES for:  6424089 (removed!)\n",
      "Wrong SMILES for:  6424125 (removed!)\n",
      "Wrong SMILES for:  6424126 (removed!)\n",
      "Wrong SMILES for:  6424161 (removed!)\n",
      "Wrong SMILES for:  6424193 (removed!)\n",
      "Wrong SMILES for:  6424194 (removed!)\n",
      "Wrong SMILES for:  6424226 (removed!)\n",
      "Wrong SMILES for:  6424259 (removed!)\n",
      "Wrong SMILES for:  6424261 (removed!)\n"
     ]
    },
    {
     "name": "stderr",
     "output_type": "stream",
     "text": [
      "[03:12:31] Explicit valence for atom # 19 N, 4, is greater than permitted\n",
      "[03:12:31] Explicit valence for atom # 1 N, 4, is greater than permitted\n",
      "[03:12:31] Explicit valence for atom # 6 N, 4, is greater than permitted\n",
      "[03:12:31] Explicit valence for atom # 8 N, 4, is greater than permitted\n",
      "[03:12:31] Explicit valence for atom # 4 N, 4, is greater than permitted\n",
      "[03:12:31] Explicit valence for atom # 0 B, 6, is greater than permitted\n",
      "[03:12:31] Explicit valence for atom # 2 N, 4, is greater than permitted\n",
      "[03:12:31] Explicit valence for atom # 2 N, 4, is greater than permitted\n",
      "[03:12:31] Explicit valence for atom # 3 N, 4, is greater than permitted\n",
      "[03:12:31] Explicit valence for atom # 0 N, 4, is greater than permitted\n",
      "[03:12:31] Can't kekulize mol.  Unkekulized atoms: 1 2 8 9 10 11 12 13 14 15 17 20 21 22 23 24 25 26 27 28 31 35 37\n"
     ]
    },
    {
     "name": "stdout",
     "output_type": "stream",
     "text": [
      "Wrong SMILES for:  6424292 (removed!)\n",
      "Wrong SMILES for:  6424318 (removed!)\n",
      "Wrong SMILES for:  6424319 (removed!)\n",
      "Wrong SMILES for:  6424349 (removed!)\n",
      "Wrong SMILES for:  6424350 (removed!)\n",
      "Wrong SMILES for:  6424364 (removed!)\n",
      "Wrong SMILES for:  6424415 (removed!)\n",
      "Wrong SMILES for:  6424445 (removed!)\n",
      "Wrong SMILES for:  6424489 (removed!)\n",
      "Wrong SMILES for:  6424490 (removed!)\n",
      "Wrong SMILES for:  6424785 (removed!)\n"
     ]
    },
    {
     "name": "stderr",
     "output_type": "stream",
     "text": [
      "[03:12:32] Explicit valence for atom # 0 O, 4, is greater than permitted\n",
      "[03:12:32] Explicit valence for atom # 7 N, 4, is greater than permitted\n",
      "[03:12:32] Explicit valence for atom # 4 O, 3, is greater than permitted\n",
      "[03:12:32] Explicit valence for atom # 5 N, 4, is greater than permitted\n",
      "[03:12:32] Explicit valence for atom # 26 C, 5, is greater than permitted\n"
     ]
    },
    {
     "name": "stdout",
     "output_type": "stream",
     "text": [
      "Wrong SMILES for:  6425057 (removed!)\n",
      "Wrong SMILES for:  6425235 (removed!)\n",
      "Wrong SMILES for:  6425441 (removed!)\n",
      "Wrong SMILES for:  6425669 (removed!)\n",
      "Wrong SMILES for:  6425745 (removed!)\n"
     ]
    },
    {
     "name": "stderr",
     "output_type": "stream",
     "text": [
      "[03:12:32] Explicit valence for atom # 5 B, 5, is greater than permitted\n",
      "[03:12:32] Explicit valence for atom # 2 B, 5, is greater than permitted\n",
      "[03:12:32] Explicit valence for atom # 2 B, 5, is greater than permitted\n",
      "[03:12:32] Explicit valence for atom # 2 B, 5, is greater than permitted\n",
      "[03:12:32] Explicit valence for atom # 7 N, 5, is greater than permitted\n",
      "[03:12:32] WARNING: not removing hydrogen atom without neighbors\n",
      "[03:12:32] Explicit valence for atom # 2 B, 5, is greater than permitted\n"
     ]
    },
    {
     "name": "stdout",
     "output_type": "stream",
     "text": [
      "Wrong SMILES for:  6426474 (removed!)\n",
      "Wrong SMILES for:  6426549 (removed!)\n",
      "Wrong SMILES for:  6426612 (removed!)\n",
      "Wrong SMILES for:  6427000 (removed!)\n",
      "Wrong SMILES for:  6427028 (removed!)\n",
      "Wrong SMILES for:  6427072 (removed!)\n"
     ]
    },
    {
     "name": "stderr",
     "output_type": "stream",
     "text": [
      "[03:12:32] Explicit valence for atom # 2 B, 5, is greater than permitted\n",
      "[03:12:32] Explicit valence for atom # 0 B, 4, is greater than permitted\n",
      "[03:12:32] Explicit valence for atom # 0 Cl, 7, is greater than permitted\n"
     ]
    },
    {
     "name": "stdout",
     "output_type": "stream",
     "text": [
      "Wrong SMILES for:  6427475 (removed!)\n",
      "Wrong SMILES for:  6427956 (removed!)\n",
      "Wrong SMILES for:  6428098 (removed!)\n"
     ]
    },
    {
     "name": "stderr",
     "output_type": "stream",
     "text": [
      "[03:12:33] Explicit valence for atom # 12 O, 3, is greater than permitted\n",
      "[03:12:33] Explicit valence for atom # 10 N, 4, is greater than permitted\n",
      "[03:12:33] Explicit valence for atom # 10 N, 4, is greater than permitted\n"
     ]
    },
    {
     "name": "stdout",
     "output_type": "stream",
     "text": [
      "Wrong SMILES for:  6428694 (removed!)\n",
      "Wrong SMILES for:  6428696 (removed!)\n",
      "Wrong SMILES for:  6428748 (removed!)\n"
     ]
    },
    {
     "name": "stderr",
     "output_type": "stream",
     "text": [
      "[03:12:33] Explicit valence for atom # 0 C, 6, is greater than permitted\n",
      "[03:12:33] Explicit valence for atom # 1 B, 4, is greater than permitted\n",
      "[03:12:33] Explicit valence for atom # 9 N, 4, is greater than permitted\n"
     ]
    },
    {
     "name": "stdout",
     "output_type": "stream",
     "text": [
      "Wrong SMILES for:  6430300 (removed!)\n",
      "Wrong SMILES for:  6430813 (removed!)\n",
      "Wrong SMILES for:  6430882 (removed!)\n"
     ]
    },
    {
     "name": "stderr",
     "output_type": "stream",
     "text": [
      "[03:12:33] Can't kekulize mol.  Unkekulized atoms: 14 15 16 17 18\n",
      "[03:12:33] Can't kekulize mol.  Unkekulized atoms: 1 2 3 4 5\n",
      "[03:12:33] Can't kekulize mol.  Unkekulized atoms: 4 5 6 7 8\n",
      "[03:12:33] Explicit valence for atom # 1 B, 5, is greater than permitted\n",
      "[03:12:33] Can't kekulize mol.  Unkekulized atoms: 8 9 10 11 12\n",
      "[03:12:33] Explicit valence for atom # 1 B, 5, is greater than permitted\n",
      "[03:12:33] Can't kekulize mol.  Unkekulized atoms: 1 2 3 4 5\n",
      "[03:12:34] Explicit valence for atom # 1 B, 4, is greater than permitted\n"
     ]
    },
    {
     "name": "stdout",
     "output_type": "stream",
     "text": [
      "Wrong SMILES for:  6431095 (removed!)\n",
      "Wrong SMILES for:  6431169 (removed!)\n",
      "Wrong SMILES for:  6431170 (removed!)\n",
      "Wrong SMILES for:  6431231 (removed!)\n",
      "Wrong SMILES for:  6431317 (removed!)\n",
      "Wrong SMILES for:  6431496 (removed!)\n",
      "Wrong SMILES for:  6431641 (removed!)\n",
      "Wrong SMILES for:  6432153 (removed!)\n"
     ]
    },
    {
     "name": "stderr",
     "output_type": "stream",
     "text": [
      "[03:12:34] Can't kekulize mol.  Unkekulized atoms: 4 5 6 7 8\n",
      "[03:12:34] Explicit valence for atom # 6 O, 3, is greater than permitted\n",
      "[03:12:34] Explicit valence for atom # 1 C, 5, is greater than permitted\n",
      "[03:12:34] Can't kekulize mol.  Unkekulized atoms: 4 5 6 7 8\n",
      "[03:12:34] Can't kekulize mol.  Unkekulized atoms: 3 4 5 6 7\n",
      "[03:12:34] Can't kekulize mol.  Unkekulized atoms: 3 4 5 6 7\n",
      "[03:12:34] Can't kekulize mol.  Unkekulized atoms: 5 6 7 8 9\n",
      "[03:12:34] Can't kekulize mol.  Unkekulized atoms: 4 5 6 8 10\n",
      "[03:12:34] Can't kekulize mol.  Unkekulized atoms: 4 5 6 8 10\n",
      "[03:12:34] Explicit valence for atom # 2 B, 4, is greater than permitted\n"
     ]
    },
    {
     "name": "stdout",
     "output_type": "stream",
     "text": [
      "Wrong SMILES for:  6432739 (removed!)\n",
      "Wrong SMILES for:  6432821 (removed!)\n",
      "Wrong SMILES for:  6432899 (removed!)\n",
      "Wrong SMILES for:  6432973 (removed!)\n",
      "Wrong SMILES for:  6433048 (removed!)\n",
      "Wrong SMILES for:  6433117 (removed!)\n",
      "Wrong SMILES for:  6433327 (removed!)\n",
      "Wrong SMILES for:  6433400 (removed!)\n",
      "Wrong SMILES for:  6433401 (removed!)\n",
      "Wrong SMILES for:  6433402 (removed!)\n"
     ]
    },
    {
     "name": "stderr",
     "output_type": "stream",
     "text": [
      "[03:12:34] Can't kekulize mol.  Unkekulized atoms: 10 11 12 13 14\n",
      "[03:12:34] Can't kekulize mol.  Unkekulized atoms: 4 5 6 7 8\n",
      "[03:12:34] Explicit valence for atom # 7 O, 3, is greater than permitted\n",
      "[03:12:34] Explicit valence for atom # 5 N, 4, is greater than permitted\n",
      "[03:12:34] Can't kekulize mol.  Unkekulized atoms: 4 5 6 7 8\n",
      "[03:12:34] Can't kekulize mol.  Unkekulized atoms: 6 7 8 9 10\n",
      "[03:12:34] Can't kekulize mol.  Unkekulized atoms: 3 4 5 6 7\n",
      "[03:12:34] Can't kekulize mol.  Unkekulized atoms: 5 6 7 8 9\n",
      "[03:12:34] Explicit valence for atom # 10 B, 4, is greater than permitted\n",
      "[03:12:34] Explicit valence for atom # 7 N, 4, is greater than permitted\n",
      "[03:12:34] Can't kekulize mol.  Unkekulized atoms: 16 17 18 19 20\n",
      "[03:12:34] Can't kekulize mol.  Unkekulized atoms: 4 5 6 7 8\n",
      "[03:12:34] Can't kekulize mol.  Unkekulized atoms: 3 4 5 6 7\n",
      "[03:12:34] Can't kekulize mol.  Unkekulized atoms: 4 5 6 8 10\n",
      "[03:12:34] Can't kekulize mol.  Unkekulized atoms: 3 4 5 6 7\n",
      "[03:12:34] Can't kekulize mol.  Unkekulized atoms: 8 9 10 11 12\n"
     ]
    },
    {
     "name": "stdout",
     "output_type": "stream",
     "text": [
      "Wrong SMILES for:  6433477 (removed!)\n",
      "Wrong SMILES for:  6433478 (removed!)\n",
      "Wrong SMILES for:  6433552 (removed!)\n",
      "Wrong SMILES for:  6433629 (removed!)\n",
      "Wrong SMILES for:  6433630 (removed!)\n",
      "Wrong SMILES for:  6433705 (removed!)\n",
      "Wrong SMILES for:  6433706 (removed!)\n",
      "Wrong SMILES for:  6433778 (removed!)\n",
      "Wrong SMILES for:  6433779 (removed!)\n",
      "Wrong SMILES for:  6433851 (removed!)\n",
      "Wrong SMILES for:  6433925 (removed!)\n",
      "Wrong SMILES for:  6433998 (removed!)\n",
      "Wrong SMILES for:  6434070 (removed!)\n",
      "Wrong SMILES for:  6434071 (removed!)\n",
      "Wrong SMILES for:  6434072 (removed!)\n",
      "Wrong SMILES for:  6434140 (removed!)\n"
     ]
    },
    {
     "name": "stderr",
     "output_type": "stream",
     "text": [
      "[03:12:34] Can't kekulize mol.  Unkekulized atoms: 4 5 6 7 8\n",
      "[03:12:34] Can't kekulize mol.  Unkekulized atoms: 4 5 6 7 8\n",
      "[03:12:34] Can't kekulize mol.  Unkekulized atoms: 3 4 5 6 7\n",
      "[03:12:34] Can't kekulize mol.  Unkekulized atoms: 3 4 5 6 7\n",
      "[03:12:34] Explicit valence for atom # 0 C, 6, is greater than permitted\n"
     ]
    },
    {
     "name": "stdout",
     "output_type": "stream",
     "text": [
      "Wrong SMILES for:  6434578 (removed!)\n",
      "Wrong SMILES for:  6434636 (removed!)\n",
      "Wrong SMILES for:  6434989 (removed!)\n",
      "Wrong SMILES for:  6435121 (removed!)\n",
      "Wrong SMILES for:  6435221 (removed!)\n"
     ]
    },
    {
     "name": "stderr",
     "output_type": "stream",
     "text": [
      "[03:12:34] Explicit valence for atom # 20 N, 4, is greater than permitted\n",
      "[03:12:35] Explicit valence for atom # 0 B, 4, is greater than permitted\n",
      "[03:12:35] Explicit valence for atom # 14 C, 5, is greater than permitted\n"
     ]
    },
    {
     "name": "stdout",
     "output_type": "stream",
     "text": [
      "Wrong SMILES for:  6435442 (removed!)\n",
      "Wrong SMILES for:  6435851 (removed!)\n",
      "Wrong SMILES for:  6436092 (removed!)\n"
     ]
    },
    {
     "name": "stderr",
     "output_type": "stream",
     "text": [
      "[03:12:35] Can't kekulize mol.  Unkekulized atoms: 3 4 5 6 7\n",
      "[03:12:35] Can't kekulize mol.  Unkekulized atoms: 3 4 5 6 7\n",
      "[03:12:35] Explicit valence for atom # 4 N, 4, is greater than permitted\n",
      "[03:12:35] Can't kekulize mol.  Unkekulized atoms: 6 7 8 9 10\n",
      "[03:12:35] Can't kekulize mol.  Unkekulized atoms: 3 4 5 6 7\n",
      "[03:12:35] Can't kekulize mol.  Unkekulized atoms: 3 4 5 6 7\n",
      "[03:12:35] Can't kekulize mol.  Unkekulized atoms: 5 6 7 8 9\n",
      "[03:12:35] Can't kekulize mol.  Unkekulized atoms: 3 4 5 6 7\n",
      "[03:12:35] Can't kekulize mol.  Unkekulized atoms: 3 4 5 6 7\n",
      "[03:12:35] Can't kekulize mol.  Unkekulized atoms: 4 5 6 7 8\n"
     ]
    },
    {
     "name": "stdout",
     "output_type": "stream",
     "text": [
      "Wrong SMILES for:  6437487 (removed!)\n",
      "Wrong SMILES for:  6437703 (removed!)\n",
      "Wrong SMILES for:  6438125 (removed!)\n",
      "Wrong SMILES for:  6438127 (removed!)\n",
      "Wrong SMILES for:  6438128 (removed!)\n",
      "Wrong SMILES for:  6438129 (removed!)\n",
      "Wrong SMILES for:  6438238 (removed!)\n",
      "Wrong SMILES for:  6438239 (removed!)\n",
      "Wrong SMILES for:  6438349 (removed!)\n",
      "Wrong SMILES for:  6438567 (removed!)\n"
     ]
    },
    {
     "name": "stderr",
     "output_type": "stream",
     "text": [
      "[03:12:35] Can't kekulize mol.  Unkekulized atoms: 5 6 7 8 9\n",
      "[03:12:35] Can't kekulize mol.  Unkekulized atoms: 3 4 5 6 7\n",
      "[03:12:35] Can't kekulize mol.  Unkekulized atoms: 3 4 5 6 7\n",
      "[03:12:35] Can't kekulize mol.  Unkekulized atoms: 3 4 5 6 7\n",
      "[03:12:35] Can't kekulize mol.  Unkekulized atoms: 3 4 5 6 7\n",
      "[03:12:35] Explicit valence for atom # 0 B, 6, is greater than permitted\n",
      "[03:12:35] Explicit valence for atom # 0 B, 5, is greater than permitted\n",
      "[03:12:36] Explicit valence for atom # 0 B, 5, is greater than permitted\n",
      "[03:12:36] Explicit valence for atom # 2 B, 4, is greater than permitted\n",
      "[03:12:36] Explicit valence for atom # 1 O, 3, is greater than permitted\n",
      "[03:12:36] Explicit valence for atom # 2 B, 4, is greater than permitted\n",
      "[03:12:36] Explicit valence for atom # 9 B, 4, is greater than permitted\n"
     ]
    },
    {
     "name": "stdout",
     "output_type": "stream",
     "text": [
      "Wrong SMILES for:  6439364 (removed!)\n",
      "Wrong SMILES for:  6439453 (removed!)\n",
      "Wrong SMILES for:  6439540 (removed!)\n",
      "Wrong SMILES for:  6439541 (removed!)\n",
      "Wrong SMILES for:  6439542 (removed!)\n",
      "Wrong SMILES for:  6439802 (removed!)\n",
      "Wrong SMILES for:  6439887 (removed!)\n",
      "Wrong SMILES for:  6439975 (removed!)\n",
      "Wrong SMILES for:  6440498 (removed!)\n",
      "Wrong SMILES for:  6440595 (removed!)\n",
      "Wrong SMILES for:  6440596 (removed!)\n",
      "Wrong SMILES for:  6440597 (removed!)\n"
     ]
    },
    {
     "name": "stderr",
     "output_type": "stream",
     "text": [
      "[03:12:36] Explicit valence for atom # 12 B, 4, is greater than permitted\n",
      "[03:12:36] Explicit valence for atom # 11 B, 4, is greater than permitted\n",
      "[03:12:36] Explicit valence for atom # 8 B, 4, is greater than permitted\n",
      "[03:12:36] Explicit valence for atom # 10 B, 4, is greater than permitted\n",
      "[03:12:36] Explicit valence for atom # 2 B, 4, is greater than permitted\n",
      "[03:12:36] Explicit valence for atom # 2 B, 4, is greater than permitted\n",
      "[03:12:36] Explicit valence for atom # 2 B, 4, is greater than permitted\n",
      "[03:12:36] Explicit valence for atom # 10 O, 3, is greater than permitted\n",
      "[03:12:36] Explicit valence for atom # 10 B, 4, is greater than permitted\n",
      "[03:12:36] Explicit valence for atom # 9 B, 4, is greater than permitted\n",
      "[03:12:36] Explicit valence for atom # 15 B, 4, is greater than permitted\n",
      "[03:12:36] Explicit valence for atom # 9 B, 4, is greater than permitted\n",
      "[03:12:36] Explicit valence for atom # 9 B, 4, is greater than permitted\n",
      "[03:12:36] Explicit valence for atom # 9 B, 4, is greater than permitted\n",
      "[03:12:36] Explicit valence for atom # 10 B, 4, is greater than permitted\n",
      "[03:12:36] Explicit valence for atom # 13 B, 4, is greater than permitted\n",
      "[03:12:36] Explicit valence for atom # 3 B, 6, is greater than permitted\n",
      "[03:12:36] Explicit valence for atom # 10 B, 4, is greater than permitted\n"
     ]
    },
    {
     "name": "stdout",
     "output_type": "stream",
     "text": [
      "Wrong SMILES for:  6440698 (removed!)\n",
      "Wrong SMILES for:  6440699 (removed!)\n",
      "Wrong SMILES for:  6440796 (removed!)\n",
      "Wrong SMILES for:  6440797 (removed!)\n",
      "Wrong SMILES for:  6440898 (removed!)\n",
      "Wrong SMILES for:  6440899 (removed!)\n",
      "Wrong SMILES for:  6440996 (removed!)\n",
      "Wrong SMILES for:  6440998 (removed!)\n",
      "Wrong SMILES for:  6441097 (removed!)\n",
      "Wrong SMILES for:  6441194 (removed!)\n",
      "Wrong SMILES for:  6441294 (removed!)\n",
      "Wrong SMILES for:  6441295 (removed!)\n",
      "Wrong SMILES for:  6441394 (removed!)\n",
      "Wrong SMILES for:  6441493 (removed!)\n",
      "Wrong SMILES for:  6441789 (removed!)\n",
      "Wrong SMILES for:  6441890 (removed!)\n",
      "Wrong SMILES for:  6441892 (removed!)\n",
      "Wrong SMILES for:  6441996 (removed!)\n"
     ]
    },
    {
     "name": "stderr",
     "output_type": "stream",
     "text": [
      "[03:12:36] Explicit valence for atom # 8 N, 4, is greater than permitted\n"
     ]
    },
    {
     "name": "stdout",
     "output_type": "stream",
     "text": [
      "Wrong SMILES for:  6442713 (removed!)\n"
     ]
    },
    {
     "name": "stderr",
     "output_type": "stream",
     "text": [
      "[03:12:37] Explicit valence for atom # 2 B, 4, is greater than permitted\n",
      "[03:12:37] Explicit valence for atom # 8 B, 4, is greater than permitted\n",
      "[03:12:37] Explicit valence for atom # 2 B, 4, is greater than permitted\n",
      "[03:12:37] Explicit valence for atom # 10 B, 4, is greater than permitted\n"
     ]
    },
    {
     "name": "stdout",
     "output_type": "stream",
     "text": [
      "Wrong SMILES for:  6447210 (removed!)\n",
      "Wrong SMILES for:  6447320 (removed!)\n",
      "Wrong SMILES for:  6447425 (removed!)\n",
      "Wrong SMILES for:  6447646 (removed!)\n"
     ]
    },
    {
     "name": "stderr",
     "output_type": "stream",
     "text": [
      "[03:12:37] Explicit valence for atom # 2 B, 4, is greater than permitted\n",
      "[03:12:37] Explicit valence for atom # 2 B, 4, is greater than permitted\n"
     ]
    },
    {
     "name": "stdout",
     "output_type": "stream",
     "text": [
      "Wrong SMILES for:  6448519 (removed!)\n",
      "Wrong SMILES for:  6448736 (removed!)\n"
     ]
    },
    {
     "name": "stderr",
     "output_type": "stream",
     "text": [
      "[03:12:37] Explicit valence for atom # 2 B, 4, is greater than permitted\n"
     ]
    },
    {
     "name": "stdout",
     "output_type": "stream",
     "text": [
      "Wrong SMILES for:  6450428 (removed!)\n"
     ]
    },
    {
     "name": "stderr",
     "output_type": "stream",
     "text": [
      "[03:12:38] Explicit valence for atom # 5 C, 5, is greater than permitted\n"
     ]
    },
    {
     "name": "stdout",
     "output_type": "stream",
     "text": [
      "Wrong SMILES for:  6452868 (removed!)\n"
     ]
    },
    {
     "name": "stderr",
     "output_type": "stream",
     "text": [
      "[03:12:38] Explicit valence for atom # 0 H, 2, is greater than permitted\n"
     ]
    },
    {
     "name": "stdout",
     "output_type": "stream",
     "text": [
      "Wrong SMILES for:  6455019 (removed!)\n",
      "Currently on 6500000th data\n"
     ]
    },
    {
     "name": "stderr",
     "output_type": "stream",
     "text": [
      "[03:12:56] Explicit valence for atom # 2 C, 5, is greater than permitted\n"
     ]
    },
    {
     "name": "stdout",
     "output_type": "stream",
     "text": [
      "Wrong SMILES for:  6569870 (removed!)\n"
     ]
    },
    {
     "name": "stderr",
     "output_type": "stream",
     "text": [
      "[03:12:59] Explicit valence for atom # 7 C, 5, is greater than permitted\n"
     ]
    },
    {
     "name": "stdout",
     "output_type": "stream",
     "text": [
      "Wrong SMILES for:  6584408 (removed!)\n",
      "Currently on 6600000th data\n"
     ]
    },
    {
     "name": "stderr",
     "output_type": "stream",
     "text": [
      "[03:13:04] Explicit valence for atom # 14 S, 8, is greater than permitted\n"
     ]
    },
    {
     "name": "stdout",
     "output_type": "stream",
     "text": [
      "Wrong SMILES for:  6616479 (removed!)\n"
     ]
    },
    {
     "name": "stderr",
     "output_type": "stream",
     "text": [
      "[03:13:04] Explicit valence for atom # 3 C, 5, is greater than permitted\n"
     ]
    },
    {
     "name": "stdout",
     "output_type": "stream",
     "text": [
      "Wrong SMILES for:  6618289 (removed!)\n"
     ]
    },
    {
     "name": "stderr",
     "output_type": "stream",
     "text": [
      "[03:13:05] Explicit valence for atom # 6 C, 5, is greater than permitted\n",
      "[03:13:05] Explicit valence for atom # 14 C, 5, is greater than permitted\n"
     ]
    },
    {
     "name": "stdout",
     "output_type": "stream",
     "text": [
      "Wrong SMILES for:  6625630 (removed!)\n",
      "Wrong SMILES for:  6625649 (removed!)\n"
     ]
    },
    {
     "name": "stderr",
     "output_type": "stream",
     "text": [
      "[03:13:06] Explicit valence for atom # 9 C, 5, is greater than permitted\n",
      "[03:13:06] Explicit valence for atom # 4 C, 5, is greater than permitted\n",
      "[03:13:06] Explicit valence for atom # 8 C, 5, is greater than permitted\n"
     ]
    },
    {
     "name": "stdout",
     "output_type": "stream",
     "text": [
      "Wrong SMILES for:  6627350 (removed!)\n",
      "Wrong SMILES for:  6627776 (removed!)\n",
      "Wrong SMILES for:  6628208 (removed!)\n"
     ]
    },
    {
     "name": "stderr",
     "output_type": "stream",
     "text": [
      "[03:13:06] Explicit valence for atom # 2 C, 5, is greater than permitted\n",
      "[03:13:06] Explicit valence for atom # 1 N, 5, is greater than permitted\n"
     ]
    },
    {
     "name": "stdout",
     "output_type": "stream",
     "text": [
      "Wrong SMILES for:  6628640 (removed!)\n",
      "Wrong SMILES for:  6628811 (removed!)\n"
     ]
    },
    {
     "name": "stderr",
     "output_type": "stream",
     "text": [
      "[03:13:06] Explicit valence for atom # 9 C, 5, is greater than permitted\n"
     ]
    },
    {
     "name": "stdout",
     "output_type": "stream",
     "text": [
      "Wrong SMILES for:  6631096 (removed!)\n"
     ]
    },
    {
     "name": "stderr",
     "output_type": "stream",
     "text": [
      "[03:13:07] Explicit valence for atom # 9 C, 5, is greater than permitted\n",
      "[03:13:07] Explicit valence for atom # 9 C, 5, is greater than permitted\n",
      "[03:13:07] Explicit valence for atom # 5 C, 5, is greater than permitted\n",
      "[03:13:07] Explicit valence for atom # 3 C, 5, is greater than permitted\n",
      "[03:13:07] Explicit valence for atom # 9 C, 5, is greater than permitted\n",
      "[03:13:07] Explicit valence for atom # 9 C, 5, is greater than permitted\n"
     ]
    },
    {
     "name": "stdout",
     "output_type": "stream",
     "text": [
      "Wrong SMILES for:  6634611 (removed!)\n",
      "Wrong SMILES for:  6634818 (removed!)\n",
      "Wrong SMILES for:  6635074 (removed!)\n",
      "Wrong SMILES for:  6635290 (removed!)\n",
      "Wrong SMILES for:  6635502 (removed!)\n",
      "Wrong SMILES for:  6635718 (removed!)\n"
     ]
    },
    {
     "name": "stderr",
     "output_type": "stream",
     "text": [
      "[03:13:07] Explicit valence for atom # 2 C, 5, is greater than permitted\n",
      "[03:13:07] Explicit valence for atom # 2 C, 5, is greater than permitted\n",
      "[03:13:07] Explicit valence for atom # 7 C, 5, is greater than permitted\n"
     ]
    },
    {
     "name": "stdout",
     "output_type": "stream",
     "text": [
      "Wrong SMILES for:  6635929 (removed!)\n",
      "Wrong SMILES for:  6636145 (removed!)\n",
      "Wrong SMILES for:  6636572 (removed!)\n"
     ]
    },
    {
     "name": "stderr",
     "output_type": "stream",
     "text": [
      "[03:13:07] Explicit valence for atom # 7 C, 5, is greater than permitted\n",
      "[03:13:07] Explicit valence for atom # 7 C, 5, is greater than permitted\n",
      "[03:13:07] Explicit valence for atom # 7 C, 5, is greater than permitted\n",
      "[03:13:07] Explicit valence for atom # 7 C, 5, is greater than permitted\n",
      "[03:13:07] Explicit valence for atom # 4 C, 5, is greater than permitted\n"
     ]
    },
    {
     "name": "stdout",
     "output_type": "stream",
     "text": [
      "Wrong SMILES for:  6637433 (removed!)\n",
      "Wrong SMILES for:  6637651 (removed!)\n",
      "Wrong SMILES for:  6637868 (removed!)\n",
      "Wrong SMILES for:  6638082 (removed!)\n",
      "Wrong SMILES for:  6638298 (removed!)\n"
     ]
    },
    {
     "name": "stderr",
     "output_type": "stream",
     "text": [
      "[03:13:08] Explicit valence for atom # 8 C, 5, is greater than permitted\n"
     ]
    },
    {
     "name": "stdout",
     "output_type": "stream",
     "text": [
      "Wrong SMILES for:  6642654 (removed!)\n"
     ]
    },
    {
     "name": "stderr",
     "output_type": "stream",
     "text": [
      "[03:13:09] Explicit valence for atom # 1 C, 5, is greater than permitted\n",
      "[03:13:09] Explicit valence for atom # 11 C, 5, is greater than permitted\n",
      "[03:13:09] Explicit valence for atom # 2 C, 5, is greater than permitted\n"
     ]
    },
    {
     "name": "stdout",
     "output_type": "stream",
     "text": [
      "Wrong SMILES for:  6647561 (removed!)\n",
      "Wrong SMILES for:  6647760 (removed!)\n",
      "Wrong SMILES for:  6648190 (removed!)\n"
     ]
    },
    {
     "name": "stderr",
     "output_type": "stream",
     "text": [
      "[03:13:10] Explicit valence for atom # 9 C, 5, is greater than permitted\n"
     ]
    },
    {
     "name": "stdout",
     "output_type": "stream",
     "text": [
      "Wrong SMILES for:  6649878 (removed!)\n"
     ]
    },
    {
     "name": "stderr",
     "output_type": "stream",
     "text": [
      "[03:13:10] Explicit valence for atom # 11 C, 5, is greater than permitted\n"
     ]
    },
    {
     "name": "stdout",
     "output_type": "stream",
     "text": [
      "Wrong SMILES for:  6654891 (removed!)\n"
     ]
    },
    {
     "name": "stderr",
     "output_type": "stream",
     "text": [
      "[03:13:14] Explicit valence for atom # 5 N, 4, is greater than permitted\n"
     ]
    },
    {
     "name": "stdout",
     "output_type": "stream",
     "text": [
      "Wrong SMILES for:  6673809 (removed!)\n"
     ]
    },
    {
     "name": "stderr",
     "output_type": "stream",
     "text": [
      "[03:13:15] Can't kekulize mol.  Unkekulized atoms: 5 6 7 9 10\n",
      "[03:13:15] Can't kekulize mol.  Unkekulized atoms: 1 2 3 4 5 6 7 8 9\n",
      "[03:13:15] Explicit valence for atom # 23 B, 4, is greater than permitted\n",
      "[03:13:15] Can't kekulize mol.  Unkekulized atoms: 5 6 9\n",
      "[03:13:15] Can't kekulize mol.  Unkekulized atoms: 5 6 7 9 10\n"
     ]
    },
    {
     "name": "stdout",
     "output_type": "stream",
     "text": [
      "Wrong SMILES for:  6678549 (removed!)\n",
      "Wrong SMILES for:  6678550 (removed!)\n",
      "Wrong SMILES for:  6678651 (removed!)\n",
      "Wrong SMILES for:  6678859 (removed!)\n",
      "Wrong SMILES for:  6679527 (removed!)\n"
     ]
    },
    {
     "name": "stderr",
     "output_type": "stream",
     "text": [
      "[03:13:15] Can't kekulize mol.  Unkekulized atoms: 5 6 8 9 12\n",
      "[03:13:15] Explicit valence for atom # 24 N, 4, is greater than permitted\n",
      "[03:13:15] Can't kekulize mol.  Unkekulized atoms: 4 5 6 7 8 9 10 11 12\n"
     ]
    },
    {
     "name": "stdout",
     "output_type": "stream",
     "text": [
      "Wrong SMILES for:  6679766 (removed!)\n",
      "Wrong SMILES for:  6679999 (removed!)\n",
      "Wrong SMILES for:  6680723 (removed!)\n"
     ]
    },
    {
     "name": "stderr",
     "output_type": "stream",
     "text": [
      "[03:13:15] Can't kekulize mol.  Unkekulized atoms: 4 5 6 7 8\n",
      "[03:13:15] Can't kekulize mol.  Unkekulized atoms: 4 5 6 7 8\n",
      "[03:13:15] Can't kekulize mol.  Unkekulized atoms: 2 3 4 5 6 7 8 9 10\n",
      "[03:13:15] Can't kekulize mol.  Unkekulized atoms: 5 6 7 8 9\n",
      "[03:13:15] Can't kekulize mol.  Unkekulized atoms: 4 5 6 7 8\n",
      "[03:13:15] Can't kekulize mol.  Unkekulized atoms: 4 5 6 7 8\n"
     ]
    },
    {
     "name": "stdout",
     "output_type": "stream",
     "text": [
      "Wrong SMILES for:  6681224 (removed!)\n",
      "Wrong SMILES for:  6681349 (removed!)\n",
      "Wrong SMILES for:  6681481 (removed!)\n",
      "Wrong SMILES for:  6681625 (removed!)\n",
      "Wrong SMILES for:  6681626 (removed!)\n",
      "Wrong SMILES for:  6681924 (removed!)\n"
     ]
    },
    {
     "name": "stderr",
     "output_type": "stream",
     "text": [
      "[03:13:15] Can't kekulize mol.  Unkekulized atoms: 1 2 3 5 6\n"
     ]
    },
    {
     "name": "stdout",
     "output_type": "stream",
     "text": [
      "Wrong SMILES for:  6682380 (removed!)\n"
     ]
    },
    {
     "name": "stderr",
     "output_type": "stream",
     "text": [
      "[03:13:16] Can't kekulize mol.  Unkekulized atoms: 4 5 6 8 11\n",
      "[03:13:16] Explicit valence for atom # 4 N, 4, is greater than permitted\n"
     ]
    },
    {
     "name": "stdout",
     "output_type": "stream",
     "text": [
      "Wrong SMILES for:  6683525 (removed!)\n",
      "Wrong SMILES for:  6683954 (removed!)\n"
     ]
    },
    {
     "name": "stderr",
     "output_type": "stream",
     "text": [
      "[03:13:16] Can't kekulize mol.  Unkekulized atoms: 1 2 3 4 5 6 7 8 10\n",
      "[03:13:16] Can't kekulize mol.  Unkekulized atoms: 5 6 7 8 9\n",
      "[03:13:16] Can't kekulize mol.  Unkekulized atoms: 4 5 6 7 8\n",
      "[03:13:16] Can't kekulize mol.  Unkekulized atoms: 5 6 7 8 9\n"
     ]
    },
    {
     "name": "stdout",
     "output_type": "stream",
     "text": [
      "Wrong SMILES for:  6686083 (removed!)\n",
      "Wrong SMILES for:  6686378 (removed!)\n",
      "Wrong SMILES for:  6686521 (removed!)\n",
      "Wrong SMILES for:  6686664 (removed!)\n"
     ]
    },
    {
     "name": "stderr",
     "output_type": "stream",
     "text": [
      "[03:13:17] Can't kekulize mol.  Unkekulized atoms: 3 4 5 6 7 8 9 10 11\n",
      "[03:13:17] Can't kekulize mol.  Unkekulized atoms: 4 5 6 7 8\n"
     ]
    },
    {
     "name": "stdout",
     "output_type": "stream",
     "text": [
      "Wrong SMILES for:  6687532 (removed!)\n",
      "Wrong SMILES for:  6688102 (removed!)\n"
     ]
    },
    {
     "name": "stderr",
     "output_type": "stream",
     "text": [
      "[03:13:17] Explicit valence for atom # 3 N, 4, is greater than permitted\n"
     ]
    },
    {
     "name": "stdout",
     "output_type": "stream",
     "text": [
      "Wrong SMILES for:  6690454 (removed!)\n"
     ]
    },
    {
     "name": "stderr",
     "output_type": "stream",
     "text": [
      "[03:13:18] Explicit valence for atom # 4 N, 4, is greater than permitted\n",
      "[03:13:18] Explicit valence for atom # 16 N, 4, is greater than permitted\n"
     ]
    },
    {
     "name": "stdout",
     "output_type": "stream",
     "text": [
      "Wrong SMILES for:  6691834 (removed!)\n",
      "Wrong SMILES for:  6692240 (removed!)\n"
     ]
    },
    {
     "name": "stderr",
     "output_type": "stream",
     "text": [
      "[03:13:18] Explicit valence for atom # 1 C, 5, is greater than permitted\n"
     ]
    },
    {
     "name": "stdout",
     "output_type": "stream",
     "text": [
      "Wrong SMILES for:  6692792 (removed!)\n"
     ]
    },
    {
     "name": "stderr",
     "output_type": "stream",
     "text": [
      "[03:13:18] Explicit valence for atom # 15 N, 4, is greater than permitted\n",
      "[03:13:18] Can't kekulize mol.  Unkekulized atoms: 3 4 5 6 7 8 9 11 12\n",
      "[03:13:18] Explicit valence for atom # 16 N, 4, is greater than permitted\n",
      "[03:13:18] Explicit valence for atom # 16 N, 4, is greater than permitted\n",
      "[03:13:18] Can't kekulize mol.  Unkekulized atoms: 1 2 3 4 5\n",
      "[03:13:18] Can't kekulize mol.  Unkekulized atoms: 2 3 4 5 6\n",
      "[03:13:18] Can't kekulize mol.  Unkekulized atoms: 2 3 4 5 6 7 8 9 10\n"
     ]
    },
    {
     "name": "stdout",
     "output_type": "stream",
     "text": [
      "Wrong SMILES for:  6695104 (removed!)\n",
      "Wrong SMILES for:  6695113 (removed!)\n",
      "Wrong SMILES for:  6695231 (removed!)\n",
      "Wrong SMILES for:  6695342 (removed!)\n",
      "Wrong SMILES for:  6695470 (removed!)\n",
      "Wrong SMILES for:  6695715 (removed!)\n",
      "Wrong SMILES for:  6695716 (removed!)\n"
     ]
    },
    {
     "name": "stderr",
     "output_type": "stream",
     "text": [
      "[03:13:19] Can't kekulize mol.  Unkekulized atoms: 2 3 4 5 6\n",
      "[03:13:19] Can't kekulize mol.  Unkekulized atoms: 3 4 5 6 7\n",
      "[03:13:19] Can't kekulize mol.  Unkekulized atoms: 1 2 3 4 5\n",
      "[03:13:19] Can't kekulize mol.  Unkekulized atoms: 1 2 3 4 6\n",
      "[03:13:19] Can't kekulize mol.  Unkekulized atoms: 1 2 3 5 6 7 8 9 10\n",
      "[03:13:19] Can't kekulize mol.  Unkekulized atoms: 1 2 3 4 5 6 8 9 10\n",
      "[03:13:19] Can't kekulize mol.  Unkekulized atoms: 1 2 3 4 5\n"
     ]
    },
    {
     "name": "stdout",
     "output_type": "stream",
     "text": [
      "Wrong SMILES for:  6696081 (removed!)\n",
      "Wrong SMILES for:  6696335 (removed!)\n",
      "Wrong SMILES for:  6696591 (removed!)\n",
      "Wrong SMILES for:  6696592 (removed!)\n",
      "Wrong SMILES for:  6696593 (removed!)\n",
      "Wrong SMILES for:  6696715 (removed!)\n",
      "Wrong SMILES for:  6696828 (removed!)\n"
     ]
    },
    {
     "name": "stderr",
     "output_type": "stream",
     "text": [
      "[03:13:19] Explicit valence for atom # 2 B, 5, is greater than permitted\n",
      "[03:13:19] Explicit valence for atom # 1 O, 12, is greater than permitted\n"
     ]
    },
    {
     "name": "stdout",
     "output_type": "stream",
     "text": [
      "Wrong SMILES for:  6697896 (removed!)\n",
      "Wrong SMILES for:  6697899 (removed!)\n"
     ]
    },
    {
     "name": "stderr",
     "output_type": "stream",
     "text": [
      "[03:13:19] Explicit valence for atom # 5 N, 4, is greater than permitted\n",
      "[03:13:19] Explicit valence for atom # 5 N, 4, is greater than permitted\n",
      "[03:13:19] Explicit valence for atom # 1 N, 4, is greater than permitted\n",
      "[03:13:19] Explicit valence for atom # 5 N, 4, is greater than permitted\n",
      "[03:13:19] Explicit valence for atom # 12 N, 4, is greater than permitted\n",
      "[03:13:19] Explicit valence for atom # 7 N, 4, is greater than permitted\n",
      "[03:13:19] Explicit valence for atom # 32 N, 4, is greater than permitted\n"
     ]
    },
    {
     "name": "stdout",
     "output_type": "stream",
     "text": [
      "Wrong SMILES for:  6699067 (removed!)\n",
      "Wrong SMILES for:  6699287 (removed!)\n",
      "Wrong SMILES for:  6699395 (removed!)\n",
      "Wrong SMILES for:  6699601 (removed!)\n",
      "Wrong SMILES for:  6699813 (removed!)\n",
      "Currently on 6700000th data\n",
      "Wrong SMILES for:  6700033 (removed!)\n",
      "Wrong SMILES for:  6700035 (removed!)\n"
     ]
    },
    {
     "name": "stderr",
     "output_type": "stream",
     "text": [
      "[03:13:19] Explicit valence for atom # 9 N, 4, is greater than permitted\n"
     ]
    },
    {
     "name": "stdout",
     "output_type": "stream",
     "text": [
      "Wrong SMILES for:  6700256 (removed!)\n"
     ]
    },
    {
     "name": "stderr",
     "output_type": "stream",
     "text": [
      "[03:13:20] Explicit valence for atom # 0 O, 12, is greater than permitted\n",
      "[03:13:20] Explicit valence for atom # 3 O, 8, is greater than permitted\n"
     ]
    },
    {
     "name": "stdout",
     "output_type": "stream",
     "text": [
      "Wrong SMILES for:  6701899 (removed!)\n",
      "Wrong SMILES for:  6702024 (removed!)\n"
     ]
    },
    {
     "name": "stderr",
     "output_type": "stream",
     "text": [
      "[03:13:20] Explicit valence for atom # 14 N, 4, is greater than permitted\n",
      "[03:13:20] Explicit valence for atom # 2 Cl, 3, is greater than permitted\n"
     ]
    },
    {
     "name": "stdout",
     "output_type": "stream",
     "text": [
      "Wrong SMILES for:  6702923 (removed!)\n",
      "Wrong SMILES for:  6703595 (removed!)\n"
     ]
    },
    {
     "name": "stderr",
     "output_type": "stream",
     "text": [
      "[03:13:20] Can't kekulize mol.  Unkekulized atoms: 6 7 8 9 10\n"
     ]
    },
    {
     "name": "stdout",
     "output_type": "stream",
     "text": [
      "Wrong SMILES for:  6704948 (removed!)\n"
     ]
    },
    {
     "name": "stderr",
     "output_type": "stream",
     "text": [
      "[03:13:26] Explicit valence for atom # 29 N, 4, is greater than permitted\n",
      "[03:13:26] Explicit valence for atom # 27 N, 4, is greater than permitted\n",
      "[03:13:26] Explicit valence for atom # 25 N, 4, is greater than permitted\n",
      "[03:13:26] Explicit valence for atom # 24 N, 4, is greater than permitted\n",
      "[03:13:26] Explicit valence for atom # 28 N, 4, is greater than permitted\n",
      "[03:13:27] Explicit valence for atom # 1 N, 4, is greater than permitted\n",
      "[03:13:27] Explicit valence for atom # 7 C, 5, is greater than permitted\n"
     ]
    },
    {
     "name": "stdout",
     "output_type": "stream",
     "text": [
      "Wrong SMILES for:  6730073 (removed!)\n",
      "Wrong SMILES for:  6730191 (removed!)\n",
      "Wrong SMILES for:  6730195 (removed!)\n",
      "Wrong SMILES for:  6730323 (removed!)\n",
      "Wrong SMILES for:  6730452 (removed!)\n",
      "Wrong SMILES for:  6730584 (removed!)\n",
      "Wrong SMILES for:  6730706 (removed!)\n"
     ]
    },
    {
     "name": "stderr",
     "output_type": "stream",
     "text": [
      "[03:13:27] Explicit valence for atom # 26 N, 4, is greater than permitted\n",
      "[03:13:27] Explicit valence for atom # 2 N, 4, is greater than permitted\n",
      "[03:13:27] Can't kekulize mol.  Unkekulized atoms: 1 2 3 4 5\n"
     ]
    },
    {
     "name": "stdout",
     "output_type": "stream",
     "text": [
      "Wrong SMILES for:  6731459 (removed!)\n",
      "Wrong SMILES for:  6731854 (removed!)\n",
      "Wrong SMILES for:  6732003 (removed!)\n"
     ]
    },
    {
     "name": "stderr",
     "output_type": "stream",
     "text": [
      "[03:13:27] Explicit valence for atom # 4 N, 4, is greater than permitted\n",
      "[03:13:27] Can't kekulize mol.  Unkekulized atoms: 8 9 10 11 12 13 14 15 16\n",
      "[03:13:27] Explicit valence for atom # 16 N, 4, is greater than permitted\n",
      "[03:13:27] Explicit valence for atom # 4 N, 4, is greater than permitted\n",
      "[03:13:27] Explicit valence for atom # 9 N, 4, is greater than permitted\n",
      "[03:13:27] Explicit valence for atom # 18 N, 4, is greater than permitted\n",
      "[03:13:27] Explicit valence for atom # 13 N, 4, is greater than permitted\n",
      "[03:13:27] Can't kekulize mol.  Unkekulized atoms: 3 4 5 6 7\n",
      "[03:13:27] Explicit valence for atom # 11 N, 4, is greater than permitted\n",
      "[03:13:27] Explicit valence for atom # 15 N, 4, is greater than permitted\n",
      "[03:13:27] Explicit valence for atom # 15 N, 4, is greater than permitted\n"
     ]
    },
    {
     "name": "stdout",
     "output_type": "stream",
     "text": [
      "Wrong SMILES for:  6732437 (removed!)\n",
      "Wrong SMILES for:  6732579 (removed!)\n",
      "Wrong SMILES for:  6732584 (removed!)\n",
      "Wrong SMILES for:  6732587 (removed!)\n",
      "Wrong SMILES for:  6732732 (removed!)\n",
      "Wrong SMILES for:  6732734 (removed!)\n",
      "Wrong SMILES for:  6732735 (removed!)\n",
      "Wrong SMILES for:  6732878 (removed!)\n",
      "Wrong SMILES for:  6732887 (removed!)\n",
      "Wrong SMILES for:  6732888 (removed!)\n",
      "Wrong SMILES for:  6733034 (removed!)\n"
     ]
    },
    {
     "name": "stderr",
     "output_type": "stream",
     "text": [
      "[03:13:27] Explicit valence for atom # 11 N, 4, is greater than permitted\n",
      "[03:13:27] Explicit valence for atom # 10 N, 4, is greater than permitted\n"
     ]
    },
    {
     "name": "stdout",
     "output_type": "stream",
     "text": [
      "Wrong SMILES for:  6733184 (removed!)\n",
      "Wrong SMILES for:  6733334 (removed!)\n"
     ]
    },
    {
     "name": "stderr",
     "output_type": "stream",
     "text": [
      "[03:13:28] Explicit valence for atom # 4 N, 4, is greater than permitted\n",
      "[03:13:28] Explicit valence for atom # 8 N, 4, is greater than permitted\n",
      "[03:13:28] Explicit valence for atom # 2 N, 4, is greater than permitted\n",
      "[03:13:28] Explicit valence for atom # 13 N, 4, is greater than permitted\n",
      "[03:13:28] Explicit valence for atom # 4 N, 4, is greater than permitted\n",
      "[03:13:28] Explicit valence for atom # 4 N, 4, is greater than permitted\n",
      "[03:13:28] Explicit valence for atom # 13 N, 4, is greater than permitted\n",
      "[03:13:28] Explicit valence for atom # 6 N, 4, is greater than permitted\n",
      "[03:13:28] Explicit valence for atom # 12 N, 4, is greater than permitted\n",
      "[03:13:28] Explicit valence for atom # 11 N, 4, is greater than permitted\n",
      "[03:13:28] Explicit valence for atom # 6 N, 4, is greater than permitted\n",
      "[03:13:28] Can't kekulize mol.  Unkekulized atoms: 1 2 3 4 5 6 7 8 9\n",
      "[03:13:28] Explicit valence for atom # 4 N, 4, is greater than permitted\n",
      "[03:13:28] Explicit valence for atom # 6 N, 4, is greater than permitted\n",
      "[03:13:28] Explicit valence for atom # 2 N, 4, is greater than permitted\n",
      "[03:13:28] Explicit valence for atom # 4 N, 4, is greater than permitted\n",
      "[03:13:28] Explicit valence for atom # 4 N, 4, is greater than permitted\n",
      "[03:13:28] Explicit valence for atom # 5 N, 4, is greater than permitted\n",
      "[03:13:28] Explicit valence for atom # 6 N, 4, is greater than permitted\n",
      "[03:13:28] Explicit valence for atom # 6 N, 4, is greater than permitted\n",
      "[03:13:28] Explicit valence for atom # 11 N, 4, is greater than permitted\n",
      "[03:13:28] Explicit valence for atom # 12 N, 4, is greater than permitted\n",
      "[03:13:28] Explicit valence for atom # 14 N, 4, is greater than permitted\n",
      "[03:13:28] Can't kekulize mol.  Unkekulized atoms: 1 2 3 4 5 6 7 8 9\n",
      "[03:13:28] Explicit valence for atom # 4 N, 4, is greater than permitted\n",
      "[03:13:28] Explicit valence for atom # 6 N, 4, is greater than permitted\n",
      "[03:13:28] Explicit valence for atom # 2 N, 4, is greater than permitted\n",
      "[03:13:28] Explicit valence for atom # 4 N, 4, is greater than permitted\n",
      "[03:13:28] Explicit valence for atom # 4 N, 4, is greater than permitted\n",
      "[03:13:28] Explicit valence for atom # 11 N, 4, is greater than permitted\n",
      "[03:13:28] Explicit valence for atom # 6 N, 4, is greater than permitted\n",
      "[03:13:28] Explicit valence for atom # 6 N, 4, is greater than permitted\n",
      "[03:13:28] Explicit valence for atom # 12 N, 4, is greater than permitted\n",
      "[03:13:28] Explicit valence for atom # 11 N, 4, is greater than permitted\n",
      "[03:13:28] Explicit valence for atom # 12 N, 4, is greater than permitted\n"
     ]
    },
    {
     "name": "stdout",
     "output_type": "stream",
     "text": [
      "Wrong SMILES for:  6734224 (removed!)\n",
      "Wrong SMILES for:  6734225 (removed!)\n",
      "Wrong SMILES for:  6734226 (removed!)\n",
      "Wrong SMILES for:  6734227 (removed!)\n",
      "Wrong SMILES for:  6734228 (removed!)\n",
      "Wrong SMILES for:  6734229 (removed!)\n",
      "Wrong SMILES for:  6734230 (removed!)\n",
      "Wrong SMILES for:  6734231 (removed!)\n",
      "Wrong SMILES for:  6734232 (removed!)\n",
      "Wrong SMILES for:  6734233 (removed!)\n",
      "Wrong SMILES for:  6734234 (removed!)\n",
      "Wrong SMILES for:  6734370 (removed!)\n",
      "Wrong SMILES for:  6734516 (removed!)\n",
      "Wrong SMILES for:  6734517 (removed!)\n",
      "Wrong SMILES for:  6734518 (removed!)\n",
      "Wrong SMILES for:  6734519 (removed!)\n",
      "Wrong SMILES for:  6734520 (removed!)\n",
      "Wrong SMILES for:  6734521 (removed!)\n",
      "Wrong SMILES for:  6734522 (removed!)\n",
      "Wrong SMILES for:  6734523 (removed!)\n",
      "Wrong SMILES for:  6734524 (removed!)\n",
      "Wrong SMILES for:  6734525 (removed!)\n",
      "Wrong SMILES for:  6734526 (removed!)\n",
      "Wrong SMILES for:  6734663 (removed!)\n",
      "Wrong SMILES for:  6734813 (removed!)\n",
      "Wrong SMILES for:  6734814 (removed!)\n",
      "Wrong SMILES for:  6734815 (removed!)\n",
      "Wrong SMILES for:  6734816 (removed!)\n",
      "Wrong SMILES for:  6734817 (removed!)\n",
      "Wrong SMILES for:  6734818 (removed!)\n",
      "Wrong SMILES for:  6734819 (removed!)\n",
      "Wrong SMILES for:  6734820 (removed!)\n",
      "Wrong SMILES for:  6734821 (removed!)\n",
      "Wrong SMILES for:  6734822 (removed!)\n",
      "Wrong SMILES for:  6734823 (removed!)\n"
     ]
    },
    {
     "name": "stderr",
     "output_type": "stream",
     "text": [
      "[03:13:28] Can't kekulize mol.  Unkekulized atoms: 1 2 3 4 5\n",
      "[03:13:28] Explicit valence for atom # 5 N, 4, is greater than permitted\n",
      "[03:13:28] Explicit valence for atom # 4 N, 4, is greater than permitted\n",
      "[03:13:28] Explicit valence for atom # 14 N, 4, is greater than permitted\n",
      "[03:13:28] Explicit valence for atom # 14 N, 4, is greater than permitted\n",
      "[03:13:28] Explicit valence for atom # 4 N, 4, is greater than permitted\n",
      "[03:13:28] Explicit valence for atom # 4 N, 4, is greater than permitted\n",
      "[03:13:28] Explicit valence for atom # 13 N, 4, is greater than permitted\n",
      "[03:13:28] Explicit valence for atom # 8 N, 4, is greater than permitted\n",
      "[03:13:28] Explicit valence for atom # 6 N, 4, is greater than permitted\n",
      "[03:13:28] Explicit valence for atom # 13 N, 4, is greater than permitted\n",
      "[03:13:28] Explicit valence for atom # 6 N, 4, is greater than permitted\n",
      "[03:13:28] Explicit valence for atom # 11 N, 4, is greater than permitted\n",
      "[03:13:28] Explicit valence for atom # 4 N, 4, is greater than permitted\n",
      "[03:13:28] Explicit valence for atom # 2 N, 4, is greater than permitted\n",
      "[03:13:28] Explicit valence for atom # 2 N, 4, is greater than permitted\n",
      "[03:13:28] Explicit valence for atom # 4 N, 4, is greater than permitted\n",
      "[03:13:28] Explicit valence for atom # 4 N, 4, is greater than permitted\n",
      "[03:13:28] Explicit valence for atom # 12 N, 4, is greater than permitted\n",
      "[03:13:28] Explicit valence for atom # 8 N, 4, is greater than permitted\n",
      "[03:13:28] Explicit valence for atom # 6 N, 4, is greater than permitted\n",
      "[03:13:28] Explicit valence for atom # 13 N, 4, is greater than permitted\n",
      "[03:13:28] Explicit valence for atom # 12 N, 4, is greater than permitted\n",
      "[03:13:28] Explicit valence for atom # 12 N, 4, is greater than permitted\n",
      "[03:13:28] Explicit valence for atom # 4 N, 4, is greater than permitted\n",
      "[03:13:28] Explicit valence for atom # 5 N, 4, is greater than permitted\n",
      "[03:13:28] Explicit valence for atom # 14 N, 4, is greater than permitted\n",
      "[03:13:28] Explicit valence for atom # 2 N, 4, is greater than permitted\n",
      "[03:13:28] Explicit valence for atom # 4 N, 4, is greater than permitted\n",
      "[03:13:28] Explicit valence for atom # 4 N, 4, is greater than permitted\n",
      "[03:13:28] Explicit valence for atom # 11 N, 4, is greater than permitted\n",
      "[03:13:28] Explicit valence for atom # 6 N, 4, is greater than permitted\n",
      "[03:13:28] Explicit valence for atom # 12 N, 4, is greater than permitted\n",
      "[03:13:28] Explicit valence for atom # 3 N, 4, is greater than permitted\n",
      "[03:13:28] Explicit valence for atom # 6 N, 4, is greater than permitted\n",
      "[03:13:28] Explicit valence for atom # 11 N, 4, is greater than permitted\n"
     ]
    },
    {
     "name": "stdout",
     "output_type": "stream",
     "text": [
      "Wrong SMILES for:  6734961 (removed!)\n",
      "Wrong SMILES for:  6735111 (removed!)\n",
      "Wrong SMILES for:  6735112 (removed!)\n",
      "Wrong SMILES for:  6735113 (removed!)\n",
      "Wrong SMILES for:  6735114 (removed!)\n",
      "Wrong SMILES for:  6735115 (removed!)\n",
      "Wrong SMILES for:  6735116 (removed!)\n",
      "Wrong SMILES for:  6735117 (removed!)\n",
      "Wrong SMILES for:  6735118 (removed!)\n",
      "Wrong SMILES for:  6735119 (removed!)\n",
      "Wrong SMILES for:  6735120 (removed!)\n",
      "Wrong SMILES for:  6735121 (removed!)\n",
      "Wrong SMILES for:  6735122 (removed!)\n",
      "Wrong SMILES for:  6735421 (removed!)\n",
      "Wrong SMILES for:  6735422 (removed!)\n",
      "Wrong SMILES for:  6735423 (removed!)\n",
      "Wrong SMILES for:  6735424 (removed!)\n",
      "Wrong SMILES for:  6735425 (removed!)\n",
      "Wrong SMILES for:  6735426 (removed!)\n",
      "Wrong SMILES for:  6735427 (removed!)\n",
      "Wrong SMILES for:  6735428 (removed!)\n",
      "Wrong SMILES for:  6735429 (removed!)\n",
      "Wrong SMILES for:  6735430 (removed!)\n",
      "Wrong SMILES for:  6735431 (removed!)\n",
      "Wrong SMILES for:  6735731 (removed!)\n",
      "Wrong SMILES for:  6735732 (removed!)\n",
      "Wrong SMILES for:  6735733 (removed!)\n",
      "Wrong SMILES for:  6735734 (removed!)\n",
      "Wrong SMILES for:  6735735 (removed!)\n",
      "Wrong SMILES for:  6735736 (removed!)\n",
      "Wrong SMILES for:  6735737 (removed!)\n",
      "Wrong SMILES for:  6735738 (removed!)\n",
      "Wrong SMILES for:  6735739 (removed!)\n",
      "Wrong SMILES for:  6735740 (removed!)\n",
      "Wrong SMILES for:  6735741 (removed!)\n",
      "Wrong SMILES for:  6735742 (removed!)\n",
      "Wrong SMILES for:  6735888 (removed!)\n"
     ]
    },
    {
     "name": "stderr",
     "output_type": "stream",
     "text": [
      "[03:13:28] Can't kekulize mol.  Unkekulized atoms: 10 11 12 13 14 15 16 17 18\n",
      "[03:13:28] Explicit valence for atom # 4 N, 4, is greater than permitted\n",
      "[03:13:28] Explicit valence for atom # 2 N, 4, is greater than permitted\n",
      "[03:13:28] Explicit valence for atom # 2 N, 4, is greater than permitted\n",
      "[03:13:28] Explicit valence for atom # 2 N, 4, is greater than permitted\n",
      "[03:13:28] Explicit valence for atom # 4 N, 4, is greater than permitted\n",
      "[03:13:28] Explicit valence for atom # 4 N, 4, is greater than permitted\n",
      "[03:13:28] Explicit valence for atom # 6 N, 4, is greater than permitted\n",
      "[03:13:28] Explicit valence for atom # 6 N, 4, is greater than permitted\n",
      "[03:13:28] Explicit valence for atom # 11 N, 4, is greater than permitted\n",
      "[03:13:28] Explicit valence for atom # 3 N, 4, is greater than permitted\n",
      "[03:13:28] Explicit valence for atom # 6 N, 4, is greater than permitted\n",
      "[03:13:28] Explicit valence for atom # 13 N, 4, is greater than permitted\n",
      "[03:13:28] Can't kekulize mol.  Unkekulized atoms: 1 2 3 5 6 7 8 9 10\n",
      "[03:13:28] Can't kekulize mol.  Unkekulized atoms: 5 6 7 8 9 10 11 12 13\n",
      "[03:13:28] Explicit valence for atom # 4 N, 4, is greater than permitted\n",
      "[03:13:28] Explicit valence for atom # 8 N, 4, is greater than permitted\n",
      "[03:13:28] Explicit valence for atom # 2 N, 4, is greater than permitted\n",
      "[03:13:28] Explicit valence for atom # 4 N, 4, is greater than permitted\n",
      "[03:13:28] Explicit valence for atom # 4 N, 4, is greater than permitted\n",
      "[03:13:28] Explicit valence for atom # 4 N, 4, is greater than permitted\n",
      "[03:13:28] Explicit valence for atom # 6 N, 4, is greater than permitted\n",
      "[03:13:28] Explicit valence for atom # 6 N, 4, is greater than permitted\n",
      "[03:13:28] Explicit valence for atom # 13 N, 4, is greater than permitted\n",
      "[03:13:28] Explicit valence for atom # 6 N, 4, is greater than permitted\n",
      "[03:13:28] Explicit valence for atom # 6 N, 4, is greater than permitted\n",
      "[03:13:28] Explicit valence for atom # 6 N, 4, is greater than permitted\n"
     ]
    },
    {
     "name": "stdout",
     "output_type": "stream",
     "text": [
      "Wrong SMILES for:  6736039 (removed!)\n",
      "Wrong SMILES for:  6736040 (removed!)\n",
      "Wrong SMILES for:  6736041 (removed!)\n",
      "Wrong SMILES for:  6736042 (removed!)\n",
      "Wrong SMILES for:  6736043 (removed!)\n",
      "Wrong SMILES for:  6736044 (removed!)\n",
      "Wrong SMILES for:  6736045 (removed!)\n",
      "Wrong SMILES for:  6736046 (removed!)\n",
      "Wrong SMILES for:  6736047 (removed!)\n",
      "Wrong SMILES for:  6736048 (removed!)\n",
      "Wrong SMILES for:  6736049 (removed!)\n",
      "Wrong SMILES for:  6736050 (removed!)\n",
      "Wrong SMILES for:  6736189 (removed!)\n",
      "Wrong SMILES for:  6736336 (removed!)\n",
      "Wrong SMILES for:  6736341 (removed!)\n",
      "Wrong SMILES for:  6736342 (removed!)\n",
      "Wrong SMILES for:  6736343 (removed!)\n",
      "Wrong SMILES for:  6736344 (removed!)\n",
      "Wrong SMILES for:  6736345 (removed!)\n",
      "Wrong SMILES for:  6736346 (removed!)\n",
      "Wrong SMILES for:  6736347 (removed!)\n",
      "Wrong SMILES for:  6736348 (removed!)\n",
      "Wrong SMILES for:  6736349 (removed!)\n",
      "Wrong SMILES for:  6736350 (removed!)\n",
      "Wrong SMILES for:  6736351 (removed!)\n",
      "Wrong SMILES for:  6736352 (removed!)\n",
      "Wrong SMILES for:  6736630 (removed!)\n",
      "Wrong SMILES for:  6736750 (removed!)\n"
     ]
    },
    {
     "name": "stderr",
     "output_type": "stream",
     "text": [
      "[03:13:28] Can't kekulize mol.  Unkekulized atoms: 2 3 4 5 6 7 8 10 11\n",
      "[03:13:28] Can't kekulize mol.  Unkekulized atoms: 1 2 3 4 5 6 7 8 9\n",
      "[03:13:28] Can't kekulize mol.  Unkekulized atoms: 2 3 4 5 6 7 8 9 10\n",
      "[03:13:28] Can't kekulize mol.  Unkekulized atoms: 1 2 3 4 5 6 7 8 9\n",
      "[03:13:28] Can't kekulize mol.  Unkekulized atoms: 2 3 4 5 6 7 8 9 13\n"
     ]
    },
    {
     "name": "stdout",
     "output_type": "stream",
     "text": [
      "Wrong SMILES for:  6736869 (removed!)\n",
      "Wrong SMILES for:  6736870 (removed!)\n",
      "Wrong SMILES for:  6737482 (removed!)\n"
     ]
    },
    {
     "name": "stderr",
     "output_type": "stream",
     "text": [
      "[03:13:29] Can't kekulize mol.  Unkekulized atoms: 2 3 4 6 7 8 9 10 11\n",
      "[03:13:29] Can't kekulize mol.  Unkekulized atoms: 1 2 3 4 5 6 7 8 10\n",
      "[03:13:29] Can't kekulize mol.  Unkekulized atoms: 4 5 6 7 8 9 10 11 12\n",
      "[03:13:29] Can't kekulize mol.  Unkekulized atoms: 4 5 6 7 9\n",
      "[03:13:29] Can't kekulize mol.  Unkekulized atoms: 6 7 8 9 10 11 12 13 14\n",
      "[03:13:29] Can't kekulize mol.  Unkekulized atoms: 1 2 3 4 6\n",
      "[03:13:29] Can't kekulize mol.  Unkekulized atoms: 4 5 6 8 9 10 11 12 13\n",
      "[03:13:29] Can't kekulize mol.  Unkekulized atoms: 1 2 3 4 5\n",
      "[03:13:29] Can't kekulize mol.  Unkekulized atoms: 3 4 5 6 7 8 9 10 11\n"
     ]
    },
    {
     "name": "stdout",
     "output_type": "stream",
     "text": [
      "Wrong SMILES for:  6737723 (removed!)\n",
      "Wrong SMILES for:  6737724 (removed!)\n",
      "Wrong SMILES for:  6737848 (removed!)\n",
      "Wrong SMILES for:  6738094 (removed!)\n",
      "Wrong SMILES for:  6738215 (removed!)\n",
      "Wrong SMILES for:  6738330 (removed!)\n",
      "Wrong SMILES for:  6738444 (removed!)\n",
      "Wrong SMILES for:  6738445 (removed!)\n",
      "Wrong SMILES for:  6738446 (removed!)\n"
     ]
    },
    {
     "name": "stderr",
     "output_type": "stream",
     "text": [
      "[03:13:29] Explicit valence for atom # 6 N, 4, is greater than permitted\n",
      "[03:13:29] Explicit valence for atom # 22 C, 5, is greater than permitted\n",
      "[03:13:29] Explicit valence for atom # 0 B, 6, is greater than permitted\n",
      "[03:13:29] Explicit valence for atom # 0 B, 6, is greater than permitted\n",
      "[03:13:29] Explicit valence for atom # 0 B, 6, is greater than permitted\n",
      "[03:13:29] Explicit valence for atom # 0 B, 5, is greater than permitted\n"
     ]
    },
    {
     "name": "stdout",
     "output_type": "stream",
     "text": [
      "Wrong SMILES for:  6738795 (removed!)\n",
      "Wrong SMILES for:  6739149 (removed!)\n",
      "Wrong SMILES for:  6739150 (removed!)\n",
      "Wrong SMILES for:  6739263 (removed!)\n",
      "Wrong SMILES for:  6739381 (removed!)\n",
      "Wrong SMILES for:  6739504 (removed!)\n"
     ]
    },
    {
     "name": "stderr",
     "output_type": "stream",
     "text": [
      "[03:13:29] Explicit valence for atom # 0 B, 4, is greater than permitted\n",
      "[03:13:29] Explicit valence for atom # 20 N, 4, is greater than permitted\n",
      "[03:13:29] Explicit valence for atom # 18 N, 4, is greater than permitted\n",
      "[03:13:29] Can't kekulize mol.  Unkekulized atoms: 1 2 3 4 5 6 7 8 9\n",
      "[03:13:29] Can't kekulize mol.  Unkekulized atoms: 3 4 5 6 7 8 9 10 11\n"
     ]
    },
    {
     "name": "stdout",
     "output_type": "stream",
     "text": [
      "Wrong SMILES for:  6739977 (removed!)\n",
      "Wrong SMILES for:  6739983 (removed!)\n",
      "Wrong SMILES for:  6740218 (removed!)\n",
      "Wrong SMILES for:  6740559 (removed!)\n",
      "Wrong SMILES for:  6740561 (removed!)\n"
     ]
    },
    {
     "name": "stderr",
     "output_type": "stream",
     "text": [
      "[03:13:29] Explicit valence for atom # 4 N, 4, is greater than permitted\n",
      "[03:13:29] Can't kekulize mol.  Unkekulized atoms: 1 2 3 4 5 6 7 8 9\n",
      "[03:13:29] Can't kekulize mol.  Unkekulized atoms: 1 2 3 5 6 7 8 9 10\n",
      "[03:13:29] Explicit valence for atom # 18 N, 4, is greater than permitted\n",
      "[03:13:29] Explicit valence for atom # 13 N, 4, is greater than permitted\n",
      "[03:13:30] Can't kekulize mol.  Unkekulized atoms: 1 2 3 4 5 6 7 8 9\n"
     ]
    },
    {
     "name": "stdout",
     "output_type": "stream",
     "text": [
      "Wrong SMILES for:  6740940 (removed!)\n",
      "Wrong SMILES for:  6741292 (removed!)\n",
      "Wrong SMILES for:  6741415 (removed!)\n",
      "Wrong SMILES for:  6741423 (removed!)\n",
      "Wrong SMILES for:  6741542 (removed!)\n",
      "Wrong SMILES for:  6741663 (removed!)\n"
     ]
    },
    {
     "name": "stderr",
     "output_type": "stream",
     "text": [
      "[03:13:30] Can't kekulize mol.  Unkekulized atoms: 1 2 3 4 5 6 9 10 11\n",
      "[03:13:30] Can't kekulize mol.  Unkekulized atoms: 3 4 5 6 7 8 9 10 11\n",
      "[03:13:30] Can't kekulize mol.  Unkekulized atoms: 1 2 3 4 5 6 8 9 10\n",
      "[03:13:30] Can't kekulize mol.  Unkekulized atoms: 1 2 3 4 5 6 7 8 12\n",
      "[03:13:30] Can't kekulize mol.  Unkekulized atoms: 1 2 3 4 5 6 7 8 9\n",
      "[03:13:30] Can't kekulize mol.  Unkekulized atoms: 3 4 5 6 7 8 9 10 11\n",
      "[03:13:30] Can't kekulize mol.  Unkekulized atoms: 1 2 3 4 5 6 7 8 9\n"
     ]
    },
    {
     "name": "stdout",
     "output_type": "stream",
     "text": [
      "Wrong SMILES for:  6741785 (removed!)\n",
      "Wrong SMILES for:  6741916 (removed!)\n",
      "Wrong SMILES for:  6741918 (removed!)\n",
      "Wrong SMILES for:  6741920 (removed!)\n",
      "Wrong SMILES for:  6742048 (removed!)\n",
      "Wrong SMILES for:  6742049 (removed!)\n",
      "Wrong SMILES for:  6742302 (removed!)\n"
     ]
    },
    {
     "name": "stderr",
     "output_type": "stream",
     "text": [
      "[03:13:30] Can't kekulize mol.  Unkekulized atoms: 2 3 4 5 6 7 8 9 10\n",
      "[03:13:30] Explicit valence for atom # 5 N, 4, is greater than permitted\n",
      "[03:13:30] Can't kekulize mol.  Unkekulized atoms: 1 2 3 4 5 6 7 8 9\n",
      "[03:13:30] Can't kekulize mol.  Unkekulized atoms: 7 8 9 10 11 12 13 14 15\n",
      "[03:13:30] Explicit valence for atom # 1 N, 4, is greater than permitted\n",
      "[03:13:30] Can't kekulize mol.  Unkekulized atoms: 1 2 3 4 5 6 7 8 9\n"
     ]
    },
    {
     "name": "stdout",
     "output_type": "stream",
     "text": [
      "Wrong SMILES for:  6742911 (removed!)\n",
      "Wrong SMILES for:  6742918 (removed!)\n",
      "Wrong SMILES for:  6743289 (removed!)\n",
      "Wrong SMILES for:  6743415 (removed!)\n",
      "Wrong SMILES for:  6743416 (removed!)\n",
      "Wrong SMILES for:  6743541 (removed!)\n"
     ]
    },
    {
     "name": "stderr",
     "output_type": "stream",
     "text": [
      "[03:13:30] Can't kekulize mol.  Unkekulized atoms: 1 2 3 5 6\n",
      "[03:13:30] Can't kekulize mol.  Unkekulized atoms: 2 3 4 5 6 7 8 9 10\n",
      "[03:13:30] Can't kekulize mol.  Unkekulized atoms: 1 2 3 5 6 7 8 9 10\n",
      "[03:13:30] Can't kekulize mol.  Unkekulized atoms: 1 2 3 4 7\n",
      "[03:13:30] Can't kekulize mol.  Unkekulized atoms: 1 2 3 4 5 6 9 10 11\n",
      "[03:13:30] Explicit valence for atom # 4 C, 5, is greater than permitted\n",
      "[03:13:30] Explicit valence for atom # 1 N, 4, is greater than permitted\n",
      "[03:13:30] Explicit valence for atom # 1 N, 4, is greater than permitted\n"
     ]
    },
    {
     "name": "stdout",
     "output_type": "stream",
     "text": [
      "Wrong SMILES for:  6743768 (removed!)\n",
      "Wrong SMILES for:  6744123 (removed!)\n",
      "Wrong SMILES for:  6744243 (removed!)\n",
      "Wrong SMILES for:  6744365 (removed!)\n",
      "Wrong SMILES for:  6744603 (removed!)\n",
      "Wrong SMILES for:  6744607 (removed!)\n",
      "Wrong SMILES for:  6744608 (removed!)\n",
      "Wrong SMILES for:  6744724 (removed!)\n"
     ]
    },
    {
     "name": "stderr",
     "output_type": "stream",
     "text": [
      "[03:13:30] Explicit valence for atom # 8 N, 4, is greater than permitted\n",
      "[03:13:30] Can't kekulize mol.  Unkekulized atoms: 2 3 4 5 6 7 8 9 10\n",
      "[03:13:31] Can't kekulize mol.  Unkekulized atoms: 2 3 4 5 6 7 8 9 10\n",
      "[03:13:31] Explicit valence for atom # 14 N, 4, is greater than permitted\n"
     ]
    },
    {
     "name": "stdout",
     "output_type": "stream",
     "text": [
      "Wrong SMILES for:  6745069 (removed!)\n",
      "Wrong SMILES for:  6745285 (removed!)\n",
      "Wrong SMILES for:  6745630 (removed!)\n",
      "Wrong SMILES for:  6745634 (removed!)\n"
     ]
    },
    {
     "name": "stderr",
     "output_type": "stream",
     "text": [
      "[03:13:31] Can't kekulize mol.  Unkekulized atoms: 5 6 7 8 9 10 11 12 13\n",
      "[03:13:31] Explicit valence for atom # 7 N, 4, is greater than permitted\n",
      "[03:13:31] Can't kekulize mol.  Unkekulized atoms: 3 4 5 6 11\n",
      "[03:13:31] Explicit valence for atom # 7 N, 4, is greater than permitted\n",
      "[03:13:31] Can't kekulize mol.  Unkekulized atoms: 3 4 5 7 8 9 10 11 12\n",
      "[03:13:31] Explicit valence for atom # 22 N, 4, is greater than permitted\n"
     ]
    },
    {
     "name": "stdout",
     "output_type": "stream",
     "text": [
      "Wrong SMILES for:  6746224 (removed!)\n",
      "Wrong SMILES for:  6746353 (removed!)\n",
      "Wrong SMILES for:  6746604 (removed!)\n",
      "Wrong SMILES for:  6746606 (removed!)\n",
      "Wrong SMILES for:  6746854 (removed!)\n",
      "Wrong SMILES for:  6747102 (removed!)\n"
     ]
    },
    {
     "name": "stderr",
     "output_type": "stream",
     "text": [
      "[03:13:31] Explicit valence for atom # 9 N, 4, is greater than permitted\n",
      "[03:13:31] Can't kekulize mol.  Unkekulized atoms: 4 5 6 7 8 9 11 12 13\n",
      "[03:13:31] Explicit valence for atom # 10 N, 4, is greater than permitted\n",
      "[03:13:31] Can't kekulize mol.  Unkekulized atoms: 4 5 6 7 8 9 10 12 13\n",
      "[03:13:31] Explicit valence for atom # 18 N, 4, is greater than permitted\n",
      "[03:13:31] Explicit valence for atom # 18 N, 4, is greater than permitted\n",
      "[03:13:31] Can't kekulize mol.  Unkekulized atoms: 3 4 5 7 8 9 10 11 12\n"
     ]
    },
    {
     "name": "stdout",
     "output_type": "stream",
     "text": [
      "Wrong SMILES for:  6747231 (removed!)\n",
      "Wrong SMILES for:  6747358 (removed!)\n",
      "Wrong SMILES for:  6747492 (removed!)\n",
      "Wrong SMILES for:  6747621 (removed!)\n",
      "Wrong SMILES for:  6747622 (removed!)\n",
      "Wrong SMILES for:  6747874 (removed!)\n",
      "Wrong SMILES for:  6748126 (removed!)\n"
     ]
    },
    {
     "name": "stderr",
     "output_type": "stream",
     "text": [
      "[03:13:31] Can't kekulize mol.  Unkekulized atoms: 1 2 3 4 5 6 7 9 10\n",
      "[03:13:31] Explicit valence for atom # 5 N, 4, is greater than permitted\n",
      "[03:13:31] Explicit valence for atom # 20 C, 5, is greater than permitted\n"
     ]
    },
    {
     "name": "stdout",
     "output_type": "stream",
     "text": [
      "Wrong SMILES for:  6748527 (removed!)\n",
      "Wrong SMILES for:  6748924 (removed!)\n",
      "Wrong SMILES for:  6749316 (removed!)\n"
     ]
    },
    {
     "name": "stderr",
     "output_type": "stream",
     "text": [
      "[03:13:31] Can't kekulize mol.  Unkekulized atoms: 1 2 3 4 5 6 7 8 9\n",
      "[03:13:32] Can't kekulize mol.  Unkekulized atoms: 1 2 3 4 5\n",
      "[03:13:32] Can't kekulize mol.  Unkekulized atoms: 1 2 3 4 5 6 7 8 10\n",
      "[03:13:32] Can't kekulize mol.  Unkekulized atoms: 1 2 3 4 5 6 8 9 10\n"
     ]
    },
    {
     "name": "stdout",
     "output_type": "stream",
     "text": [
      "Wrong SMILES for:  6749579 (removed!)\n",
      "Wrong SMILES for:  6749975 (removed!)\n",
      "Wrong SMILES for:  6750101 (removed!)\n",
      "Wrong SMILES for:  6750233 (removed!)\n"
     ]
    },
    {
     "name": "stderr",
     "output_type": "stream",
     "text": [
      "[03:13:32] Explicit valence for atom # 5 N, 4, is greater than permitted\n",
      "[03:13:32] Can't kekulize mol.  Unkekulized atoms: 3 4 5 6 7\n",
      "[03:13:32] Can't kekulize mol.  Unkekulized atoms: 4 5 6 7 8\n"
     ]
    },
    {
     "name": "stdout",
     "output_type": "stream",
     "text": [
      "Wrong SMILES for:  6750455 (removed!)\n",
      "Wrong SMILES for:  6751077 (removed!)\n",
      "Wrong SMILES for:  6751080 (removed!)\n",
      "Wrong SMILES for:  6751335 (removed!)\n",
      "Wrong SMILES for:  6751337 (removed!)\n",
      "Wrong SMILES for:  6751455 (removed!)\n",
      "Wrong SMILES for:  6751456 (removed!)\n",
      "Wrong SMILES for:  6751582 (removed!)\n",
      "Wrong SMILES for:  6751707 (removed!)\n",
      "Wrong SMILES for:  6751832 (removed!)\n"
     ]
    },
    {
     "name": "stderr",
     "output_type": "stream",
     "text": [
      "[03:13:32] Can't kekulize mol.  Unkekulized atoms: 4 5 6 8 9\n",
      "[03:13:32] Can't kekulize mol.  Unkekulized atoms: 0 1 2 3 4 5 6 7 8\n",
      "[03:13:32] Can't kekulize mol.  Unkekulized atoms: 4 5 6 7 8 9 10 11 12\n",
      "[03:13:32] Can't kekulize mol.  Unkekulized atoms: 0 1 2 3 4 5 6 7 8\n",
      "[03:13:32] Can't kekulize mol.  Unkekulized atoms: 5 6 7 8 9\n",
      "[03:13:32] Can't kekulize mol.  Unkekulized atoms: 5 6 8 9 10 11 12 14 15\n",
      "[03:13:32] Can't kekulize mol.  Unkekulized atoms: 2 3 4 5 6 7 8 9 10\n",
      "[03:13:32] Can't kekulize mol.  Unkekulized atoms: 2 3 4 5 7 8 9 10 11\n"
     ]
    },
    {
     "name": "stdout",
     "output_type": "stream",
     "text": [
      "Wrong SMILES for:  6751950 (removed!)\n",
      "Wrong SMILES for:  6752670 (removed!)\n",
      "Wrong SMILES for:  6752679 (removed!)\n"
     ]
    },
    {
     "name": "stderr",
     "output_type": "stream",
     "text": [
      "[03:13:32] Explicit valence for atom # 12 N, 4, is greater than permitted\n",
      "[03:13:32] Can't kekulize mol.  Unkekulized atoms: 1 2 3 4 5 6 7 8 9\n",
      "[03:13:32] Can't kekulize mol.  Unkekulized atoms: 3 4 5 6 7 8 9 10 11\n"
     ]
    },
    {
     "name": "stdout",
     "output_type": "stream",
     "text": [
      "Wrong SMILES for:  6752928 (removed!)\n",
      "Wrong SMILES for:  6753843 (removed!)\n"
     ]
    },
    {
     "name": "stderr",
     "output_type": "stream",
     "text": [
      "[03:13:33] Can't kekulize mol.  Unkekulized atoms: 1 2 3 4 6 7 8 9 10\n",
      "[03:13:33] Can't kekulize mol.  Unkekulized atoms: 1 2 4 5 6 7 8 9 10\n"
     ]
    },
    {
     "name": "stdout",
     "output_type": "stream",
     "text": [
      "Wrong SMILES for:  6754117 (removed!)\n"
     ]
    },
    {
     "name": "stderr",
     "output_type": "stream",
     "text": [
      "[03:13:33] Explicit valence for atom # 3 B, 4, is greater than permitted\n",
      "[03:13:33] Can't kekulize mol.  Unkekulized atoms: 1 2 3 4 5\n",
      "[03:13:33] Can't kekulize mol.  Unkekulized atoms: 5 6 7 8 9\n"
     ]
    },
    {
     "name": "stdout",
     "output_type": "stream",
     "text": [
      "Wrong SMILES for:  6755905 (removed!)\n",
      "Wrong SMILES for:  6756151 (removed!)\n",
      "Wrong SMILES for:  6756646 (removed!)\n"
     ]
    },
    {
     "name": "stderr",
     "output_type": "stream",
     "text": [
      "[03:13:33] Explicit valence for atom # 1 N, 4, is greater than permitted\n",
      "[03:13:33] Can't kekulize mol.  Unkekulized atoms: 5 6 7 8 9 10 11 12 13\n",
      "[03:13:33] Can't kekulize mol.  Unkekulized atoms: 5 6 7 8 9\n"
     ]
    },
    {
     "name": "stdout",
     "output_type": "stream",
     "text": [
      "Wrong SMILES for:  6757134 (removed!)\n",
      "Wrong SMILES for:  6757244 (removed!)\n",
      "Wrong SMILES for:  6757367 (removed!)\n"
     ]
    },
    {
     "name": "stderr",
     "output_type": "stream",
     "text": [
      "[03:13:34] Explicit valence for atom # 24 N, 4, is greater than permitted\n",
      "[03:13:34] Can't kekulize mol.  Unkekulized atoms: 4 5 6 7 8\n",
      "[03:13:34] Can't kekulize mol.  Unkekulized atoms: 4 5 6 8 9 10 11 12 13\n",
      "[03:13:34] Can't kekulize mol.  Unkekulized atoms: 4 5 6 7 9 10 11 12 13\n",
      "[03:13:34] Explicit valence for atom # 13 O, 3, is greater than permitted\n"
     ]
    },
    {
     "name": "stdout",
     "output_type": "stream",
     "text": [
      "Wrong SMILES for:  6759079 (removed!)\n",
      "Wrong SMILES for:  6759461 (removed!)\n",
      "Wrong SMILES for:  6759718 (removed!)\n",
      "Wrong SMILES for:  6759855 (removed!)\n",
      "Wrong SMILES for:  6759858 (removed!)\n"
     ]
    },
    {
     "name": "stderr",
     "output_type": "stream",
     "text": [
      "[03:13:34] Can't kekulize mol.  Unkekulized atoms: 4 5 6 7 9 10 11 12 13\n",
      "[03:13:34] Can't kekulize mol.  Unkekulized atoms: 1 2 3 4 5 6 7 8 9\n"
     ]
    },
    {
     "name": "stdout",
     "output_type": "stream",
     "text": [
      "Wrong SMILES for:  6759985 (removed!)\n",
      "Wrong SMILES for:  6760379 (removed!)\n"
     ]
    },
    {
     "name": "stderr",
     "output_type": "stream",
     "text": [
      "[03:13:34] Explicit valence for atom # 10 C, 5, is greater than permitted\n",
      "[03:13:34] Explicit valence for atom # 1 C, 5, is greater than permitted\n",
      "[03:13:34] Can't kekulize mol.  Unkekulized atoms: 1 2 3 4 5 6 7 8 9\n",
      "[03:13:34] Can't kekulize mol.  Unkekulized atoms: 1 2 3 4 6 7 8 9 10\n",
      "[03:13:34] Explicit valence for atom # 4 C, 5, is greater than permitted\n",
      "[03:13:34] Explicit valence for atom # 35 B, 4, is greater than permitted\n",
      "[03:13:35] Explicit valence for atom # 7 N, 4, is greater than permitted\n"
     ]
    },
    {
     "name": "stdout",
     "output_type": "stream",
     "text": [
      "Wrong SMILES for:  6761024 (removed!)\n",
      "Wrong SMILES for:  6761155 (removed!)\n",
      "Wrong SMILES for:  6761275 (removed!)\n",
      "Wrong SMILES for:  6761400 (removed!)\n",
      "Wrong SMILES for:  6761404 (removed!)\n",
      "Wrong SMILES for:  6761413 (removed!)\n",
      "Wrong SMILES for:  6761762 (removed!)\n"
     ]
    },
    {
     "name": "stderr",
     "output_type": "stream",
     "text": [
      "[03:13:35] Explicit valence for atom # 21 C, 5, is greater than permitted\n",
      "[03:13:35] Can't kekulize mol.  Unkekulized atoms: 1 2 3 5 6 7 8 9 10\n",
      "[03:13:35] Explicit valence for atom # 1 N, 4, is greater than permitted\n"
     ]
    },
    {
     "name": "stdout",
     "output_type": "stream",
     "text": [
      "Wrong SMILES for:  6761889 (removed!)\n",
      "Wrong SMILES for:  6762015 (removed!)\n",
      "Wrong SMILES for:  6762259 (removed!)\n",
      "Currently on 6800000th data\n",
      "Currently on 6900000th data\n"
     ]
    },
    {
     "name": "stderr",
     "output_type": "stream",
     "text": [
      "[03:14:07] Explicit valence for atom # 8 N, 4, is greater than permitted\n"
     ]
    },
    {
     "name": "stdout",
     "output_type": "stream",
     "text": [
      "Wrong SMILES for:  6914071 (removed!)\n"
     ]
    },
    {
     "name": "stderr",
     "output_type": "stream",
     "text": [
      "[03:14:07] Explicit valence for atom # 21 N, 4, is greater than permitted\n",
      "[03:14:07] Explicit valence for atom # 9 C, 5, is greater than permitted\n",
      "[03:14:07] Explicit valence for atom # 21 N, 4, is greater than permitted\n",
      "[03:14:07] Explicit valence for atom # 20 N, 4, is greater than permitted\n",
      "[03:14:07] Explicit valence for atom # 21 N, 4, is greater than permitted\n",
      "[03:14:07] Explicit valence for atom # 3 N, 4, is greater than permitted\n",
      "[03:14:07] Explicit valence for atom # 16 N, 4, is greater than permitted\n",
      "[03:14:07] Explicit valence for atom # 7 N, 4, is greater than permitted\n",
      "[03:14:07] Explicit valence for atom # 11 N, 4, is greater than permitted\n",
      "[03:14:08] Can't kekulize mol.  Unkekulized atoms: 0 1 2 3 4\n",
      "[03:14:08] Can't kekulize mol.  Unkekulized atoms: 2 3 4 6 7\n"
     ]
    },
    {
     "name": "stdout",
     "output_type": "stream",
     "text": [
      "Wrong SMILES for:  6917378 (removed!)\n",
      "Wrong SMILES for:  6917426 (removed!)\n",
      "Wrong SMILES for:  6917427 (removed!)\n",
      "Wrong SMILES for:  6917428 (removed!)\n",
      "Wrong SMILES for:  6917475 (removed!)\n",
      "Wrong SMILES for:  6917521 (removed!)\n",
      "Wrong SMILES for:  6917522 (removed!)\n",
      "Wrong SMILES for:  6917623 (removed!)\n",
      "Wrong SMILES for:  6917754 (removed!)\n",
      "Wrong SMILES for:  6917948 (removed!)\n",
      "Wrong SMILES for:  6918041 (removed!)\n"
     ]
    },
    {
     "name": "stderr",
     "output_type": "stream",
     "text": [
      "[03:14:08] Can't kekulize mol.  Unkekulized atoms: 1 2 3 4 5 6 7 8 9\n",
      "[03:14:08] Can't kekulize mol.  Unkekulized atoms: 1 2 3 4 5\n",
      "[03:14:08] Explicit valence for atom # 4 N, 4, is greater than permitted\n",
      "[03:14:08] Can't kekulize mol.  Unkekulized atoms: 1 2 3 4 5\n",
      "[03:14:08] Explicit valence for atom # 8 N, 4, is greater than permitted\n",
      "[03:14:08] Can't kekulize mol.  Unkekulized atoms: 1 2 3 4 5 6 8\n",
      "[03:14:08] Can't kekulize mol.  Unkekulized atoms: 1 2 3 5 6\n",
      "[03:14:08] Can't kekulize mol.  Unkekulized atoms: 1 2 3 4 5\n",
      "[03:14:08] Can't kekulize mol.  Unkekulized atoms: 4 5 6 7 9\n",
      "[03:14:08] Explicit valence for atom # 9 C, 5, is greater than permitted\n",
      "[03:14:08] Can't kekulize mol.  Unkekulized atoms: 1 2 3 4 5 6 7 8 9\n",
      "[03:14:08] Can't kekulize mol.  Unkekulized atoms: 1 2 3 4 5 6 7 8 9\n"
     ]
    },
    {
     "name": "stdout",
     "output_type": "stream",
     "text": [
      "Wrong SMILES for:  6918185 (removed!)\n",
      "Wrong SMILES for:  6918270 (removed!)\n",
      "Wrong SMILES for:  6918335 (removed!)\n",
      "Wrong SMILES for:  6918363 (removed!)\n",
      "Wrong SMILES for:  6918415 (removed!)\n",
      "Wrong SMILES for:  6918448 (removed!)\n",
      "Wrong SMILES for:  6918484 (removed!)\n",
      "Wrong SMILES for:  6918485 (removed!)\n",
      "Wrong SMILES for:  6918486 (removed!)\n",
      "Wrong SMILES for:  6918498 (removed!)\n",
      "Wrong SMILES for:  6918680 (removed!)\n",
      "Wrong SMILES for:  6918816 (removed!)\n"
     ]
    },
    {
     "name": "stderr",
     "output_type": "stream",
     "text": [
      "[03:14:08] Can't kekulize mol.  Unkekulized atoms: 1 2 3 4 5 6 7 8 9\n",
      "[03:14:08] Can't kekulize mol.  Unkekulized atoms: 5 6 7 8 9\n",
      "[03:14:08] Can't kekulize mol.  Unkekulized atoms: 1 2 3 4 5 6 7 8 9\n",
      "[03:14:08] Can't kekulize mol.  Unkekulized atoms: 1 2 3 4 5 6 7 8 9\n",
      "[03:14:08] Can't kekulize mol.  Unkekulized atoms: 6 7 8 9 10\n"
     ]
    },
    {
     "name": "stdout",
     "output_type": "stream",
     "text": [
      "Wrong SMILES for:  6918947 (removed!)\n",
      "Wrong SMILES for:  6919037 (removed!)\n",
      "Wrong SMILES for:  6919070 (removed!)\n",
      "Wrong SMILES for:  6919294 (removed!)\n",
      "Wrong SMILES for:  6919295 (removed!)\n"
     ]
    },
    {
     "name": "stderr",
     "output_type": "stream",
     "text": [
      "[03:14:08] Can't kekulize mol.  Unkekulized atoms: 4 5 6 7 8 9 10 11 12\n",
      "[03:14:08] Can't kekulize mol.  Unkekulized atoms: 2 3 4 6 8\n"
     ]
    },
    {
     "name": "stdout",
     "output_type": "stream",
     "text": [
      "Wrong SMILES for:  6920746 (removed!)\n",
      "Wrong SMILES for:  6920838 (removed!)\n"
     ]
    },
    {
     "name": "stderr",
     "output_type": "stream",
     "text": [
      "[03:14:08] Can't kekulize mol.  Unkekulized atoms: 4 5 6 7 9 10 11 12 13\n",
      "[03:14:09] Can't kekulize mol.  Unkekulized atoms: 19 20 22 24 26\n",
      "[03:14:09] Explicit valence for atom # 11 N, 4, is greater than permitted\n",
      "[03:14:09] Explicit valence for atom # 20 N, 4, is greater than permitted\n",
      "[03:14:09] Explicit valence for atom # 28 N, 4, is greater than permitted\n",
      "[03:14:09] Can't kekulize mol.  Unkekulized atoms: 3 4 5 6 7\n",
      "[03:14:09] Explicit valence for atom # 5 N, 4, is greater than permitted\n",
      "[03:14:09] Can't kekulize mol.  Unkekulized atoms: 5 6 7 8 9\n",
      "[03:14:09] Explicit valence for atom # 1 B, 4, is greater than permitted\n",
      "[03:14:09] Can't kekulize mol.  Unkekulized atoms: 1 2 3 4 5\n",
      "[03:14:09] Can't kekulize mol.  Unkekulized atoms: 9 10 11 12 13\n",
      "[03:14:09] Can't kekulize mol.  Unkekulized atoms: 1 2 3 4 5\n"
     ]
    },
    {
     "name": "stdout",
     "output_type": "stream",
     "text": [
      "Wrong SMILES for:  6921489 (removed!)\n",
      "Wrong SMILES for:  6922701 (removed!)\n",
      "Wrong SMILES for:  6922702 (removed!)\n",
      "Wrong SMILES for:  6922759 (removed!)\n",
      "Wrong SMILES for:  6922861 (removed!)\n",
      "Wrong SMILES for:  6922907 (removed!)\n",
      "Wrong SMILES for:  6922910 (removed!)\n",
      "Wrong SMILES for:  6923022 (removed!)\n",
      "Wrong SMILES for:  6923081 (removed!)\n",
      "Wrong SMILES for:  6923235 (removed!)\n",
      "Wrong SMILES for:  6923297 (removed!)\n",
      "Wrong SMILES for:  6923359 (removed!)\n"
     ]
    },
    {
     "name": "stderr",
     "output_type": "stream",
     "text": [
      "[03:14:09] Can't kekulize mol.  Unkekulized atoms: 4 5 6 7 8\n",
      "[03:14:09] Explicit valence for atom # 2 B, 4, is greater than permitted\n"
     ]
    },
    {
     "name": "stdout",
     "output_type": "stream",
     "text": [
      "Wrong SMILES for:  6923464 (removed!)\n",
      "Wrong SMILES for:  6923851 (removed!)\n"
     ]
    },
    {
     "name": "stderr",
     "output_type": "stream",
     "text": [
      "[03:14:10] Explicit valence for atom # 1 S, 7, is greater than permitted\n"
     ]
    },
    {
     "name": "stdout",
     "output_type": "stream",
     "text": [
      "Wrong SMILES for:  6925785 (removed!)\n"
     ]
    },
    {
     "name": "stderr",
     "output_type": "stream",
     "text": [
      "[03:14:10] Explicit valence for atom # 14 N, 4, is greater than permitted\n",
      "[03:14:10] Explicit valence for atom # 2 N, 4, is greater than permitted\n",
      "[03:14:10] Explicit valence for atom # 22 N, 4, is greater than permitted\n",
      "[03:14:10] Explicit valence for atom # 8 N, 4, is greater than permitted\n",
      "[03:14:10] Explicit valence for atom # 23 N, 4, is greater than permitted\n",
      "[03:14:10] Explicit valence for atom # 8 N, 4, is greater than permitted\n",
      "[03:14:10] Explicit valence for atom # 8 N, 4, is greater than permitted\n",
      "[03:14:10] Explicit valence for atom # 4 N, 4, is greater than permitted\n",
      "[03:14:10] Explicit valence for atom # 12 N, 4, is greater than permitted\n",
      "[03:14:10] Explicit valence for atom # 11 N, 4, is greater than permitted\n",
      "[03:14:10] Explicit valence for atom # 12 N, 4, is greater than permitted\n",
      "[03:14:10] Explicit valence for atom # 21 N, 4, is greater than permitted\n",
      "[03:14:10] Explicit valence for atom # 17 N, 4, is greater than permitted\n",
      "[03:14:10] Explicit valence for atom # 15 N, 4, is greater than permitted\n",
      "[03:14:10] Explicit valence for atom # 11 N, 4, is greater than permitted\n",
      "[03:14:10] Explicit valence for atom # 14 N, 4, is greater than permitted\n"
     ]
    },
    {
     "name": "stdout",
     "output_type": "stream",
     "text": [
      "Wrong SMILES for:  6926804 (removed!)\n",
      "Wrong SMILES for:  6927079 (removed!)\n",
      "Wrong SMILES for:  6927082 (removed!)\n",
      "Wrong SMILES for:  6927120 (removed!)\n",
      "Wrong SMILES for:  6927121 (removed!)\n",
      "Wrong SMILES for:  6927158 (removed!)\n",
      "Wrong SMILES for:  6927195 (removed!)\n",
      "Wrong SMILES for:  6927228 (removed!)\n",
      "Wrong SMILES for:  6927291 (removed!)\n",
      "Wrong SMILES for:  6927329 (removed!)\n",
      "Wrong SMILES for:  6927370 (removed!)\n",
      "Wrong SMILES for:  6927372 (removed!)\n",
      "Wrong SMILES for:  6927415 (removed!)\n",
      "Wrong SMILES for:  6927417 (removed!)\n",
      "Wrong SMILES for:  6927456 (removed!)\n",
      "Wrong SMILES for:  6927492 (removed!)\n"
     ]
    },
    {
     "name": "stderr",
     "output_type": "stream",
     "text": [
      "[03:14:10] Explicit valence for atom # 7 N, 4, is greater than permitted\n",
      "[03:14:10] Explicit valence for atom # 21 N, 4, is greater than permitted\n",
      "[03:14:10] Explicit valence for atom # 3 N, 4, is greater than permitted\n",
      "[03:14:10] Explicit valence for atom # 20 N, 4, is greater than permitted\n",
      "[03:14:10] Explicit valence for atom # 17 N, 4, is greater than permitted\n"
     ]
    },
    {
     "name": "stdout",
     "output_type": "stream",
     "text": [
      "Wrong SMILES for:  6927542 (removed!)\n",
      "Wrong SMILES for:  6927593 (removed!)\n",
      "Wrong SMILES for:  6927788 (removed!)\n",
      "Wrong SMILES for:  6927998 (removed!)\n",
      "Wrong SMILES for:  6928130 (removed!)\n"
     ]
    },
    {
     "name": "stderr",
     "output_type": "stream",
     "text": [
      "[03:14:12] Explicit valence for atom # 18 N, 4, is greater than permitted\n"
     ]
    },
    {
     "name": "stdout",
     "output_type": "stream",
     "text": [
      "Wrong SMILES for:  6932518 (removed!)\n"
     ]
    },
    {
     "name": "stderr",
     "output_type": "stream",
     "text": [
      "[03:14:22] Can't kekulize mol.  Unkekulized atoms: 1 2 3 4 5 6 7 8 9\n",
      "[03:14:22] Explicit valence for atom # 12 N, 4, is greater than permitted\n",
      "[03:14:22] Can't kekulize mol.  Unkekulized atoms: 3 4 5 6 7 8 9 10 13\n",
      "[03:14:22] Can't kekulize mol.  Unkekulized atoms: 1 2 3 4 5 6 9 10 11\n",
      "[03:14:22] Can't kekulize mol.  Unkekulized atoms: 1 2 3 4 5 6 7 8 9\n",
      "[03:14:22] Explicit valence for atom # 1 B, 4, is greater than permitted\n",
      "[03:14:22] Can't kekulize mol.  Unkekulized atoms: 3 4 5 6 7 8 9 12 13\n",
      "[03:14:22] Can't kekulize mol.  Unkekulized atoms: 1 2 3 4 6 7 10 11 12\n",
      "[03:14:22] Can't kekulize mol.  Unkekulized atoms: 2 3 4 5 6 7 8 9 10\n"
     ]
    },
    {
     "name": "stdout",
     "output_type": "stream",
     "text": [
      "Wrong SMILES for:  6970242 (removed!)\n",
      "Wrong SMILES for:  6970346 (removed!)\n",
      "Wrong SMILES for:  6970402 (removed!)\n",
      "Wrong SMILES for:  6970468 (removed!)\n",
      "Wrong SMILES for:  6970469 (removed!)\n",
      "Wrong SMILES for:  6970586 (removed!)\n",
      "Wrong SMILES for:  6970648 (removed!)\n",
      "Wrong SMILES for:  6970875 (removed!)\n",
      "Wrong SMILES for:  6970882 (removed!)\n"
     ]
    },
    {
     "name": "stderr",
     "output_type": "stream",
     "text": [
      "[03:14:22] Can't kekulize mol.  Unkekulized atoms: 1 2 3 4 5 6 9 10 11\n",
      "[03:14:22] Can't kekulize mol.  Unkekulized atoms: 2 3 4 5 6 7 8 17 18\n",
      "[03:14:22] Can't kekulize mol.  Unkekulized atoms: 2 3 4 5 6 7 8 9 10\n",
      "[03:14:22] Can't kekulize mol.  Unkekulized atoms: 2 3 4 5 6 7 8 9 10\n",
      "[03:14:22] Can't kekulize mol.  Unkekulized atoms: 1 2 3 4 5 6 7 8 9\n"
     ]
    },
    {
     "name": "stdout",
     "output_type": "stream",
     "text": [
      "Wrong SMILES for:  6970941 (removed!)\n",
      "Wrong SMILES for:  6971139 (removed!)\n",
      "Wrong SMILES for:  6971210 (removed!)\n",
      "Wrong SMILES for:  6971275 (removed!)\n",
      "Wrong SMILES for:  6971276 (removed!)\n"
     ]
    },
    {
     "name": "stderr",
     "output_type": "stream",
     "text": [
      "[03:14:23] Explicit valence for atom # 2 N, 4, is greater than permitted\n",
      "[03:14:23] Can't kekulize mol.  Unkekulized atoms: 1 2 3 4 6 7 8 9 10\n",
      "[03:14:23] Can't kekulize mol.  Unkekulized atoms: 1 2 3 4 5 6 7 8 9\n",
      "[03:14:23] Explicit valence for atom # 4 O, 3, is greater than permitted\n",
      "[03:14:23] Explicit valence for atom # 0 N, 5, is greater than permitted\n",
      "[03:14:23] Explicit valence for atom # 4 O, 3, is greater than permitted\n",
      "[03:14:23] Can't kekulize mol.  Unkekulized atoms: 1 2 3 4 5 6 7 8 9\n",
      "[03:14:23] Can't kekulize mol.  Unkekulized atoms: 1 2 3 4 5 6 7 8 9\n",
      "[03:14:23] Can't kekulize mol.  Unkekulized atoms: 1 2 3 4 5 6 7 8 9\n",
      "[03:14:23] Can't kekulize mol.  Unkekulized atoms: 2 3 4 6 7\n",
      "[03:14:23] Can't kekulize mol.  Unkekulized atoms: 4 5 6 7 8 9 10 11 13\n"
     ]
    },
    {
     "name": "stdout",
     "output_type": "stream",
     "text": [
      "Wrong SMILES for:  6971914 (removed!)\n",
      "Wrong SMILES for:  6971920 (removed!)\n",
      "Wrong SMILES for:  6971989 (removed!)\n",
      "Wrong SMILES for:  6972048 (removed!)\n",
      "Wrong SMILES for:  6972116 (removed!)\n",
      "Wrong SMILES for:  6972120 (removed!)\n",
      "Wrong SMILES for:  6972121 (removed!)\n",
      "Wrong SMILES for:  6972254 (removed!)\n",
      "Wrong SMILES for:  6972323 (removed!)\n",
      "Wrong SMILES for:  6972452 (removed!)\n",
      "Wrong SMILES for:  6972590 (removed!)\n"
     ]
    },
    {
     "name": "stderr",
     "output_type": "stream",
     "text": [
      "[03:14:23] Can't kekulize mol.  Unkekulized atoms: 1 2 3 4 5 6 7 8 9\n",
      "[03:14:23] Can't kekulize mol.  Unkekulized atoms: 1 2 3 4 5\n",
      "[03:14:23] Can't kekulize mol.  Unkekulized atoms: 1 2 3 4 5 6 7 8 9\n",
      "[03:14:23] Can't kekulize mol.  Unkekulized atoms: 2 3 4 5 6 7 8 10 11\n"
     ]
    },
    {
     "name": "stdout",
     "output_type": "stream",
     "text": [
      "Wrong SMILES for:  6973198 (removed!)\n",
      "Wrong SMILES for:  6973345 (removed!)\n",
      "Wrong SMILES for:  6973482 (removed!)\n",
      "Wrong SMILES for:  6973780 (removed!)\n"
     ]
    },
    {
     "name": "stderr",
     "output_type": "stream",
     "text": [
      "[03:14:23] Explicit valence for atom # 1 Br, 3, is greater than permitted\n",
      "[03:14:23] Can't kekulize mol.  Unkekulized atoms: 4 5 6 7 8 9 10 12 13\n",
      "[03:14:23] Can't kekulize mol.  Unkekulized atoms: 5 6 7 8 9\n",
      "[03:14:23] Explicit valence for atom # 6 N, 4, is greater than permitted\n",
      "[03:14:23] Explicit valence for atom # 7 N, 4, is greater than permitted\n",
      "[03:14:23] Explicit valence for atom # 8 N, 4, is greater than permitted\n",
      "[03:14:23] Can't kekulize mol.  Unkekulized atoms: 3 4 5 6 7\n",
      "[03:14:23] Explicit valence for atom # 15 N, 4, is greater than permitted\n",
      "[03:14:23] Can't kekulize mol.  Unkekulized atoms: 3 4 5 11 12\n"
     ]
    },
    {
     "name": "stdout",
     "output_type": "stream",
     "text": [
      "Wrong SMILES for:  6973957 (removed!)\n",
      "Wrong SMILES for:  6974421 (removed!)\n",
      "Wrong SMILES for:  6974703 (removed!)\n",
      "Wrong SMILES for:  6974704 (removed!)\n",
      "Wrong SMILES for:  6974858 (removed!)\n",
      "Wrong SMILES for:  6974916 (removed!)\n",
      "Wrong SMILES for:  6974918 (removed!)\n",
      "Wrong SMILES for:  6974970 (removed!)\n",
      "Wrong SMILES for:  6975029 (removed!)\n"
     ]
    },
    {
     "name": "stderr",
     "output_type": "stream",
     "text": [
      "[03:14:23] Can't kekulize mol.  Unkekulized atoms: 5 6 8 9 10\n",
      "[03:14:24] Explicit valence for atom # 6 O, 3, is greater than permitted\n",
      "[03:14:24] Can't kekulize mol.  Unkekulized atoms: 5 6 7 8 9\n",
      "[03:14:24] Can't kekulize mol.  Unkekulized atoms: 1 2 3 4 5\n",
      "[03:14:24] Explicit valence for atom # 14 N, 4, is greater than permitted\n",
      "[03:14:24] Can't kekulize mol.  Unkekulized atoms: 1 2 3 5 6 7 8 9 10\n",
      "[03:14:24] Can't kekulize mol.  Unkekulized atoms: 3 4 5 6 7\n",
      "[03:14:24] Explicit valence for atom # 1 B, 4, is greater than permitted\n",
      "[03:14:24] Explicit valence for atom # 8 N, 4, is greater than permitted\n",
      "[03:14:24] Can't kekulize mol.  Unkekulized atoms: 2 3 5 7 9\n",
      "[03:14:24] Can't kekulize mol.  Unkekulized atoms: 5 6 8 10 12\n",
      "[03:14:24] Explicit valence for atom # 11 N, 4, is greater than permitted\n",
      "[03:14:24] Explicit valence for atom # 20 O, 3, is greater than permitted\n",
      "[03:14:24] Can't kekulize mol.  Unkekulized atoms: 1 2 3 4 5\n"
     ]
    },
    {
     "name": "stdout",
     "output_type": "stream",
     "text": [
      "Wrong SMILES for:  6975242 (removed!)\n",
      "Wrong SMILES for:  6975454 (removed!)\n",
      "Wrong SMILES for:  6975567 (removed!)\n",
      "Wrong SMILES for:  6975568 (removed!)\n",
      "Wrong SMILES for:  6975577 (removed!)\n",
      "Wrong SMILES for:  6975624 (removed!)\n",
      "Wrong SMILES for:  6975625 (removed!)\n",
      "Wrong SMILES for:  6975629 (removed!)\n",
      "Wrong SMILES for:  6975673 (removed!)\n",
      "Wrong SMILES for:  6975674 (removed!)\n",
      "Wrong SMILES for:  6975727 (removed!)\n",
      "Wrong SMILES for:  6975798 (removed!)\n",
      "Wrong SMILES for:  6975843 (removed!)\n",
      "Wrong SMILES for:  6975905 (removed!)\n"
     ]
    },
    {
     "name": "stderr",
     "output_type": "stream",
     "text": [
      "[03:14:24] Can't kekulize mol.  Unkekulized atoms: 7 8 9 10 11\n",
      "[03:14:24] Explicit valence for atom # 5 O, 3, is greater than permitted\n",
      "[03:14:24] Explicit valence for atom # 10 C, 5, is greater than permitted\n",
      "[03:14:24] Can't kekulize mol.  Unkekulized atoms: 2 3 4 6 8\n",
      "[03:14:24] Can't kekulize mol.  Unkekulized atoms: 2 3 4 5 6 7 8 18 19\n",
      "[03:14:24] Can't kekulize mol.  Unkekulized atoms: 1 2 3 4 5 6 7 8 9\n",
      "[03:14:24] Can't kekulize mol.  Unkekulized atoms: 1 2 3 4 5 6 7 8 9\n"
     ]
    },
    {
     "name": "stdout",
     "output_type": "stream",
     "text": [
      "Wrong SMILES for:  6976075 (removed!)\n",
      "Wrong SMILES for:  6976076 (removed!)\n",
      "Wrong SMILES for:  6976081 (removed!)\n",
      "Wrong SMILES for:  6976185 (removed!)\n",
      "Wrong SMILES for:  6976759 (removed!)\n",
      "Wrong SMILES for:  6976771 (removed!)\n",
      "Wrong SMILES for:  6976909 (removed!)\n"
     ]
    },
    {
     "name": "stderr",
     "output_type": "stream",
     "text": [
      "[03:14:24] Can't kekulize mol.  Unkekulized atoms: 1 2 3 4 5 6 7 8 9\n",
      "[03:14:24] Can't kekulize mol.  Unkekulized atoms: 1 2 3 4 5 6 7 8 9\n",
      "[03:14:24] Explicit valence for atom # 6 N, 4, is greater than permitted\n",
      "[03:14:24] Explicit valence for atom # 1 N, 4, is greater than permitted\n"
     ]
    },
    {
     "name": "stdout",
     "output_type": "stream",
     "text": [
      "Wrong SMILES for:  6977103 (removed!)\n",
      "Wrong SMILES for:  6977163 (removed!)\n",
      "Wrong SMILES for:  6977165 (removed!)\n",
      "Wrong SMILES for:  6977293 (removed!)\n"
     ]
    },
    {
     "name": "stderr",
     "output_type": "stream",
     "text": [
      "[03:14:24] Can't kekulize mol.  Unkekulized atoms: 4 5 6 7 8 9 10 11 12\n",
      "[03:14:24] Can't kekulize mol.  Unkekulized atoms: 4 5 6 7 8\n",
      "[03:14:24] Can't kekulize mol.  Unkekulized atoms: 1 2 3 6 7 8 9 10 11\n",
      "[03:14:24] Can't kekulize mol.  Unkekulized atoms: 1 2 3 5 6 7 8 9 10\n",
      "[03:14:24] Can't kekulize mol.  Unkekulized atoms: 6 7 8 9 10\n",
      "[03:14:24] Can't kekulize mol.  Unkekulized atoms: 2 3 4 5 6 7 19 20 21\n",
      "[03:14:25] Can't kekulize mol.  Unkekulized atoms: 5 6 7 8 9 10 18 19 20\n",
      "[03:14:25] Can't kekulize mol.  Unkekulized atoms: 4 5 6 7 8\n"
     ]
    },
    {
     "name": "stdout",
     "output_type": "stream",
     "text": [
      "Wrong SMILES for:  6978593 (removed!)\n",
      "Wrong SMILES for:  6978652 (removed!)\n",
      "Wrong SMILES for:  6978692 (removed!)\n",
      "Wrong SMILES for:  6978693 (removed!)\n",
      "Wrong SMILES for:  6978717 (removed!)\n",
      "Wrong SMILES for:  6979010 (removed!)\n",
      "Wrong SMILES for:  6979011 (removed!)\n",
      "Wrong SMILES for:  6979326 (removed!)\n"
     ]
    },
    {
     "name": "stderr",
     "output_type": "stream",
     "text": [
      "[03:14:25] Can't kekulize mol.  Unkekulized atoms: 2 3 4 5 6 7 8 9 10\n",
      "[03:14:25] Can't kekulize mol.  Unkekulized atoms: 2 3 4 5 6 7 8 9 10 11 12 13 14 15 16\n",
      "[03:14:25] Explicit valence for atom # 11 N, 4, is greater than permitted\n",
      "[03:14:25] Can't kekulize mol.  Unkekulized atoms: 2 3 4 6 8\n",
      "[03:14:25] Explicit valence for atom # 18 N, 4, is greater than permitted\n",
      "[03:14:25] Explicit valence for atom # 11 N, 4, is greater than permitted\n",
      "[03:14:25] Can't kekulize mol.  Unkekulized atoms: 1 2 3 5 6 7 8 9 10\n",
      "[03:14:25] Can't kekulize mol.  Unkekulized atoms: 1 2 3 4 5\n",
      "[03:14:25] Can't kekulize mol.  Unkekulized atoms: 4 5 6 7 8\n"
     ]
    },
    {
     "name": "stdout",
     "output_type": "stream",
     "text": [
      "Wrong SMILES for:  6979391 (removed!)\n",
      "Wrong SMILES for:  6979457 (removed!)\n",
      "Wrong SMILES for:  6979512 (removed!)\n",
      "Wrong SMILES for:  6979521 (removed!)\n",
      "Wrong SMILES for:  6979640 (removed!)\n",
      "Wrong SMILES for:  6979766 (removed!)\n",
      "Wrong SMILES for:  6980191 (removed!)\n",
      "Wrong SMILES for:  6980253 (removed!)\n",
      "Wrong SMILES for:  6980315 (removed!)\n"
     ]
    },
    {
     "name": "stderr",
     "output_type": "stream",
     "text": [
      "[03:14:25] Can't kekulize mol.  Unkekulized atoms: 5 6 7 8 9 12 14 15 16\n",
      "[03:14:25] Can't kekulize mol.  Unkekulized atoms: 2 3 4 5 6 7 8 9 10\n",
      "[03:14:25] Can't kekulize mol.  Unkekulized atoms: 3 4 5 11 12\n",
      "[03:14:25] Can't kekulize mol.  Unkekulized atoms: 2 3 4 5 6 7 8 9 10\n",
      "[03:14:25] Can't kekulize mol.  Unkekulized atoms: 1 2 3 12 13 14 15 16 17\n",
      "[03:14:25] Can't kekulize mol.  Unkekulized atoms: 1 2 3 4 5\n",
      "[03:14:25] Can't kekulize mol.  Unkekulized atoms: 2 3 4 5 6 7 8 9 10\n",
      "[03:14:25] Can't kekulize mol.  Unkekulized atoms: 1 2 3 4 5 6 7 8 9\n",
      "[03:14:25] Can't kekulize mol.  Unkekulized atoms: 1 2 3 4 5\n",
      "[03:14:25] Can't kekulize mol.  Unkekulized atoms: 1 2 3 4 5 6 7 8 9\n",
      "[03:14:25] Can't kekulize mol.  Unkekulized atoms: 1 2 3 5 6 7 8 9 10\n"
     ]
    },
    {
     "name": "stdout",
     "output_type": "stream",
     "text": [
      "Wrong SMILES for:  6980543 (removed!)\n",
      "Wrong SMILES for:  6980649 (removed!)\n",
      "Wrong SMILES for:  6980655 (removed!)\n",
      "Wrong SMILES for:  6980716 (removed!)\n",
      "Wrong SMILES for:  6980776 (removed!)\n",
      "Wrong SMILES for:  6980841 (removed!)\n",
      "Wrong SMILES for:  6980951 (removed!)\n",
      "Wrong SMILES for:  6980960 (removed!)\n",
      "Wrong SMILES for:  6981077 (removed!)\n",
      "Wrong SMILES for:  6981136 (removed!)\n",
      "Wrong SMILES for:  6981245 (removed!)\n"
     ]
    },
    {
     "name": "stderr",
     "output_type": "stream",
     "text": [
      "[03:14:25] Explicit valence for atom # 1 H, 2, is greater than permitted\n",
      "[03:14:25] Can't kekulize mol.  Unkekulized atoms: 1 2 3 4 5 6 7 8 9\n",
      "[03:14:25] Can't kekulize mol.  Unkekulized atoms: 1 2 3 5 6 7 9 10 11\n"
     ]
    },
    {
     "name": "stdout",
     "output_type": "stream",
     "text": [
      "Wrong SMILES for:  6981708 (removed!)\n",
      "Wrong SMILES for:  6981954 (removed!)\n",
      "Wrong SMILES for:  6982312 (removed!)\n"
     ]
    },
    {
     "name": "stderr",
     "output_type": "stream",
     "text": [
      "[03:14:25] Can't kekulize mol.  Unkekulized atoms: 3 4 5 6 7\n",
      "[03:14:26] Can't kekulize mol.  Unkekulized atoms: 3 4 5 6 7 8 9 10 11\n",
      "[03:14:26] Explicit valence for atom # 3 C, 5, is greater than permitted\n",
      "[03:14:26] Can't kekulize mol.  Unkekulized atoms: 9 10 11 12 13\n"
     ]
    },
    {
     "name": "stdout",
     "output_type": "stream",
     "text": [
      "Wrong SMILES for:  6982717 (removed!)\n",
      "Wrong SMILES for:  6982830 (removed!)\n",
      "Wrong SMILES for:  6983174 (removed!)\n",
      "Wrong SMILES for:  6983429 (removed!)\n"
     ]
    },
    {
     "name": "stderr",
     "output_type": "stream",
     "text": [
      "[03:14:26] Can't kekulize mol.  Unkekulized atoms: 4 5 6 7 8 9 10 11 12\n",
      "[03:14:26] Explicit valence for atom # 14 N, 4, is greater than permitted\n",
      "[03:14:26] Can't kekulize mol.  Unkekulized atoms: 1 2 3 4 5 6 7 8 9\n",
      "[03:14:26] Can't kekulize mol.  Unkekulized atoms: 1 2 3 4 5 6 7 8 9\n",
      "[03:14:26] Explicit valence for atom # 0 H, 2, is greater than permitted\n",
      "[03:14:26] Explicit valence for atom # 6 N, 4, is greater than permitted\n"
     ]
    },
    {
     "name": "stdout",
     "output_type": "stream",
     "text": [
      "Wrong SMILES for:  6983603 (removed!)\n",
      "Wrong SMILES for:  6983784 (removed!)\n",
      "Wrong SMILES for:  6984204 (removed!)\n",
      "Wrong SMILES for:  6984264 (removed!)\n",
      "Wrong SMILES for:  6984373 (removed!)\n",
      "Wrong SMILES for:  6984382 (removed!)\n"
     ]
    },
    {
     "name": "stderr",
     "output_type": "stream",
     "text": [
      "[03:14:30] Can't kekulize mol.  Unkekulized atoms: 3 4 5 6 7\n"
     ]
    },
    {
     "name": "stdout",
     "output_type": "stream",
     "text": [
      "Wrong SMILES for:  6999626 (removed!)\n",
      "Currently on 7000000th data\n"
     ]
    },
    {
     "name": "stderr",
     "output_type": "stream",
     "text": [
      "[03:14:30] Can't kekulize mol.  Unkekulized atoms: 5 6 7 8 9\n",
      "[03:14:30] Explicit valence for atom # 33 N, 4, is greater than permitted\n",
      "[03:14:30] Can't kekulize mol.  Unkekulized atoms: 5 6 7 9 10 11 12 13 14\n"
     ]
    },
    {
     "name": "stdout",
     "output_type": "stream",
     "text": [
      "Wrong SMILES for:  7000546 (removed!)\n",
      "Wrong SMILES for:  7000584 (removed!)\n",
      "Wrong SMILES for:  7000617 (removed!)\n"
     ]
    },
    {
     "name": "stderr",
     "output_type": "stream",
     "text": [
      "[03:14:31] Explicit valence for atom # 10 O, 3, is greater than permitted\n",
      "[03:14:31] Can't kekulize mol.  Unkekulized atoms: 1 2 3 4 5\n",
      "[03:14:31] Can't kekulize mol.  Unkekulized atoms: 17 18 19 20 21\n",
      "[03:14:31] Can't kekulize mol.  Unkekulized atoms: 1 2 3 4 5\n",
      "[03:14:31] Can't kekulize mol.  Unkekulized atoms: 8 9 10 11 12\n",
      "[03:14:31] Can't kekulize mol.  Unkekulized atoms: 6 7 8 9 10\n",
      "[03:14:31] Can't kekulize mol.  Unkekulized atoms: 2 3 4 5 6\n",
      "[03:14:31] Can't kekulize mol.  Unkekulized atoms: 5 6 7 8 9\n",
      "[03:14:31] Can't kekulize mol.  Unkekulized atoms: 1 2 3 4 5\n",
      "[03:14:31] Can't kekulize mol.  Unkekulized atoms: 8 9 10 11 12\n",
      "[03:14:31] Can't kekulize mol.  Unkekulized atoms: 8 9 10 11 12\n",
      "[03:14:31] Can't kekulize mol.  Unkekulized atoms: 1 2 3 4 5\n",
      "[03:14:31] Can't kekulize mol.  Unkekulized atoms: 5 6 7 21 22\n",
      "[03:14:31] Can't kekulize mol.  Unkekulized atoms: 2 3 5 7 9\n",
      "[03:14:31] Can't kekulize mol.  Unkekulized atoms: 12 13 14 15 16\n",
      "[03:14:31] Can't kekulize mol.  Unkekulized atoms: 1 2 3 4 5\n",
      "[03:14:31] Can't kekulize mol.  Unkekulized atoms: 10 11 12 13 14\n",
      "[03:14:31] Explicit valence for atom # 0 O, 3, is greater than permitted\n",
      "[03:14:31] Explicit valence for atom # 4 O, 3, is greater than permitted\n",
      "[03:14:31] Can't kekulize mol.  Unkekulized atoms: 1 2 3 4 5\n",
      "[03:14:31] Can't kekulize mol.  Unkekulized atoms: 2 3 4 5 6\n",
      "[03:14:31] Can't kekulize mol.  Unkekulized atoms: 1 2 3 4 5 6 7 8 9\n",
      "[03:14:31] Can't kekulize mol.  Unkekulized atoms: 4 5 6 7 8\n",
      "[03:14:31] Can't kekulize mol.  Unkekulized atoms: 3 4 5 6 7\n",
      "[03:14:31] Explicit valence for atom # 41 N, 4, is greater than permitted\n",
      "[03:14:31] Can't kekulize mol.  Unkekulized atoms: 4 5 7 9 11\n",
      "[03:14:31] Explicit valence for atom # 0 O, 3, is greater than permitted\n",
      "[03:14:31] Can't kekulize mol.  Unkekulized atoms: 5 6 7 8 9\n"
     ]
    },
    {
     "name": "stdout",
     "output_type": "stream",
     "text": [
      "Wrong SMILES for:  7002072 (removed!)\n",
      "Wrong SMILES for:  7002073 (removed!)\n",
      "Wrong SMILES for:  7002110 (removed!)\n",
      "Wrong SMILES for:  7002111 (removed!)\n",
      "Wrong SMILES for:  7002120 (removed!)\n",
      "Wrong SMILES for:  7002121 (removed!)\n",
      "Wrong SMILES for:  7002122 (removed!)\n",
      "Wrong SMILES for:  7002132 (removed!)\n",
      "Wrong SMILES for:  7002133 (removed!)\n",
      "Wrong SMILES for:  7002146 (removed!)\n",
      "Wrong SMILES for:  7002156 (removed!)\n",
      "Wrong SMILES for:  7002157 (removed!)\n",
      "Wrong SMILES for:  7002170 (removed!)\n",
      "Wrong SMILES for:  7002171 (removed!)\n",
      "Wrong SMILES for:  7002183 (removed!)\n",
      "Wrong SMILES for:  7002184 (removed!)\n",
      "Wrong SMILES for:  7002224 (removed!)\n",
      "Wrong SMILES for:  7002234 (removed!)\n",
      "Wrong SMILES for:  7002250 (removed!)\n",
      "Wrong SMILES for:  7002251 (removed!)\n",
      "Wrong SMILES for:  7002265 (removed!)\n",
      "Wrong SMILES for:  7002268 (removed!)\n",
      "Wrong SMILES for:  7002283 (removed!)\n",
      "Wrong SMILES for:  7002284 (removed!)\n",
      "Wrong SMILES for:  7002296 (removed!)\n",
      "Wrong SMILES for:  7002307 (removed!)\n",
      "Wrong SMILES for:  7002427 (removed!)\n",
      "Wrong SMILES for:  7002469 (removed!)\n"
     ]
    },
    {
     "name": "stderr",
     "output_type": "stream",
     "text": [
      "[03:14:31] Can't kekulize mol.  Unkekulized atoms: 2 3 4 5 6\n",
      "[03:14:31] Explicit valence for atom # 0 O, 3, is greater than permitted\n",
      "[03:14:31] Explicit valence for atom # 15 N, 4, is greater than permitted\n",
      "[03:14:31] Explicit valence for atom # 2 N, 4, is greater than permitted\n",
      "[03:14:31] Explicit valence for atom # 1 B, 4, is greater than permitted\n",
      "[03:14:31] Can't kekulize mol.  Unkekulized atoms: 4 5 6 7 8\n",
      "[03:14:31] Can't kekulize mol.  Unkekulized atoms: 9 10 11 12 13 14 15 16 17\n",
      "[03:14:31] Can't kekulize mol.  Unkekulized atoms: 4 5 6 7 8\n",
      "[03:14:31] Explicit valence for atom # 39 N, 4, is greater than permitted\n",
      "[03:14:31] Can't kekulize mol.  Unkekulized atoms: 4 5 6 7 8\n",
      "[03:14:31] Can't kekulize mol.  Unkekulized atoms: 1 2 3 5 6 7 8 9 10\n",
      "[03:14:31] Explicit valence for atom # 7 O, 3, is greater than permitted\n",
      "[03:14:31] Explicit valence for atom # 7 O, 3, is greater than permitted\n",
      "[03:14:31] Explicit valence for atom # 2 B, 4, is greater than permitted\n",
      "[03:14:31] Can't kekulize mol.  Unkekulized atoms: 4 5 7 9 11\n",
      "[03:14:31] Can't kekulize mol.  Unkekulized atoms: 3 4 5 6 7\n",
      "[03:14:31] Can't kekulize mol.  Unkekulized atoms: 5 6 8 10 12\n"
     ]
    },
    {
     "name": "stdout",
     "output_type": "stream",
     "text": [
      "Wrong SMILES for:  7003088 (removed!)\n",
      "Wrong SMILES for:  7003133 (removed!)\n",
      "Wrong SMILES for:  7003182 (removed!)\n",
      "Wrong SMILES for:  7003183 (removed!)\n",
      "Wrong SMILES for:  7003270 (removed!)\n",
      "Wrong SMILES for:  7003274 (removed!)\n",
      "Wrong SMILES for:  7003275 (removed!)\n",
      "Wrong SMILES for:  7003328 (removed!)\n",
      "Wrong SMILES for:  7003372 (removed!)\n",
      "Wrong SMILES for:  7003373 (removed!)\n",
      "Wrong SMILES for:  7003428 (removed!)\n",
      "Wrong SMILES for:  7003510 (removed!)\n",
      "Wrong SMILES for:  7003557 (removed!)\n",
      "Wrong SMILES for:  7003600 (removed!)\n",
      "Wrong SMILES for:  7003647 (removed!)\n",
      "Wrong SMILES for:  7003648 (removed!)\n",
      "Wrong SMILES for:  7003649 (removed!)\n"
     ]
    },
    {
     "name": "stderr",
     "output_type": "stream",
     "text": [
      "[03:14:31] Can't kekulize mol.  Unkekulized atoms: 1 2 3 4 5\n",
      "[03:14:31] Can't kekulize mol.  Unkekulized atoms: 1 2 3 4 5\n",
      "[03:14:32] Can't kekulize mol.  Unkekulized atoms: 2 3 4 5 6 7 9 10 11\n"
     ]
    },
    {
     "name": "stdout",
     "output_type": "stream",
     "text": [
      "Wrong SMILES for:  7003736 (removed!)\n",
      "Wrong SMILES for:  7003779 (removed!)\n",
      "Wrong SMILES for:  7004637 (removed!)\n",
      "Wrong SMILES for:  7004862 (removed!)\n"
     ]
    },
    {
     "name": "stderr",
     "output_type": "stream",
     "text": [
      "[03:14:32] Can't kekulize mol.  Unkekulized atoms: 3 4 5 6 8 9 10 11 12\n",
      "[03:14:32] Can't kekulize mol.  Unkekulized atoms: 6 7 8 9 10 11 12 16 17\n"
     ]
    },
    {
     "name": "stdout",
     "output_type": "stream",
     "text": [
      "Wrong SMILES for:  7005476 (removed!)\n",
      "Wrong SMILES for:  7005789 (removed!)\n",
      "Wrong SMILES for:  7005911 (removed!)\n",
      "Wrong SMILES for:  7006112 (removed!)\n",
      "Wrong SMILES for:  7006164 (removed!)\n"
     ]
    },
    {
     "name": "stderr",
     "output_type": "stream",
     "text": [
      "[03:14:32] Can't kekulize mol.  Unkekulized atoms: 8 9 10 12 13 14 15 16 17\n",
      "[03:14:32] Can't kekulize mol.  Unkekulized atoms: 1 2 3 4 5 6 7 8 9\n",
      "[03:14:32] Can't kekulize mol.  Unkekulized atoms: 3 4 5 6 7\n",
      "[03:14:32] Can't kekulize mol.  Unkekulized atoms: 1 2 3 4 5 6 7 8 9\n",
      "[03:14:32] Can't kekulize mol.  Unkekulized atoms: 1 2 3 4 5\n",
      "[03:14:32] Can't kekulize mol.  Unkekulized atoms: 1 2 3 4 5\n",
      "[03:14:32] Explicit valence for atom # 4 O, 3, is greater than permitted\n"
     ]
    },
    {
     "name": "stdout",
     "output_type": "stream",
     "text": [
      "Wrong SMILES for:  7006976 (removed!)\n",
      "Wrong SMILES for:  7007590 (removed!)\n",
      "Wrong SMILES for:  7007682 (removed!)\n"
     ]
    },
    {
     "name": "stderr",
     "output_type": "stream",
     "text": [
      "[03:14:33] Can't kekulize mol.  Unkekulized atoms: 1 2 3 5 6 7 8 9 10\n",
      "[03:14:35] Explicit valence for atom # 2 B, 4, is greater than permitted\n"
     ]
    },
    {
     "name": "stdout",
     "output_type": "stream",
     "text": [
      "Wrong SMILES for:  7007730 (removed!)\n",
      "Wrong SMILES for:  7018937 (removed!)\n"
     ]
    },
    {
     "name": "stderr",
     "output_type": "stream",
     "text": [
      "[03:14:36] Explicit valence for atom # 34 O, 3, is greater than permitted\n"
     ]
    },
    {
     "name": "stdout",
     "output_type": "stream",
     "text": [
      "Wrong SMILES for:  7020883 (removed!)\n"
     ]
    },
    {
     "name": "stderr",
     "output_type": "stream",
     "text": [
      "[03:14:36] Explicit valence for atom # 10 N, 4, is greater than permitted\n"
     ]
    },
    {
     "name": "stdout",
     "output_type": "stream",
     "text": [
      "Wrong SMILES for:  7023051 (removed!)\n"
     ]
    },
    {
     "name": "stderr",
     "output_type": "stream",
     "text": [
      "[03:14:37] Explicit valence for atom # 1 Br, 3, is greater than permitted\n",
      "[03:14:37] Can't kekulize mol.  Unkekulized atoms: 1 2 3 5 6 7 9 10 12 13\n",
      "[03:14:37] Explicit valence for atom # 8 B, 4, is greater than permitted\n"
     ]
    },
    {
     "name": "stdout",
     "output_type": "stream",
     "text": [
      "Wrong SMILES for:  7024840 (removed!)\n",
      "Wrong SMILES for:  7024841 (removed!)\n",
      "Wrong SMILES for:  7025286 (removed!)\n"
     ]
    },
    {
     "name": "stderr",
     "output_type": "stream",
     "text": [
      "[03:14:37] Explicit valence for atom # 1 Cl, 7, is greater than permitted\n"
     ]
    },
    {
     "name": "stdout",
     "output_type": "stream",
     "text": [
      "Wrong SMILES for:  7027252 (removed!)\n"
     ]
    },
    {
     "name": "stderr",
     "output_type": "stream",
     "text": [
      "[03:14:37] Explicit valence for atom # 4 C, 5, is greater than permitted\n"
     ]
    },
    {
     "name": "stdout",
     "output_type": "stream",
     "text": [
      "Wrong SMILES for:  7028523 (removed!)\n"
     ]
    },
    {
     "name": "stderr",
     "output_type": "stream",
     "text": [
      "[03:14:38] Explicit valence for atom # 13 O, 3, is greater than permitted\n",
      "[03:14:38] Explicit valence for atom # 12 N, 4, is greater than permitted\n",
      "[03:14:38] Explicit valence for atom # 2 N, 4, is greater than permitted\n"
     ]
    },
    {
     "name": "stdout",
     "output_type": "stream",
     "text": [
      "Wrong SMILES for:  7029699 (removed!)\n",
      "Wrong SMILES for:  7030564 (removed!)\n",
      "Wrong SMILES for:  7030565 (removed!)\n"
     ]
    },
    {
     "name": "stderr",
     "output_type": "stream",
     "text": [
      "[03:14:38] Explicit valence for atom # 3 N, 4, is greater than permitted\n",
      "[03:14:38] Explicit valence for atom # 15 N, 4, is greater than permitted\n",
      "[03:14:38] Explicit valence for atom # 3 C, 6, is greater than permitted\n",
      "[03:14:38] Explicit valence for atom # 10 C, 5, is greater than permitted\n",
      "[03:14:38] Explicit valence for atom # 6 N, 4, is greater than permitted\n",
      "[03:14:38] Explicit valence for atom # 1 C, 5, is greater than permitted\n",
      "[03:14:38] WARNING: not removing hydrogen atom without neighbors\n",
      "[03:14:38] Explicit valence for atom # 4 N, 5, is greater than permitted\n",
      "[03:14:38] Explicit valence for atom # 6 C, 5, is greater than permitted\n",
      "[03:14:38] Explicit valence for atom # 18 O, 3, is greater than permitted\n"
     ]
    },
    {
     "name": "stdout",
     "output_type": "stream",
     "text": [
      "Wrong SMILES for:  7030699 (removed!)\n",
      "Wrong SMILES for:  7030956 (removed!)\n",
      "Wrong SMILES for:  7031091 (removed!)\n",
      "Wrong SMILES for:  7031092 (removed!)\n",
      "Wrong SMILES for:  7031467 (removed!)\n",
      "Wrong SMILES for:  7031468 (removed!)\n",
      "Wrong SMILES for:  7031591 (removed!)\n",
      "Wrong SMILES for:  7031709 (removed!)\n",
      "Wrong SMILES for:  7031710 (removed!)\n"
     ]
    },
    {
     "name": "stderr",
     "output_type": "stream",
     "text": [
      "[03:14:38] Explicit valence for atom # 9 N, 4, is greater than permitted\n",
      "[03:14:38] Explicit valence for atom # 7 O, 3, is greater than permitted\n",
      "[03:14:38] Explicit valence for atom # 1 C, 5, is greater than permitted\n"
     ]
    },
    {
     "name": "stdout",
     "output_type": "stream",
     "text": [
      "Wrong SMILES for:  7031839 (removed!)\n",
      "Wrong SMILES for:  7032357 (removed!)\n",
      "Wrong SMILES for:  7032487 (removed!)\n"
     ]
    },
    {
     "name": "stderr",
     "output_type": "stream",
     "text": [
      "[03:14:39] Explicit valence for atom # 18 N, 4, is greater than permitted\n",
      "[03:14:39] Explicit valence for atom # 15 N, 4, is greater than permitted\n"
     ]
    },
    {
     "name": "stdout",
     "output_type": "stream",
     "text": [
      "Wrong SMILES for:  7033432 (removed!)\n",
      "Wrong SMILES for:  7033557 (removed!)\n"
     ]
    },
    {
     "name": "stderr",
     "output_type": "stream",
     "text": [
      "[03:14:40] Explicit valence for atom # 25 N, 5, is greater than permitted\n",
      "[03:14:41] Can't kekulize mol.  Unkekulized atoms: 6 7 8 9 10 11 12 13 14\n"
     ]
    },
    {
     "name": "stdout",
     "output_type": "stream",
     "text": [
      "Wrong SMILES for:  7041105 (removed!)\n",
      "Wrong SMILES for:  7041786 (removed!)\n"
     ]
    },
    {
     "name": "stderr",
     "output_type": "stream",
     "text": [
      "[03:14:41] Explicit valence for atom # 10 C, 6, is greater than permitted\n"
     ]
    },
    {
     "name": "stdout",
     "output_type": "stream",
     "text": [
      "Wrong SMILES for:  7042708 (removed!)\n",
      "Currently on 7100000th data\n"
     ]
    },
    {
     "name": "stderr",
     "output_type": "stream",
     "text": [
      "[03:14:52] Explicit valence for atom # 2 C, 5, is greater than permitted\n"
     ]
    },
    {
     "name": "stdout",
     "output_type": "stream",
     "text": [
      "Wrong SMILES for:  7110565 (removed!)\n"
     ]
    },
    {
     "name": "stderr",
     "output_type": "stream",
     "text": [
      "[03:14:59] Can't kekulize mol.  Unkekulized atoms: 3 4 5 6 7 8 9 10 11\n",
      "[03:14:59] Can't kekulize mol.  Unkekulized atoms: 2 3 4 5 6 7 8 9 10\n",
      "[03:14:59] Can't kekulize mol.  Unkekulized atoms: 4 5 6 7 8 9 10 11 12\n",
      "[03:14:59] Can't kekulize mol.  Unkekulized atoms: 3 4 5 6 7 8 9 10 11\n",
      "[03:14:59] Can't kekulize mol.  Unkekulized atoms: 2 3 4 5 6 9 10 11 12\n",
      "[03:14:59] Can't kekulize mol.  Unkekulized atoms: 2 3 4 5 6 7 8 9 10\n",
      "[03:14:59] Can't kekulize mol.  Unkekulized atoms: 4 5 6 7 8 9 12 13 14\n",
      "[03:14:59] Can't kekulize mol.  Unkekulized atoms: 1 2 3 4 5 7 8 9 10\n",
      "[03:14:59] Can't kekulize mol.  Unkekulized atoms: 5 6 7 8 9 10 11 12 13\n",
      "[03:14:59] Can't kekulize mol.  Unkekulized atoms: 3 4 5 6 7 8 9 10 11\n",
      "[03:14:59] Can't kekulize mol.  Unkekulized atoms: 1 2 3 4 5 6 7 8 9\n",
      "[03:14:59] Can't kekulize mol.  Unkekulized atoms: 5 6 7 8 9 10 11 12 13\n",
      "[03:14:59] Can't kekulize mol.  Unkekulized atoms: 3 4 5 6 7 8 9 10 11\n",
      "[03:14:59] Can't kekulize mol.  Unkekulized atoms: 3 4 5 6 7 8 9 10 11\n",
      "[03:14:59] Can't kekulize mol.  Unkekulized atoms: 4 5 6 7 8 9 10 11 12\n",
      "[03:14:59] Can't kekulize mol.  Unkekulized atoms: 2 3 4 5 6 7 8 10 11\n",
      "[03:14:59] Can't kekulize mol.  Unkekulized atoms: 5 6 7 8 9\n",
      "[03:14:59] Can't kekulize mol.  Unkekulized atoms: 5 6 7 8 9 10 11 12 13\n",
      "[03:14:59] Can't kekulize mol.  Unkekulized atoms: 4 5 6 7 8 9 10 11 12\n",
      "[03:14:59] Can't kekulize mol.  Unkekulized atoms: 5 6 7 8 9 10 11 12 13\n",
      "[03:14:59] Can't kekulize mol.  Unkekulized atoms: 1 2 3 5 6 7 8 9 10\n",
      "[03:14:59] Can't kekulize mol.  Unkekulized atoms: 5 6 8 9 10\n",
      "[03:14:59] Can't kekulize mol.  Unkekulized atoms: 4 5 6 7 8 9 11 12 13\n",
      "[03:14:59] Can't kekulize mol.  Unkekulized atoms: 1 2 3 4 5 7 8 9 10\n",
      "[03:14:59] Can't kekulize mol.  Unkekulized atoms: 2 3 6 7 8 9 10 11 12\n",
      "[03:14:59] Can't kekulize mol.  Unkekulized atoms: 1 2 3 4 5 8 9 10 11\n",
      "[03:14:59] Can't kekulize mol.  Unkekulized atoms: 1 2 3 4 5 8 9 10 11\n",
      "[03:14:59] Can't kekulize mol.  Unkekulized atoms: 1 2 3 4 5\n",
      "[03:14:59] Can't kekulize mol.  Unkekulized atoms: 4 5 6 7 8\n",
      "[03:14:59] Can't kekulize mol.  Unkekulized atoms: 2 3 4 5 6 7 8 9 10\n",
      "[03:14:59] Can't kekulize mol.  Unkekulized atoms: 3 4 5 6 7 8 9 10 11\n",
      "[03:14:59] Can't kekulize mol.  Unkekulized atoms: 3 4 5 6 8 9 11 12 13\n",
      "[03:14:59] Can't kekulize mol.  Unkekulized atoms: 3 4 5 6 7\n",
      "[03:14:59] Explicit valence for atom # 6 N, 4, is greater than permitted\n",
      "[03:14:59] Explicit valence for atom # 11 N, 4, is greater than permitted\n",
      "[03:14:59] Can't kekulize mol.  Unkekulized atoms: 4 5 6 7 8 9 10 11 12\n",
      "[03:14:59] Can't kekulize mol.  Unkekulized atoms: 2 3 4 5 6 7 8 9 10\n",
      "[03:14:59] Can't kekulize mol.  Unkekulized atoms: 1 2 3 4 5\n",
      "[03:14:59] Can't kekulize mol.  Unkekulized atoms: 1 2 3 5 6 7 8 9 10\n"
     ]
    },
    {
     "name": "stdout",
     "output_type": "stream",
     "text": [
      "Wrong SMILES for:  7153227 (removed!)\n",
      "Wrong SMILES for:  7153234 (removed!)\n",
      "Wrong SMILES for:  7153235 (removed!)\n",
      "Wrong SMILES for:  7153237 (removed!)\n",
      "Wrong SMILES for:  7153238 (removed!)\n",
      "Wrong SMILES for:  7153373 (removed!)\n",
      "Wrong SMILES for:  7153378 (removed!)\n",
      "Wrong SMILES for:  7153379 (removed!)\n",
      "Wrong SMILES for:  7153380 (removed!)\n",
      "Wrong SMILES for:  7153381 (removed!)\n",
      "Wrong SMILES for:  7153520 (removed!)\n",
      "Wrong SMILES for:  7153522 (removed!)\n",
      "Wrong SMILES for:  7153523 (removed!)\n",
      "Wrong SMILES for:  7153524 (removed!)\n",
      "Wrong SMILES for:  7153525 (removed!)\n",
      "Wrong SMILES for:  7153661 (removed!)\n",
      "Wrong SMILES for:  7153664 (removed!)\n",
      "Wrong SMILES for:  7153665 (removed!)\n",
      "Wrong SMILES for:  7153666 (removed!)\n",
      "Wrong SMILES for:  7153667 (removed!)\n",
      "Wrong SMILES for:  7153668 (removed!)\n",
      "Wrong SMILES for:  7153803 (removed!)\n",
      "Wrong SMILES for:  7153806 (removed!)\n",
      "Wrong SMILES for:  7153807 (removed!)\n",
      "Wrong SMILES for:  7153808 (removed!)\n",
      "Wrong SMILES for:  7153809 (removed!)\n",
      "Wrong SMILES for:  7153942 (removed!)\n",
      "Wrong SMILES for:  7153946 (removed!)\n",
      "Wrong SMILES for:  7153947 (removed!)\n",
      "Wrong SMILES for:  7154085 (removed!)\n",
      "Wrong SMILES for:  7154086 (removed!)\n",
      "Wrong SMILES for:  7154087 (removed!)\n",
      "Wrong SMILES for:  7154088 (removed!)\n",
      "Wrong SMILES for:  7154221 (removed!)\n",
      "Wrong SMILES for:  7154222 (removed!)\n",
      "Wrong SMILES for:  7154225 (removed!)\n",
      "Wrong SMILES for:  7154230 (removed!)\n",
      "Wrong SMILES for:  7154232 (removed!)\n",
      "Wrong SMILES for:  7154233 (removed!)\n"
     ]
    },
    {
     "name": "stderr",
     "output_type": "stream",
     "text": [
      "[03:14:59] Explicit valence for atom # 6 N, 4, is greater than permitted\n",
      "[03:14:59] Can't kekulize mol.  Unkekulized atoms: 5 6 7 8 9 10 11 12 13\n",
      "[03:14:59] Can't kekulize mol.  Unkekulized atoms: 1 2 3 4 5 6 7 8 9\n",
      "[03:14:59] Can't kekulize mol.  Unkekulized atoms: 4 5 6 7 8\n",
      "[03:14:59] Can't kekulize mol.  Unkekulized atoms: 1 2 3 4 5 6 7 8 9\n",
      "[03:14:59] Can't kekulize mol.  Unkekulized atoms: 5 6 7 8 9\n",
      "[03:14:59] Can't kekulize mol.  Unkekulized atoms: 2 3 4 5 7 8 9 10 11 12 13 14 15\n",
      "[03:14:59] Can't kekulize mol.  Unkekulized atoms: 12 13 14 15 16 17 18 19 20\n",
      "[03:14:59] Can't kekulize mol.  Unkekulized atoms: 1 2 3 4 5 7 8 9 10\n",
      "[03:14:59] Can't kekulize mol.  Unkekulized atoms: 4 5 6 7 8 9 10 11 12\n",
      "[03:14:59] Can't kekulize mol.  Unkekulized atoms: 3 4 5 6 7 8 9 10 12\n",
      "[03:14:59] Can't kekulize mol.  Unkekulized atoms: 5 6 7 8 9 11 12 13 14\n",
      "[03:14:59] Can't kekulize mol.  Unkekulized atoms: 1 2 3 6 7 8 9 10 11 12 13 14 15\n",
      "[03:14:59] Can't kekulize mol.  Unkekulized atoms: 3 4 5 6 7 8 9 10 11\n",
      "[03:14:59] Can't kekulize mol.  Unkekulized atoms: 1 2 3 4 5 6 7 8 9\n",
      "[03:14:59] Can't kekulize mol.  Unkekulized atoms: 1 2 3 4 5 6 7 8 9\n",
      "[03:14:59] Can't kekulize mol.  Unkekulized atoms: 4 5 6 7 8 9 10 11 13\n",
      "[03:14:59] Can't kekulize mol.  Unkekulized atoms: 3 4 5 6 7 9 10 11 12\n",
      "[03:14:59] Can't kekulize mol.  Unkekulized atoms: 2 3 4 5 6 7 8 9 10\n",
      "[03:14:59] Can't kekulize mol.  Unkekulized atoms: 0 1 2 3 4 5 6\n",
      "[03:14:59] Can't kekulize mol.  Unkekulized atoms: 1 2 3 4 5\n",
      "[03:14:59] Can't kekulize mol.  Unkekulized atoms: 3 4 5 6 7 9 10 11 12\n",
      "[03:14:59] Can't kekulize mol.  Unkekulized atoms: 1 2 3 4 6\n",
      "[03:14:59] Can't kekulize mol.  Unkekulized atoms: 4 5 6 7 8 9 10 11 12\n",
      "[03:14:59] Can't kekulize mol.  Unkekulized atoms: 1 2 3 4 5 6 7 8 9 11 12 13 14\n",
      "[03:14:59] Can't kekulize mol.  Unkekulized atoms: 6 7 8 9 10\n",
      "[03:14:59] Can't kekulize mol.  Unkekulized atoms: 5 6 9 10 12 13 14 15 16 17 18 19 20\n",
      "[03:14:59] Can't kekulize mol.  Unkekulized atoms: 1 2 3 4 5 6 7 8 9\n",
      "[03:14:59] Can't kekulize mol.  Unkekulized atoms: 2 3 4 5 6\n",
      "[03:14:59] Can't kekulize mol.  Unkekulized atoms: 3 4 5 6 7 8 10 11 12\n",
      "[03:14:59] Can't kekulize mol.  Unkekulized atoms: 3 4 5 6 7 8 9 10 11\n",
      "[03:14:59] Can't kekulize mol.  Unkekulized atoms: 1 2 3 4 5 6 7 8 9 10 11 12 13\n",
      "[03:14:59] Can't kekulize mol.  Unkekulized atoms: 1 2 3 4 5 6 7 8 9\n",
      "[03:14:59] Can't kekulize mol.  Unkekulized atoms: 2 3 4 5 6 7 8 10 11 14 15 16 17\n",
      "[03:14:59] Can't kekulize mol.  Unkekulized atoms: 2 3 4 5 6 7 8 15 16\n",
      "[03:14:59] Can't kekulize mol.  Unkekulized atoms: 5 6 7 8 9 10 11 12 13\n",
      "[03:14:59] Can't kekulize mol.  Unkekulized atoms: 2 3 4 5 6 7 8 10 11\n",
      "[03:14:59] Can't kekulize mol.  Unkekulized atoms: 4 5 6 8 9\n",
      "[03:14:59] Can't kekulize mol.  Unkekulized atoms: 5 6 7 8 9 10 12 13 14\n",
      "[03:14:59] Can't kekulize mol.  Unkekulized atoms: 5 6 7 9 10\n",
      "[03:14:59] Can't kekulize mol.  Unkekulized atoms: 1 2 3 4 6\n",
      "[03:14:59] Can't kekulize mol.  Unkekulized atoms: 1 2 3 4 5 6 8 9 10 11 12 13 14\n",
      "[03:14:59] Can't kekulize mol.  Unkekulized atoms: 5 6 7 8 9 10 11 12 13\n",
      "[03:14:59] Can't kekulize mol.  Unkekulized atoms: 9 10 11 12 13 14 15 16 17\n",
      "[03:14:59] Can't kekulize mol.  Unkekulized atoms: 1 2 3 4 5 6 7 8 9\n",
      "[03:14:59] Can't kekulize mol.  Unkekulized atoms: 1 2 3 5 6 7 8 9 10\n",
      "[03:14:59] Can't kekulize mol.  Unkekulized atoms: 4 5 6 7 8 9 10 11 12\n",
      "[03:14:59] Can't kekulize mol.  Unkekulized atoms: 3 4 5 6 7 8 9 10 11\n",
      "[03:14:59] Can't kekulize mol.  Unkekulized atoms: 2 3 4 5 6 7 8 9 10\n",
      "[03:14:59] Can't kekulize mol.  Unkekulized atoms: 1 2 3 4 5 6 7 8 10\n",
      "[03:14:59] Can't kekulize mol.  Unkekulized atoms: 1 2 3 4 5 6 8 9 10 11 12 13 14\n",
      "[03:14:59] Can't kekulize mol.  Unkekulized atoms: 3 4 5 6 7 8 9 10 11\n",
      "[03:14:59] Can't kekulize mol.  Unkekulized atoms: 1 2 3 5 6 7 8 9 11\n",
      "[03:14:59] Can't kekulize mol.  Unkekulized atoms: 1 2 3 4 5 6 7 8 11\n",
      "[03:14:59] Can't kekulize mol.  Unkekulized atoms: 4 5 6 7 8 9 10 12 13\n",
      "[03:14:59] Can't kekulize mol.  Unkekulized atoms: 13 14 15 16 17 18 19 20 21\n",
      "[03:14:59] Can't kekulize mol.  Unkekulized atoms: 2 3 4 5 6 8 9 10 11\n",
      "[03:14:59] Can't kekulize mol.  Unkekulized atoms: 3 4 5 6 7 8 10 11 12\n",
      "[03:14:59] Can't kekulize mol.  Unkekulized atoms: 1 2 3 5 6 7 8 9 10\n",
      "[03:14:59] Can't kekulize mol.  Unkekulized atoms: 3 4 5 6 7 8 9 10 11\n",
      "[03:14:59] Can't kekulize mol.  Unkekulized atoms: 3 4 5 6 7 8 9 10 11\n",
      "[03:14:59] Can't kekulize mol.  Unkekulized atoms: 2 3 4 6 7\n",
      "[03:14:59] Can't kekulize mol.  Unkekulized atoms: 4 5 6 8 9 10 11 12 13\n",
      "[03:14:59] Can't kekulize mol.  Unkekulized atoms: 3 4 5 6 7\n",
      "[03:14:59] Can't kekulize mol.  Unkekulized atoms: 1 2 3 4 5 6 7 8 9\n",
      "[03:14:59] Can't kekulize mol.  Unkekulized atoms: 1 2 3 4 5 6 7 8 9\n",
      "[03:14:59] Can't kekulize mol.  Unkekulized atoms: 9 10 11 12 13\n",
      "[03:14:59] Can't kekulize mol.  Unkekulized atoms: 4 5 6 7 8 9 10 11 12\n",
      "[03:14:59] Can't kekulize mol.  Unkekulized atoms: 3 4 5 6 7\n",
      "[03:14:59] Can't kekulize mol.  Unkekulized atoms: 2 3 4 5 6\n",
      "[03:14:59] Can't kekulize mol.  Unkekulized atoms: 1 2 3 4 5 6 7 8 10\n",
      "[03:14:59] Can't kekulize mol.  Unkekulized atoms: 1 2 3 4 5 6 7 8 9\n",
      "[03:14:59] Can't kekulize mol.  Unkekulized atoms: 1 2 3 5 6 7 8 9 10\n",
      "[03:14:59] Can't kekulize mol.  Unkekulized atoms: 3 4 5 6 11\n",
      "[03:14:59] Can't kekulize mol.  Unkekulized atoms: 1 2 3 4 5 7 9 10 11\n",
      "[03:14:59] Can't kekulize mol.  Unkekulized atoms: 1 2 3 5 6 7 8 9 10\n"
     ]
    },
    {
     "name": "stdout",
     "output_type": "stream",
     "text": [
      "Wrong SMILES for:  7154367 (removed!)\n",
      "Wrong SMILES for:  7154369 (removed!)\n",
      "Wrong SMILES for:  7154374 (removed!)\n",
      "Wrong SMILES for:  7154376 (removed!)\n",
      "Wrong SMILES for:  7154377 (removed!)\n",
      "Wrong SMILES for:  7154378 (removed!)\n",
      "Wrong SMILES for:  7154379 (removed!)\n",
      "Wrong SMILES for:  7154514 (removed!)\n",
      "Wrong SMILES for:  7154521 (removed!)\n",
      "Wrong SMILES for:  7154523 (removed!)\n",
      "Wrong SMILES for:  7154524 (removed!)\n",
      "Wrong SMILES for:  7154525 (removed!)\n",
      "Wrong SMILES for:  7154653 (removed!)\n",
      "Wrong SMILES for:  7154655 (removed!)\n",
      "Wrong SMILES for:  7154658 (removed!)\n",
      "Wrong SMILES for:  7154659 (removed!)\n",
      "Wrong SMILES for:  7154661 (removed!)\n",
      "Wrong SMILES for:  7154662 (removed!)\n",
      "Wrong SMILES for:  7154793 (removed!)\n",
      "Wrong SMILES for:  7154797 (removed!)\n",
      "Wrong SMILES for:  7154798 (removed!)\n",
      "Wrong SMILES for:  7154799 (removed!)\n",
      "Wrong SMILES for:  7154800 (removed!)\n",
      "Wrong SMILES for:  7154801 (removed!)\n",
      "Wrong SMILES for:  7154802 (removed!)\n",
      "Wrong SMILES for:  7154803 (removed!)\n",
      "Wrong SMILES for:  7154931 (removed!)\n",
      "Wrong SMILES for:  7154937 (removed!)\n",
      "Wrong SMILES for:  7154938 (removed!)\n",
      "Wrong SMILES for:  7154939 (removed!)\n",
      "Wrong SMILES for:  7154940 (removed!)\n",
      "Wrong SMILES for:  7154941 (removed!)\n",
      "Wrong SMILES for:  7154942 (removed!)\n",
      "Wrong SMILES for:  7155072 (removed!)\n",
      "Wrong SMILES for:  7155073 (removed!)\n",
      "Wrong SMILES for:  7155077 (removed!)\n",
      "Wrong SMILES for:  7155078 (removed!)\n",
      "Wrong SMILES for:  7155079 (removed!)\n",
      "Wrong SMILES for:  7155080 (removed!)\n",
      "Wrong SMILES for:  7155081 (removed!)\n",
      "Wrong SMILES for:  7155082 (removed!)\n",
      "Wrong SMILES for:  7155212 (removed!)\n",
      "Wrong SMILES for:  7155213 (removed!)\n",
      "Wrong SMILES for:  7155217 (removed!)\n",
      "Wrong SMILES for:  7155218 (removed!)\n",
      "Wrong SMILES for:  7155219 (removed!)\n",
      "Wrong SMILES for:  7155220 (removed!)\n",
      "Wrong SMILES for:  7155222 (removed!)\n",
      "Wrong SMILES for:  7155223 (removed!)\n",
      "Wrong SMILES for:  7155224 (removed!)\n",
      "Wrong SMILES for:  7155357 (removed!)\n",
      "Wrong SMILES for:  7155362 (removed!)\n",
      "Wrong SMILES for:  7155363 (removed!)\n",
      "Wrong SMILES for:  7155364 (removed!)\n",
      "Wrong SMILES for:  7155365 (removed!)\n",
      "Wrong SMILES for:  7155366 (removed!)\n",
      "Wrong SMILES for:  7155474 (removed!)\n",
      "Wrong SMILES for:  7155475 (removed!)\n",
      "Wrong SMILES for:  7155476 (removed!)\n",
      "Wrong SMILES for:  7155477 (removed!)\n",
      "Wrong SMILES for:  7155478 (removed!)\n",
      "Wrong SMILES for:  7155479 (removed!)\n",
      "Wrong SMILES for:  7155480 (removed!)\n",
      "Wrong SMILES for:  7155481 (removed!)\n",
      "Wrong SMILES for:  7155482 (removed!)\n",
      "Wrong SMILES for:  7155483 (removed!)\n",
      "Wrong SMILES for:  7155484 (removed!)\n",
      "Wrong SMILES for:  7155486 (removed!)\n",
      "Wrong SMILES for:  7155487 (removed!)\n",
      "Wrong SMILES for:  7155488 (removed!)\n",
      "Wrong SMILES for:  7155489 (removed!)\n",
      "Wrong SMILES for:  7155490 (removed!)\n",
      "Wrong SMILES for:  7155491 (removed!)\n",
      "Wrong SMILES for:  7155492 (removed!)\n",
      "Wrong SMILES for:  7155493 (removed!)\n",
      "Wrong SMILES for:  7155494 (removed!)\n"
     ]
    },
    {
     "name": "stderr",
     "output_type": "stream",
     "text": [
      "[03:14:59] Can't kekulize mol.  Unkekulized atoms: 3 4 5 6 7\n",
      "[03:14:59] Can't kekulize mol.  Unkekulized atoms: 1 2 3 4 5 6 7 8 9\n",
      "[03:14:59] Can't kekulize mol.  Unkekulized atoms: 2 3 4 5 6 7 9 10 11\n",
      "[03:14:59] Can't kekulize mol.  Unkekulized atoms: 1 2 3 4 5 6 8 9 11\n",
      "[03:14:59] Can't kekulize mol.  Unkekulized atoms: 1 2 3 4 5 6 7 8 11\n",
      "[03:14:59] Can't kekulize mol.  Unkekulized atoms: 1 2 3 4 5 6 7 8 10\n",
      "[03:14:59] Can't kekulize mol.  Unkekulized atoms: 2 3 4 5 7 8 9 10 11\n",
      "[03:14:59] Can't kekulize mol.  Unkekulized atoms: 4 5 6 7 8\n",
      "[03:14:59] Can't kekulize mol.  Unkekulized atoms: 7 8 9 10 11\n",
      "[03:14:59] Can't kekulize mol.  Unkekulized atoms: 2 3 4 5 6 7 8 9 10\n",
      "[03:14:59] Can't kekulize mol.  Unkekulized atoms: 1 2 3 4 5 6 7 8 9\n",
      "[03:14:59] Can't kekulize mol.  Unkekulized atoms: 2 3 4 5 6\n",
      "[03:14:59] Can't kekulize mol.  Unkekulized atoms: 5 6 7 8 11\n",
      "[03:14:59] Can't kekulize mol.  Unkekulized atoms: 2 3 4 5 6 7 8 9 10\n",
      "[03:14:59] Can't kekulize mol.  Unkekulized atoms: 1 2 3 4 5 6 7 8 10\n",
      "[03:14:59] Can't kekulize mol.  Unkekulized atoms: 1 2 3 8 9\n",
      "[03:14:59] Can't kekulize mol.  Unkekulized atoms: 1 2 3 4 5 6 10\n",
      "[03:14:59] Can't kekulize mol.  Unkekulized atoms: 1 2 3 4 5 6 7 8 9\n",
      "[03:14:59] Can't kekulize mol.  Unkekulized atoms: 1 2 3 5 6 7 8 9 10\n",
      "[03:14:59] Can't kekulize mol.  Unkekulized atoms: 9 10 11 12 13\n",
      "[03:14:59] Can't kekulize mol.  Unkekulized atoms: 3 4 5 6 7 8 9 10 11\n",
      "[03:14:59] Can't kekulize mol.  Unkekulized atoms: 1 2 3 4 5 6 7 8 9\n",
      "[03:14:59] Can't kekulize mol.  Unkekulized atoms: 5 6 7 8 10\n",
      "[03:14:59] Can't kekulize mol.  Unkekulized atoms: 1 2 3 4 5 6 7 8 9\n",
      "[03:14:59] Can't kekulize mol.  Unkekulized atoms: 5 6 7 8 9\n",
      "[03:14:59] Can't kekulize mol.  Unkekulized atoms: 1 2 3 4 5 6 7 8 9\n",
      "[03:14:59] Can't kekulize mol.  Unkekulized atoms: 2 3 4 5 6 8 9 10 11\n",
      "[03:14:59] Can't kekulize mol.  Unkekulized atoms: 4 5 6 7 11\n",
      "[03:14:59] Can't kekulize mol.  Unkekulized atoms: 1 2 3 5 6 8 9 10 11\n",
      "[03:14:59] Can't kekulize mol.  Unkekulized atoms: 6 7 8 9 10\n",
      "[03:14:59] Can't kekulize mol.  Unkekulized atoms: 3 4 5 6 7\n",
      "[03:14:59] Can't kekulize mol.  Unkekulized atoms: 3 4 5 6 7\n",
      "[03:14:59] Can't kekulize mol.  Unkekulized atoms: 1 2 3 4 5 6 7 11 12\n",
      "[03:14:59] Can't kekulize mol.  Unkekulized atoms: 1 2 3 5 6 7 8 9 10\n",
      "[03:14:59] Can't kekulize mol.  Unkekulized atoms: 2 3 4 5 6\n",
      "[03:14:59] Can't kekulize mol.  Unkekulized atoms: 4 5 6 7 8 9 10 11 12\n",
      "[03:14:59] Can't kekulize mol.  Unkekulized atoms: 1 2 3 4 5 6 7 8 9\n",
      "[03:14:59] Can't kekulize mol.  Unkekulized atoms: 3 4 5 7 8 9 10 11 12\n",
      "[03:14:59] Can't kekulize mol.  Unkekulized atoms: 1 2 3 4 5 6 7 8 9\n",
      "[03:14:59] Can't kekulize mol.  Unkekulized atoms: 4 5 6 7 8\n",
      "[03:14:59] Can't kekulize mol.  Unkekulized atoms: 8 9 10 11 12 13 14 15 16\n",
      "[03:14:59] Can't kekulize mol.  Unkekulized atoms: 1 2 3 4 5 6 7 8 9\n",
      "[03:14:59] Can't kekulize mol.  Unkekulized atoms: 4 5 6 7 9 10 11 12 13\n",
      "[03:14:59] Can't kekulize mol.  Unkekulized atoms: 1 2 3 4 5 6 8 9 10\n",
      "[03:14:59] Can't kekulize mol.  Unkekulized atoms: 1 2 3 4 5\n",
      "[03:14:59] Can't kekulize mol.  Unkekulized atoms: 7 8 9 10 11 12 13 14 15\n",
      "[03:14:59] Can't kekulize mol.  Unkekulized atoms: 3 4 5 6 7 8 9 11 12\n",
      "[03:14:59] Can't kekulize mol.  Unkekulized atoms: 1 2 3 4 5\n",
      "[03:14:59] Can't kekulize mol.  Unkekulized atoms: 4 5 6 8 9 10 11 12 13\n",
      "[03:14:59] Can't kekulize mol.  Unkekulized atoms: 1 2 4 5 6 7 8 9 11\n",
      "[03:14:59] Can't kekulize mol.  Unkekulized atoms: 2 3 4 5 6\n",
      "[03:14:59] Can't kekulize mol.  Unkekulized atoms: 3 4 5 6 7 8 10 11 12\n",
      "[03:14:59] Can't kekulize mol.  Unkekulized atoms: 3 4 5 6 7 8 9 10 11\n",
      "[03:14:59] Can't kekulize mol.  Unkekulized atoms: 6 7 8 9 10 11 12 13 14\n",
      "[03:14:59] Can't kekulize mol.  Unkekulized atoms: 3 4 5 6 7\n",
      "[03:14:59] Can't kekulize mol.  Unkekulized atoms: 1 2 3 4 5 6 7 8 10\n",
      "[03:14:59] Can't kekulize mol.  Unkekulized atoms: 1 2 3 4 5 6 7 9 10\n",
      "[03:14:59] Can't kekulize mol.  Unkekulized atoms: 4 5 6 8 9 10 11 12 13\n",
      "[03:14:59] Can't kekulize mol.  Unkekulized atoms: 1 2 3 4 5\n",
      "[03:14:59] Can't kekulize mol.  Unkekulized atoms: 9 10 11 12 13\n",
      "[03:14:59] Can't kekulize mol.  Unkekulized atoms: 4 5 6 7 8\n",
      "[03:14:59] Can't kekulize mol.  Unkekulized atoms: 4 5 6 7 8 10 11 12 13\n",
      "[03:14:59] Can't kekulize mol.  Unkekulized atoms: 1 2 3 4 5 6 7 8 11\n",
      "[03:14:59] Can't kekulize mol.  Unkekulized atoms: 1 2 3 5 6\n",
      "[03:14:59] Can't kekulize mol.  Unkekulized atoms: 1 2 3 4 5 6 7 8 9\n",
      "[03:14:59] Can't kekulize mol.  Unkekulized atoms: 1 2 3 4 5 6 8 9 10\n",
      "[03:14:59] Can't kekulize mol.  Unkekulized atoms: 2 3 4 5 6 7 8 9 10\n",
      "[03:14:59] Can't kekulize mol.  Unkekulized atoms: 3 4 5 6 7 8 9 10 11\n",
      "[03:14:59] Can't kekulize mol.  Unkekulized atoms: 5 6 7 9 10 11 12\n",
      "[03:14:59] Can't kekulize mol.  Unkekulized atoms: 1 2 3 5 6 7 8 9 10\n",
      "[03:14:59] Can't kekulize mol.  Unkekulized atoms: 1 2 5 6 7 8 9\n",
      "[03:14:59] Can't kekulize mol.  Unkekulized atoms: 1 2 3 4 5 6 7 9 10\n",
      "[03:14:59] Can't kekulize mol.  Unkekulized atoms: 3 4 5 6 7 8 9 10 11\n",
      "[03:14:59] Can't kekulize mol.  Unkekulized atoms: 6 7 8 9 10\n",
      "[03:14:59] Can't kekulize mol.  Unkekulized atoms: 1 2 3 4 5 6 7 9 10\n",
      "[03:14:59] Can't kekulize mol.  Unkekulized atoms: 4 5 6 8 9 10 11 12 13\n",
      "[03:14:59] Can't kekulize mol.  Unkekulized atoms: 1 2 3 4 5 6 7 8 9\n",
      "[03:14:59] Can't kekulize mol.  Unkekulized atoms: 1 2 3 4 5 6 7 8 9\n",
      "[03:14:59] Can't kekulize mol.  Unkekulized atoms: 4 5 6 7 8 9 10 11 13\n",
      "[03:14:59] Can't kekulize mol.  Unkekulized atoms: 18 19 20 21 22\n",
      "[03:14:59] Can't kekulize mol.  Unkekulized atoms: 4 5 6 7 8 9 10 11 12\n",
      "[03:14:59] Can't kekulize mol.  Unkekulized atoms: 1 2 3 4 5 6 7 8 9\n",
      "[03:14:59] Can't kekulize mol.  Unkekulized atoms: 1 2 3 4 6 7 8 9 10\n",
      "[03:14:59] Can't kekulize mol.  Unkekulized atoms: 4 5 6 7 8 9 10 11 12\n",
      "[03:14:59] Can't kekulize mol.  Unkekulized atoms: 4 5 6 7 8\n",
      "[03:14:59] Can't kekulize mol.  Unkekulized atoms: 3 4 5 6 7 8 9 10 11\n",
      "[03:14:59] Can't kekulize mol.  Unkekulized atoms: 4 5 6 8 9 10 11\n",
      "[03:14:59] Can't kekulize mol.  Unkekulized atoms: 1 2 3 4 5 6 7 8 9\n",
      "[03:14:59] Can't kekulize mol.  Unkekulized atoms: 1 2 3 4 5 6 7 9 10\n",
      "[03:14:59] Can't kekulize mol.  Unkekulized atoms: 3 4 5 6 7 8 9 10 11\n",
      "[03:14:59] Can't kekulize mol.  Unkekulized atoms: 2 3 4 7 8 9 10 11 12\n",
      "[03:14:59] Can't kekulize mol.  Unkekulized atoms: 4 5 6 7 8\n",
      "[03:14:59] Can't kekulize mol.  Unkekulized atoms: 1 2 3 4 5 8 9 10 11\n",
      "[03:14:59] Can't kekulize mol.  Unkekulized atoms: 2 3 4 5 6 7 8 9 10\n",
      "[03:14:59] Can't kekulize mol.  Unkekulized atoms: 3 4 5 6 7 8 9 10 11\n",
      "[03:14:59] Can't kekulize mol.  Unkekulized atoms: 7 8 9 10 12\n",
      "[03:14:59] Can't kekulize mol.  Unkekulized atoms: 3 4 5 6 7 8 9 11 12\n",
      "[03:14:59] Can't kekulize mol.  Unkekulized atoms: 1 2 3 4 5\n",
      "[03:14:59] Can't kekulize mol.  Unkekulized atoms: 1 2 3 4 5 6 7 9 10\n",
      "[03:14:59] Can't kekulize mol.  Unkekulized atoms: 1 2 3 4 5 6 7 9 10\n",
      "[03:14:59] Can't kekulize mol.  Unkekulized atoms: 1 2 3 4 5 6 7 10 11\n",
      "[03:14:59] Can't kekulize mol.  Unkekulized atoms: 6 7 8 9 10\n",
      "[03:14:59] Can't kekulize mol.  Unkekulized atoms: 1 2 3 4 5 6 7 8 9\n",
      "[03:14:59] Can't kekulize mol.  Unkekulized atoms: 3 4 5 6 7\n",
      "[03:14:59] Can't kekulize mol.  Unkekulized atoms: 1 2 3 4 5 6 7 8 10\n",
      "[03:14:59] Can't kekulize mol.  Unkekulized atoms: 5 6 7 8 9 10 11 12 13\n",
      "[03:14:59] Can't kekulize mol.  Unkekulized atoms: 3 4 5 6 7\n",
      "[03:14:59] Can't kekulize mol.  Unkekulized atoms: 1 2 3 4 5 6 7 8 9\n",
      "[03:14:59] Can't kekulize mol.  Unkekulized atoms: 1 2 3 5 6 7 8 9 10\n",
      "[03:14:59] Can't kekulize mol.  Unkekulized atoms: 1 2 3 4 5 6 7 8 9\n",
      "[03:14:59] Can't kekulize mol.  Unkekulized atoms: 1 2 3 4 5 6 7 8 9\n",
      "[03:14:59] Can't kekulize mol.  Unkekulized atoms: 3 4 5 6 7\n",
      "[03:14:59] Can't kekulize mol.  Unkekulized atoms: 3 4 5 6 7\n",
      "[03:14:59] Can't kekulize mol.  Unkekulized atoms: 3 4 5 6 7\n",
      "[03:14:59] Can't kekulize mol.  Unkekulized atoms: 1 2 3 4 5 6 7 8 9\n",
      "[03:14:59] Can't kekulize mol.  Unkekulized atoms: 5 6 7 8 10\n",
      "[03:14:59] Can't kekulize mol.  Unkekulized atoms: 1 2 3 4 5 6 7 8 9\n",
      "[03:14:59] Can't kekulize mol.  Unkekulized atoms: 1 2 3 4 6\n",
      "[03:14:59] Can't kekulize mol.  Unkekulized atoms: 1 2 3 4 5 6 7 8 9\n",
      "[03:14:59] Can't kekulize mol.  Unkekulized atoms: 10 11 13 14 15\n",
      "[03:14:59] Can't kekulize mol.  Unkekulized atoms: 1 2 3 4 5\n",
      "[03:14:59] Can't kekulize mol.  Unkekulized atoms: 1 2 3 4 5 6 7 8 10\n",
      "[03:14:59] Can't kekulize mol.  Unkekulized atoms: 3 4 5 6 8\n",
      "[03:14:59] Can't kekulize mol.  Unkekulized atoms: 3 4 5 6 7 8 9 11 12\n",
      "[03:14:59] Can't kekulize mol.  Unkekulized atoms: 3 4 5 6 7\n",
      "[03:14:59] Can't kekulize mol.  Unkekulized atoms: 3 4 5 6 7\n",
      "[03:14:59] Can't kekulize mol.  Unkekulized atoms: 0 1 2 3 4 5 6 7 8\n",
      "[03:14:59] Can't kekulize mol.  Unkekulized atoms: 1 2 3 4 5 6 7 9 10\n",
      "[03:14:59] Can't kekulize mol.  Unkekulized atoms: 5 6 7 8 10\n",
      "[03:14:59] Can't kekulize mol.  Unkekulized atoms: 1 2 3 4 5 6 7 8 9\n",
      "[03:14:59] Can't kekulize mol.  Unkekulized atoms: 1 2 3 4 5 7 8 9 10\n",
      "[03:14:59] Can't kekulize mol.  Unkekulized atoms: 1 2 3 4 5 6 7 8 9\n",
      "[03:14:59] Can't kekulize mol.  Unkekulized atoms: 1 2 3 4 5 6 7 9 10\n",
      "[03:14:59] Can't kekulize mol.  Unkekulized atoms: 1 2 3 4 5 6 7 8 9\n",
      "[03:14:59] Can't kekulize mol.  Unkekulized atoms: 4 5 6 7 8\n",
      "[03:14:59] Can't kekulize mol.  Unkekulized atoms: 1 2 3 4 5 6 7 8 9\n",
      "[03:14:59] Can't kekulize mol.  Unkekulized atoms: 1 2 3 4 5 6 7 8 9\n",
      "[03:14:59] Can't kekulize mol.  Unkekulized atoms: 2 3 4 5 6 7 8 9 10\n",
      "[03:14:59] Can't kekulize mol.  Unkekulized atoms: 1 2 3 4 5 6 7 8 10\n",
      "[03:14:59] Can't kekulize mol.  Unkekulized atoms: 1 2 3 4 5 7 8 9 10\n",
      "[03:14:59] Can't kekulize mol.  Unkekulized atoms: 1 2 3 4 5 6 7 8 9\n",
      "[03:14:59] Can't kekulize mol.  Unkekulized atoms: 1 2 4 5 6 7 8 9 10\n",
      "[03:14:59] Can't kekulize mol.  Unkekulized atoms: 5 6 7 8 9\n",
      "[03:14:59] Can't kekulize mol.  Unkekulized atoms: 1 2 3 4 5 6 7 8 9\n",
      "[03:14:59] Can't kekulize mol.  Unkekulized atoms: 13 14 15 16 17 18 19 20 21\n",
      "[03:14:59] Can't kekulize mol.  Unkekulized atoms: 4 5 6 7 8 9 10 11 12\n",
      "[03:14:59] Can't kekulize mol.  Unkekulized atoms: 1 2 3 4 5 6 7 8 9\n",
      "[03:14:59] Can't kekulize mol.  Unkekulized atoms: 0 1 2 3 4 5 6 7 8\n",
      "[03:14:59] Can't kekulize mol.  Unkekulized atoms: 1 2 3 4 5 6 8 9 10\n",
      "[03:14:59] Can't kekulize mol.  Unkekulized atoms: 3 4 5 6 7\n",
      "[03:14:59] Can't kekulize mol.  Unkekulized atoms: 2 3 4 5 6\n",
      "[03:14:59] Can't kekulize mol.  Unkekulized atoms: 1 2 3 4 5\n",
      "[03:14:59] Can't kekulize mol.  Unkekulized atoms: 3 4 5 6 7\n",
      "[03:14:59] Can't kekulize mol.  Unkekulized atoms: 1 2 3 4 5 6 7 8 9\n",
      "[03:14:59] Can't kekulize mol.  Unkekulized atoms: 1 2 3 4 5 6 7 8 9\n",
      "[03:14:59] Can't kekulize mol.  Unkekulized atoms: 1 2 3 4 5 6 7 8 9\n",
      "[03:14:59] Can't kekulize mol.  Unkekulized atoms: 1 2 3 4 5 6 7 9 10\n",
      "[03:14:59] Can't kekulize mol.  Unkekulized atoms: 5 6 7 8 9 10 11 13 14\n",
      "[03:14:59] Can't kekulize mol.  Unkekulized atoms: 3 4 5 6 7 8 9 12 13\n"
     ]
    },
    {
     "name": "stdout",
     "output_type": "stream",
     "text": [
      "Wrong SMILES for:  7155598 (removed!)\n",
      "Wrong SMILES for:  7155599 (removed!)\n",
      "Wrong SMILES for:  7155600 (removed!)\n",
      "Wrong SMILES for:  7155601 (removed!)\n",
      "Wrong SMILES for:  7155602 (removed!)\n",
      "Wrong SMILES for:  7155603 (removed!)\n",
      "Wrong SMILES for:  7155604 (removed!)\n",
      "Wrong SMILES for:  7155605 (removed!)\n",
      "Wrong SMILES for:  7155606 (removed!)\n",
      "Wrong SMILES for:  7155607 (removed!)\n",
      "Wrong SMILES for:  7155608 (removed!)\n",
      "Wrong SMILES for:  7155609 (removed!)\n",
      "Wrong SMILES for:  7155610 (removed!)\n",
      "Wrong SMILES for:  7155611 (removed!)\n",
      "Wrong SMILES for:  7155612 (removed!)\n",
      "Wrong SMILES for:  7155613 (removed!)\n",
      "Wrong SMILES for:  7155614 (removed!)\n",
      "Wrong SMILES for:  7155615 (removed!)\n",
      "Wrong SMILES for:  7155616 (removed!)\n",
      "Wrong SMILES for:  7155617 (removed!)\n",
      "Wrong SMILES for:  7155618 (removed!)\n",
      "Wrong SMILES for:  7155723 (removed!)\n",
      "Wrong SMILES for:  7155724 (removed!)\n",
      "Wrong SMILES for:  7155725 (removed!)\n",
      "Wrong SMILES for:  7155726 (removed!)\n",
      "Wrong SMILES for:  7155727 (removed!)\n",
      "Wrong SMILES for:  7155728 (removed!)\n",
      "Wrong SMILES for:  7155729 (removed!)\n",
      "Wrong SMILES for:  7155730 (removed!)\n",
      "Wrong SMILES for:  7155731 (removed!)\n",
      "Wrong SMILES for:  7155732 (removed!)\n",
      "Wrong SMILES for:  7155733 (removed!)\n",
      "Wrong SMILES for:  7155734 (removed!)\n",
      "Wrong SMILES for:  7155735 (removed!)\n",
      "Wrong SMILES for:  7155736 (removed!)\n",
      "Wrong SMILES for:  7155737 (removed!)\n",
      "Wrong SMILES for:  7155738 (removed!)\n",
      "Wrong SMILES for:  7155739 (removed!)\n",
      "Wrong SMILES for:  7155740 (removed!)\n",
      "Wrong SMILES for:  7155741 (removed!)\n",
      "Wrong SMILES for:  7155851 (removed!)\n",
      "Wrong SMILES for:  7155852 (removed!)\n",
      "Wrong SMILES for:  7155853 (removed!)\n",
      "Wrong SMILES for:  7155854 (removed!)\n",
      "Wrong SMILES for:  7155855 (removed!)\n",
      "Wrong SMILES for:  7155856 (removed!)\n",
      "Wrong SMILES for:  7155857 (removed!)\n",
      "Wrong SMILES for:  7155858 (removed!)\n",
      "Wrong SMILES for:  7155859 (removed!)\n",
      "Wrong SMILES for:  7155860 (removed!)\n",
      "Wrong SMILES for:  7155861 (removed!)\n",
      "Wrong SMILES for:  7155862 (removed!)\n",
      "Wrong SMILES for:  7155863 (removed!)\n",
      "Wrong SMILES for:  7155864 (removed!)\n",
      "Wrong SMILES for:  7155865 (removed!)\n",
      "Wrong SMILES for:  7155866 (removed!)\n",
      "Wrong SMILES for:  7155867 (removed!)\n",
      "Wrong SMILES for:  7155868 (removed!)\n",
      "Wrong SMILES for:  7155869 (removed!)\n",
      "Wrong SMILES for:  7155870 (removed!)\n",
      "Wrong SMILES for:  7155871 (removed!)\n",
      "Wrong SMILES for:  7155975 (removed!)\n",
      "Wrong SMILES for:  7155976 (removed!)\n",
      "Wrong SMILES for:  7155977 (removed!)\n",
      "Wrong SMILES for:  7155978 (removed!)\n",
      "Wrong SMILES for:  7155979 (removed!)\n",
      "Wrong SMILES for:  7155980 (removed!)\n",
      "Wrong SMILES for:  7155981 (removed!)\n",
      "Wrong SMILES for:  7155982 (removed!)\n",
      "Wrong SMILES for:  7155983 (removed!)\n",
      "Wrong SMILES for:  7155984 (removed!)\n",
      "Wrong SMILES for:  7155985 (removed!)\n",
      "Wrong SMILES for:  7155986 (removed!)\n",
      "Wrong SMILES for:  7155987 (removed!)\n",
      "Wrong SMILES for:  7155988 (removed!)\n",
      "Wrong SMILES for:  7155989 (removed!)\n",
      "Wrong SMILES for:  7155990 (removed!)\n",
      "Wrong SMILES for:  7155991 (removed!)\n",
      "Wrong SMILES for:  7155992 (removed!)\n",
      "Wrong SMILES for:  7155994 (removed!)\n",
      "Wrong SMILES for:  7156105 (removed!)\n",
      "Wrong SMILES for:  7156106 (removed!)\n",
      "Wrong SMILES for:  7156107 (removed!)\n",
      "Wrong SMILES for:  7156108 (removed!)\n",
      "Wrong SMILES for:  7156109 (removed!)\n",
      "Wrong SMILES for:  7156110 (removed!)\n",
      "Wrong SMILES for:  7156111 (removed!)\n",
      "Wrong SMILES for:  7156112 (removed!)\n",
      "Wrong SMILES for:  7156113 (removed!)\n",
      "Wrong SMILES for:  7156114 (removed!)\n",
      "Wrong SMILES for:  7156115 (removed!)\n",
      "Wrong SMILES for:  7156116 (removed!)\n",
      "Wrong SMILES for:  7156117 (removed!)\n",
      "Wrong SMILES for:  7156118 (removed!)\n",
      "Wrong SMILES for:  7156119 (removed!)\n",
      "Wrong SMILES for:  7156120 (removed!)\n",
      "Wrong SMILES for:  7156121 (removed!)\n",
      "Wrong SMILES for:  7156123 (removed!)\n",
      "Wrong SMILES for:  7156124 (removed!)\n",
      "Wrong SMILES for:  7156125 (removed!)\n",
      "Wrong SMILES for:  7156126 (removed!)\n",
      "Wrong SMILES for:  7156127 (removed!)\n",
      "Wrong SMILES for:  7156231 (removed!)\n",
      "Wrong SMILES for:  7156232 (removed!)\n",
      "Wrong SMILES for:  7156233 (removed!)\n",
      "Wrong SMILES for:  7156234 (removed!)\n",
      "Wrong SMILES for:  7156235 (removed!)\n",
      "Wrong SMILES for:  7156236 (removed!)\n",
      "Wrong SMILES for:  7156237 (removed!)\n",
      "Wrong SMILES for:  7156238 (removed!)\n",
      "Wrong SMILES for:  7156239 (removed!)\n",
      "Wrong SMILES for:  7156240 (removed!)\n",
      "Wrong SMILES for:  7156241 (removed!)\n",
      "Wrong SMILES for:  7156242 (removed!)\n",
      "Wrong SMILES for:  7156243 (removed!)\n",
      "Wrong SMILES for:  7156244 (removed!)\n",
      "Wrong SMILES for:  7156245 (removed!)\n",
      "Wrong SMILES for:  7156246 (removed!)\n",
      "Wrong SMILES for:  7156247 (removed!)\n",
      "Wrong SMILES for:  7156248 (removed!)\n",
      "Wrong SMILES for:  7156249 (removed!)\n",
      "Wrong SMILES for:  7156352 (removed!)\n",
      "Wrong SMILES for:  7156353 (removed!)\n",
      "Wrong SMILES for:  7156354 (removed!)\n",
      "Wrong SMILES for:  7156356 (removed!)\n",
      "Wrong SMILES for:  7156357 (removed!)\n",
      "Wrong SMILES for:  7156358 (removed!)\n",
      "Wrong SMILES for:  7156359 (removed!)\n",
      "Wrong SMILES for:  7156360 (removed!)\n",
      "Wrong SMILES for:  7156361 (removed!)\n",
      "Wrong SMILES for:  7156362 (removed!)\n",
      "Wrong SMILES for:  7156363 (removed!)\n",
      "Wrong SMILES for:  7156364 (removed!)\n",
      "Wrong SMILES for:  7156365 (removed!)\n",
      "Wrong SMILES for:  7156366 (removed!)\n",
      "Wrong SMILES for:  7156367 (removed!)\n",
      "Wrong SMILES for:  7156368 (removed!)\n",
      "Wrong SMILES for:  7156371 (removed!)\n",
      "Wrong SMILES for:  7156479 (removed!)\n",
      "Wrong SMILES for:  7156480 (removed!)\n",
      "Wrong SMILES for:  7156481 (removed!)\n",
      "Wrong SMILES for:  7156482 (removed!)\n",
      "Wrong SMILES for:  7156483 (removed!)\n",
      "Wrong SMILES for:  7156484 (removed!)\n",
      "Wrong SMILES for:  7156485 (removed!)\n",
      "Wrong SMILES for:  7156486 (removed!)\n",
      "Wrong SMILES for:  7156487 (removed!)\n",
      "Wrong SMILES for:  7156489 (removed!)\n",
      "Wrong SMILES for:  7156490 (removed!)\n",
      "Wrong SMILES for:  7156491 (removed!)\n",
      "Wrong SMILES for:  7156492 (removed!)\n",
      "Wrong SMILES for:  7156493 (removed!)\n",
      "Wrong SMILES for:  7156494 (removed!)\n",
      "Wrong SMILES for:  7156495 (removed!)\n",
      "Wrong SMILES for:  7156496 (removed!)\n",
      "Wrong SMILES for:  7156497 (removed!)\n",
      "Wrong SMILES for:  7156498 (removed!)\n",
      "Wrong SMILES for:  7156499 (removed!)\n",
      "Wrong SMILES for:  7156500 (removed!)\n"
     ]
    },
    {
     "name": "stderr",
     "output_type": "stream",
     "text": [
      "[03:14:59] Can't kekulize mol.  Unkekulized atoms: 3 4 5 6 7\n",
      "[03:14:59] Can't kekulize mol.  Unkekulized atoms: 1 2 3 4 5 6 7 8 10\n",
      "[03:14:59] Can't kekulize mol.  Unkekulized atoms: 1 2 3 4 5 6 7 9 10\n",
      "[03:14:59] Can't kekulize mol.  Unkekulized atoms: 1 2 3 4 5 6 7 8 9\n",
      "[03:14:59] Can't kekulize mol.  Unkekulized atoms: 1 2 3 4 5 6 7 8 9\n",
      "[03:14:59] Can't kekulize mol.  Unkekulized atoms: 4 5 6 7 8\n",
      "[03:14:59] Can't kekulize mol.  Unkekulized atoms: 3 4 5 6 7 8 9 10 11\n",
      "[03:14:59] Can't kekulize mol.  Unkekulized atoms: 1 2 3 4 5 6 7 8 9\n",
      "[03:14:59] Can't kekulize mol.  Unkekulized atoms: 1 2 3 4 5 6 8 9 10\n",
      "[03:14:59] Can't kekulize mol.  Unkekulized atoms: 4 5 6 7 8 9 10 11 12\n",
      "[03:14:59] Can't kekulize mol.  Unkekulized atoms: 1 2 3 4 5 6 7 8 9\n",
      "[03:14:59] Can't kekulize mol.  Unkekulized atoms: 1 2 3 4 5 6 7 8 9\n",
      "[03:14:59] Can't kekulize mol.  Unkekulized atoms: 1 2 3 4 5 6 7 8 9\n",
      "[03:14:59] Can't kekulize mol.  Unkekulized atoms: 1 2 3 4 5 6 7 8 9\n",
      "[03:14:59] Can't kekulize mol.  Unkekulized atoms: 5 6 7 8 9\n",
      "[03:14:59] Can't kekulize mol.  Unkekulized atoms: 5 6 7 8 9 10 11 12 13\n",
      "[03:14:59] Can't kekulize mol.  Unkekulized atoms: 1 2 3 4 5 6 7 8 9\n",
      "[03:14:59] Can't kekulize mol.  Unkekulized atoms: 1 2 3 4 5 6 7 8 9\n",
      "[03:14:59] Can't kekulize mol.  Unkekulized atoms: 1 2 3 4 5 6 7 8 9\n",
      "[03:14:59] Can't kekulize mol.  Unkekulized atoms: 1 2 3 4 5 6 7 8 9\n",
      "[03:14:59] Can't kekulize mol.  Unkekulized atoms: 5 6 7 8 9 10 11 12 13\n",
      "[03:14:59] Can't kekulize mol.  Unkekulized atoms: 4 5 6 7 8 9 10 11 12\n",
      "[03:14:59] Can't kekulize mol.  Unkekulized atoms: 4 5 6 7 8\n",
      "[03:14:59] Can't kekulize mol.  Unkekulized atoms: 2 3 4 5 6 7 8 9 10\n",
      "[03:14:59] Can't kekulize mol.  Unkekulized atoms: 1 2 3 4 5 6 7 8 10\n",
      "[03:14:59] Can't kekulize mol.  Unkekulized atoms: 1 2 3 4 5 6 10\n",
      "[03:14:59] Can't kekulize mol.  Unkekulized atoms: 5 6 7 8 9 10 11 12 13\n",
      "[03:14:59] Can't kekulize mol.  Unkekulized atoms: 4 5 6 7 8 9 10 11 12\n",
      "[03:14:59] Can't kekulize mol.  Unkekulized atoms: 5 6 7 8 9\n",
      "[03:14:59] Can't kekulize mol.  Unkekulized atoms: 1 2 3 4 5\n",
      "[03:14:59] Can't kekulize mol.  Unkekulized atoms: 1 2 3 5 6\n",
      "[03:14:59] Can't kekulize mol.  Unkekulized atoms: 1 2 3 5 6 7 8 9 10\n",
      "[03:14:59] Can't kekulize mol.  Unkekulized atoms: 5 6 7 8 10\n",
      "[03:14:59] Can't kekulize mol.  Unkekulized atoms: 1 2 3 4 5 6 7 8 9\n",
      "[03:14:59] Can't kekulize mol.  Unkekulized atoms: 4 5 6 7 8 9 10 11 12\n",
      "[03:14:59] Can't kekulize mol.  Unkekulized atoms: 2 3 4 6 7 8 9 10 11\n",
      "[03:14:59] Can't kekulize mol.  Unkekulized atoms: 1 2 3 4 5 6 8 9 11\n",
      "[03:14:59] Can't kekulize mol.  Unkekulized atoms: 1 2 3 4 5\n",
      "[03:14:59] Can't kekulize mol.  Unkekulized atoms: 1 2 3 4 5 7 8 9 10\n",
      "[03:14:59] Can't kekulize mol.  Unkekulized atoms: 4 5 6 7 8 9 10 11 12\n",
      "[03:14:59] Can't kekulize mol.  Unkekulized atoms: 1 2 3 4 5 6 7 8 9\n",
      "[03:14:59] Can't kekulize mol.  Unkekulized atoms: 1 2 3 4 5 6 7 8 9\n",
      "[03:14:59] Can't kekulize mol.  Unkekulized atoms: 4 5 6 7 8\n",
      "[03:14:59] Can't kekulize mol.  Unkekulized atoms: 1 2 3 5 6 8 9 10 11\n",
      "[03:14:59] Can't kekulize mol.  Unkekulized atoms: 1 2 3 4 5 6 7 10 11\n",
      "[03:14:59] Can't kekulize mol.  Unkekulized atoms: 1 2 3 4 5 6 7 10 11\n",
      "[03:14:59] Can't kekulize mol.  Unkekulized atoms: 3 4 5 6 7\n",
      "[03:14:59] Can't kekulize mol.  Unkekulized atoms: 1 2 3 4 5 6 7 8 9\n",
      "[03:14:59] Can't kekulize mol.  Unkekulized atoms: 3 4 5 7 8\n",
      "[03:14:59] Can't kekulize mol.  Unkekulized atoms: 1 2 3 4 5 6 7 8 9\n",
      "[03:14:59] Can't kekulize mol.  Unkekulized atoms: 3 4 5 6 7 8 9 10 11\n",
      "[03:14:59] Can't kekulize mol.  Unkekulized atoms: 4 5 6 7 8\n",
      "[03:14:59] Can't kekulize mol.  Unkekulized atoms: 5 6 7 8 9 11 12 13 14\n",
      "[03:14:59] Can't kekulize mol.  Unkekulized atoms: 1 2 3 5 6 7 8 9 10\n",
      "[03:14:59] Can't kekulize mol.  Unkekulized atoms: 1 2 3 4 5 6 8 9 10\n",
      "[03:14:59] Can't kekulize mol.  Unkekulized atoms: 1 2 3 4 5 6 7 8 9\n",
      "[03:14:59] Can't kekulize mol.  Unkekulized atoms: 1 2 3 4 5 7 8\n",
      "[03:14:59] Can't kekulize mol.  Unkekulized atoms: 3 4 5 6 7 8 9 10 11\n",
      "[03:14:59] Can't kekulize mol.  Unkekulized atoms: 1 2 3 4 5 6 7 8 10\n",
      "[03:14:59] Can't kekulize mol.  Unkekulized atoms: 1 2 3 4 5 6 7 9 10\n",
      "[03:14:59] Can't kekulize mol.  Unkekulized atoms: 1 2 3 4 5\n",
      "[03:14:59] Can't kekulize mol.  Unkekulized atoms: 3 4 5 6 7 9 10 11 12\n",
      "[03:14:59] Can't kekulize mol.  Unkekulized atoms: 4 5 6 8 9\n",
      "[03:14:59] Can't kekulize mol.  Unkekulized atoms: 1 2 3 4 5 6 7 8 9\n",
      "[03:14:59] Can't kekulize mol.  Unkekulized atoms: 2 3 4 5 6 7 8 9 10\n",
      "[03:14:59] Can't kekulize mol.  Unkekulized atoms: 1 2 3 4 5 6 7 10 11\n",
      "[03:14:59] Can't kekulize mol.  Unkekulized atoms: 4 5 6 7 8\n",
      "[03:14:59] Can't kekulize mol.  Unkekulized atoms: 3 4 5 6 7 8 9 10 11\n",
      "[03:14:59] Can't kekulize mol.  Unkekulized atoms: 1 2 3 5 6 7 8 9 10\n",
      "[03:14:59] Can't kekulize mol.  Unkekulized atoms: 0 1 2 3 4 5 6 7 8\n",
      "[03:14:59] Can't kekulize mol.  Unkekulized atoms: 4 5 6 7 8 9 10 11 12\n",
      "[03:14:59] Can't kekulize mol.  Unkekulized atoms: 4 5 6 7 11\n",
      "[03:14:59] Can't kekulize mol.  Unkekulized atoms: 5 6 7 8 9 10 12 13 14\n",
      "[03:14:59] Explicit valence for atom # 0 H, 2, is greater than permitted\n",
      "[03:14:59] Can't kekulize mol.  Unkekulized atoms: 2 3 4 5 6 7 8 9 10\n",
      "[03:14:59] Can't kekulize mol.  Unkekulized atoms: 1 2 3 4 5 6 7 8 9\n",
      "[03:14:59] Can't kekulize mol.  Unkekulized atoms: 1 2 3 4 8\n",
      "[03:14:59] Can't kekulize mol.  Unkekulized atoms: 4 5 6 7 8 9 10 12 13\n",
      "[03:14:59] Can't kekulize mol.  Unkekulized atoms: 1 2 3 4 5 6 7 8 9\n",
      "[03:14:59] Can't kekulize mol.  Unkekulized atoms: 13 14 15 16 17 18 19 20 22\n",
      "[03:14:59] Can't kekulize mol.  Unkekulized atoms: 4 5 6 7 9\n",
      "[03:14:59] Can't kekulize mol.  Unkekulized atoms: 1 2 3 5 6 7 8 9 10\n",
      "[03:14:59] Can't kekulize mol.  Unkekulized atoms: 3 4 5 6 7\n",
      "[03:14:59] Can't kekulize mol.  Unkekulized atoms: 5 6 7 8 10\n",
      "[03:14:59] Can't kekulize mol.  Unkekulized atoms: 1 2 3 4 5 6 7 8 9\n",
      "[03:14:59] Can't kekulize mol.  Unkekulized atoms: 1 2 3 4 5 6 7 9 10\n",
      "[03:14:59] Can't kekulize mol.  Unkekulized atoms: 5 6 7 8 9\n",
      "[03:14:59] Can't kekulize mol.  Unkekulized atoms: 1 2 3 4 5 6 7 8 10\n",
      "[03:14:59] Can't kekulize mol.  Unkekulized atoms: 1 2 3 4 5 6 7 9 10\n",
      "[03:14:59] Can't kekulize mol.  Unkekulized atoms: 1 2 3 4 5 6 7 8 9\n",
      "[03:14:59] Can't kekulize mol.  Unkekulized atoms: 4 5 6 7 8 9 10 11 12\n",
      "[03:14:59] Can't kekulize mol.  Unkekulized atoms: 1 2 3 4 5 6 7 8 9\n",
      "[03:14:59] Can't kekulize mol.  Unkekulized atoms: 2 3 4 5 6 7 8 9 10\n",
      "[03:14:59] Can't kekulize mol.  Unkekulized atoms: 1 2 3 4 5 6 7 8 9\n",
      "[03:14:59] Can't kekulize mol.  Unkekulized atoms: 1 2 3 4 5 6 7 8 9\n",
      "[03:14:59] Can't kekulize mol.  Unkekulized atoms: 1 2 4 5 6 7 8 9 10\n",
      "[03:14:59] Can't kekulize mol.  Unkekulized atoms: 5 6 7 8 10 11 12 13 14\n",
      "[03:14:59] Can't kekulize mol.  Unkekulized atoms: 7 8 9 11 12 14 15 16 17\n",
      "[03:14:59] Can't kekulize mol.  Unkekulized atoms: 1 2 3 5 6 8 9 10 11\n",
      "[03:14:59] Can't kekulize mol.  Unkekulized atoms: 3 4 5 6 7 8 9 10 11\n",
      "[03:14:59] Can't kekulize mol.  Unkekulized atoms: 3 4 5 6 7\n",
      "[03:14:59] Can't kekulize mol.  Unkekulized atoms: 1 2 3 4 5 6 7 8 9\n",
      "[03:14:59] Can't kekulize mol.  Unkekulized atoms: 3 4 5 6 7\n",
      "[03:14:59] Can't kekulize mol.  Unkekulized atoms: 9 10 11 12 13 14 15 16 17\n",
      "[03:14:59] Can't kekulize mol.  Unkekulized atoms: 2 3 5 6 7 8 9\n",
      "[03:14:59] Can't kekulize mol.  Unkekulized atoms: 1 2 3 5 6 7 8 9 10\n",
      "[03:14:59] Can't kekulize mol.  Unkekulized atoms: 1 2 3 4 6\n",
      "[03:14:59] Can't kekulize mol.  Unkekulized atoms: 9 10 11 12 14\n",
      "[03:14:59] Can't kekulize mol.  Unkekulized atoms: 1 2 3 4 5 6 7 8 9\n",
      "[03:14:59] Can't kekulize mol.  Unkekulized atoms: 1 2 3 4 6 7 8 9 10\n",
      "[03:14:59] Can't kekulize mol.  Unkekulized atoms: 3 4 5 6 7 8 9 10 11\n",
      "[03:14:59] Can't kekulize mol.  Unkekulized atoms: 5 6 7 8 9\n",
      "[03:14:59] Can't kekulize mol.  Unkekulized atoms: 1 2 3 4 5 6 7 8 9\n",
      "[03:14:59] Can't kekulize mol.  Unkekulized atoms: 3 4 5 7 8 9 10 11 12\n",
      "[03:14:59] Can't kekulize mol.  Unkekulized atoms: 5 6 7 8 9\n",
      "[03:14:59] Can't kekulize mol.  Unkekulized atoms: 3 4 5 6 7 9 10 11 12\n",
      "[03:14:59] Can't kekulize mol.  Unkekulized atoms: 5 6 7 8 10\n",
      "[03:14:59] Can't kekulize mol.  Unkekulized atoms: 1 2 3 4 6 7 8 9 10\n",
      "[03:14:59] Can't kekulize mol.  Unkekulized atoms: 4 5 6 7 8\n",
      "[03:14:59] Can't kekulize mol.  Unkekulized atoms: 4 5 6 7 8 9 10 11 12\n",
      "[03:14:59] Can't kekulize mol.  Unkekulized atoms: 4 5 6 7 8\n",
      "[03:14:59] Can't kekulize mol.  Unkekulized atoms: 10 11 12 13 14\n",
      "[03:14:59] Can't kekulize mol.  Unkekulized atoms: 1 2 3 4 5\n",
      "[03:14:59] Can't kekulize mol.  Unkekulized atoms: 3 4 5 6 7 8 9\n",
      "[03:14:59] Can't kekulize mol.  Unkekulized atoms: 5 6 7 8 9\n",
      "[03:14:59] Can't kekulize mol.  Unkekulized atoms: 0 1 2 3 4 5 6 7 8\n",
      "[03:14:59] Can't kekulize mol.  Unkekulized atoms: 1 2 4 5 6 7 8 9 10\n",
      "[03:14:59] Can't kekulize mol.  Unkekulized atoms: 1 2 3 4 5 6 7 8 9\n"
     ]
    },
    {
     "name": "stdout",
     "output_type": "stream",
     "text": [
      "Wrong SMILES for:  7156603 (removed!)\n",
      "Wrong SMILES for:  7156604 (removed!)\n",
      "Wrong SMILES for:  7156605 (removed!)\n",
      "Wrong SMILES for:  7156606 (removed!)\n",
      "Wrong SMILES for:  7156607 (removed!)\n",
      "Wrong SMILES for:  7156608 (removed!)\n",
      "Wrong SMILES for:  7156609 (removed!)\n",
      "Wrong SMILES for:  7156610 (removed!)\n",
      "Wrong SMILES for:  7156611 (removed!)\n",
      "Wrong SMILES for:  7156612 (removed!)\n",
      "Wrong SMILES for:  7156613 (removed!)\n",
      "Wrong SMILES for:  7156614 (removed!)\n",
      "Wrong SMILES for:  7156615 (removed!)\n",
      "Wrong SMILES for:  7156616 (removed!)\n",
      "Wrong SMILES for:  7156617 (removed!)\n",
      "Wrong SMILES for:  7156619 (removed!)\n",
      "Wrong SMILES for:  7156620 (removed!)\n",
      "Wrong SMILES for:  7156737 (removed!)\n",
      "Wrong SMILES for:  7156738 (removed!)\n",
      "Wrong SMILES for:  7156739 (removed!)\n",
      "Wrong SMILES for:  7156740 (removed!)\n",
      "Wrong SMILES for:  7156741 (removed!)\n",
      "Wrong SMILES for:  7156742 (removed!)\n",
      "Wrong SMILES for:  7156743 (removed!)\n",
      "Wrong SMILES for:  7156744 (removed!)\n",
      "Wrong SMILES for:  7156745 (removed!)\n",
      "Wrong SMILES for:  7156746 (removed!)\n",
      "Wrong SMILES for:  7156747 (removed!)\n",
      "Wrong SMILES for:  7156749 (removed!)\n",
      "Wrong SMILES for:  7156750 (removed!)\n",
      "Wrong SMILES for:  7156751 (removed!)\n",
      "Wrong SMILES for:  7156752 (removed!)\n",
      "Wrong SMILES for:  7156753 (removed!)\n",
      "Wrong SMILES for:  7156754 (removed!)\n",
      "Wrong SMILES for:  7156755 (removed!)\n",
      "Wrong SMILES for:  7156871 (removed!)\n",
      "Wrong SMILES for:  7156872 (removed!)\n",
      "Wrong SMILES for:  7156873 (removed!)\n",
      "Wrong SMILES for:  7156874 (removed!)\n",
      "Wrong SMILES for:  7156875 (removed!)\n",
      "Wrong SMILES for:  7156876 (removed!)\n",
      "Wrong SMILES for:  7156877 (removed!)\n",
      "Wrong SMILES for:  7156878 (removed!)\n",
      "Wrong SMILES for:  7156879 (removed!)\n",
      "Wrong SMILES for:  7156880 (removed!)\n",
      "Wrong SMILES for:  7156881 (removed!)\n",
      "Wrong SMILES for:  7156882 (removed!)\n",
      "Wrong SMILES for:  7156883 (removed!)\n",
      "Wrong SMILES for:  7156884 (removed!)\n",
      "Wrong SMILES for:  7156885 (removed!)\n",
      "Wrong SMILES for:  7156886 (removed!)\n",
      "Wrong SMILES for:  7156887 (removed!)\n",
      "Wrong SMILES for:  7156888 (removed!)\n",
      "Wrong SMILES for:  7156889 (removed!)\n",
      "Wrong SMILES for:  7156998 (removed!)\n",
      "Wrong SMILES for:  7156999 (removed!)\n",
      "Wrong SMILES for:  7157000 (removed!)\n",
      "Wrong SMILES for:  7157001 (removed!)\n",
      "Wrong SMILES for:  7157002 (removed!)\n",
      "Wrong SMILES for:  7157003 (removed!)\n",
      "Wrong SMILES for:  7157004 (removed!)\n",
      "Wrong SMILES for:  7157005 (removed!)\n",
      "Wrong SMILES for:  7157006 (removed!)\n",
      "Wrong SMILES for:  7157007 (removed!)\n",
      "Wrong SMILES for:  7157008 (removed!)\n",
      "Wrong SMILES for:  7157009 (removed!)\n",
      "Wrong SMILES for:  7157010 (removed!)\n",
      "Wrong SMILES for:  7157011 (removed!)\n",
      "Wrong SMILES for:  7157012 (removed!)\n",
      "Wrong SMILES for:  7157013 (removed!)\n",
      "Wrong SMILES for:  7157014 (removed!)\n",
      "Wrong SMILES for:  7157015 (removed!)\n",
      "Wrong SMILES for:  7157016 (removed!)\n",
      "Wrong SMILES for:  7157126 (removed!)\n",
      "Wrong SMILES for:  7157129 (removed!)\n",
      "Wrong SMILES for:  7157130 (removed!)\n",
      "Wrong SMILES for:  7157131 (removed!)\n",
      "Wrong SMILES for:  7157132 (removed!)\n",
      "Wrong SMILES for:  7157133 (removed!)\n",
      "Wrong SMILES for:  7157134 (removed!)\n",
      "Wrong SMILES for:  7157135 (removed!)\n",
      "Wrong SMILES for:  7157136 (removed!)\n",
      "Wrong SMILES for:  7157137 (removed!)\n",
      "Wrong SMILES for:  7157138 (removed!)\n",
      "Wrong SMILES for:  7157139 (removed!)\n",
      "Wrong SMILES for:  7157140 (removed!)\n",
      "Wrong SMILES for:  7157141 (removed!)\n",
      "Wrong SMILES for:  7157142 (removed!)\n",
      "Wrong SMILES for:  7157143 (removed!)\n",
      "Wrong SMILES for:  7157144 (removed!)\n",
      "Wrong SMILES for:  7157145 (removed!)\n",
      "Wrong SMILES for:  7157146 (removed!)\n",
      "Wrong SMILES for:  7157147 (removed!)\n",
      "Wrong SMILES for:  7157148 (removed!)\n",
      "Wrong SMILES for:  7157258 (removed!)\n",
      "Wrong SMILES for:  7157260 (removed!)\n",
      "Wrong SMILES for:  7157261 (removed!)\n",
      "Wrong SMILES for:  7157262 (removed!)\n",
      "Wrong SMILES for:  7157263 (removed!)\n",
      "Wrong SMILES for:  7157264 (removed!)\n",
      "Wrong SMILES for:  7157265 (removed!)\n",
      "Wrong SMILES for:  7157266 (removed!)\n",
      "Wrong SMILES for:  7157267 (removed!)\n",
      "Wrong SMILES for:  7157268 (removed!)\n",
      "Wrong SMILES for:  7157269 (removed!)\n",
      "Wrong SMILES for:  7157270 (removed!)\n",
      "Wrong SMILES for:  7157271 (removed!)\n",
      "Wrong SMILES for:  7157273 (removed!)\n",
      "Wrong SMILES for:  7157274 (removed!)\n",
      "Wrong SMILES for:  7157275 (removed!)\n",
      "Wrong SMILES for:  7157384 (removed!)\n",
      "Wrong SMILES for:  7157385 (removed!)\n",
      "Wrong SMILES for:  7157386 (removed!)\n",
      "Wrong SMILES for:  7157387 (removed!)\n",
      "Wrong SMILES for:  7157388 (removed!)\n",
      "Wrong SMILES for:  7157389 (removed!)\n",
      "Wrong SMILES for:  7157390 (removed!)\n",
      "Wrong SMILES for:  7157391 (removed!)\n",
      "Wrong SMILES for:  7157392 (removed!)\n",
      "Wrong SMILES for:  7157393 (removed!)\n",
      "Wrong SMILES for:  7157394 (removed!)\n",
      "Wrong SMILES for:  7157395 (removed!)\n",
      "Wrong SMILES for:  7157396 (removed!)\n",
      "Wrong SMILES for:  7157397 (removed!)\n",
      "Wrong SMILES for:  7157398 (removed!)\n",
      "Wrong SMILES for:  7157400 (removed!)\n",
      "Wrong SMILES for:  7157401 (removed!)\n",
      "Wrong SMILES for:  7157402 (removed!)\n",
      "Wrong SMILES for:  7157551 (removed!)\n",
      "Wrong SMILES for:  7157554 (removed!)\n"
     ]
    },
    {
     "name": "stderr",
     "output_type": "stream",
     "text": [
      "[03:15:00] Can't kekulize mol.  Unkekulized atoms: 1 2 3 4 5 6 8 9 10\n",
      "[03:15:00] Can't kekulize mol.  Unkekulized atoms: 5 6 7 8 10\n",
      "[03:15:00] Can't kekulize mol.  Unkekulized atoms: 4 5 6 7 10\n",
      "[03:15:00] Can't kekulize mol.  Unkekulized atoms: 1 2 3 4 5\n",
      "[03:15:00] Can't kekulize mol.  Unkekulized atoms: 1 2 3 4 6 9 10 11 12\n",
      "[03:15:00] Can't kekulize mol.  Unkekulized atoms: 4 5 6 7 8\n",
      "[03:15:00] Can't kekulize mol.  Unkekulized atoms: 2 3 4 5 6 7 8 10 11\n",
      "[03:15:00] Can't kekulize mol.  Unkekulized atoms: 4 5 6 7 8 9 10 11 12\n",
      "[03:15:00] Can't kekulize mol.  Unkekulized atoms: 1 2 3 4 5 6 7 8 11\n",
      "[03:15:00] Can't kekulize mol.  Unkekulized atoms: 2 3 5 6 7 8 9 10 11 12 13 14 15 16 19 21 22 23 24 27 29 35 41\n",
      "[03:15:00] Can't kekulize mol.  Unkekulized atoms: 1 2 3 4 5 6 7 8 9\n",
      "[03:15:00] Can't kekulize mol.  Unkekulized atoms: 1 2 3 4 5 6 7 10 11\n",
      "[03:15:00] Can't kekulize mol.  Unkekulized atoms: 3 4 5 6 7 8 9 10 11\n",
      "[03:15:00] Can't kekulize mol.  Unkekulized atoms: 3 4 5 7 8 9 10 11 12\n",
      "[03:15:00] Can't kekulize mol.  Unkekulized atoms: 3 4 5 6 7 8 9 10 11\n",
      "[03:15:00] Can't kekulize mol.  Unkekulized atoms: 5 6 7 8 9\n",
      "[03:15:00] Can't kekulize mol.  Unkekulized atoms: 3 4 5 6 7 8 9 10 11\n",
      "[03:15:00] Can't kekulize mol.  Unkekulized atoms: 1 2 3 4 5 6 7 8 9\n",
      "[03:15:00] Can't kekulize mol.  Unkekulized atoms: 9 10 11 12 14 15 16 17 18\n",
      "[03:15:00] Can't kekulize mol.  Unkekulized atoms: 5 6 7 8 9 10 11 12 13\n",
      "[03:15:00] Can't kekulize mol.  Unkekulized atoms: 5 6 7 8 9 10 11 12 13\n",
      "[03:15:00] Can't kekulize mol.  Unkekulized atoms: 3 4 5 6 7 8 9 10 11\n",
      "[03:15:00] Can't kekulize mol.  Unkekulized atoms: 1 2 3 4 6 7 8 9 10\n",
      "[03:15:00] Can't kekulize mol.  Unkekulized atoms: 5 6 7 8 9 10 11 12 13\n",
      "[03:15:00] Can't kekulize mol.  Unkekulized atoms: 1 2 3 8 9\n",
      "[03:15:00] Can't kekulize mol.  Unkekulized atoms: 3 4 5 6 8 9 10 11 12\n"
     ]
    },
    {
     "name": "stdout",
     "output_type": "stream",
     "text": [
      "Wrong SMILES for:  7157704 (removed!)\n",
      "Wrong SMILES for:  7157705 (removed!)\n",
      "Wrong SMILES for:  7157707 (removed!)\n",
      "Wrong SMILES for:  7157708 (removed!)\n",
      "Wrong SMILES for:  7157858 (removed!)\n",
      "Wrong SMILES for:  7157859 (removed!)\n",
      "Wrong SMILES for:  7157860 (removed!)\n",
      "Wrong SMILES for:  7158008 (removed!)\n",
      "Wrong SMILES for:  7158012 (removed!)\n",
      "Wrong SMILES for:  7158014 (removed!)\n",
      "Wrong SMILES for:  7158166 (removed!)\n",
      "Wrong SMILES for:  7158167 (removed!)\n",
      "Wrong SMILES for:  7158169 (removed!)\n",
      "Wrong SMILES for:  7158171 (removed!)\n",
      "Wrong SMILES for:  7158320 (removed!)\n",
      "Wrong SMILES for:  7158323 (removed!)\n",
      "Wrong SMILES for:  7158324 (removed!)\n",
      "Wrong SMILES for:  7158477 (removed!)\n",
      "Wrong SMILES for:  7158478 (removed!)\n",
      "Wrong SMILES for:  7158481 (removed!)\n",
      "Wrong SMILES for:  7158482 (removed!)\n",
      "Wrong SMILES for:  7158639 (removed!)\n",
      "Wrong SMILES for:  7158640 (removed!)\n",
      "Wrong SMILES for:  7158641 (removed!)\n",
      "Wrong SMILES for:  7158793 (removed!)\n",
      "Wrong SMILES for:  7158794 (removed!)\n",
      "Wrong SMILES for:  7158795 (removed!)\n",
      "Wrong SMILES for:  7158797 (removed!)\n",
      "Wrong SMILES for:  7158949 (removed!)\n",
      "Wrong SMILES for:  7158951 (removed!)\n",
      "Wrong SMILES for:  7158952 (removed!)\n",
      "Wrong SMILES for:  7158954 (removed!)\n"
     ]
    },
    {
     "name": "stderr",
     "output_type": "stream",
     "text": [
      "[03:15:00] Can't kekulize mol.  Unkekulized atoms: 3 4 5 6 7 8 9 10 11\n",
      "[03:15:00] Can't kekulize mol.  Unkekulized atoms: 3 4 5 6 7\n",
      "[03:15:00] Can't kekulize mol.  Unkekulized atoms: 3 4 5 6 8 9 10 11 12\n",
      "[03:15:00] Can't kekulize mol.  Unkekulized atoms: 13 14 15 17 18\n",
      "[03:15:00] Can't kekulize mol.  Unkekulized atoms: 3 4 5 6 7 8 9\n",
      "[03:15:00] Can't kekulize mol.  Unkekulized atoms: 14 15 16 17 18 19 20 21 22\n",
      "[03:15:00] Can't kekulize mol.  Unkekulized atoms: 3 4 5 6 8 9 10 11 12\n",
      "[03:15:00] Can't kekulize mol.  Unkekulized atoms: 1 2 3 4 5 6 7 8 9\n",
      "[03:15:00] Can't kekulize mol.  Unkekulized atoms: 4 5 6 7 8 9 10 11 12\n",
      "[03:15:00] Can't kekulize mol.  Unkekulized atoms: 3 4 5 6 7\n",
      "[03:15:00] Can't kekulize mol.  Unkekulized atoms: 4 5 6 7 9 10 11 12 13\n",
      "[03:15:00] Can't kekulize mol.  Unkekulized atoms: 1 2 3 4 5 6 7 8 9\n",
      "[03:15:00] Can't kekulize mol.  Unkekulized atoms: 2 3 4 5 6\n",
      "[03:15:00] Can't kekulize mol.  Unkekulized atoms: 2 3 4 5 6 7 8 9 10\n",
      "[03:15:00] Can't kekulize mol.  Unkekulized atoms: 5 6 7 8 9 10 11 12 13\n",
      "[03:15:00] Explicit valence for atom # 3 C, 5, is greater than permitted\n",
      "[03:15:00] Can't kekulize mol.  Unkekulized atoms: 1 2 3 4 5 6 7 8 9\n",
      "[03:15:00] Can't kekulize mol.  Unkekulized atoms: 1 2 3 4 5 6 7 8 9\n",
      "[03:15:00] Can't kekulize mol.  Unkekulized atoms: 9 10 11 12 13 14 15 16 17\n",
      "[03:15:00] Can't kekulize mol.  Unkekulized atoms: 3 4 5 7 8 9 10 11 12\n",
      "[03:15:00] Can't kekulize mol.  Unkekulized atoms: 1 2 3 4 5 6 7 8 9\n",
      "[03:15:00] Can't kekulize mol.  Unkekulized atoms: 2 3 4 5 6 7 9 10 11\n",
      "[03:15:00] Can't kekulize mol.  Unkekulized atoms: 4 5 7 9 10 11 12 13 14\n",
      "[03:15:00] Can't kekulize mol.  Unkekulized atoms: 5 6 7 8 9 10 11 12 13\n",
      "[03:15:00] Can't kekulize mol.  Unkekulized atoms: 3 4 5 6 7 8 9 10 11\n",
      "[03:15:00] Can't kekulize mol.  Unkekulized atoms: 3 4 5 6 7 8 10 11 12\n",
      "[03:15:00] Can't kekulize mol.  Unkekulized atoms: 3 4 5 6 11\n",
      "[03:15:00] Can't kekulize mol.  Unkekulized atoms: 1 2 3 4 5 6 7 8 9\n"
     ]
    },
    {
     "name": "stdout",
     "output_type": "stream",
     "text": [
      "Wrong SMILES for:  7159102 (removed!)\n",
      "Wrong SMILES for:  7159103 (removed!)\n",
      "Wrong SMILES for:  7159105 (removed!)\n",
      "Wrong SMILES for:  7159107 (removed!)\n",
      "Wrong SMILES for:  7159257 (removed!)\n",
      "Wrong SMILES for:  7159258 (removed!)\n",
      "Wrong SMILES for:  7159259 (removed!)\n",
      "Wrong SMILES for:  7159335 (removed!)\n",
      "Wrong SMILES for:  7159411 (removed!)\n",
      "Wrong SMILES for:  7159413 (removed!)\n",
      "Wrong SMILES for:  7159414 (removed!)\n",
      "Wrong SMILES for:  7159566 (removed!)\n",
      "Wrong SMILES for:  7159567 (removed!)\n",
      "Wrong SMILES for:  7159568 (removed!)\n",
      "Wrong SMILES for:  7159719 (removed!)\n",
      "Wrong SMILES for:  7159720 (removed!)\n",
      "Wrong SMILES for:  7159722 (removed!)\n",
      "Wrong SMILES for:  7159871 (removed!)\n",
      "Wrong SMILES for:  7159872 (removed!)\n",
      "Wrong SMILES for:  7159875 (removed!)\n",
      "Wrong SMILES for:  7160042 (removed!)\n"
     ]
    },
    {
     "name": "stderr",
     "output_type": "stream",
     "text": [
      "[03:15:00] Can't kekulize mol.  Unkekulized atoms: 1 2 3 4 5 6 7 8 9\n",
      "[03:15:00] Can't kekulize mol.  Unkekulized atoms: 2 3 4 5 6 7 8 9 10\n",
      "[03:15:00] Can't kekulize mol.  Unkekulized atoms: 6 7 8 9 10 11 13 14 15\n",
      "[03:15:00] Can't kekulize mol.  Unkekulized atoms: 12 13 14 15 17\n",
      "[03:15:00] Can't kekulize mol.  Unkekulized atoms: 1 2 3 4 5 6 7 8 9\n",
      "[03:15:00] Can't kekulize mol.  Unkekulized atoms: 13 14 15 16 17 18 19 20 21\n",
      "[03:15:00] Can't kekulize mol.  Unkekulized atoms: 6 7 8 9 10 11 13 14 15\n",
      "[03:15:00] Can't kekulize mol.  Unkekulized atoms: 1 2 3 4 5 6 7 8 10\n",
      "[03:15:00] Can't kekulize mol.  Unkekulized atoms: 13 14 15 16 17 18 19 20 21\n",
      "[03:15:00] Can't kekulize mol.  Unkekulized atoms: 12 13 14 15 16\n",
      "[03:15:00] Can't kekulize mol.  Unkekulized atoms: 13 14 15 16 17 18 20 21 22\n",
      "[03:15:00] Can't kekulize mol.  Unkekulized atoms: 5 6 7 8 9 10 12 13 14\n",
      "[03:15:00] Can't kekulize mol.  Unkekulized atoms: 1 2 3 4 7\n"
     ]
    },
    {
     "name": "stdout",
     "output_type": "stream",
     "text": [
      "Wrong SMILES for:  7160201 (removed!)\n",
      "Wrong SMILES for:  7160204 (removed!)\n",
      "Wrong SMILES for:  7160205 (removed!)\n",
      "Wrong SMILES for:  7160206 (removed!)\n",
      "Wrong SMILES for:  7160207 (removed!)\n",
      "Wrong SMILES for:  7160368 (removed!)\n",
      "Wrong SMILES for:  7160369 (removed!)\n",
      "Wrong SMILES for:  7160370 (removed!)\n",
      "Wrong SMILES for:  7160535 (removed!)\n",
      "Wrong SMILES for:  7160537 (removed!)\n",
      "Wrong SMILES for:  7160538 (removed!)\n",
      "Wrong SMILES for:  7160704 (removed!)\n",
      "Wrong SMILES for:  7161206 (removed!)\n",
      "Wrong SMILES for:  7161212 (removed!)\n",
      "Wrong SMILES for:  7161213 (removed!)\n",
      "Wrong SMILES for:  7161377 (removed!)\n",
      "Wrong SMILES for:  7161381 (removed!)\n",
      "Wrong SMILES for:  7161384 (removed!)\n"
     ]
    },
    {
     "name": "stderr",
     "output_type": "stream",
     "text": [
      "[03:15:00] Can't kekulize mol.  Unkekulized atoms: 3 4 5 7 8 9 10 11 12\n",
      "[03:15:00] Can't kekulize mol.  Unkekulized atoms: 4 5 6 7 8 9 10 11 12\n",
      "[03:15:00] Can't kekulize mol.  Unkekulized atoms: 4 5 6 7 8 9 10 11 12\n",
      "[03:15:00] Can't kekulize mol.  Unkekulized atoms: 4 5 6 8 9 10 11 12 13\n",
      "[03:15:00] Can't kekulize mol.  Unkekulized atoms: 1 2 3 4 5 6 7 9 10\n",
      "[03:15:00] Can't kekulize mol.  Unkekulized atoms: 3 4 5 6 7 8 9 10 11\n",
      "[03:15:00] Can't kekulize mol.  Unkekulized atoms: 1 2 3 4 5 6 7 8 9\n",
      "[03:15:00] Can't kekulize mol.  Unkekulized atoms: 1 2 3 4 5 6 7 8 9\n",
      "[03:15:00] Can't kekulize mol.  Unkekulized atoms: 1 2 3 4 5\n",
      "[03:15:00] Can't kekulize mol.  Unkekulized atoms: 7 8 9 10 11 12 13 14 15\n",
      "[03:15:00] Can't kekulize mol.  Unkekulized atoms: 2 3 4 5 6 7 8 9 10\n",
      "[03:15:00] Can't kekulize mol.  Unkekulized atoms: 1 2 3 4 5 6 8 9 10\n",
      "[03:15:00] Can't kekulize mol.  Unkekulized atoms: 4 5 6 7 8 9 10 11 12\n",
      "[03:15:00] Can't kekulize mol.  Unkekulized atoms: 6 7 8 9 10 11 12 13 14\n",
      "[03:15:00] Can't kekulize mol.  Unkekulized atoms: 4 5 6 7 8 9 10 11 12\n",
      "[03:15:00] Can't kekulize mol.  Unkekulized atoms: 2 3 4 5 6 7 8 9 10\n",
      "[03:15:00] Can't kekulize mol.  Unkekulized atoms: 2 3 4 5 7\n",
      "[03:15:00] Can't kekulize mol.  Unkekulized atoms: 2 3 4 5 6 7 8 9 10\n",
      "[03:15:00] Can't kekulize mol.  Unkekulized atoms: 4 5 6 7 8 9 10 11 12\n"
     ]
    },
    {
     "name": "stdout",
     "output_type": "stream",
     "text": [
      "Wrong SMILES for:  7161547 (removed!)\n",
      "Wrong SMILES for:  7161550 (removed!)\n",
      "Wrong SMILES for:  7161554 (removed!)\n",
      "Wrong SMILES for:  7161720 (removed!)\n",
      "Wrong SMILES for:  7161722 (removed!)\n",
      "Wrong SMILES for:  7161726 (removed!)\n",
      "Wrong SMILES for:  7161729 (removed!)\n",
      "Wrong SMILES for:  7161889 (removed!)\n",
      "Wrong SMILES for:  7161895 (removed!)\n",
      "Wrong SMILES for:  7161898 (removed!)\n",
      "Wrong SMILES for:  7162063 (removed!)\n",
      "Wrong SMILES for:  7162067 (removed!)\n",
      "Wrong SMILES for:  7162232 (removed!)\n"
     ]
    },
    {
     "name": "stderr",
     "output_type": "stream",
     "text": [
      "[03:15:01] Can't kekulize mol.  Unkekulized atoms: 5 6 7 8 9 10 11 12 13\n",
      "[03:15:01] Can't kekulize mol.  Unkekulized atoms: 5 6 7 8 9 10 11 13 14\n",
      "[03:15:01] Can't kekulize mol.  Unkekulized atoms: 4 5 6 7 8 9 10 12 13\n",
      "[03:15:01] Can't kekulize mol.  Unkekulized atoms: 2 3 4 5 6 7 8 9 12\n",
      "[03:15:01] Can't kekulize mol.  Unkekulized atoms: 4 5 6 7 8 9 11 12 13\n",
      "[03:15:01] Can't kekulize mol.  Unkekulized atoms: 2 3 4 5 6 7 8 9 10\n"
     ]
    },
    {
     "name": "stdout",
     "output_type": "stream",
     "text": [
      "Wrong SMILES for:  7162904 (removed!)\n",
      "Wrong SMILES for:  7163248 (removed!)\n",
      "Wrong SMILES for:  7163593 (removed!)\n",
      "Wrong SMILES for:  7163765 (removed!)\n",
      "Wrong SMILES for:  7163770 (removed!)\n",
      "Wrong SMILES for:  7163938 (removed!)\n"
     ]
    },
    {
     "name": "stderr",
     "output_type": "stream",
     "text": [
      "[03:15:01] Can't kekulize mol.  Unkekulized atoms: 2 3 5 6 7 8 9 10 11\n",
      "[03:15:01] Can't kekulize mol.  Unkekulized atoms: 2 3 4 5 6\n",
      "[03:15:01] Can't kekulize mol.  Unkekulized atoms: 10 11 12 13 14\n",
      "[03:15:01] Can't kekulize mol.  Unkekulized atoms: 4 5 6 7 8 9 12 13 14\n",
      "[03:15:01] Can't kekulize mol.  Unkekulized atoms: 4 5 7 8 9 10 11 12 13\n"
     ]
    },
    {
     "name": "stdout",
     "output_type": "stream",
     "text": [
      "Wrong SMILES for:  7164115 (removed!)\n",
      "Wrong SMILES for:  7164458 (removed!)\n",
      "Wrong SMILES for:  7164622 (removed!)\n",
      "Wrong SMILES for:  7165145 (removed!)\n",
      "Wrong SMILES for:  7165315 (removed!)\n",
      "Wrong SMILES for:  7165481 (removed!)\n"
     ]
    },
    {
     "name": "stderr",
     "output_type": "stream",
     "text": [
      "[03:15:01] Can't kekulize mol.  Unkekulized atoms: 2 3 4 6 7\n",
      "[03:15:01] Can't kekulize mol.  Unkekulized atoms: 4 5 6 7 9 10 11 12 13\n",
      "[03:15:01] Can't kekulize mol.  Unkekulized atoms: 4 5 6 7 8 9 10 11 12\n",
      "[03:15:01] Can't kekulize mol.  Unkekulized atoms: 5 6 7 8 13\n",
      "[03:15:01] Can't kekulize mol.  Unkekulized atoms: 5 6 7 8 9\n",
      "[03:15:01] Can't kekulize mol.  Unkekulized atoms: 4 5 6 7 8 9 11 12 13\n",
      "[03:15:01] Can't kekulize mol.  Unkekulized atoms: 1 2 3 4 5 6 7 9 10\n",
      "[03:15:01] Can't kekulize mol.  Unkekulized atoms: 1 2 3 4 10\n",
      "[03:15:01] Can't kekulize mol.  Unkekulized atoms: 9 10 11 12 18\n"
     ]
    },
    {
     "name": "stdout",
     "output_type": "stream",
     "text": [
      "Wrong SMILES for:  7165954 (removed!)\n",
      "Wrong SMILES for:  7165959 (removed!)\n",
      "Wrong SMILES for:  7166115 (removed!)\n",
      "Wrong SMILES for:  7166120 (removed!)\n",
      "Wrong SMILES for:  7166274 (removed!)\n",
      "Wrong SMILES for:  7166279 (removed!)\n",
      "Wrong SMILES for:  7166280 (removed!)\n",
      "Wrong SMILES for:  7166443 (removed!)\n",
      "Wrong SMILES for:  7166597 (removed!)\n",
      "Wrong SMILES for:  7166750 (removed!)\n",
      "Wrong SMILES for:  7166899 (removed!)\n"
     ]
    },
    {
     "name": "stderr",
     "output_type": "stream",
     "text": [
      "[03:15:01] Can't kekulize mol.  Unkekulized atoms: 3 4 5 6 7\n",
      "[03:15:01] Can't kekulize mol.  Unkekulized atoms: 9 10 11 12 14 15 16 17 18\n",
      "[03:15:01] Can't kekulize mol.  Unkekulized atoms: 4 5 7 10 11 12 13 14 15\n",
      "[03:15:01] Can't kekulize mol.  Unkekulized atoms: 2 3 4 5 9\n",
      "[03:15:01] Can't kekulize mol.  Unkekulized atoms: 8 9 10 11 12 13 14 16 17\n",
      "[03:15:01] Can't kekulize mol.  Unkekulized atoms: 3 4 5 6 7 8 9 11 12\n",
      "[03:15:01] Can't kekulize mol.  Unkekulized atoms: 4 5 6 7 8\n",
      "[03:15:01] Can't kekulize mol.  Unkekulized atoms: 9 10 11 12 13\n",
      "[03:15:01] Can't kekulize mol.  Unkekulized atoms: 5 6 7 8 12\n",
      "[03:15:01] Can't kekulize mol.  Unkekulized atoms: 3 4 5 7 8 9 10 11 12\n"
     ]
    },
    {
     "name": "stdout",
     "output_type": "stream",
     "text": [
      "Wrong SMILES for:  7167053 (removed!)\n",
      "Wrong SMILES for:  7167054 (removed!)\n",
      "Wrong SMILES for:  7167201 (removed!)\n",
      "Wrong SMILES for:  7167203 (removed!)\n",
      "Wrong SMILES for:  7167356 (removed!)\n",
      "Wrong SMILES for:  7167510 (removed!)\n",
      "Wrong SMILES for:  7167671 (removed!)\n",
      "Wrong SMILES for:  7167819 (removed!)\n"
     ]
    },
    {
     "name": "stderr",
     "output_type": "stream",
     "text": [
      "[03:15:01] Can't kekulize mol.  Unkekulized atoms: 4 5 6 8 9\n",
      "[03:15:02] Can't kekulize mol.  Unkekulized atoms: 2 3 4 5 6 7 8 9 10\n",
      "[03:15:02] Can't kekulize mol.  Unkekulized atoms: 2 3 4 5 6 7 8 9 10\n",
      "[03:15:02] Explicit valence for atom # 1 Br, 2, is greater than permitted\n",
      "[03:15:02] Can't kekulize mol.  Unkekulized atoms: 2 3 4 5 6 7 8 9 10\n",
      "[03:15:02] Can't kekulize mol.  Unkekulized atoms: 2 3 4 5 7 8 9 10 11\n",
      "[03:15:02] Can't kekulize mol.  Unkekulized atoms: 4 5 6 7 8 10 12 13 14\n",
      "[03:15:02] Can't kekulize mol.  Unkekulized atoms: 2 3 4 5 6 7 8\n"
     ]
    },
    {
     "name": "stdout",
     "output_type": "stream",
     "text": [
      "Wrong SMILES for:  7168225 (removed!)\n",
      "Wrong SMILES for:  7168227 (removed!)\n",
      "Wrong SMILES for:  7168370 (removed!)\n",
      "Wrong SMILES for:  7168372 (removed!)\n",
      "Wrong SMILES for:  7168516 (removed!)\n",
      "Wrong SMILES for:  7168662 (removed!)\n",
      "Wrong SMILES for:  7168804 (removed!)\n",
      "Wrong SMILES for:  7168945 (removed!)\n",
      "Wrong SMILES for:  7169085 (removed!)\n",
      "Wrong SMILES for:  7169219 (removed!)\n"
     ]
    },
    {
     "name": "stderr",
     "output_type": "stream",
     "text": [
      "[03:15:02] Can't kekulize mol.  Unkekulized atoms: 3 4 5 6 7 8 9\n",
      "[03:15:02] Can't kekulize mol.  Unkekulized atoms: 4 5 6 7 8 9 10\n",
      "[03:15:02] Can't kekulize mol.  Unkekulized atoms: 1 2 3 4 5 6 7 8 10\n",
      "[03:15:02] Can't kekulize mol.  Unkekulized atoms: 1 2 3 4 5 6 9 10 11\n",
      "[03:15:02] Can't kekulize mol.  Unkekulized atoms: 1 2 3 4 5 6 7 9 10\n",
      "[03:15:02] Can't kekulize mol.  Unkekulized atoms: 5 6 7 12 13\n",
      "[03:15:02] Explicit valence for atom # 3 C, 5, is greater than permitted\n",
      "[03:15:02] Can't kekulize mol.  Unkekulized atoms: 2 3 4 5 6 7 8 9 10\n"
     ]
    },
    {
     "name": "stdout",
     "output_type": "stream",
     "text": [
      "Wrong SMILES for:  7169357 (removed!)\n",
      "Wrong SMILES for:  7169498 (removed!)\n",
      "Wrong SMILES for:  7169499 (removed!)\n",
      "Wrong SMILES for:  7169740 (removed!)\n",
      "Wrong SMILES for:  7169781 (removed!)\n",
      "Wrong SMILES for:  7170153 (removed!)\n",
      "Wrong SMILES for:  7170195 (removed!)\n",
      "Wrong SMILES for:  7170196 (removed!)\n",
      "Wrong SMILES for:  7170347 (removed!)\n",
      "Wrong SMILES for:  7170348 (removed!)\n",
      "Wrong SMILES for:  7170351 (removed!)\n"
     ]
    },
    {
     "name": "stderr",
     "output_type": "stream",
     "text": [
      "[03:15:02] Explicit valence for atom # 5 C, 6, is greater than permitted\n",
      "[03:15:02] Can't kekulize mol.  Unkekulized atoms: 4 5 6 7 8 9 10 11 12\n",
      "[03:15:02] Can't kekulize mol.  Unkekulized atoms: 1 2 3 4 10\n",
      "[03:15:02] Can't kekulize mol.  Unkekulized atoms: 1 2 3 4 5 6 7 8 9\n",
      "[03:15:02] Can't kekulize mol.  Unkekulized atoms: 4 5 6 7 8 10 11 12 13\n",
      "[03:15:02] Can't kekulize mol.  Unkekulized atoms: 4 5 6 7 8\n",
      "[03:15:02] Can't kekulize mol.  Unkekulized atoms: 1 2 3 4 5 6 7 8 9\n",
      "[03:15:02] Can't kekulize mol.  Unkekulized atoms: 1 2 3 4 5 6 8 9 10\n",
      "[03:15:02] Can't kekulize mol.  Unkekulized atoms: 10 11 12 13 14 15 16 17 18\n",
      "[03:15:02] Explicit valence for atom # 2 N, 4, is greater than permitted\n",
      "[03:15:02] Explicit valence for atom # 3 C, 5, is greater than permitted\n",
      "[03:15:02] Can't kekulize mol.  Unkekulized atoms: 1 2 3 4 5 6 8 9 10\n",
      "[03:15:02] Can't kekulize mol.  Unkekulized atoms: 2 3 4 5 6 7 8 10 11\n",
      "[03:15:02] Can't kekulize mol.  Unkekulized atoms: 10 11 12 13 14\n",
      "[03:15:02] Can't kekulize mol.  Unkekulized atoms: 1 2 3 5 6 7 8 9 10\n",
      "[03:15:02] Can't kekulize mol.  Unkekulized atoms: 1 2 3 4 5 6 7 10 11\n",
      "[03:15:02] Can't kekulize mol.  Unkekulized atoms: 6 7 8 9 10 11 12 13 14\n",
      "[03:15:02] Can't kekulize mol.  Unkekulized atoms: 7 8 9 10 11\n",
      "[03:15:02] Can't kekulize mol.  Unkekulized atoms: 1 2 3 5 6 8 9 10 11\n",
      "[03:15:02] Can't kekulize mol.  Unkekulized atoms: 2 3 4 5 6 7 8 9 10\n",
      "[03:15:02] Explicit valence for atom # 5 C, 6, is greater than permitted\n",
      "[03:15:02] Can't kekulize mol.  Unkekulized atoms: 1 2 3 5 6 7 8 9 10\n",
      "[03:15:02] Can't kekulize mol.  Unkekulized atoms: 2 3 4 5 6 7 8 9 10\n",
      "[03:15:02] Can't kekulize mol.  Unkekulized atoms: 7 8 9 10 11 12 13 14 15\n",
      "[03:15:02] Can't kekulize mol.  Unkekulized atoms: 4 5 6 7 8 9 10 11 12\n"
     ]
    },
    {
     "name": "stdout",
     "output_type": "stream",
     "text": [
      "Wrong SMILES for:  7170499 (removed!)\n",
      "Wrong SMILES for:  7170501 (removed!)\n",
      "Wrong SMILES for:  7170505 (removed!)\n",
      "Wrong SMILES for:  7170609 (removed!)\n",
      "Wrong SMILES for:  7170610 (removed!)\n",
      "Wrong SMILES for:  7170654 (removed!)\n",
      "Wrong SMILES for:  7170655 (removed!)\n",
      "Wrong SMILES for:  7170657 (removed!)\n",
      "Wrong SMILES for:  7170802 (removed!)\n",
      "Wrong SMILES for:  7170805 (removed!)\n",
      "Wrong SMILES for:  7170806 (removed!)\n",
      "Wrong SMILES for:  7170807 (removed!)\n",
      "Wrong SMILES for:  7170951 (removed!)\n",
      "Wrong SMILES for:  7170952 (removed!)\n",
      "Wrong SMILES for:  7171062 (removed!)\n",
      "Wrong SMILES for:  7171107 (removed!)\n",
      "Wrong SMILES for:  7171108 (removed!)\n",
      "Wrong SMILES for:  7171112 (removed!)\n",
      "Wrong SMILES for:  7171113 (removed!)\n",
      "Wrong SMILES for:  7171257 (removed!)\n",
      "Wrong SMILES for:  7171258 (removed!)\n",
      "Wrong SMILES for:  7171259 (removed!)\n",
      "Wrong SMILES for:  7171263 (removed!)\n",
      "Wrong SMILES for:  7171264 (removed!)\n",
      "Wrong SMILES for:  7171416 (removed!)\n",
      "Wrong SMILES for:  7171418 (removed!)\n",
      "Wrong SMILES for:  7171420 (removed!)\n",
      "Wrong SMILES for:  7171421 (removed!)\n"
     ]
    },
    {
     "name": "stderr",
     "output_type": "stream",
     "text": [
      "[03:15:02] Can't kekulize mol.  Unkekulized atoms: 1 2 3 4 5 6 7 8 9\n",
      "[03:15:02] Can't kekulize mol.  Unkekulized atoms: 5 6 7 8 9\n",
      "[03:15:02] Can't kekulize mol.  Unkekulized atoms: 1 2 3 4 5 6 7 8 9\n",
      "[03:15:02] Can't kekulize mol.  Unkekulized atoms: 1 2 3 4 5 6 7 8 9\n",
      "[03:15:02] Can't kekulize mol.  Unkekulized atoms: 4 5 6 7 8 9 10 11 12\n",
      "[03:15:02] Can't kekulize mol.  Unkekulized atoms: 5 6 7 8 10\n",
      "[03:15:02] Can't kekulize mol.  Unkekulized atoms: 6 7 8 9 10 11 12 13 14\n",
      "[03:15:02] Can't kekulize mol.  Unkekulized atoms: 7 8 9 10 11 12 13 14 15\n",
      "[03:15:02] Can't kekulize mol.  Unkekulized atoms: 1 2 3 4 5 6 7 8 9\n",
      "[03:15:02] Can't kekulize mol.  Unkekulized atoms: 2 3 4 5 6 7 8 9 10\n",
      "[03:15:02] Can't kekulize mol.  Unkekulized atoms: 6 7 8 9 10 11 12 13 14\n",
      "[03:15:02] Can't kekulize mol.  Unkekulized atoms: 5 6 7 8 9 10 11 12 13\n",
      "[03:15:02] Can't kekulize mol.  Unkekulized atoms: 1 2 3 4 5 7 8 9 10\n",
      "[03:15:02] Can't kekulize mol.  Unkekulized atoms: 1 2 3 4 5 11 12 13 14\n",
      "[03:15:02] Can't kekulize mol.  Unkekulized atoms: 2 3 4 5 6\n",
      "[03:15:02] Can't kekulize mol.  Unkekulized atoms: 4 5 6 7 8 9 10 11 12\n",
      "[03:15:02] Can't kekulize mol.  Unkekulized atoms: 4 5 6 7 8 10 11 12 13\n"
     ]
    },
    {
     "name": "stdout",
     "output_type": "stream",
     "text": [
      "Wrong SMILES for:  7171566 (removed!)\n",
      "Wrong SMILES for:  7171569 (removed!)\n",
      "Wrong SMILES for:  7171719 (removed!)\n",
      "Wrong SMILES for:  7171868 (removed!)\n",
      "Wrong SMILES for:  7171870 (removed!)\n",
      "Wrong SMILES for:  7171871 (removed!)\n",
      "Wrong SMILES for:  7172011 (removed!)\n",
      "Wrong SMILES for:  7172154 (removed!)\n",
      "Wrong SMILES for:  7172301 (removed!)\n",
      "Wrong SMILES for:  7172304 (removed!)\n",
      "Wrong SMILES for:  7172308 (removed!)\n",
      "Wrong SMILES for:  7172455 (removed!)\n",
      "Wrong SMILES for:  7172456 (removed!)\n",
      "Wrong SMILES for:  7172586 (removed!)\n",
      "Wrong SMILES for:  7172587 (removed!)\n",
      "Wrong SMILES for:  7172589 (removed!)\n",
      "Wrong SMILES for:  7172590 (removed!)\n",
      "Wrong SMILES for:  7172727 (removed!)\n",
      "Wrong SMILES for:  7172728 (removed!)\n",
      "Wrong SMILES for:  7172729 (removed!)\n"
     ]
    },
    {
     "name": "stderr",
     "output_type": "stream",
     "text": [
      "[03:15:02] Explicit valence for atom # 10 N, 4, is greater than permitted\n",
      "[03:15:02] Can't kekulize mol.  Unkekulized atoms: 3 4 5 6 7 8 9 10 11\n",
      "[03:15:02] Can't kekulize mol.  Unkekulized atoms: 3 4 5 6 7 8 9 10 11\n",
      "[03:15:02] Can't kekulize mol.  Unkekulized atoms: 1 2 3 4 5 6 7 8 9\n",
      "[03:15:02] Can't kekulize mol.  Unkekulized atoms: 3 4 5 6 7\n",
      "[03:15:02] Can't kekulize mol.  Unkekulized atoms: 4 5 6 7 8 9 10 11 12\n",
      "[03:15:02] Can't kekulize mol.  Unkekulized atoms: 4 5 6 7 8 9 10 11 12\n",
      "[03:15:02] Can't kekulize mol.  Unkekulized atoms: 7 8 9 10 11 12 13 14 15\n",
      "[03:15:02] Can't kekulize mol.  Unkekulized atoms: 7 8 9 10 11\n",
      "[03:15:02] Can't kekulize mol.  Unkekulized atoms: 2 3 4 5 6 7 8 14 15\n",
      "[03:15:02] Can't kekulize mol.  Unkekulized atoms: 1 2 3 4 5 6 7 8 11\n",
      "[03:15:02] Can't kekulize mol.  Unkekulized atoms: 6 7 8 9 10 11 12 13 14\n",
      "[03:15:02] Can't kekulize mol.  Unkekulized atoms: 5 6 8 9 10 11 12 13 14\n",
      "[03:15:02] Can't kekulize mol.  Unkekulized atoms: 1 2 3 4 5 6 7 8 12\n",
      "[03:15:03] Can't kekulize mol.  Unkekulized atoms: 1 2 3 4 5 11 12 13 14\n",
      "[03:15:03] Can't kekulize mol.  Unkekulized atoms: 1 2 3 4 5 6 7 10 11\n",
      "[03:15:03] Can't kekulize mol.  Unkekulized atoms: 1 2 3 4 5 6 7 13 14\n",
      "[03:15:03] Can't kekulize mol.  Unkekulized atoms: 5 6 7 8 9 10 12 13 14\n",
      "[03:15:03] Can't kekulize mol.  Unkekulized atoms: 1 2 3 4 5 6 7 11 12\n",
      "[03:15:03] Can't kekulize mol.  Unkekulized atoms: 5 6 7 8 9 10 11 12 13\n",
      "[03:15:03] Can't kekulize mol.  Unkekulized atoms: 1 2 3 4 5 8 9 10 11\n",
      "[03:15:03] Can't kekulize mol.  Unkekulized atoms: 1 2 3 4 5 6 12 13 14\n"
     ]
    },
    {
     "name": "stdout",
     "output_type": "stream",
     "text": [
      "Wrong SMILES for:  7172869 (removed!)\n",
      "Wrong SMILES for:  7172871 (removed!)\n",
      "Wrong SMILES for:  7173010 (removed!)\n",
      "Wrong SMILES for:  7173011 (removed!)\n",
      "Wrong SMILES for:  7173013 (removed!)\n",
      "Wrong SMILES for:  7173152 (removed!)\n",
      "Wrong SMILES for:  7173153 (removed!)\n",
      "Wrong SMILES for:  7173293 (removed!)\n",
      "Wrong SMILES for:  7173294 (removed!)\n",
      "Wrong SMILES for:  7173297 (removed!)\n",
      "Wrong SMILES for:  7173433 (removed!)\n",
      "Wrong SMILES for:  7173575 (removed!)\n",
      "Wrong SMILES for:  7173576 (removed!)\n",
      "Wrong SMILES for:  7173716 (removed!)\n",
      "Wrong SMILES for:  7173855 (removed!)\n",
      "Wrong SMILES for:  7173856 (removed!)\n",
      "Wrong SMILES for:  7173982 (removed!)\n",
      "Wrong SMILES for:  7173992 (removed!)\n"
     ]
    },
    {
     "name": "stderr",
     "output_type": "stream",
     "text": [
      "[03:15:03] Can't kekulize mol.  Unkekulized atoms: 1 2 3 4 5 9 10 11 12\n",
      "[03:15:03] Can't kekulize mol.  Unkekulized atoms: 5 6 7 8 9 10 12 13 14\n",
      "[03:15:03] Can't kekulize mol.  Unkekulized atoms: 1 2 3 4 5 6 9 10 11\n",
      "[03:15:03] Can't kekulize mol.  Unkekulized atoms: 1 2 3 4 5 6 10 11 12\n",
      "[03:15:03] Can't kekulize mol.  Unkekulized atoms: 5 6 7 8 9 10 11 12 13\n",
      "[03:15:03] Can't kekulize mol.  Unkekulized atoms: 2 3 4 5 6 7 8 9 10\n",
      "[03:15:03] Can't kekulize mol.  Unkekulized atoms: 1 2 3 5 6 7 8 9 10\n",
      "[03:15:03] Can't kekulize mol.  Unkekulized atoms: 2 3 4 5 6 7 10 11 12\n",
      "[03:15:03] Can't kekulize mol.  Unkekulized atoms: 1 2 3 4 6 7 9 10 11\n",
      "[03:15:03] Can't kekulize mol.  Unkekulized atoms: 2 3 4 5 6 7 8 9 12\n",
      "[03:15:03] Can't kekulize mol.  Unkekulized atoms: 5 6 7 8 9 10 11 12 15\n",
      "[03:15:03] Can't kekulize mol.  Unkekulized atoms: 5 6 7 8 9 10 11 12 13\n",
      "[03:15:03] Can't kekulize mol.  Unkekulized atoms: 1 2 3 4 5 6 9 10 11\n",
      "[03:15:03] Can't kekulize mol.  Unkekulized atoms: 6 7 8 9 10 11 12 13 14\n"
     ]
    },
    {
     "name": "stdout",
     "output_type": "stream",
     "text": [
      "Wrong SMILES for:  7174123 (removed!)\n",
      "Wrong SMILES for:  7174272 (removed!)\n",
      "Wrong SMILES for:  7174414 (removed!)\n",
      "Wrong SMILES for:  7174415 (removed!)\n",
      "Wrong SMILES for:  7174550 (removed!)\n",
      "Wrong SMILES for:  7174553 (removed!)\n",
      "Wrong SMILES for:  7174693 (removed!)\n",
      "Wrong SMILES for:  7174695 (removed!)\n",
      "Wrong SMILES for:  7174841 (removed!)\n",
      "Wrong SMILES for:  7174842 (removed!)\n",
      "Wrong SMILES for:  7174843 (removed!)\n",
      "Wrong SMILES for:  7174844 (removed!)\n",
      "Wrong SMILES for:  7174991 (removed!)\n",
      "Wrong SMILES for:  7174992 (removed!)\n",
      "Wrong SMILES for:  7175136 (removed!)\n",
      "Wrong SMILES for:  7175137 (removed!)\n",
      "Wrong SMILES for:  7175138 (removed!)\n",
      "Wrong SMILES for:  7175139 (removed!)\n"
     ]
    },
    {
     "name": "stderr",
     "output_type": "stream",
     "text": [
      "[03:15:03] Can't kekulize mol.  Unkekulized atoms: 5 6 7 8 9 10 11 13 14\n",
      "[03:15:03] Can't kekulize mol.  Unkekulized atoms: 5 6 7 8 9\n",
      "[03:15:03] Can't kekulize mol.  Unkekulized atoms: 5 6 7 8 9 10 11 13 14\n",
      "[03:15:03] Can't kekulize mol.  Unkekulized atoms: 1 2 3 4 5 6 7 13 14\n",
      "[03:15:03] Can't kekulize mol.  Unkekulized atoms: 6 7 8 9 10 11 12 14 15\n",
      "[03:15:03] Can't kekulize mol.  Unkekulized atoms: 7 8 9 10 11 12 13 15 16\n",
      "[03:15:03] Can't kekulize mol.  Unkekulized atoms: 6 7 8 9 10 11 12 14 15\n",
      "[03:15:03] Can't kekulize mol.  Unkekulized atoms: 1 2 3 4 5 6 12 13 14\n",
      "[03:15:03] Can't kekulize mol.  Unkekulized atoms: 7 8 9 10 11 12 13 15 16\n",
      "[03:15:03] Can't kekulize mol.  Unkekulized atoms: 2 3 4 5 6 7 8 9 15\n",
      "[03:15:03] Can't kekulize mol.  Unkekulized atoms: 6 7 8 9 10 11 13 14 15\n",
      "[03:15:03] Can't kekulize mol.  Unkekulized atoms: 5 6 7 8 9 10 12 13 14\n",
      "[03:15:03] Can't kekulize mol.  Unkekulized atoms: 1 2 3 4 5 6 7 12 13\n",
      "[03:15:03] Can't kekulize mol.  Unkekulized atoms: 2 3 4 5 6 7 8 14 15\n",
      "[03:15:03] Can't kekulize mol.  Unkekulized atoms: 1 2 3 4 5 6 7 12 13\n",
      "[03:15:03] Can't kekulize mol.  Unkekulized atoms: 2 3 4 5 6 12 13 14 15\n",
      "[03:15:03] Can't kekulize mol.  Unkekulized atoms: 7 8 9 10 11 12 14 15 16\n",
      "[03:15:03] Can't kekulize mol.  Unkekulized atoms: 5 6 7 8 9 11 12 13 14\n",
      "[03:15:03] Can't kekulize mol.  Unkekulized atoms: 3 4 5 6 7 8 9 11 12\n",
      "[03:15:03] Can't kekulize mol.  Unkekulized atoms: 5 6 7 8 9 10 12 13 14\n",
      "[03:15:03] Can't kekulize mol.  Unkekulized atoms: 2 3 4 5 6 7 13 14 15\n",
      "[03:15:03] Can't kekulize mol.  Unkekulized atoms: 4 5 6 7 8 9 11 12 13\n",
      "[03:15:03] Can't kekulize mol.  Unkekulized atoms: 4 5 6 7 8 9 11 12 13\n",
      "[03:15:03] Can't kekulize mol.  Unkekulized atoms: 5 6 7 8 9 10 11 12 14\n",
      "[03:15:03] Can't kekulize mol.  Unkekulized atoms: 1 2 3 4 6\n"
     ]
    },
    {
     "name": "stdout",
     "output_type": "stream",
     "text": [
      "Wrong SMILES for:  7175278 (removed!)\n",
      "Wrong SMILES for:  7175279 (removed!)\n",
      "Wrong SMILES for:  7175419 (removed!)\n",
      "Wrong SMILES for:  7175420 (removed!)\n",
      "Wrong SMILES for:  7175421 (removed!)\n",
      "Wrong SMILES for:  7175422 (removed!)\n",
      "Wrong SMILES for:  7175425 (removed!)\n",
      "Wrong SMILES for:  7175564 (removed!)\n",
      "Wrong SMILES for:  7175565 (removed!)\n",
      "Wrong SMILES for:  7175708 (removed!)\n",
      "Wrong SMILES for:  7175709 (removed!)\n",
      "Wrong SMILES for:  7175710 (removed!)\n",
      "Wrong SMILES for:  7175714 (removed!)\n",
      "Wrong SMILES for:  7175852 (removed!)\n",
      "Wrong SMILES for:  7175858 (removed!)\n",
      "Wrong SMILES for:  7175859 (removed!)\n",
      "Wrong SMILES for:  7175992 (removed!)\n",
      "Wrong SMILES for:  7175997 (removed!)\n",
      "Wrong SMILES for:  7175998 (removed!)\n",
      "Wrong SMILES for:  7175999 (removed!)\n",
      "Wrong SMILES for:  7176000 (removed!)\n",
      "Wrong SMILES for:  7176134 (removed!)\n",
      "Wrong SMILES for:  7176137 (removed!)\n",
      "Wrong SMILES for:  7176139 (removed!)\n",
      "Wrong SMILES for:  7176140 (removed!)\n",
      "Wrong SMILES for:  7176143 (removed!)\n",
      "Wrong SMILES for:  7176279 (removed!)\n",
      "Wrong SMILES for:  7176280 (removed!)\n",
      "Wrong SMILES for:  7176281 (removed!)\n",
      "Wrong SMILES for:  7176282 (removed!)\n",
      "Wrong SMILES for:  7176283 (removed!)\n",
      "Wrong SMILES for:  7176286 (removed!)\n"
     ]
    },
    {
     "name": "stderr",
     "output_type": "stream",
     "text": [
      "[03:15:03] Can't kekulize mol.  Unkekulized atoms: 10 11 12 13 14\n",
      "[03:15:03] Can't kekulize mol.  Unkekulized atoms: 5 6 7 8 9 11 12 13 14\n",
      "[03:15:03] Can't kekulize mol.  Unkekulized atoms: 5 6 7 8 9 10 11 12 13\n",
      "[03:15:03] Can't kekulize mol.  Unkekulized atoms: 3 4 5 6 7\n",
      "[03:15:03] Can't kekulize mol.  Unkekulized atoms: 4 5 6 7 8 10 11 12 13\n",
      "[03:15:03] Can't kekulize mol.  Unkekulized atoms: 7 8 9 10 11 12 13 14 15\n",
      "[03:15:03] Can't kekulize mol.  Unkekulized atoms: 5 6 7 8 9 11 12 13 14\n",
      "[03:15:03] Can't kekulize mol.  Unkekulized atoms: 5 6 7 8 9 11 12 13 14\n",
      "[03:15:03] Can't kekulize mol.  Unkekulized atoms: 3 4 5 6 7\n",
      "[03:15:03] Can't kekulize mol.  Unkekulized atoms: 7 8 9 10 11\n",
      "[03:15:03] Can't kekulize mol.  Unkekulized atoms: 6 7 8 9 10 11 12 14 15\n",
      "[03:15:03] Can't kekulize mol.  Unkekulized atoms: 5 6 7 8 9 10 11 12 14\n",
      "[03:15:03] Can't kekulize mol.  Unkekulized atoms: 1 2 3 4 5 6 7 8 9\n",
      "[03:15:03] Can't kekulize mol.  Unkekulized atoms: 5 6 7 8 9 10 11 13 14\n",
      "[03:15:03] Can't kekulize mol.  Unkekulized atoms: 5 6 7 8 9 10 12 13 14\n",
      "[03:15:03] Can't kekulize mol.  Unkekulized atoms: 4 5 6 7 8 9 10 11 12\n",
      "[03:15:03] Can't kekulize mol.  Unkekulized atoms: 5 6 7 8 9 10 11 12 14\n",
      "[03:15:03] Can't kekulize mol.  Unkekulized atoms: 2 3 4 5 6 7 8 9 15\n",
      "[03:15:03] Can't kekulize mol.  Unkekulized atoms: 3 4 5 6 7\n",
      "[03:15:03] Can't kekulize mol.  Unkekulized atoms: 4 5 6 7 8 9 10 12 13\n",
      "[03:15:03] Can't kekulize mol.  Unkekulized atoms: 5 6 7 8 9 11 12 13 14\n",
      "[03:15:03] Can't kekulize mol.  Unkekulized atoms: 1 2 3 4 5\n",
      "[03:15:03] Can't kekulize mol.  Unkekulized atoms: 1 2 3 4 5 6 7 8 14\n",
      "[03:15:03] Can't kekulize mol.  Unkekulized atoms: 5 6 7 8 9 10 11 12 14\n",
      "[03:15:03] Can't kekulize mol.  Unkekulized atoms: 5 6 7 8 9 10 11 12 14\n",
      "[03:15:03] Can't kekulize mol.  Unkekulized atoms: 5 6 7 8 9 10 11 13 14\n",
      "[03:15:03] Can't kekulize mol.  Unkekulized atoms: 2 3 4 5 6 12 13 14 15\n",
      "[03:15:03] Can't kekulize mol.  Unkekulized atoms: 1 2 3 4 5 6 7 8 13\n",
      "[03:15:03] Can't kekulize mol.  Unkekulized atoms: 5 6 7 8 9 10 11 13 14\n",
      "[03:15:03] Can't kekulize mol.  Unkekulized atoms: 3 4 5 6 7 8 9 10 11\n",
      "[03:15:03] Can't kekulize mol.  Unkekulized atoms: 5 6 7 8 9 10 11 12 14\n",
      "[03:15:03] Can't kekulize mol.  Unkekulized atoms: 5 6 7 8 9 10 12 13 14\n",
      "[03:15:03] Can't kekulize mol.  Unkekulized atoms: 5 6 7 8 9 10 11 13 14\n",
      "[03:15:03] Can't kekulize mol.  Unkekulized atoms: 6 7 8 9 10 11 12 14 15\n",
      "[03:15:03] Can't kekulize mol.  Unkekulized atoms: 2 3 4 5 6 7 13 14 15\n"
     ]
    },
    {
     "name": "stdout",
     "output_type": "stream",
     "text": [
      "Wrong SMILES for:  7176421 (removed!)\n",
      "Wrong SMILES for:  7176422 (removed!)\n",
      "Wrong SMILES for:  7176427 (removed!)\n",
      "Wrong SMILES for:  7176558 (removed!)\n",
      "Wrong SMILES for:  7176559 (removed!)\n",
      "Wrong SMILES for:  7176560 (removed!)\n",
      "Wrong SMILES for:  7176561 (removed!)\n",
      "Wrong SMILES for:  7176562 (removed!)\n",
      "Wrong SMILES for:  7176701 (removed!)\n",
      "Wrong SMILES for:  7176702 (removed!)\n",
      "Wrong SMILES for:  7176706 (removed!)\n",
      "Wrong SMILES for:  7176837 (removed!)\n",
      "Wrong SMILES for:  7176838 (removed!)\n",
      "Wrong SMILES for:  7176839 (removed!)\n",
      "Wrong SMILES for:  7176840 (removed!)\n",
      "Wrong SMILES for:  7176841 (removed!)\n",
      "Wrong SMILES for:  7176979 (removed!)\n",
      "Wrong SMILES for:  7176981 (removed!)\n",
      "Wrong SMILES for:  7176982 (removed!)\n",
      "Wrong SMILES for:  7177119 (removed!)\n",
      "Wrong SMILES for:  7177120 (removed!)\n",
      "Wrong SMILES for:  7177121 (removed!)\n",
      "Wrong SMILES for:  7177122 (removed!)\n",
      "Wrong SMILES for:  7177123 (removed!)\n",
      "Wrong SMILES for:  7177124 (removed!)\n",
      "Wrong SMILES for:  7177125 (removed!)\n",
      "Wrong SMILES for:  7177127 (removed!)\n",
      "Wrong SMILES for:  7177129 (removed!)\n",
      "Wrong SMILES for:  7177131 (removed!)\n",
      "Wrong SMILES for:  7177258 (removed!)\n",
      "Wrong SMILES for:  7177259 (removed!)\n",
      "Wrong SMILES for:  7177260 (removed!)\n",
      "Wrong SMILES for:  7177261 (removed!)\n",
      "Wrong SMILES for:  7177262 (removed!)\n",
      "Wrong SMILES for:  7177265 (removed!)\n",
      "Wrong SMILES for:  7177267 (removed!)\n",
      "Wrong SMILES for:  7177268 (removed!)\n",
      "Wrong SMILES for:  7177270 (removed!)\n",
      "Wrong SMILES for:  7177402 (removed!)\n",
      "Wrong SMILES for:  7177404 (removed!)\n",
      "Wrong SMILES for:  7177405 (removed!)\n",
      "Wrong SMILES for:  7177406 (removed!)\n",
      "Wrong SMILES for:  7177407 (removed!)\n"
     ]
    },
    {
     "name": "stderr",
     "output_type": "stream",
     "text": [
      "[03:15:03] Can't kekulize mol.  Unkekulized atoms: 5 6 7 8 9 10 11 12 13\n",
      "[03:15:03] Can't kekulize mol.  Unkekulized atoms: 7 8 9 10 11 12 13 14 16\n",
      "[03:15:03] Can't kekulize mol.  Unkekulized atoms: 5 6 7 8 9 11 12 13 14\n",
      "[03:15:03] Can't kekulize mol.  Unkekulized atoms: 1 2 3 5 7\n",
      "[03:15:03] Can't kekulize mol.  Unkekulized atoms: 3 4 5 6 7 8 9 11 12\n",
      "[03:15:03] Can't kekulize mol.  Unkekulized atoms: 3 4 5 6 7 8 9 10 11\n",
      "[03:15:03] Can't kekulize mol.  Unkekulized atoms: 3 4 5 6 7\n",
      "[03:15:03] Can't kekulize mol.  Unkekulized atoms: 2 3 4 6 7 8 9 10 11\n",
      "[03:15:03] Can't kekulize mol.  Unkekulized atoms: 1 2 3 4 5 6 7 8 9\n",
      "[03:15:03] Can't kekulize mol.  Unkekulized atoms: 15 16 17 18 19 20 21 22 23\n",
      "[03:15:03] Can't kekulize mol.  Unkekulized atoms: 4 5 6 7 8 9 11 12 13\n",
      "[03:15:03] Can't kekulize mol.  Unkekulized atoms: 4 5 6 7 8 9 10 12 13\n",
      "[03:15:03] Can't kekulize mol.  Unkekulized atoms: 1 2 5 6 7 8 9 10 11\n",
      "[03:15:03] Can't kekulize mol.  Unkekulized atoms: 4 5 6 7 8\n",
      "[03:15:03] Can't kekulize mol.  Unkekulized atoms: 1 2 3 4 6 8 9 10 11\n",
      "[03:15:03] Can't kekulize mol.  Unkekulized atoms: 2 3 4 5 6 8 18 19 20\n",
      "[03:15:03] Can't kekulize mol.  Unkekulized atoms: 1 2 3 4 5 6 7 8 9\n",
      "[03:15:03] Can't kekulize mol.  Unkekulized atoms: 1 2 3 5 6 7 8 9 10\n",
      "[03:15:03] Can't kekulize mol.  Unkekulized atoms: 5 6 7 8 9 10 11 12 13\n",
      "[03:15:03] Can't kekulize mol.  Unkekulized atoms: 4 5 6 7 8 9 10 11 12\n",
      "[03:15:03] Can't kekulize mol.  Unkekulized atoms: 2 3 4 5 6 7 8 9 10\n",
      "[03:15:03] Can't kekulize mol.  Unkekulized atoms: 1 2 3 4 6 7 8 9 10\n",
      "[03:15:03] Can't kekulize mol.  Unkekulized atoms: 4 5 6 7 8 9 10 12 13\n",
      "[03:15:03] Can't kekulize mol.  Unkekulized atoms: 1 2 3 4 6\n",
      "[03:15:03] Can't kekulize mol.  Unkekulized atoms: 1 2 3 4 5\n",
      "[03:15:03] Can't kekulize mol.  Unkekulized atoms: 1 2 3 4 6 7 8 9 10\n",
      "[03:15:03] Can't kekulize mol.  Unkekulized atoms: 4 5 6 7 8 10 11 12 13\n",
      "[03:15:03] Can't kekulize mol.  Unkekulized atoms: 4 5 6 8 9 10 11 12 13\n",
      "[03:15:03] Can't kekulize mol.  Unkekulized atoms: 4 5 6 7 9 10 12 13 14\n",
      "[03:15:03] Can't kekulize mol.  Unkekulized atoms: 2 3 4 5 7 8 9 10 11\n",
      "[03:15:03] Can't kekulize mol.  Unkekulized atoms: 5 6 7 8 9 10 11 12 13\n",
      "[03:15:03] Can't kekulize mol.  Unkekulized atoms: 4 5 6 7 8 9 10 12 13\n",
      "[03:15:03] Can't kekulize mol.  Unkekulized atoms: 1 2 3 4 5 6 7 8 11\n",
      "[03:15:03] Can't kekulize mol.  Unkekulized atoms: 5 6 7 8 10\n",
      "[03:15:03] Can't kekulize mol.  Unkekulized atoms: 3 4 5 6 7 8 9 11 12\n",
      "[03:15:03] Can't kekulize mol.  Unkekulized atoms: 3 4 5 6 7 8 9 10 12\n",
      "[03:15:03] Can't kekulize mol.  Unkekulized atoms: 11 12 13 14 15 24 25 26 27\n",
      "[03:15:03] Can't kekulize mol.  Unkekulized atoms: 4 5 6 7 8 9 10 11 12\n",
      "[03:15:03] Can't kekulize mol.  Unkekulized atoms: 1 2 3 4 5 6 7 8 9\n",
      "[03:15:03] Can't kekulize mol.  Unkekulized atoms: 5 6 7 8 9 11 12 13 14\n",
      "[03:15:03] Can't kekulize mol.  Unkekulized atoms: 4 5 6 7 8 9 10 11 12\n",
      "[03:15:03] Can't kekulize mol.  Unkekulized atoms: 4 5 6 7 8 9 10 11 12\n",
      "[03:15:03] Can't kekulize mol.  Unkekulized atoms: 2 3 4 5 6 7 8 9 10\n",
      "[03:15:03] Can't kekulize mol.  Unkekulized atoms: 1 2 3 4 5 6 7 8 9\n",
      "[03:15:03] Can't kekulize mol.  Unkekulized atoms: 1 2 3 5 6\n",
      "[03:15:03] Can't kekulize mol.  Unkekulized atoms: 3 4 5 6 7 8 9 10 11\n",
      "[03:15:03] Can't kekulize mol.  Unkekulized atoms: 4 5 6 7 8\n",
      "[03:15:03] Can't kekulize mol.  Unkekulized atoms: 1 2 3 4 5 6 7 9 10\n",
      "[03:15:03] Can't kekulize mol.  Unkekulized atoms: 5 6 7 8 9 10 12 13 14\n",
      "[03:15:03] Can't kekulize mol.  Unkekulized atoms: 1 2 3 4 5 6 7 8 9\n",
      "[03:15:03] Can't kekulize mol.  Unkekulized atoms: 1 2 3 4 5 6 7 8 11\n",
      "[03:15:03] Can't kekulize mol.  Unkekulized atoms: 5 6 7 8 9 10 11 12 13\n",
      "[03:15:03] Can't kekulize mol.  Unkekulized atoms: 4 5 6 7 8\n",
      "[03:15:03] Can't kekulize mol.  Unkekulized atoms: 4 5 6 7 8\n",
      "[03:15:03] Can't kekulize mol.  Unkekulized atoms: 5 6 7 8 9\n",
      "[03:15:03] Can't kekulize mol.  Unkekulized atoms: 3 4 5 6 7 8 9\n",
      "[03:15:03] Can't kekulize mol.  Unkekulized atoms: 2 3 4 5 6 7 8 9 10\n",
      "[03:15:03] Can't kekulize mol.  Unkekulized atoms: 3 4 5 6 7 8 9 11 12\n",
      "[03:15:03] Can't kekulize mol.  Unkekulized atoms: 3 4 5 6 7 8 9 10 11\n",
      "[03:15:03] Can't kekulize mol.  Unkekulized atoms: 3 4 5 6 7 8 9 10 11\n",
      "[03:15:03] Can't kekulize mol.  Unkekulized atoms: 3 4 5 6 7 8 9 10 12\n"
     ]
    },
    {
     "name": "stdout",
     "output_type": "stream",
     "text": [
      "Wrong SMILES for:  7177408 (removed!)\n",
      "Wrong SMILES for:  7177412 (removed!)\n",
      "Wrong SMILES for:  7177413 (removed!)\n",
      "Wrong SMILES for:  7177415 (removed!)\n",
      "Wrong SMILES for:  7177540 (removed!)\n",
      "Wrong SMILES for:  7177541 (removed!)\n",
      "Wrong SMILES for:  7177542 (removed!)\n",
      "Wrong SMILES for:  7177543 (removed!)\n",
      "Wrong SMILES for:  7177544 (removed!)\n",
      "Wrong SMILES for:  7177545 (removed!)\n",
      "Wrong SMILES for:  7177547 (removed!)\n",
      "Wrong SMILES for:  7177548 (removed!)\n",
      "Wrong SMILES for:  7177549 (removed!)\n",
      "Wrong SMILES for:  7177550 (removed!)\n",
      "Wrong SMILES for:  7177552 (removed!)\n",
      "Wrong SMILES for:  7177685 (removed!)\n",
      "Wrong SMILES for:  7177686 (removed!)\n",
      "Wrong SMILES for:  7177687 (removed!)\n",
      "Wrong SMILES for:  7177689 (removed!)\n",
      "Wrong SMILES for:  7177690 (removed!)\n",
      "Wrong SMILES for:  7177692 (removed!)\n",
      "Wrong SMILES for:  7177694 (removed!)\n",
      "Wrong SMILES for:  7177695 (removed!)\n",
      "Wrong SMILES for:  7177696 (removed!)\n",
      "Wrong SMILES for:  7177825 (removed!)\n",
      "Wrong SMILES for:  7177826 (removed!)\n",
      "Wrong SMILES for:  7177827 (removed!)\n",
      "Wrong SMILES for:  7177828 (removed!)\n",
      "Wrong SMILES for:  7177829 (removed!)\n",
      "Wrong SMILES for:  7177830 (removed!)\n",
      "Wrong SMILES for:  7177831 (removed!)\n",
      "Wrong SMILES for:  7177833 (removed!)\n",
      "Wrong SMILES for:  7177836 (removed!)\n",
      "Wrong SMILES for:  7177838 (removed!)\n",
      "Wrong SMILES for:  7177970 (removed!)\n",
      "Wrong SMILES for:  7177971 (removed!)\n",
      "Wrong SMILES for:  7177972 (removed!)\n",
      "Wrong SMILES for:  7177973 (removed!)\n",
      "Wrong SMILES for:  7177974 (removed!)\n",
      "Wrong SMILES for:  7177975 (removed!)\n",
      "Wrong SMILES for:  7177979 (removed!)\n",
      "Wrong SMILES for:  7177980 (removed!)\n",
      "Wrong SMILES for:  7177981 (removed!)\n",
      "Wrong SMILES for:  7177982 (removed!)\n",
      "Wrong SMILES for:  7178114 (removed!)\n",
      "Wrong SMILES for:  7178115 (removed!)\n",
      "Wrong SMILES for:  7178116 (removed!)\n",
      "Wrong SMILES for:  7178117 (removed!)\n",
      "Wrong SMILES for:  7178118 (removed!)\n",
      "Wrong SMILES for:  7178122 (removed!)\n",
      "Wrong SMILES for:  7178124 (removed!)\n",
      "Wrong SMILES for:  7178254 (removed!)\n",
      "Wrong SMILES for:  7178255 (removed!)\n",
      "Wrong SMILES for:  7178256 (removed!)\n",
      "Wrong SMILES for:  7178257 (removed!)\n",
      "Wrong SMILES for:  7178258 (removed!)\n",
      "Wrong SMILES for:  7178261 (removed!)\n",
      "Wrong SMILES for:  7178262 (removed!)\n",
      "Wrong SMILES for:  7178263 (removed!)\n",
      "Wrong SMILES for:  7178264 (removed!)\n",
      "Wrong SMILES for:  7178398 (removed!)\n",
      "Wrong SMILES for:  7178399 (removed!)\n",
      "Wrong SMILES for:  7178400 (removed!)\n",
      "Wrong SMILES for:  7178403 (removed!)\n",
      "Wrong SMILES for:  7178404 (removed!)\n",
      "Wrong SMILES for:  7178405 (removed!)\n",
      "Wrong SMILES for:  7178407 (removed!)\n"
     ]
    },
    {
     "name": "stderr",
     "output_type": "stream",
     "text": [
      "[03:15:04] Can't kekulize mol.  Unkekulized atoms: 6 7 8 9 10 11 12 13 14\n",
      "[03:15:04] Can't kekulize mol.  Unkekulized atoms: 3 4 5 6 7 9 10 11 12\n",
      "[03:15:04] Can't kekulize mol.  Unkekulized atoms: 2 3 4 5 6 7 8 9 10\n",
      "[03:15:04] Can't kekulize mol.  Unkekulized atoms: 1 2 3 4 6\n",
      "[03:15:04] Can't kekulize mol.  Unkekulized atoms: 1 2 3 4 5 6 7 8 9\n",
      "[03:15:04] Can't kekulize mol.  Unkekulized atoms: 4 5 6 7 8 9 11 12 13\n",
      "[03:15:04] Can't kekulize mol.  Unkekulized atoms: 9 10 11 12 13 14 15 16 17\n",
      "[03:15:04] Can't kekulize mol.  Unkekulized atoms: 1 2 3 4 5 6 7 9 10\n",
      "[03:15:04] Can't kekulize mol.  Unkekulized atoms: 1 2 3 4 5 6 7 8 9\n",
      "[03:15:04] Can't kekulize mol.  Unkekulized atoms: 4 5 6 7 8 9 10 11 12\n",
      "[03:15:04] Can't kekulize mol.  Unkekulized atoms: 4 5 6 7 8 9 10 11 12\n",
      "[03:15:04] Can't kekulize mol.  Unkekulized atoms: 1 2 3 4 5 6 7 8 9\n",
      "[03:15:04] Can't kekulize mol.  Unkekulized atoms: 1 2 3 4 5 6 7 8 9\n",
      "[03:15:04] Can't kekulize mol.  Unkekulized atoms: 1 2 3 4 5 6 10 11 12\n",
      "[03:15:04] Can't kekulize mol.  Unkekulized atoms: 2 3 4 5 8\n",
      "[03:15:04] Can't kekulize mol.  Unkekulized atoms: 1 2 3 4 5 6 7 10 11\n",
      "[03:15:04] Can't kekulize mol.  Unkekulized atoms: 1 2 3 4 5 6 7 8 11\n",
      "[03:15:04] Can't kekulize mol.  Unkekulized atoms: 5 6 7 8 9 10 12 13 14\n",
      "[03:15:04] Can't kekulize mol.  Unkekulized atoms: 5 6 7 8 9 10 11 12 13\n",
      "[03:15:04] Can't kekulize mol.  Unkekulized atoms: 3 4 5 7 8 10 11\n",
      "[03:15:04] Can't kekulize mol.  Unkekulized atoms: 1 2 3 4 7\n",
      "[03:15:04] Can't kekulize mol.  Unkekulized atoms: 1 2 3 4 5 6 9 10 11\n",
      "[03:15:04] Can't kekulize mol.  Unkekulized atoms: 3 4 5 6 7 8 9 10 11\n",
      "[03:15:04] Can't kekulize mol.  Unkekulized atoms: 3 4 5 6 7 8 9 10 11\n",
      "[03:15:04] Can't kekulize mol.  Unkekulized atoms: 1 2 3 4 5\n",
      "[03:15:04] Can't kekulize mol.  Unkekulized atoms: 1 2 3 4 5 6 7 10 11\n",
      "[03:15:04] Can't kekulize mol.  Unkekulized atoms: 4 5 6 7 8 9 11 12 13\n",
      "[03:15:04] Can't kekulize mol.  Unkekulized atoms: 2 3 4 5 6 7 8 9 10\n",
      "[03:15:04] Can't kekulize mol.  Unkekulized atoms: 4 5 6 7 8 9 10 12 13\n",
      "[03:15:04] Can't kekulize mol.  Unkekulized atoms: 5 6 7 8 9 10 11 12 13\n",
      "[03:15:04] Can't kekulize mol.  Unkekulized atoms: 4 5 6 7 9 10 11 12 13\n",
      "[03:15:04] Can't kekulize mol.  Unkekulized atoms: 3 4 5 6 7 8 9 10 11\n",
      "[03:15:04] Can't kekulize mol.  Unkekulized atoms: 4 5 6 7 8 9 10 12 13\n",
      "[03:15:04] Can't kekulize mol.  Unkekulized atoms: 2 3 4 5 6\n",
      "[03:15:04] Can't kekulize mol.  Unkekulized atoms: 1 2 3 4 5 6 7 8 9\n",
      "[03:15:04] Can't kekulize mol.  Unkekulized atoms: 4 5 6 7 8 9 12 13 14\n",
      "[03:15:04] Can't kekulize mol.  Unkekulized atoms: 1 2 3 4 5 6 7 8 9\n",
      "[03:15:04] Can't kekulize mol.  Unkekulized atoms: 4 5 6 7 9 10 11 12 13\n",
      "[03:15:04] Can't kekulize mol.  Unkekulized atoms: 1 2 3 4 5 6 7 8 9\n",
      "[03:15:04] Can't kekulize mol.  Unkekulized atoms: 1 2 3 4 5 6 11 12 13\n",
      "[03:15:04] Can't kekulize mol.  Unkekulized atoms: 1 2 3 4 5 6 7 8 9\n",
      "[03:15:04] Can't kekulize mol.  Unkekulized atoms: 5 6 7 8 9 10 11 12 13\n",
      "[03:15:04] Can't kekulize mol.  Unkekulized atoms: 4 5 6 7 9\n",
      "[03:15:04] Can't kekulize mol.  Unkekulized atoms: 4 5 6 7 9 10 11 12 13\n",
      "[03:15:04] Can't kekulize mol.  Unkekulized atoms: 2 3 4 5 6 7 9 10 11\n",
      "[03:15:04] Can't kekulize mol.  Unkekulized atoms: 3 4 5 6 7 8 10 11 12\n",
      "[03:15:04] Can't kekulize mol.  Unkekulized atoms: 1 2 3 5 6 7 8 9 10\n",
      "[03:15:04] Can't kekulize mol.  Unkekulized atoms: 4 5 6 7 8 9 11 12 13\n",
      "[03:15:04] Can't kekulize mol.  Unkekulized atoms: 3 4 5 7 8 9 10 11 12\n",
      "[03:15:04] Can't kekulize mol.  Unkekulized atoms: 6 7 8 9 10 11 12 13 14\n",
      "[03:15:04] Can't kekulize mol.  Unkekulized atoms: 1 2 3 4 5 6 7 8 9\n",
      "[03:15:04] Can't kekulize mol.  Unkekulized atoms: 1 2 3 4 5 6 7 8 9\n",
      "[03:15:04] Can't kekulize mol.  Unkekulized atoms: 4 5 6 7 9 10 11 12 13\n",
      "[03:15:04] Can't kekulize mol.  Unkekulized atoms: 4 5 6 7 8 9 10 11 12\n"
     ]
    },
    {
     "name": "stdout",
     "output_type": "stream",
     "text": [
      "Wrong SMILES for:  7178536 (removed!)\n",
      "Wrong SMILES for:  7178537 (removed!)\n",
      "Wrong SMILES for:  7178538 (removed!)\n",
      "Wrong SMILES for:  7178539 (removed!)\n",
      "Wrong SMILES for:  7178542 (removed!)\n",
      "Wrong SMILES for:  7178545 (removed!)\n",
      "Wrong SMILES for:  7178672 (removed!)\n",
      "Wrong SMILES for:  7178673 (removed!)\n",
      "Wrong SMILES for:  7178674 (removed!)\n",
      "Wrong SMILES for:  7178675 (removed!)\n",
      "Wrong SMILES for:  7178679 (removed!)\n",
      "Wrong SMILES for:  7178681 (removed!)\n",
      "Wrong SMILES for:  7178817 (removed!)\n",
      "Wrong SMILES for:  7178818 (removed!)\n",
      "Wrong SMILES for:  7178819 (removed!)\n",
      "Wrong SMILES for:  7178820 (removed!)\n",
      "Wrong SMILES for:  7178821 (removed!)\n",
      "Wrong SMILES for:  7178823 (removed!)\n",
      "Wrong SMILES for:  7178824 (removed!)\n",
      "Wrong SMILES for:  7178825 (removed!)\n",
      "Wrong SMILES for:  7178826 (removed!)\n",
      "Wrong SMILES for:  7178954 (removed!)\n",
      "Wrong SMILES for:  7178955 (removed!)\n",
      "Wrong SMILES for:  7178956 (removed!)\n",
      "Wrong SMILES for:  7178957 (removed!)\n",
      "Wrong SMILES for:  7178958 (removed!)\n",
      "Wrong SMILES for:  7178959 (removed!)\n",
      "Wrong SMILES for:  7178960 (removed!)\n",
      "Wrong SMILES for:  7178963 (removed!)\n",
      "Wrong SMILES for:  7178964 (removed!)\n",
      "Wrong SMILES for:  7178967 (removed!)\n",
      "Wrong SMILES for:  7179101 (removed!)\n",
      "Wrong SMILES for:  7179102 (removed!)\n",
      "Wrong SMILES for:  7179103 (removed!)\n",
      "Wrong SMILES for:  7179104 (removed!)\n",
      "Wrong SMILES for:  7179105 (removed!)\n",
      "Wrong SMILES for:  7179106 (removed!)\n",
      "Wrong SMILES for:  7179108 (removed!)\n",
      "Wrong SMILES for:  7179111 (removed!)\n",
      "Wrong SMILES for:  7179112 (removed!)\n",
      "Wrong SMILES for:  7179244 (removed!)\n",
      "Wrong SMILES for:  7179245 (removed!)\n",
      "Wrong SMILES for:  7179246 (removed!)\n",
      "Wrong SMILES for:  7179247 (removed!)\n",
      "Wrong SMILES for:  7179248 (removed!)\n",
      "Wrong SMILES for:  7179251 (removed!)\n",
      "Wrong SMILES for:  7179252 (removed!)\n",
      "Wrong SMILES for:  7179254 (removed!)\n",
      "Wrong SMILES for:  7179256 (removed!)\n",
      "Wrong SMILES for:  7179401 (removed!)\n",
      "Wrong SMILES for:  7179402 (removed!)\n",
      "Wrong SMILES for:  7179403 (removed!)\n",
      "Wrong SMILES for:  7179406 (removed!)\n",
      "Wrong SMILES for:  7179407 (removed!)\n",
      "Wrong SMILES for:  7179408 (removed!)\n",
      "Wrong SMILES for:  7179409 (removed!)\n",
      "Wrong SMILES for:  7179410 (removed!)\n"
     ]
    },
    {
     "name": "stderr",
     "output_type": "stream",
     "text": [
      "[03:15:04] Can't kekulize mol.  Unkekulized atoms: 1 2 3 5 8\n",
      "[03:15:04] Can't kekulize mol.  Unkekulized atoms: 2 3 4 5 6 7 8 9 10\n",
      "[03:15:04] Can't kekulize mol.  Unkekulized atoms: 2 3 4 5 6 7 8 9 10\n",
      "[03:15:04] Can't kekulize mol.  Unkekulized atoms: 3 4 5 6 7 8 10 11 12\n",
      "[03:15:04] Can't kekulize mol.  Unkekulized atoms: 4 5 6 7 8 9 10 11 12\n",
      "[03:15:04] Can't kekulize mol.  Unkekulized atoms: 13 14 15 16 17 18 19 20 21 22 23 24 25\n",
      "[03:15:04] Can't kekulize mol.  Unkekulized atoms: 2 3 4 5 6 7 8 10 11\n",
      "[03:15:04] Can't kekulize mol.  Unkekulized atoms: 8 9 10 11 13 14 15 16 17\n",
      "[03:15:04] Can't kekulize mol.  Unkekulized atoms: 3 4 5 6 7 8 9 10 11\n",
      "[03:15:04] Can't kekulize mol.  Unkekulized atoms: 1 2 3 4 5 6 7 8 9\n",
      "[03:15:04] Can't kekulize mol.  Unkekulized atoms: 6 7 8 9 10\n",
      "[03:15:04] Can't kekulize mol.  Unkekulized atoms: 1 2 3 4 5 6 7 8 9\n",
      "[03:15:04] Can't kekulize mol.  Unkekulized atoms: 1 2 3 4 6 8 9 10 11\n",
      "[03:15:04] Can't kekulize mol.  Unkekulized atoms: 4 5 6 7 8 9 10 11 12\n",
      "[03:15:04] Can't kekulize mol.  Unkekulized atoms: 2 3 4 5 6 7 8 9 10\n",
      "[03:15:04] Can't kekulize mol.  Unkekulized atoms: 1 2 3 4 5 6 7 8 9\n",
      "[03:15:04] Can't kekulize mol.  Unkekulized atoms: 1 2 3 4 5 6 7 10 11\n",
      "[03:15:04] Can't kekulize mol.  Unkekulized atoms: 4 5 6 7 9 10 11 12 13\n",
      "[03:15:04] Can't kekulize mol.  Unkekulized atoms: 1 2 3 4 6 7 8 9 10\n",
      "[03:15:04] Can't kekulize mol.  Unkekulized atoms: 5 6 7 8 10 11 13 14 15\n",
      "[03:15:04] Can't kekulize mol.  Unkekulized atoms: 4 5 6 7 8 9 10 11 13\n",
      "[03:15:04] Can't kekulize mol.  Unkekulized atoms: 1 2 3 4 5 6 7 8 9\n",
      "[03:15:04] Can't kekulize mol.  Unkekulized atoms: 1 2 3 4 5 6 7 8 9\n",
      "[03:15:04] Can't kekulize mol.  Unkekulized atoms: 3 4 5 6 7\n",
      "[03:15:04] Can't kekulize mol.  Unkekulized atoms: 3 4 5 6 7 8 9 10 11\n",
      "[03:15:04] Can't kekulize mol.  Unkekulized atoms: 1 2 3 4 5 6 7 8 10\n",
      "[03:15:04] Can't kekulize mol.  Unkekulized atoms: 1 2 3 4 5 6 7 8 9\n",
      "[03:15:04] Can't kekulize mol.  Unkekulized atoms: 1 2 3 4 5 6 7 8 9\n",
      "[03:15:04] Can't kekulize mol.  Unkekulized atoms: 1 2 3 5 6 7 9 10 11\n",
      "[03:15:04] Can't kekulize mol.  Unkekulized atoms: 3 4 5 6 7 8 9 10 11\n",
      "[03:15:04] Can't kekulize mol.  Unkekulized atoms: 1 2 3 4 5 6 7 8 9\n",
      "[03:15:04] Can't kekulize mol.  Unkekulized atoms: 0 1 2 3 4 5 6 7 8\n",
      "[03:15:04] Can't kekulize mol.  Unkekulized atoms: 4 5 6 7 8 9 10 11 12\n",
      "[03:15:04] Can't kekulize mol.  Unkekulized atoms: 5 6 7 8 9\n",
      "[03:15:04] Can't kekulize mol.  Unkekulized atoms: 1 2 3 4 5 6 7 8 9\n",
      "[03:15:04] Can't kekulize mol.  Unkekulized atoms: 1 2 3 4 6 7 8 9 10\n",
      "[03:15:04] Can't kekulize mol.  Unkekulized atoms: 4 5 6 7 8 9 10 11 12\n",
      "[03:15:04] Can't kekulize mol.  Unkekulized atoms: 3 4 5 6 7\n",
      "[03:15:04] Can't kekulize mol.  Unkekulized atoms: 2 3 4 5 6\n",
      "[03:15:04] Can't kekulize mol.  Unkekulized atoms: 2 3 4 5 6\n",
      "[03:15:04] Can't kekulize mol.  Unkekulized atoms: 4 5 6 8 9 10 11 12 13\n",
      "[03:15:04] Can't kekulize mol.  Unkekulized atoms: 6 7 8 9 10 11 12 13 14\n",
      "[03:15:04] Can't kekulize mol.  Unkekulized atoms: 3 4 5 6 7 8 9 10 11\n",
      "[03:15:04] Can't kekulize mol.  Unkekulized atoms: 1 2 3 4 5\n",
      "[03:15:04] Can't kekulize mol.  Unkekulized atoms: 1 2 3 4 5 6 7 8 9\n",
      "[03:15:04] Can't kekulize mol.  Unkekulized atoms: 3 4 5 6 7 8 9 10 11\n",
      "[03:15:04] Can't kekulize mol.  Unkekulized atoms: 4 5 6 7 8 9 10 11 12\n",
      "[03:15:04] Can't kekulize mol.  Unkekulized atoms: 1 2 3 4 6 7 8 9 10\n",
      "[03:15:04] Can't kekulize mol.  Unkekulized atoms: 4 5 6 8 9 10 11 12 13\n"
     ]
    },
    {
     "name": "stdout",
     "output_type": "stream",
     "text": [
      "Wrong SMILES for:  7179563 (removed!)\n",
      "Wrong SMILES for:  7179564 (removed!)\n",
      "Wrong SMILES for:  7179567 (removed!)\n",
      "Wrong SMILES for:  7179568 (removed!)\n",
      "Wrong SMILES for:  7179570 (removed!)\n",
      "Wrong SMILES for:  7179729 (removed!)\n",
      "Wrong SMILES for:  7179730 (removed!)\n",
      "Wrong SMILES for:  7179731 (removed!)\n",
      "Wrong SMILES for:  7179734 (removed!)\n",
      "Wrong SMILES for:  7179889 (removed!)\n",
      "Wrong SMILES for:  7179890 (removed!)\n",
      "Wrong SMILES for:  7179893 (removed!)\n",
      "Wrong SMILES for:  7179895 (removed!)\n",
      "Wrong SMILES for:  7180049 (removed!)\n",
      "Wrong SMILES for:  7180050 (removed!)\n",
      "Wrong SMILES for:  7180200 (removed!)\n",
      "Wrong SMILES for:  7180201 (removed!)\n",
      "Wrong SMILES for:  7180202 (removed!)\n",
      "Wrong SMILES for:  7180205 (removed!)\n",
      "Wrong SMILES for:  7180212 (removed!)\n",
      "Wrong SMILES for:  7180356 (removed!)\n",
      "Wrong SMILES for:  7180357 (removed!)\n",
      "Wrong SMILES for:  7180359 (removed!)\n",
      "Wrong SMILES for:  7180360 (removed!)\n",
      "Wrong SMILES for:  7180361 (removed!)\n",
      "Wrong SMILES for:  7180362 (removed!)\n",
      "Wrong SMILES for:  7180517 (removed!)\n",
      "Wrong SMILES for:  7180519 (removed!)\n",
      "Wrong SMILES for:  7180521 (removed!)\n",
      "Wrong SMILES for:  7180526 (removed!)\n"
     ]
    },
    {
     "name": "stderr",
     "output_type": "stream",
     "text": [
      "[03:15:04] Can't kekulize mol.  Unkekulized atoms: 1 2 3 4 5 6 10 11 12\n",
      "[03:15:04] Can't kekulize mol.  Unkekulized atoms: 4 5 6 7 8 9 10 11 13\n",
      "[03:15:04] Can't kekulize mol.  Unkekulized atoms: 1 2 3 5 6 7 9 10 11\n",
      "[03:15:04] Can't kekulize mol.  Unkekulized atoms: 6 7 8 9 10 12 13 14 15\n",
      "[03:15:04] Can't kekulize mol.  Unkekulized atoms: 4 5 6 7 8 9 10 11 13\n",
      "[03:15:04] Can't kekulize mol.  Unkekulized atoms: 4 5 6 7 9 10 11 12 13\n",
      "[03:15:04] Can't kekulize mol.  Unkekulized atoms: 2 3 4 5 6\n",
      "[03:15:04] Can't kekulize mol.  Unkekulized atoms: 4 5 6 7 8 10 11 12 13\n",
      "[03:15:04] Can't kekulize mol.  Unkekulized atoms: 4 5 6 7 8 9 10 11 14\n",
      "[03:15:04] Can't kekulize mol.  Unkekulized atoms: 1 2 3 4 5 6 7 8 10\n",
      "[03:15:04] Can't kekulize mol.  Unkekulized atoms: 13 14 15 16 17\n",
      "[03:15:04] Can't kekulize mol.  Unkekulized atoms: 5 6 7 8 9 11 12 13 14\n",
      "[03:15:04] Can't kekulize mol.  Unkekulized atoms: 9 10 11 12 13 14 15 16 17\n",
      "[03:15:04] Can't kekulize mol.  Unkekulized atoms: 5 6 7 8 9 11 12 13 14\n",
      "[03:15:04] Can't kekulize mol.  Unkekulized atoms: 1 2 3 4 5 6 14 15 16\n",
      "[03:15:04] Can't kekulize mol.  Unkekulized atoms: 4 5 6 7 8 10 11 12 13\n",
      "[03:15:04] Can't kekulize mol.  Unkekulized atoms: 1 2 3 4 5 6 8 9 10\n",
      "[03:15:04] Can't kekulize mol.  Unkekulized atoms: 4 5 6 7 8 10 11 12 13\n",
      "[03:15:04] Can't kekulize mol.  Unkekulized atoms: 2 3 4 5 6 7 8 9 10\n",
      "[03:15:04] Can't kekulize mol.  Unkekulized atoms: 1 2 3 4 5 6 7 8 9\n",
      "[03:15:04] Can't kekulize mol.  Unkekulized atoms: 5 6 7 8 9 10 11 12 13\n",
      "[03:15:04] Can't kekulize mol.  Unkekulized atoms: 5 6 7 8 10 11 12 13 14\n",
      "[03:15:04] Can't kekulize mol.  Unkekulized atoms: 5 6 7 8 9 11 12 13 14\n",
      "[03:15:04] Can't kekulize mol.  Unkekulized atoms: 1 2 3 4 5 6 8 9 10\n",
      "[03:15:04] Can't kekulize mol.  Unkekulized atoms: 1 2 3 5 6 7 8 9 10\n",
      "[03:15:04] Can't kekulize mol.  Unkekulized atoms: 1 2 3 4 5 6 7 9 10\n",
      "[03:15:04] Can't kekulize mol.  Unkekulized atoms: 3 4 5 6 7 9 10 11 12\n",
      "[03:15:04] Can't kekulize mol.  Unkekulized atoms: 1 2 3 4 5 6 7 9 10\n",
      "[03:15:04] Can't kekulize mol.  Unkekulized atoms: 3 4 5 6 7 8 10 11 12\n",
      "[03:15:04] Can't kekulize mol.  Unkekulized atoms: 4 5 6 7 8 9 10 11 12\n",
      "[03:15:04] Can't kekulize mol.  Unkekulized atoms: 7 8 9 10 11 12 13 14 15\n",
      "[03:15:04] Can't kekulize mol.  Unkekulized atoms: 2 3 4 5 6 7 9 10 11\n",
      "[03:15:04] Can't kekulize mol.  Unkekulized atoms: 1 2 3 4 5 6 7 8 9\n",
      "[03:15:04] Can't kekulize mol.  Unkekulized atoms: 1 2 3 4 5 6 7 8 9\n"
     ]
    },
    {
     "name": "stdout",
     "output_type": "stream",
     "text": [
      "Wrong SMILES for:  7180674 (removed!)\n",
      "Wrong SMILES for:  7180675 (removed!)\n",
      "Wrong SMILES for:  7180678 (removed!)\n",
      "Wrong SMILES for:  7180683 (removed!)\n",
      "Wrong SMILES for:  7180834 (removed!)\n",
      "Wrong SMILES for:  7180835 (removed!)\n",
      "Wrong SMILES for:  7180838 (removed!)\n",
      "Wrong SMILES for:  7180839 (removed!)\n",
      "Wrong SMILES for:  7180990 (removed!)\n",
      "Wrong SMILES for:  7180991 (removed!)\n",
      "Wrong SMILES for:  7180992 (removed!)\n",
      "Wrong SMILES for:  7180994 (removed!)\n",
      "Wrong SMILES for:  7180996 (removed!)\n",
      "Wrong SMILES for:  7181152 (removed!)\n",
      "Wrong SMILES for:  7181155 (removed!)\n",
      "Wrong SMILES for:  7181157 (removed!)\n",
      "Wrong SMILES for:  7181158 (removed!)\n",
      "Wrong SMILES for:  7181307 (removed!)\n",
      "Wrong SMILES for:  7181309 (removed!)\n",
      "Wrong SMILES for:  7181311 (removed!)\n",
      "Wrong SMILES for:  7181312 (removed!)\n",
      "Wrong SMILES for:  7181313 (removed!)\n",
      "Wrong SMILES for:  7181319 (removed!)\n",
      "Wrong SMILES for:  7181460 (removed!)\n",
      "Wrong SMILES for:  7181466 (removed!)\n",
      "Wrong SMILES for:  7181468 (removed!)\n",
      "Wrong SMILES for:  7181469 (removed!)\n",
      "Wrong SMILES for:  7181475 (removed!)\n",
      "Wrong SMILES for:  7181476 (removed!)\n",
      "Wrong SMILES for:  7181623 (removed!)\n"
     ]
    },
    {
     "name": "stderr",
     "output_type": "stream",
     "text": [
      "[03:15:04] Can't kekulize mol.  Unkekulized atoms: 1 2 3 4 5 7 8 9 10\n",
      "[03:15:04] Can't kekulize mol.  Unkekulized atoms: 1 2 3 4 5 7 8 10 11\n",
      "[03:15:04] Can't kekulize mol.  Unkekulized atoms: 5 6 7 8 9 10 11 12 13\n",
      "[03:15:04] Can't kekulize mol.  Unkekulized atoms: 1 2 3 4 5 6 7 8 9\n",
      "[03:15:04] Can't kekulize mol.  Unkekulized atoms: 1 2 3 4 5 6 7 9 10\n",
      "[03:15:04] Can't kekulize mol.  Unkekulized atoms: 5 6 7 8 9 12 13 14 15\n",
      "[03:15:04] Can't kekulize mol.  Unkekulized atoms: 5 6 7 8 9 10 11 12 13\n",
      "[03:15:04] Can't kekulize mol.  Unkekulized atoms: 1 2 3 4 7 8 9 10 11\n",
      "[03:15:04] Can't kekulize mol.  Unkekulized atoms: 3 4 5 6 7 8 9 10 11\n",
      "[03:15:04] Can't kekulize mol.  Unkekulized atoms: 1 2 3 4 5 6 7 8 9\n",
      "[03:15:04] Can't kekulize mol.  Unkekulized atoms: 4 5 6 7 8 9 10 11 12\n",
      "[03:15:04] Can't kekulize mol.  Unkekulized atoms: 2 3 4 5 6 7 8 9 10\n",
      "[03:15:04] Can't kekulize mol.  Unkekulized atoms: 2 3 4 5 6 8 9 10 11\n",
      "[03:15:04] Can't kekulize mol.  Unkekulized atoms: 2 3 4 5 6 8 9 10 11\n",
      "[03:15:04] Can't kekulize mol.  Unkekulized atoms: 9 10 11 12 14 15 16 17 18\n",
      "[03:15:04] Can't kekulize mol.  Unkekulized atoms: 3 4 5 6 7 8 9 10 11\n",
      "[03:15:04] Can't kekulize mol.  Unkekulized atoms: 1 2 3 4 5\n",
      "[03:15:04] Can't kekulize mol.  Unkekulized atoms: 0 1 2 3 4 5 6 7 8\n",
      "[03:15:04] Can't kekulize mol.  Unkekulized atoms: 4 5 6 9 10 11 12 13 14\n",
      "[03:15:04] Can't kekulize mol.  Unkekulized atoms: 1 2 3 4 5 6 7 16 17\n",
      "[03:15:04] Can't kekulize mol.  Unkekulized atoms: 1 2 3 4 5 6 9 10 11\n",
      "[03:15:04] Can't kekulize mol.  Unkekulized atoms: 1 2 3 4 5 6 7 8 9\n",
      "[03:15:04] Can't kekulize mol.  Unkekulized atoms: 1 2 3 4 5 6 9 10 11\n",
      "[03:15:04] Can't kekulize mol.  Unkekulized atoms: 1 2 3 4 5 6 7 8 9\n",
      "[03:15:04] Can't kekulize mol.  Unkekulized atoms: 7 8 9 10 11 12 13 15 16\n",
      "[03:15:04] Can't kekulize mol.  Unkekulized atoms: 2 3 4 5 6 7 9 10 11\n"
     ]
    },
    {
     "name": "stdout",
     "output_type": "stream",
     "text": [
      "Wrong SMILES for:  7181777 (removed!)\n",
      "Wrong SMILES for:  7181778 (removed!)\n",
      "Wrong SMILES for:  7181781 (removed!)\n",
      "Wrong SMILES for:  7181783 (removed!)\n",
      "Wrong SMILES for:  7181784 (removed!)\n",
      "Wrong SMILES for:  7181789 (removed!)\n",
      "Wrong SMILES for:  7181918 (removed!)\n",
      "Wrong SMILES for:  7181922 (removed!)\n",
      "Wrong SMILES for:  7181927 (removed!)\n",
      "Wrong SMILES for:  7182061 (removed!)\n",
      "Wrong SMILES for:  7182062 (removed!)\n",
      "Wrong SMILES for:  7182197 (removed!)\n",
      "Wrong SMILES for:  7182199 (removed!)\n",
      "Wrong SMILES for:  7182349 (removed!)\n",
      "Wrong SMILES for:  7182487 (removed!)\n",
      "Wrong SMILES for:  7182488 (removed!)\n",
      "Wrong SMILES for:  7182495 (removed!)\n",
      "Wrong SMILES for:  7182624 (removed!)\n",
      "Wrong SMILES for:  7182628 (removed!)\n",
      "Wrong SMILES for:  7182630 (removed!)\n",
      "Wrong SMILES for:  7182638 (removed!)\n",
      "Wrong SMILES for:  7182768 (removed!)\n",
      "Wrong SMILES for:  7182772 (removed!)\n",
      "Wrong SMILES for:  7182782 (removed!)\n",
      "Wrong SMILES for:  7182915 (removed!)\n",
      "Wrong SMILES for:  7182916 (removed!)\n"
     ]
    },
    {
     "name": "stderr",
     "output_type": "stream",
     "text": [
      "[03:15:04] Can't kekulize mol.  Unkekulized atoms: 5 6 7 9 10 11 14 15 16\n",
      "[03:15:04] Can't kekulize mol.  Unkekulized atoms: 1 2 3 4 6 7 8 9 10\n",
      "[03:15:04] Can't kekulize mol.  Unkekulized atoms: 3 4 5 6 7\n",
      "[03:15:04] Can't kekulize mol.  Unkekulized atoms: 1 2 3 4 5 6 8 9 10\n",
      "[03:15:04] Can't kekulize mol.  Unkekulized atoms: 5 6 7 8 9 10 13 14 15\n",
      "[03:15:04] Can't kekulize mol.  Unkekulized atoms: 1 2 4 5 6 7 8 9 10\n",
      "[03:15:04] Can't kekulize mol.  Unkekulized atoms: 4 5 6 7 8 10 11 12 13\n",
      "[03:15:04] Can't kekulize mol.  Unkekulized atoms: 1 2 3 4 5 9 10 11 12\n",
      "[03:15:05] Can't kekulize mol.  Unkekulized atoms: 4 5 6 7 8 9 12 13 14\n",
      "[03:15:05] Can't kekulize mol.  Unkekulized atoms: 1 2 3 4 14 15 16 17 18\n",
      "[03:15:05] Can't kekulize mol.  Unkekulized atoms: 1 2 3 4 5 6 11 12 13\n",
      "[03:15:05] Can't kekulize mol.  Unkekulized atoms: 5 6 7 8 9 10 11 12 13\n",
      "[03:15:05] Can't kekulize mol.  Unkekulized atoms: 4 5 6 7 8\n",
      "[03:15:05] Can't kekulize mol.  Unkekulized atoms: 1 2 3 4 5 6 7 12 13\n",
      "[03:15:05] Can't kekulize mol.  Unkekulized atoms: 2 3 4 5 6 7 8 9 10\n"
     ]
    },
    {
     "name": "stdout",
     "output_type": "stream",
     "text": [
      "Wrong SMILES for:  7183333 (removed!)\n",
      "Wrong SMILES for:  7183338 (removed!)\n",
      "Wrong SMILES for:  7183481 (removed!)\n",
      "Wrong SMILES for:  7183613 (removed!)\n",
      "Wrong SMILES for:  7183614 (removed!)\n",
      "Wrong SMILES for:  7183618 (removed!)\n",
      "Wrong SMILES for:  7183621 (removed!)\n",
      "Wrong SMILES for:  7183622 (removed!)\n",
      "Wrong SMILES for:  7183628 (removed!)\n",
      "Wrong SMILES for:  7183760 (removed!)\n",
      "Wrong SMILES for:  7183761 (removed!)\n",
      "Wrong SMILES for:  7183893 (removed!)\n",
      "Wrong SMILES for:  7183894 (removed!)\n",
      "Wrong SMILES for:  7183897 (removed!)\n",
      "Wrong SMILES for:  7183898 (removed!)\n",
      "Wrong SMILES for:  7183907 (removed!)\n",
      "Wrong SMILES for:  7184198 (removed!)\n",
      "Wrong SMILES for:  7184199 (removed!)\n",
      "Wrong SMILES for:  7184201 (removed!)\n",
      "Wrong SMILES for:  7184203 (removed!)\n",
      "Wrong SMILES for:  7184204 (removed!)\n",
      "Wrong SMILES for:  7184209 (removed!)\n",
      "Wrong SMILES for:  7184354 (removed!)\n",
      "Wrong SMILES for:  7184355 (removed!)\n",
      "Wrong SMILES for:  7184356 (removed!)\n",
      "Wrong SMILES for:  7184362 (removed!)\n"
     ]
    },
    {
     "name": "stderr",
     "output_type": "stream",
     "text": [
      "[03:15:05] Can't kekulize mol.  Unkekulized atoms: 3 4 5 6 7 8 9 10 11\n",
      "[03:15:05] Can't kekulize mol.  Unkekulized atoms: 12 13 14 15 16 17 18 20 21\n",
      "[03:15:05] Can't kekulize mol.  Unkekulized atoms: 7 8 9 10 11 12 13 15 16\n",
      "[03:15:05] Can't kekulize mol.  Unkekulized atoms: 5 6 7 8 9\n",
      "[03:15:05] Can't kekulize mol.  Unkekulized atoms: 1 2 3 4 5 6 9 10 11\n",
      "[03:15:05] Can't kekulize mol.  Unkekulized atoms: 1 2 3 4 5 6 8 9 10\n",
      "[03:15:05] Can't kekulize mol.  Unkekulized atoms: 1 2 3 5 6 7 8 9 10\n",
      "[03:15:05] Can't kekulize mol.  Unkekulized atoms: 1 2 3 4 5\n",
      "[03:15:05] Can't kekulize mol.  Unkekulized atoms: 1 2 3 4 5 6 8 9 10\n",
      "[03:15:05] Can't kekulize mol.  Unkekulized atoms: 1 2 3 4 5 6 7 19 20\n",
      "[03:15:05] Can't kekulize mol.  Unkekulized atoms: 1 2 3 4 5 6 7 16 17\n",
      "[03:15:05] Can't kekulize mol.  Unkekulized atoms: 6 7 8 9 10\n",
      "[03:15:05] Can't kekulize mol.  Unkekulized atoms: 3 4 5 6 7 9 10 11 12\n",
      "[03:15:05] Can't kekulize mol.  Unkekulized atoms: 1 2 3 4 5 6 8 9 10\n",
      "[03:15:05] Can't kekulize mol.  Unkekulized atoms: 9 10 11 12 13 14 15 16 17\n",
      "[03:15:05] Can't kekulize mol.  Unkekulized atoms: 2 3 4 5 6 7 8 9 10\n",
      "[03:15:05] Can't kekulize mol.  Unkekulized atoms: 1 2 3 5 6 7 9 10 11\n",
      "[03:15:05] Can't kekulize mol.  Unkekulized atoms: 3 4 5 6 7\n",
      "[03:15:05] Can't kekulize mol.  Unkekulized atoms: 5 6 7 8 9\n",
      "[03:15:05] Can't kekulize mol.  Unkekulized atoms: 3 4 5 6 7 9 10 11 12\n",
      "[03:15:05] Can't kekulize mol.  Unkekulized atoms: 0 1 2 3 4 5 6 7 8\n",
      "[03:15:05] Can't kekulize mol.  Unkekulized atoms: 1 2 3 4 5 6 7 8 9\n",
      "[03:15:05] Can't kekulize mol.  Unkekulized atoms: 2 3 4 5 6 7 8 9 10\n",
      "[03:15:05] Can't kekulize mol.  Unkekulized atoms: 5 6 7 8 9\n",
      "[03:15:05] Can't kekulize mol.  Unkekulized atoms: 1 2 3 4 5 6 7 8 9\n",
      "[03:15:05] Can't kekulize mol.  Unkekulized atoms: 1 2 3 5 6 7 8 9 10\n",
      "[03:15:05] Can't kekulize mol.  Unkekulized atoms: 0 1 2 3 4 5 6 7 8\n",
      "[03:15:05] Can't kekulize mol.  Unkekulized atoms: 2 3 4 5 6 7 8 9 10\n",
      "[03:15:05] Can't kekulize mol.  Unkekulized atoms: 11 12 13 14 15 16 17 18 19\n",
      "[03:15:05] Can't kekulize mol.  Unkekulized atoms: 7 8 9 10 11 12 13 14 15\n"
     ]
    },
    {
     "name": "stdout",
     "output_type": "stream",
     "text": [
      "Wrong SMILES for:  7184368 (removed!)\n",
      "Wrong SMILES for:  7184369 (removed!)\n",
      "Wrong SMILES for:  7184520 (removed!)\n",
      "Wrong SMILES for:  7184521 (removed!)\n",
      "Wrong SMILES for:  7184526 (removed!)\n",
      "Wrong SMILES for:  7184530 (removed!)\n",
      "Wrong SMILES for:  7184676 (removed!)\n",
      "Wrong SMILES for:  7184677 (removed!)\n",
      "Wrong SMILES for:  7184836 (removed!)\n",
      "Wrong SMILES for:  7184837 (removed!)\n",
      "Wrong SMILES for:  7184838 (removed!)\n",
      "Wrong SMILES for:  7184995 (removed!)\n",
      "Wrong SMILES for:  7184996 (removed!)\n",
      "Wrong SMILES for:  7184997 (removed!)\n",
      "Wrong SMILES for:  7185159 (removed!)\n",
      "Wrong SMILES for:  7185160 (removed!)\n",
      "Wrong SMILES for:  7185172 (removed!)\n",
      "Wrong SMILES for:  7185320 (removed!)\n",
      "Wrong SMILES for:  7185323 (removed!)\n",
      "Wrong SMILES for:  7185324 (removed!)\n",
      "Wrong SMILES for:  7185326 (removed!)\n",
      "Wrong SMILES for:  7185331 (removed!)\n",
      "Wrong SMILES for:  7185332 (removed!)\n",
      "Wrong SMILES for:  7185486 (removed!)\n",
      "Wrong SMILES for:  7185487 (removed!)\n",
      "Wrong SMILES for:  7185488 (removed!)\n"
     ]
    },
    {
     "name": "stderr",
     "output_type": "stream",
     "text": [
      "[03:15:05] Can't kekulize mol.  Unkekulized atoms: 0 1 2 3 4 5 6 7 8\n",
      "[03:15:05] Can't kekulize mol.  Unkekulized atoms: 1 2 3 4 5 6 7 8 9\n",
      "[03:15:05] Can't kekulize mol.  Unkekulized atoms: 2 3 4 5 6 7 8 9 10\n",
      "[03:15:05] Can't kekulize mol.  Unkekulized atoms: 1 2 3 4 5 7 8 9 10\n",
      "[03:15:05] Can't kekulize mol.  Unkekulized atoms: 2 3 4 5 6 7 8 9 10\n",
      "[03:15:05] Can't kekulize mol.  Unkekulized atoms: 2 3 4 5 6 15 16 17 18\n",
      "[03:15:05] Can't kekulize mol.  Unkekulized atoms: 5 6 8 9 10 11 12 13 15\n",
      "[03:15:05] Can't kekulize mol.  Unkekulized atoms: 2 3 4 5 6 7 8 9 10\n",
      "[03:15:05] Can't kekulize mol.  Unkekulized atoms: 4 5 6 7 8 9 10 19 20\n",
      "[03:15:05] Can't kekulize mol.  Unkekulized atoms: 5 6 8 9 10 11 13 14 15\n",
      "[03:15:05] Can't kekulize mol.  Unkekulized atoms: 1 2 3 4 5 6 7 8 9\n",
      "[03:15:05] Can't kekulize mol.  Unkekulized atoms: 10 11 12 13 14 15 16 17 18\n",
      "[03:15:05] Can't kekulize mol.  Unkekulized atoms: 3 4 5 6 7 16 17 18 19\n",
      "[03:15:05] Can't kekulize mol.  Unkekulized atoms: 5 6 8 9 10 11 12 14 15\n",
      "[03:15:05] Can't kekulize mol.  Unkekulized atoms: 1 2 3 4 5 6 7 8 9\n",
      "[03:15:05] Can't kekulize mol.  Unkekulized atoms: 2 3 4 5 6 7 8 9 10\n",
      "[03:15:05] Can't kekulize mol.  Unkekulized atoms: 3 4 5 6 7 8 10 11 12\n",
      "[03:15:05] Can't kekulize mol.  Unkekulized atoms: 3 4 5 6 7 16 17 18 19\n",
      "[03:15:05] Can't kekulize mol.  Unkekulized atoms: 3 4 5 6 7 8 9 11 12\n",
      "[03:15:05] Explicit valence for atom # 1 F, 2, is greater than permitted\n",
      "[03:15:05] Can't kekulize mol.  Unkekulized atoms: 1 2 3 4 5 6 7 8 9\n",
      "[03:15:05] Can't kekulize mol.  Unkekulized atoms: 3 4 5 6 7 8 10 11 12\n",
      "[03:15:05] Can't kekulize mol.  Unkekulized atoms: 4 5 6 7 8 9 10 12 13\n",
      "[03:15:05] Can't kekulize mol.  Unkekulized atoms: 1 2 3 4 5 6 7 9 10\n",
      "[03:15:05] Can't kekulize mol.  Unkekulized atoms: 4 5 6 7 8 9 15 16 17\n",
      "[03:15:05] Can't kekulize mol.  Unkekulized atoms: 3 4 5 6 7 8 9 11 12\n",
      "[03:15:05] Can't kekulize mol.  Unkekulized atoms: 5 6 7 8 9 11 12 13 14\n",
      "[03:15:05] Can't kekulize mol.  Unkekulized atoms: 1 2 3 5 6\n",
      "[03:15:05] Can't kekulize mol.  Unkekulized atoms: 1 2 3 4 5 6 7 9 10\n",
      "[03:15:05] Can't kekulize mol.  Unkekulized atoms: 4 5 6 7 8 9 11 12 13\n",
      "[03:15:05] Can't kekulize mol.  Unkekulized atoms: 4 5 6 7 8 9 10 11 12\n"
     ]
    },
    {
     "name": "stdout",
     "output_type": "stream",
     "text": [
      "Wrong SMILES for:  7185646 (removed!)\n",
      "Wrong SMILES for:  7185647 (removed!)\n",
      "Wrong SMILES for:  7185648 (removed!)\n",
      "Wrong SMILES for:  7185656 (removed!)\n",
      "Wrong SMILES for:  7185816 (removed!)\n",
      "Wrong SMILES for:  7185817 (removed!)\n",
      "Wrong SMILES for:  7185818 (removed!)\n",
      "Wrong SMILES for:  7185819 (removed!)\n",
      "Wrong SMILES for:  7185822 (removed!)\n",
      "Wrong SMILES for:  7185830 (removed!)\n",
      "Wrong SMILES for:  7185832 (removed!)\n",
      "Wrong SMILES for:  7185982 (removed!)\n",
      "Wrong SMILES for:  7185983 (removed!)\n",
      "Wrong SMILES for:  7185984 (removed!)\n",
      "Wrong SMILES for:  7185988 (removed!)\n",
      "Wrong SMILES for:  7185995 (removed!)\n",
      "Wrong SMILES for:  7185997 (removed!)\n",
      "Wrong SMILES for:  7186145 (removed!)\n",
      "Wrong SMILES for:  7186146 (removed!)\n",
      "Wrong SMILES for:  7186155 (removed!)\n",
      "Wrong SMILES for:  7186301 (removed!)\n",
      "Wrong SMILES for:  7186302 (removed!)\n",
      "Wrong SMILES for:  7186309 (removed!)\n",
      "Wrong SMILES for:  7186464 (removed!)\n",
      "Wrong SMILES for:  7186465 (removed!)\n",
      "Wrong SMILES for:  7186466 (removed!)\n",
      "Wrong SMILES for:  7186470 (removed!)\n",
      "Wrong SMILES for:  7186475 (removed!)\n",
      "Wrong SMILES for:  7186617 (removed!)\n",
      "Wrong SMILES for:  7186618 (removed!)\n",
      "Wrong SMILES for:  7186622 (removed!)\n"
     ]
    },
    {
     "name": "stderr",
     "output_type": "stream",
     "text": [
      "[03:15:05] Can't kekulize mol.  Unkekulized atoms: 3 4 5 6 7 9 10 11 12\n",
      "[03:15:05] Can't kekulize mol.  Unkekulized atoms: 1 2 3 4 5 6 8 9 10\n",
      "[03:15:05] Can't kekulize mol.  Unkekulized atoms: 3 4 5 6 7 8 9 10 11\n",
      "[03:15:05] Can't kekulize mol.  Unkekulized atoms: 1 2 4 5 6 7 8 10 11\n",
      "[03:15:05] Can't kekulize mol.  Unkekulized atoms: 4 5 6 7 8 9 10 11 12\n",
      "[03:15:05] Can't kekulize mol.  Unkekulized atoms: 4 5 6 7 8 9 11 12 13\n",
      "[03:15:05] Can't kekulize mol.  Unkekulized atoms: 1 2 3 4 5\n",
      "[03:15:05] Can't kekulize mol.  Unkekulized atoms: 1 2 3 4 5 6 7 8 9\n",
      "[03:15:05] Can't kekulize mol.  Unkekulized atoms: 5 6 7 8 9 11 12 13 14\n",
      "[03:15:05] Can't kekulize mol.  Unkekulized atoms: 3 4 5 6 7\n",
      "[03:15:05] Can't kekulize mol.  Unkekulized atoms: 3 4 5 6 7 8 9 11 12\n",
      "[03:15:05] Can't kekulize mol.  Unkekulized atoms: 2 3 4 5 6 7 8 9 10\n",
      "[03:15:05] Can't kekulize mol.  Unkekulized atoms: 1 2 3 6 8\n",
      "[03:15:05] Can't kekulize mol.  Unkekulized atoms: 3 4 5 6 7 9 10 11 12\n",
      "[03:15:05] Can't kekulize mol.  Unkekulized atoms: 3 4 5 6 7 8 9 10 11\n",
      "[03:15:05] Can't kekulize mol.  Unkekulized atoms: 2 3 4 5 6 7 8 9 10\n",
      "[03:15:05] Can't kekulize mol.  Unkekulized atoms: 3 4 5 6 7 9 10 11 12\n",
      "[03:15:05] Can't kekulize mol.  Unkekulized atoms: 3 4 5 6 8 9 11 12 13\n",
      "[03:15:05] Can't kekulize mol.  Unkekulized atoms: 2 3 4 5 6 7 8 9 10\n",
      "[03:15:05] Can't kekulize mol.  Unkekulized atoms: 3 4 5 6 7\n",
      "[03:15:05] Can't kekulize mol.  Unkekulized atoms: 3 4 5 6 7 8 9 10 11\n",
      "[03:15:05] Can't kekulize mol.  Unkekulized atoms: 3 4 5 6 7 8 9 10 11\n",
      "[03:15:05] Can't kekulize mol.  Unkekulized atoms: 10 11 12 13 14 15 16 17 18\n",
      "[03:15:05] Can't kekulize mol.  Unkekulized atoms: 2 3 4 5 6 7 8 9 10\n",
      "[03:15:05] Can't kekulize mol.  Unkekulized atoms: 3 4 5 6 7 8 13 14 15\n",
      "[03:15:05] Can't kekulize mol.  Unkekulized atoms: 4 5 6 7 8 10 11 12 13\n",
      "[03:15:05] Can't kekulize mol.  Unkekulized atoms: 1 2 3 4 5 6 7 8 9\n",
      "[03:15:05] Can't kekulize mol.  Unkekulized atoms: 4 5 6 7 8 9 11 12 13\n",
      "[03:15:05] Can't kekulize mol.  Unkekulized atoms: 2 3 5 6 7 8 9 10 11\n",
      "[03:15:05] Can't kekulize mol.  Unkekulized atoms: 3 4 5 6 7 8 9 10 11\n",
      "[03:15:05] Can't kekulize mol.  Unkekulized atoms: 3 4 5 6 7 8 9 10 11\n",
      "[03:15:05] Can't kekulize mol.  Unkekulized atoms: 7 8 9 10 11 12 13 14 15\n",
      "[03:15:05] Can't kekulize mol.  Unkekulized atoms: 2 3 4 5 6 7 8 9 10\n",
      "[03:15:05] Can't kekulize mol.  Unkekulized atoms: 3 4 5 6 8 9 10 11 12\n",
      "[03:15:05] Can't kekulize mol.  Unkekulized atoms: 4 5 6 7 8 9 10 12 13\n",
      "[03:15:05] Can't kekulize mol.  Unkekulized atoms: 4 5 6 7 8 9 10 11 12\n",
      "[03:15:05] Can't kekulize mol.  Unkekulized atoms: 1 2 3 4 5 6 7 8 9\n",
      "[03:15:05] Can't kekulize mol.  Unkekulized atoms: 3 4 5 6 7 8 9 10 11\n",
      "[03:15:05] Can't kekulize mol.  Unkekulized atoms: 6 7 8 9 10 11 12 13 14\n",
      "[03:15:05] Can't kekulize mol.  Unkekulized atoms: 4 5 6 7 8 9 10 11 12\n",
      "[03:15:05] Can't kekulize mol.  Unkekulized atoms: 1 2 3 4 5\n",
      "[03:15:05] Can't kekulize mol.  Unkekulized atoms: 1 2 3 4 5 6 7 8 9\n"
     ]
    },
    {
     "name": "stdout",
     "output_type": "stream",
     "text": [
      "Wrong SMILES for:  7186715 (removed!)\n",
      "Wrong SMILES for:  7186716 (removed!)\n",
      "Wrong SMILES for:  7186718 (removed!)\n",
      "Wrong SMILES for:  7186719 (removed!)\n",
      "Wrong SMILES for:  7186720 (removed!)\n",
      "Wrong SMILES for:  7186721 (removed!)\n",
      "Wrong SMILES for:  7186723 (removed!)\n",
      "Wrong SMILES for:  7186732 (removed!)\n",
      "Wrong SMILES for:  7186817 (removed!)\n",
      "Wrong SMILES for:  7186818 (removed!)\n",
      "Wrong SMILES for:  7186819 (removed!)\n",
      "Wrong SMILES for:  7186820 (removed!)\n",
      "Wrong SMILES for:  7186821 (removed!)\n",
      "Wrong SMILES for:  7186822 (removed!)\n",
      "Wrong SMILES for:  7186823 (removed!)\n",
      "Wrong SMILES for:  7186824 (removed!)\n",
      "Wrong SMILES for:  7186828 (removed!)\n",
      "Wrong SMILES for:  7186921 (removed!)\n",
      "Wrong SMILES for:  7186922 (removed!)\n",
      "Wrong SMILES for:  7186925 (removed!)\n",
      "Wrong SMILES for:  7186926 (removed!)\n",
      "Wrong SMILES for:  7186941 (removed!)\n",
      "Wrong SMILES for:  7187023 (removed!)\n",
      "Wrong SMILES for:  7187024 (removed!)\n",
      "Wrong SMILES for:  7187025 (removed!)\n",
      "Wrong SMILES for:  7187026 (removed!)\n",
      "Wrong SMILES for:  7187027 (removed!)\n",
      "Wrong SMILES for:  7187028 (removed!)\n",
      "Wrong SMILES for:  7187029 (removed!)\n",
      "Wrong SMILES for:  7187030 (removed!)\n",
      "Wrong SMILES for:  7187031 (removed!)\n",
      "Wrong SMILES for:  7187033 (removed!)\n",
      "Wrong SMILES for:  7187039 (removed!)\n",
      "Wrong SMILES for:  7187042 (removed!)\n",
      "Wrong SMILES for:  7187132 (removed!)\n",
      "Wrong SMILES for:  7187133 (removed!)\n",
      "Wrong SMILES for:  7187134 (removed!)\n",
      "Wrong SMILES for:  7187135 (removed!)\n",
      "Wrong SMILES for:  7187136 (removed!)\n",
      "Wrong SMILES for:  7187139 (removed!)\n",
      "Wrong SMILES for:  7187231 (removed!)\n",
      "Wrong SMILES for:  7187232 (removed!)\n",
      "Wrong SMILES for:  7187233 (removed!)\n",
      "Wrong SMILES for:  7187234 (removed!)\n",
      "Wrong SMILES for:  7187238 (removed!)\n",
      "Wrong SMILES for:  7187332 (removed!)\n",
      "Wrong SMILES for:  7187333 (removed!)\n",
      "Wrong SMILES for:  7187334 (removed!)\n",
      "Wrong SMILES for:  7187336 (removed!)\n",
      "Wrong SMILES for:  7187339 (removed!)\n",
      "Wrong SMILES for:  7187429 (removed!)\n",
      "Wrong SMILES for:  7187430 (removed!)\n",
      "Wrong SMILES for:  7187431 (removed!)\n",
      "Wrong SMILES for:  7187432 (removed!)\n",
      "Wrong SMILES for:  7187433 (removed!)\n",
      "Wrong SMILES for:  7187435 (removed!)\n",
      "Wrong SMILES for:  7187531 (removed!)\n",
      "Wrong SMILES for:  7187533 (removed!)\n",
      "Wrong SMILES for:  7187534 (removed!)\n",
      "Wrong SMILES for:  7187535 (removed!)\n",
      "Wrong SMILES for:  7187624 (removed!)\n",
      "Wrong SMILES for:  7187625 (removed!)\n",
      "Wrong SMILES for:  7187626 (removed!)\n",
      "Wrong SMILES for:  7187627 (removed!)\n",
      "Wrong SMILES for:  7187628 (removed!)\n",
      "Wrong SMILES for:  7187629 (removed!)\n",
      "Wrong SMILES for:  7187631 (removed!)\n",
      "Wrong SMILES for:  7187632 (removed!)\n"
     ]
    },
    {
     "name": "stderr",
     "output_type": "stream",
     "text": [
      "[03:15:05] Can't kekulize mol.  Unkekulized atoms: 2 3 4 5 6 7 8 9 10\n",
      "[03:15:05] Can't kekulize mol.  Unkekulized atoms: 3 4 5 6 7 8 9 10 11\n",
      "[03:15:05] Can't kekulize mol.  Unkekulized atoms: 2 3 4 5 6\n",
      "[03:15:05] Can't kekulize mol.  Unkekulized atoms: 2 3 4 5 6 7 8 9 10\n",
      "[03:15:05] Can't kekulize mol.  Unkekulized atoms: 2 3 4 5 6 8 9 10 11\n",
      "[03:15:05] Can't kekulize mol.  Unkekulized atoms: 4 5 6 7 8 9 10 11 12\n",
      "[03:15:05] Can't kekulize mol.  Unkekulized atoms: 5 6 7 8 14\n",
      "[03:15:05] Can't kekulize mol.  Unkekulized atoms: 4 5 6 7 9 10 11 12 13\n",
      "[03:15:05] Can't kekulize mol.  Unkekulized atoms: 2 3 4 5 9\n",
      "[03:15:05] Can't kekulize mol.  Unkekulized atoms: 9 10 11 12 13 14 15 16 17\n",
      "[03:15:05] Can't kekulize mol.  Unkekulized atoms: 4 5 6 7 8 9 10 11 12\n",
      "[03:15:05] Can't kekulize mol.  Unkekulized atoms: 4 5 6 7 8 9 11 12 13\n",
      "[03:15:05] Can't kekulize mol.  Unkekulized atoms: 1 2 3 4 5 6 7 8 9\n",
      "[03:15:05] Can't kekulize mol.  Unkekulized atoms: 1 2 3 4 5\n",
      "[03:15:05] Can't kekulize mol.  Unkekulized atoms: 5 6 7 8 9 10 12 13 14\n",
      "[03:15:05] Can't kekulize mol.  Unkekulized atoms: 7 8 9 10 11 12 13 15 16\n",
      "[03:15:05] Can't kekulize mol.  Unkekulized atoms: 0 1 2 3 4 5 6 7 8\n",
      "[03:15:05] Can't kekulize mol.  Unkekulized atoms: 3 4 5 6 7 8 9 10 11\n",
      "[03:15:05] Can't kekulize mol.  Unkekulized atoms: 2 3 4 5 6 7 8 9 10\n",
      "[03:15:05] Can't kekulize mol.  Unkekulized atoms: 4 5 6 11 12\n",
      "[03:15:05] Can't kekulize mol.  Unkekulized atoms: 1 2 3 4 9\n",
      "[03:15:05] Can't kekulize mol.  Unkekulized atoms: 3 4 5 6 7 9 10 11 12\n",
      "[03:15:05] Can't kekulize mol.  Unkekulized atoms: 4 5 6 7 8 9 10 11 12 13 15 16 17\n",
      "[03:15:05] Can't kekulize mol.  Unkekulized atoms: 3 4 5 6 7 8 9 10 11\n",
      "[03:15:05] Can't kekulize mol.  Unkekulized atoms: 1 2 3 4 5 6 7 8 9\n",
      "[03:15:05] Can't kekulize mol.  Unkekulized atoms: 2 3 4 5 6 7 8 12 13\n",
      "[03:15:05] Can't kekulize mol.  Unkekulized atoms: 1 2 3 5 6 7 8 9 10\n",
      "[03:15:05] Can't kekulize mol.  Unkekulized atoms: 3 4 5 6 7 8 9 11 12\n",
      "[03:15:05] Can't kekulize mol.  Unkekulized atoms: 2 3 4 5 6\n",
      "[03:15:05] Can't kekulize mol.  Unkekulized atoms: 3 4 5 6 7 8 9 10 11\n",
      "[03:15:05] Can't kekulize mol.  Unkekulized atoms: 1 2 3 4 5 6 7 8 9\n",
      "[03:15:05] Can't kekulize mol.  Unkekulized atoms: 2 3 4 5 6 7 8 9 10\n",
      "[03:15:05] Can't kekulize mol.  Unkekulized atoms: 6 7 8 9 10 11 12 13 14\n",
      "[03:15:05] Can't kekulize mol.  Unkekulized atoms: 4 5 6 7 8 9 10 11 12\n",
      "[03:15:05] Can't kekulize mol.  Unkekulized atoms: 3 4 5 6 7 8 9 10 11\n",
      "[03:15:05] Can't kekulize mol.  Unkekulized atoms: 3 4 5 6 7 8 9 11 12\n",
      "[03:15:05] Can't kekulize mol.  Unkekulized atoms: 2 3 4 5 6 7 8 9 10\n",
      "[03:15:05] Can't kekulize mol.  Unkekulized atoms: 1 2 3 4 5 6 7 19 20\n",
      "[03:15:05] Can't kekulize mol.  Unkekulized atoms: 1 2 3 4 5 6 7 8 9 10 11\n",
      "[03:15:05] Can't kekulize mol.  Unkekulized atoms: 1 2 3 4 5\n",
      "[03:15:05] Can't kekulize mol.  Unkekulized atoms: 2 3 4 5 6 7 8 12 13\n",
      "[03:15:05] Can't kekulize mol.  Unkekulized atoms: 2 3 4 5 6 7 8 10 11\n",
      "[03:15:05] Can't kekulize mol.  Unkekulized atoms: 9 10 11 12 13 14 15 17 18\n",
      "[03:15:05] Can't kekulize mol.  Unkekulized atoms: 1 2 3 4 5 6 7 8 9\n",
      "[03:15:05] Can't kekulize mol.  Unkekulized atoms: 2 3 4 5 6 7 8 9 10\n",
      "[03:15:05] Can't kekulize mol.  Unkekulized atoms: 4 5 6 7 8 9 10 13 14\n",
      "[03:15:05] Can't kekulize mol.  Unkekulized atoms: 3 4 5 6 7 8 9 10 11\n",
      "[03:15:05] Can't kekulize mol.  Unkekulized atoms: 1 2 3 6 8\n",
      "[03:15:05] Can't kekulize mol.  Unkekulized atoms: 1 2 3 5 6 7 8 9 10\n",
      "[03:15:06] Can't kekulize mol.  Unkekulized atoms: 0 1 2 3 4\n",
      "[03:15:06] Can't kekulize mol.  Unkekulized atoms: 1 2 3 14 16\n",
      "[03:15:06] Can't kekulize mol.  Unkekulized atoms: 4 5 6 7 8\n",
      "[03:15:06] Can't kekulize mol.  Unkekulized atoms: 1 2 3 4 5\n",
      "[03:15:06] Can't kekulize mol.  Unkekulized atoms: 3 4 5 6 7\n",
      "[03:15:06] Can't kekulize mol.  Unkekulized atoms: 5 6 7 8 9 10 11 13 14\n",
      "[03:15:06] Can't kekulize mol.  Unkekulized atoms: 2 3 4 5 6 7 8 9 10\n",
      "[03:15:06] Can't kekulize mol.  Unkekulized atoms: 1 2 3 4 5\n",
      "[03:15:06] Can't kekulize mol.  Unkekulized atoms: 2 3 5 6 7 8 9\n",
      "[03:15:06] Can't kekulize mol.  Unkekulized atoms: 1 2 3 4 5 6 7 8 9\n",
      "[03:15:06] Can't kekulize mol.  Unkekulized atoms: 5 6 7 8 9 11 12 13 14\n"
     ]
    },
    {
     "name": "stdout",
     "output_type": "stream",
     "text": [
      "Wrong SMILES for:  7187725 (removed!)\n",
      "Wrong SMILES for:  7187726 (removed!)\n",
      "Wrong SMILES for:  7187727 (removed!)\n",
      "Wrong SMILES for:  7187825 (removed!)\n",
      "Wrong SMILES for:  7187826 (removed!)\n",
      "Wrong SMILES for:  7187827 (removed!)\n",
      "Wrong SMILES for:  7187834 (removed!)\n",
      "Wrong SMILES for:  7187839 (removed!)\n",
      "Wrong SMILES for:  7187840 (removed!)\n",
      "Wrong SMILES for:  7187927 (removed!)\n",
      "Wrong SMILES for:  7187928 (removed!)\n",
      "Wrong SMILES for:  7187929 (removed!)\n",
      "Wrong SMILES for:  7187936 (removed!)\n",
      "Wrong SMILES for:  7187939 (removed!)\n",
      "Wrong SMILES for:  7188023 (removed!)\n",
      "Wrong SMILES for:  7188024 (removed!)\n",
      "Wrong SMILES for:  7188025 (removed!)\n",
      "Wrong SMILES for:  7188026 (removed!)\n",
      "Wrong SMILES for:  7188027 (removed!)\n",
      "Wrong SMILES for:  7188040 (removed!)\n",
      "Wrong SMILES for:  7188124 (removed!)\n",
      "Wrong SMILES for:  7188125 (removed!)\n",
      "Wrong SMILES for:  7188126 (removed!)\n",
      "Wrong SMILES for:  7188127 (removed!)\n",
      "Wrong SMILES for:  7188135 (removed!)\n",
      "Wrong SMILES for:  7188139 (removed!)\n",
      "Wrong SMILES for:  7188222 (removed!)\n",
      "Wrong SMILES for:  7188223 (removed!)\n",
      "Wrong SMILES for:  7188224 (removed!)\n",
      "Wrong SMILES for:  7188225 (removed!)\n",
      "Wrong SMILES for:  7188226 (removed!)\n",
      "Wrong SMILES for:  7188230 (removed!)\n",
      "Wrong SMILES for:  7188350 (removed!)\n",
      "Wrong SMILES for:  7188354 (removed!)\n",
      "Wrong SMILES for:  7188355 (removed!)\n",
      "Wrong SMILES for:  7188462 (removed!)\n",
      "Wrong SMILES for:  7188463 (removed!)\n",
      "Wrong SMILES for:  7188464 (removed!)\n",
      "Wrong SMILES for:  7188468 (removed!)\n",
      "Wrong SMILES for:  7188571 (removed!)\n",
      "Wrong SMILES for:  7188574 (removed!)\n",
      "Wrong SMILES for:  7188575 (removed!)\n",
      "Wrong SMILES for:  7188578 (removed!)\n",
      "Wrong SMILES for:  7188579 (removed!)\n",
      "Wrong SMILES for:  7188580 (removed!)\n",
      "Wrong SMILES for:  7188677 (removed!)\n",
      "Wrong SMILES for:  7188680 (removed!)\n",
      "Wrong SMILES for:  7188682 (removed!)\n",
      "Wrong SMILES for:  7188685 (removed!)\n"
     ]
    },
    {
     "name": "stderr",
     "output_type": "stream",
     "text": [
      "[03:15:06] Can't kekulize mol.  Unkekulized atoms: 7 8 9 10 11 12 13 14 15\n",
      "[03:15:06] Can't kekulize mol.  Unkekulized atoms: 1 2 3 4 5\n",
      "[03:15:06] Can't kekulize mol.  Unkekulized atoms: 1 2 3 4 5 6 7 8 9 10 11 12 14\n",
      "[03:15:06] Can't kekulize mol.  Unkekulized atoms: 4 5 7 8 9 10 11 12 13\n",
      "[03:15:06] Can't kekulize mol.  Unkekulized atoms: 5 6 8 9 17\n",
      "[03:15:06] Can't kekulize mol.  Unkekulized atoms: 5 6 7 8 9 10 11 12 13\n",
      "[03:15:06] Can't kekulize mol.  Unkekulized atoms: 1 2 3 6 7\n",
      "[03:15:06] Can't kekulize mol.  Unkekulized atoms: 2 3 4 5 6\n",
      "[03:15:06] Can't kekulize mol.  Unkekulized atoms: 1 2 3 4 7 8 9 10 11\n",
      "[03:15:06] Can't kekulize mol.  Unkekulized atoms: 1 2 3 4 5\n",
      "[03:15:06] Can't kekulize mol.  Unkekulized atoms: 1 2 3 4 5 6 7 8 9\n",
      "[03:15:06] Can't kekulize mol.  Unkekulized atoms: 3 4 5 6 7 9 10 11 12\n",
      "[03:15:06] Can't kekulize mol.  Unkekulized atoms: 1 2 3 4 5 6 7 9 10\n",
      "[03:15:06] Can't kekulize mol.  Unkekulized atoms: 5 6 7 10 11\n",
      "[03:15:06] Can't kekulize mol.  Unkekulized atoms: 4 5 6 7 8 9 10 11 12\n",
      "[03:15:06] Can't kekulize mol.  Unkekulized atoms: 5 6 8 9 10 11 12 13 14\n",
      "[03:15:06] Can't kekulize mol.  Unkekulized atoms: 4 5 6 7 8 9 10 11 12\n",
      "[03:15:06] Can't kekulize mol.  Unkekulized atoms: 2 3 5 6 7 8 9 10 11\n",
      "[03:15:06] Can't kekulize mol.  Unkekulized atoms: 2 3 4 5 6 7 9 10 11\n",
      "[03:15:06] Can't kekulize mol.  Unkekulized atoms: 1 2 3 4 5 6 7 9 11\n",
      "[03:15:06] Can't kekulize mol.  Unkekulized atoms: 1 2 3 4 5 7 8 9 10\n",
      "[03:15:06] Can't kekulize mol.  Unkekulized atoms: 3 4 5 6 7 8 9 15 16\n",
      "[03:15:06] Can't kekulize mol.  Unkekulized atoms: 8 9 10 11 12 13 14 15 16\n",
      "[03:15:06] Can't kekulize mol.  Unkekulized atoms: 3 4 5 6 7 8 9 10 11\n",
      "[03:15:06] Can't kekulize mol.  Unkekulized atoms: 1 2 3 4 5 6 7 8 10\n",
      "[03:15:06] Can't kekulize mol.  Unkekulized atoms: 4 5 6 7 9 11 12 13 14\n",
      "[03:15:06] Can't kekulize mol.  Unkekulized atoms: 5 6 7 8 9 10 11 13 14\n",
      "[03:15:06] Can't kekulize mol.  Unkekulized atoms: 3 4 5 6 7 8 9 10 12\n",
      "[03:15:06] Can't kekulize mol.  Unkekulized atoms: 1 2 3 4 5 6 10\n",
      "[03:15:06] Can't kekulize mol.  Unkekulized atoms: 1 2 3 4 5 7 8 9 11\n",
      "[03:15:06] Can't kekulize mol.  Unkekulized atoms: 1 2 3 4 5 6 7 8 9\n",
      "[03:15:06] Explicit valence for atom # 2 N, 4, is greater than permitted\n",
      "[03:15:06] Can't kekulize mol.  Unkekulized atoms: 1 2 3 4 5 6 7 8 9\n",
      "[03:15:06] Can't kekulize mol.  Unkekulized atoms: 1 2 3 4 9\n",
      "[03:15:06] Can't kekulize mol.  Unkekulized atoms: 3 4 5 6 7 8 9 10 14\n",
      "[03:15:06] Explicit valence for atom # 3 N, 4, is greater than permitted\n",
      "[03:15:06] Can't kekulize mol.  Unkekulized atoms: 3 4 5 6 7 8 9 14 15\n",
      "[03:15:06] Can't kekulize mol.  Unkekulized atoms: 1 2 3 4 5 6 7 8 9\n",
      "[03:15:06] Can't kekulize mol.  Unkekulized atoms: 5 6 7 8 12\n",
      "[03:15:06] Can't kekulize mol.  Unkekulized atoms: 3 4 5 6 7 8 10 11 12\n",
      "[03:15:06] Can't kekulize mol.  Unkekulized atoms: 1 2 3 4 5 6 7 8 9\n",
      "[03:15:06] Can't kekulize mol.  Unkekulized atoms: 1 2 3 4 6 8 9 10 11\n",
      "[03:15:06] Can't kekulize mol.  Unkekulized atoms: 1 2 3 4 5 6 7 8 9\n",
      "[03:15:06] Can't kekulize mol.  Unkekulized atoms: 4 5 6 7 8 9 11 12 13\n",
      "[03:15:06] Can't kekulize mol.  Unkekulized atoms: 3 4 5 6 7 8 9 10 11\n"
     ]
    },
    {
     "name": "stdout",
     "output_type": "stream",
     "text": [
      "Wrong SMILES for:  7188796 (removed!)\n",
      "Wrong SMILES for:  7188803 (removed!)\n",
      "Wrong SMILES for:  7188912 (removed!)\n",
      "Wrong SMILES for:  7188914 (removed!)\n",
      "Wrong SMILES for:  7188920 (removed!)\n",
      "Wrong SMILES for:  7188922 (removed!)\n",
      "Wrong SMILES for:  7188923 (removed!)\n",
      "Wrong SMILES for:  7188924 (removed!)\n",
      "Wrong SMILES for:  7189035 (removed!)\n",
      "Wrong SMILES for:  7189037 (removed!)\n",
      "Wrong SMILES for:  7189144 (removed!)\n",
      "Wrong SMILES for:  7189148 (removed!)\n",
      "Wrong SMILES for:  7189150 (removed!)\n",
      "Wrong SMILES for:  7189151 (removed!)\n",
      "Wrong SMILES for:  7189153 (removed!)\n",
      "Wrong SMILES for:  7189267 (removed!)\n",
      "Wrong SMILES for:  7189268 (removed!)\n",
      "Wrong SMILES for:  7189380 (removed!)\n",
      "Wrong SMILES for:  7189500 (removed!)\n",
      "Wrong SMILES for:  7189505 (removed!)\n",
      "Wrong SMILES for:  7189615 (removed!)\n",
      "Wrong SMILES for:  7189619 (removed!)\n",
      "Wrong SMILES for:  7189731 (removed!)\n",
      "Wrong SMILES for:  7189850 (removed!)\n",
      "Wrong SMILES for:  7189854 (removed!)\n"
     ]
    },
    {
     "name": "stderr",
     "output_type": "stream",
     "text": [
      "[03:15:06] Can't kekulize mol.  Unkekulized atoms: 3 4 5 6 10\n",
      "[03:15:06] Can't kekulize mol.  Unkekulized atoms: 4 5 6 7 8 9 10 12 13\n",
      "[03:15:06] Can't kekulize mol.  Unkekulized atoms: 5 6 7 8 9 10 12 13 14\n",
      "[03:15:06] Can't kekulize mol.  Unkekulized atoms: 4 5 6 7 8 11 12 13 14\n",
      "[03:15:06] Can't kekulize mol.  Unkekulized atoms: 4 5 6 7 8 9 10 11 12\n",
      "[03:15:06] Can't kekulize mol.  Unkekulized atoms: 4 5 6 9 10 11 12 14 15\n",
      "[03:15:06] Can't kekulize mol.  Unkekulized atoms: 1 2 3 5 6 7 8 9 10\n",
      "[03:15:06] Can't kekulize mol.  Unkekulized atoms: 1 2 3 5 6 7 8 9 10\n",
      "[03:15:06] Can't kekulize mol.  Unkekulized atoms: 1 2 3 4 5 6 7 8 9\n",
      "[03:15:06] Can't kekulize mol.  Unkekulized atoms: 1 2 3 4 6 7 8 9 10\n",
      "[03:15:06] Can't kekulize mol.  Unkekulized atoms: 1 2 3 4 5 7 8 9 10\n",
      "[03:15:06] Can't kekulize mol.  Unkekulized atoms: 1 2 3 4 5 6 7 8 9\n",
      "[03:15:06] Can't kekulize mol.  Unkekulized atoms: 3 4 5 6 10\n",
      "[03:15:06] Can't kekulize mol.  Unkekulized atoms: 1 2 3 4 8\n",
      "[03:15:06] Can't kekulize mol.  Unkekulized atoms: 1 2 3 4 5 6 7 8 9\n",
      "[03:15:06] Can't kekulize mol.  Unkekulized atoms: 2 3 4 5 6 7 8 9 10\n",
      "[03:15:06] Can't kekulize mol.  Unkekulized atoms: 2 3 4 6 7 8 9 10 11\n",
      "[03:15:06] Can't kekulize mol.  Unkekulized atoms: 1 2 3 4 5 6 7 8 9\n",
      "[03:15:06] Can't kekulize mol.  Unkekulized atoms: 1 2 3 4 5\n",
      "[03:15:06] Can't kekulize mol.  Unkekulized atoms: 2 3 4 5 6 7 8 9 10\n",
      "[03:15:06] Can't kekulize mol.  Unkekulized atoms: 1 2 3 4 5 7 8 9 10\n"
     ]
    },
    {
     "name": "stdout",
     "output_type": "stream",
     "text": [
      "Wrong SMILES for:  7189963 (removed!)\n",
      "Wrong SMILES for:  7189966 (removed!)\n",
      "Wrong SMILES for:  7189972 (removed!)\n",
      "Wrong SMILES for:  7190079 (removed!)\n",
      "Wrong SMILES for:  7190083 (removed!)\n",
      "Wrong SMILES for:  7190089 (removed!)\n",
      "Wrong SMILES for:  7190296 (removed!)\n",
      "Wrong SMILES for:  7190328 (removed!)\n"
     ]
    },
    {
     "name": "stderr",
     "output_type": "stream",
     "text": [
      "[03:15:06] Explicit valence for atom # 3 N, 5, is greater than permitted\n",
      "[03:15:06] Explicit valence for atom # 1 N, 5, is greater than permitted\n",
      "[03:15:07] Explicit valence for atom # 25 N, 4, is greater than permitted\n",
      "[03:15:07] Explicit valence for atom # 19 N, 4, is greater than permitted\n",
      "[03:15:07] Explicit valence for atom # 1 N, 4, is greater than permitted\n",
      "[03:15:07] Can't kekulize mol.  Unkekulized atoms: 3 4 5 6 7\n",
      "[03:15:07] Explicit valence for atom # 3 C, 5, is greater than permitted\n",
      "[03:15:07] Explicit valence for atom # 1 O, 4, is greater than permitted\n"
     ]
    },
    {
     "name": "stdout",
     "output_type": "stream",
     "text": [
      "Wrong SMILES for:  7192124 (removed!)\n",
      "Wrong SMILES for:  7192152 (removed!)\n",
      "Wrong SMILES for:  7192157 (removed!)\n",
      "Wrong SMILES for:  7192438 (removed!)\n",
      "Wrong SMILES for:  7192524 (removed!)\n",
      "Wrong SMILES for:  7192535 (removed!)\n"
     ]
    },
    {
     "name": "stderr",
     "output_type": "stream",
     "text": [
      "[03:15:08] Explicit valence for atom # 17 B, 4, is greater than permitted\n"
     ]
    },
    {
     "name": "stdout",
     "output_type": "stream",
     "text": [
      "Wrong SMILES for:  7196681 (removed!)\n"
     ]
    },
    {
     "name": "stderr",
     "output_type": "stream",
     "text": [
      "[03:15:08] Explicit valence for atom # 2 B, 5, is greater than permitted\n",
      "[03:15:08] Explicit valence for atom # 0 B, 4, is greater than permitted\n",
      "[03:15:08] Explicit valence for atom # 5 N, 4, is greater than permitted\n",
      "[03:15:08] Explicit valence for atom # 0 Br, 3, is greater than permitted\n",
      "[03:15:08] Explicit valence for atom # 4 N, 4, is greater than permitted\n"
     ]
    },
    {
     "name": "stdout",
     "output_type": "stream",
     "text": [
      "Wrong SMILES for:  7198293 (removed!)\n",
      "Wrong SMILES for:  7198294 (removed!)\n",
      "Wrong SMILES for:  7198396 (removed!)\n",
      "Wrong SMILES for:  7198510 (removed!)\n",
      "Wrong SMILES for:  7198974 (removed!)\n"
     ]
    },
    {
     "name": "stderr",
     "output_type": "stream",
     "text": [
      "[03:15:08] Explicit valence for atom # 2 N, 5, is greater than permitted\n",
      "[03:15:08] Explicit valence for atom # 5 N, 5, is greater than permitted\n",
      "[03:15:08] WARNING: not removing hydrogen atom without neighbors\n",
      "[03:15:08] WARNING: not removing hydrogen atom without neighbors\n",
      "[03:15:08] WARNING: not removing hydrogen atom without neighbors\n",
      "[03:15:08] WARNING: not removing hydrogen atom without neighbors\n",
      "[03:15:08] WARNING: not removing hydrogen atom without neighbors\n",
      "[03:15:08] WARNING: not removing hydrogen atom without neighbors\n",
      "[03:15:08] Explicit valence for atom # 1 C, 5, is greater than permitted\n"
     ]
    },
    {
     "name": "stdout",
     "output_type": "stream",
     "text": [
      "Wrong SMILES for:  7199020 (removed!)\n",
      "Wrong SMILES for:  7199250 (removed!)\n",
      "Wrong SMILES for:  7199675 (removed!)\n",
      "Currently on 7200000th data\n"
     ]
    },
    {
     "name": "stderr",
     "output_type": "stream",
     "text": [
      "[03:15:10] Can't kekulize mol.  Unkekulized atoms: 1 2 3 4 5 6 8 9 10\n"
     ]
    },
    {
     "name": "stdout",
     "output_type": "stream",
     "text": [
      "Wrong SMILES for:  7206398 (removed!)\n"
     ]
    },
    {
     "name": "stderr",
     "output_type": "stream",
     "text": [
      "[03:15:11] Explicit valence for atom # 0 B, 4, is greater than permitted\n"
     ]
    },
    {
     "name": "stdout",
     "output_type": "stream",
     "text": [
      "Wrong SMILES for:  7207637 (removed!)\n"
     ]
    },
    {
     "name": "stderr",
     "output_type": "stream",
     "text": [
      "[03:15:11] Explicit valence for atom # 11 C, 5, is greater than permitted\n",
      "[03:15:15] Can't kekulize mol.  Unkekulized atoms: 4 5 6 8 9 10 11 12 15\n"
     ]
    },
    {
     "name": "stdout",
     "output_type": "stream",
     "text": [
      "Wrong SMILES for:  7208324 (removed!)\n",
      "Wrong SMILES for:  7223669 (removed!)\n"
     ]
    },
    {
     "name": "stderr",
     "output_type": "stream",
     "text": [
      "[03:15:16] Explicit valence for atom # 2 N, 4, is greater than permitted\n",
      "[03:15:16] Explicit valence for atom # 5 N, 4, is greater than permitted\n",
      "[03:15:16] Explicit valence for atom # 23 B, 4, is greater than permitted\n",
      "[03:15:16] Explicit valence for atom # 5 N, 4, is greater than permitted\n",
      "[03:15:16] Explicit valence for atom # 16 B, 4, is greater than permitted\n",
      "[03:15:16] Explicit valence for atom # 11 N, 4, is greater than permitted\n",
      "[03:15:16] Explicit valence for atom # 5 N, 4, is greater than permitted\n",
      "[03:15:16] Explicit valence for atom # 22 C, 5, is greater than permitted\n",
      "[03:15:16] Explicit valence for atom # 18 B, 4, is greater than permitted\n",
      "[03:15:16] Explicit valence for atom # 5 N, 4, is greater than permitted\n",
      "[03:15:16] Explicit valence for atom # 16 B, 4, is greater than permitted\n"
     ]
    },
    {
     "name": "stdout",
     "output_type": "stream",
     "text": [
      "Wrong SMILES for:  7226949 (removed!)\n",
      "Wrong SMILES for:  7227039 (removed!)\n",
      "Wrong SMILES for:  7227256 (removed!)\n",
      "Wrong SMILES for:  7227307 (removed!)\n",
      "Wrong SMILES for:  7227352 (removed!)\n",
      "Wrong SMILES for:  7227398 (removed!)\n",
      "Wrong SMILES for:  7227439 (removed!)\n",
      "Wrong SMILES for:  7227440 (removed!)\n",
      "Wrong SMILES for:  7227482 (removed!)\n",
      "Wrong SMILES for:  7227530 (removed!)\n",
      "Wrong SMILES for:  7227576 (removed!)\n"
     ]
    },
    {
     "name": "stderr",
     "output_type": "stream",
     "text": [
      "[03:15:16] Explicit valence for atom # 6 N, 4, is greater than permitted\n",
      "[03:15:17] Explicit valence for atom # 0 O, 3, is greater than permitted\n"
     ]
    },
    {
     "name": "stdout",
     "output_type": "stream",
     "text": [
      "Wrong SMILES for:  7227758 (removed!)\n",
      "Wrong SMILES for:  7228417 (removed!)\n"
     ]
    },
    {
     "name": "stderr",
     "output_type": "stream",
     "text": [
      "[03:15:18] Explicit valence for atom # 4 N, 4, is greater than permitted\n"
     ]
    },
    {
     "name": "stdout",
     "output_type": "stream",
     "text": [
      "Wrong SMILES for:  7232773 (removed!)\n"
     ]
    },
    {
     "name": "stderr",
     "output_type": "stream",
     "text": [
      "[03:15:18] Can't kekulize mol.  Unkekulized atoms: 1 2 3 4 5 6 7 8 9\n"
     ]
    },
    {
     "name": "stdout",
     "output_type": "stream",
     "text": [
      "Wrong SMILES for:  7234882 (removed!)\n"
     ]
    },
    {
     "name": "stderr",
     "output_type": "stream",
     "text": [
      "[03:15:28] Explicit valence for atom # 11 Cl, 2, is greater than permitted\n",
      "[03:15:28] Explicit valence for atom # 5 Cl, 2, is greater than permitted\n",
      "[03:15:28] Explicit valence for atom # 5 Cl, 2, is greater than permitted\n",
      "[03:15:28] Explicit valence for atom # 5 Cl, 2, is greater than permitted\n",
      "[03:15:28] Explicit valence for atom # 5 Cl, 2, is greater than permitted\n",
      "[03:15:28] Explicit valence for atom # 8 Cl, 2, is greater than permitted\n",
      "[03:15:28] Explicit valence for atom # 5 Cl, 2, is greater than permitted\n",
      "[03:15:28] Explicit valence for atom # 5 Cl, 2, is greater than permitted\n",
      "[03:15:28] Explicit valence for atom # 5 Cl, 2, is greater than permitted\n",
      "[03:15:28] Explicit valence for atom # 5 Cl, 2, is greater than permitted\n"
     ]
    },
    {
     "name": "stdout",
     "output_type": "stream",
     "text": [
      "Wrong SMILES for:  7270130 (removed!)\n",
      "Wrong SMILES for:  7270299 (removed!)\n",
      "Wrong SMILES for:  7270461 (removed!)\n",
      "Wrong SMILES for:  7270462 (removed!)\n",
      "Wrong SMILES for:  7270463 (removed!)\n",
      "Wrong SMILES for:  7270624 (removed!)\n",
      "Wrong SMILES for:  7270625 (removed!)\n",
      "Wrong SMILES for:  7270626 (removed!)\n",
      "Wrong SMILES for:  7270787 (removed!)\n",
      "Wrong SMILES for:  7270788 (removed!)\n"
     ]
    },
    {
     "name": "stderr",
     "output_type": "stream",
     "text": [
      "[03:15:28] Explicit valence for atom # 9 Cl, 2, is greater than permitted\n",
      "[03:15:28] Explicit valence for atom # 5 Cl, 2, is greater than permitted\n",
      "[03:15:28] Explicit valence for atom # 12 Cl, 2, is greater than permitted\n",
      "[03:15:28] Explicit valence for atom # 10 Cl, 2, is greater than permitted\n",
      "[03:15:28] Explicit valence for atom # 5 Cl, 2, is greater than permitted\n",
      "[03:15:28] Explicit valence for atom # 11 Cl, 2, is greater than permitted\n",
      "[03:15:28] Explicit valence for atom # 5 Cl, 2, is greater than permitted\n",
      "[03:15:28] Explicit valence for atom # 11 Cl, 2, is greater than permitted\n",
      "[03:15:28] Explicit valence for atom # 10 Cl, 2, is greater than permitted\n",
      "[03:15:28] Explicit valence for atom # 5 Cl, 2, is greater than permitted\n",
      "[03:15:28] Explicit valence for atom # 5 Cl, 2, is greater than permitted\n",
      "[03:15:28] Explicit valence for atom # 24 C, 5, is greater than permitted\n",
      "[03:15:28] Explicit valence for atom # 5 Cl, 2, is greater than permitted\n",
      "[03:15:28] Explicit valence for atom # 5 Cl, 2, is greater than permitted\n",
      "[03:15:28] Explicit valence for atom # 5 Cl, 2, is greater than permitted\n"
     ]
    },
    {
     "name": "stdout",
     "output_type": "stream",
     "text": [
      "Wrong SMILES for:  7270952 (removed!)\n",
      "Wrong SMILES for:  7270953 (removed!)\n",
      "Wrong SMILES for:  7270954 (removed!)\n",
      "Wrong SMILES for:  7271111 (removed!)\n",
      "Wrong SMILES for:  7271112 (removed!)\n",
      "Wrong SMILES for:  7271113 (removed!)\n",
      "Wrong SMILES for:  7271273 (removed!)\n",
      "Wrong SMILES for:  7271274 (removed!)\n",
      "Wrong SMILES for:  7271275 (removed!)\n",
      "Wrong SMILES for:  7271440 (removed!)\n",
      "Wrong SMILES for:  7271441 (removed!)\n",
      "Wrong SMILES for:  7271594 (removed!)\n",
      "Wrong SMILES for:  7271612 (removed!)\n",
      "Wrong SMILES for:  7271613 (removed!)\n",
      "Wrong SMILES for:  7271773 (removed!)\n"
     ]
    },
    {
     "name": "stderr",
     "output_type": "stream",
     "text": [
      "[03:15:28] Explicit valence for atom # 5 Cl, 2, is greater than permitted\n",
      "[03:15:28] Explicit valence for atom # 5 Cl, 2, is greater than permitted\n",
      "[03:15:29] Explicit valence for atom # 5 Cl, 2, is greater than permitted\n",
      "[03:15:29] Explicit valence for atom # 11 Cl, 2, is greater than permitted\n",
      "[03:15:29] Explicit valence for atom # 5 Cl, 2, is greater than permitted\n",
      "[03:15:29] Explicit valence for atom # 10 Cl, 2, is greater than permitted\n",
      "[03:15:29] Explicit valence for atom # 5 Cl, 2, is greater than permitted\n",
      "[03:15:29] Explicit valence for atom # 5 Cl, 2, is greater than permitted\n",
      "[03:15:29] Explicit valence for atom # 5 Cl, 2, is greater than permitted\n",
      "[03:15:29] Explicit valence for atom # 5 Cl, 2, is greater than permitted\n"
     ]
    },
    {
     "name": "stdout",
     "output_type": "stream",
     "text": [
      "Wrong SMILES for:  7271942 (removed!)\n",
      "Wrong SMILES for:  7271943 (removed!)\n",
      "Wrong SMILES for:  7272104 (removed!)\n",
      "Wrong SMILES for:  7272105 (removed!)\n",
      "Wrong SMILES for:  7272277 (removed!)\n",
      "Wrong SMILES for:  7272278 (removed!)\n",
      "Wrong SMILES for:  7272441 (removed!)\n",
      "Wrong SMILES for:  7272442 (removed!)\n",
      "Wrong SMILES for:  7272610 (removed!)\n",
      "Wrong SMILES for:  7272611 (removed!)\n",
      "Currently on 7300000th data\n",
      "Currently on 7400000th data\n",
      "Currently on 7500000th data\n",
      "Currently on 7600000th data\n",
      "Currently on 7700000th data\n",
      "Currently on 7800000th data\n",
      "Currently on 7900000th data\n",
      "Currently on 8000000th data\n",
      "Currently on 8100000th data\n",
      "Currently on 8200000th data\n",
      "Currently on 8300000th data\n",
      "Currently on 8400000th data\n",
      "Currently on 8500000th data\n"
     ]
    },
    {
     "name": "stderr",
     "output_type": "stream",
     "text": [
      "[03:21:55] Explicit valence for atom # 6 Cl, 2, is greater than permitted\n",
      "[03:21:55] Explicit valence for atom # 6 Cl, 2, is greater than permitted\n"
     ]
    },
    {
     "name": "stdout",
     "output_type": "stream",
     "text": [
      "Wrong SMILES for:  8596246 (removed!)\n",
      "Wrong SMILES for:  8596342 (removed!)\n"
     ]
    },
    {
     "name": "stderr",
     "output_type": "stream",
     "text": [
      "[03:21:55] Explicit valence for atom # 6 Cl, 2, is greater than permitted\n",
      "[03:21:55] Explicit valence for atom # 6 Cl, 2, is greater than permitted\n",
      "[03:21:55] Explicit valence for atom # 6 Cl, 2, is greater than permitted\n"
     ]
    },
    {
     "name": "stdout",
     "output_type": "stream",
     "text": [
      "Wrong SMILES for:  8597108 (removed!)\n",
      "Wrong SMILES for:  8597238 (removed!)\n",
      "Wrong SMILES for:  8597865 (removed!)\n"
     ]
    },
    {
     "name": "stderr",
     "output_type": "stream",
     "text": [
      "[03:21:55] Explicit valence for atom # 6 Cl, 2, is greater than permitted\n",
      "[03:21:55] Explicit valence for atom # 6 Cl, 2, is greater than permitted\n"
     ]
    },
    {
     "name": "stdout",
     "output_type": "stream",
     "text": [
      "Wrong SMILES for:  8598759 (removed!)\n",
      "Wrong SMILES for:  8598961 (removed!)\n"
     ]
    },
    {
     "name": "stderr",
     "output_type": "stream",
     "text": [
      "[03:21:56] Explicit valence for atom # 6 Cl, 2, is greater than permitted\n",
      "[03:21:56] Explicit valence for atom # 18 Cl, 2, is greater than permitted\n"
     ]
    },
    {
     "name": "stdout",
     "output_type": "stream",
     "text": [
      "Wrong SMILES for:  8599992 (removed!)\n",
      "Currently on 8600000th data\n",
      "Wrong SMILES for:  8600453 (removed!)\n"
     ]
    },
    {
     "name": "stderr",
     "output_type": "stream",
     "text": [
      "[03:21:56] Explicit valence for atom # 6 Cl, 2, is greater than permitted\n"
     ]
    },
    {
     "name": "stdout",
     "output_type": "stream",
     "text": [
      "Wrong SMILES for:  8600649 (removed!)\n"
     ]
    },
    {
     "name": "stderr",
     "output_type": "stream",
     "text": [
      "[03:21:56] Explicit valence for atom # 6 Cl, 2, is greater than permitted\n",
      "[03:21:56] Explicit valence for atom # 20 Cl, 2, is greater than permitted\n",
      "[03:21:56] Explicit valence for atom # 6 Cl, 2, is greater than permitted\n",
      "[03:21:56] Explicit valence for atom # 6 Cl, 2, is greater than permitted\n",
      "[03:21:56] Explicit valence for atom # 6 Cl, 2, is greater than permitted\n"
     ]
    },
    {
     "name": "stdout",
     "output_type": "stream",
     "text": [
      "Wrong SMILES for:  8601882 (removed!)\n",
      "Wrong SMILES for:  8602163 (removed!)\n",
      "Wrong SMILES for:  8602491 (removed!)\n",
      "Wrong SMILES for:  8602499 (removed!)\n",
      "Wrong SMILES for:  8602539 (removed!)\n"
     ]
    },
    {
     "name": "stderr",
     "output_type": "stream",
     "text": [
      "[03:21:57] Explicit valence for atom # 6 Cl, 2, is greater than permitted\n"
     ]
    },
    {
     "name": "stdout",
     "output_type": "stream",
     "text": [
      "Wrong SMILES for:  8603278 (removed!)\n"
     ]
    },
    {
     "name": "stderr",
     "output_type": "stream",
     "text": [
      "[03:21:57] Explicit valence for atom # 18 Cl, 2, is greater than permitted\n",
      "[03:21:57] Explicit valence for atom # 6 Cl, 2, is greater than permitted\n",
      "[03:21:57] Explicit valence for atom # 6 Cl, 2, is greater than permitted\n",
      "[03:21:57] Explicit valence for atom # 6 Cl, 2, is greater than permitted\n",
      "[03:21:57] Explicit valence for atom # 6 Cl, 2, is greater than permitted\n",
      "[03:21:57] Explicit valence for atom # 6 Cl, 2, is greater than permitted\n"
     ]
    },
    {
     "name": "stdout",
     "output_type": "stream",
     "text": [
      "Wrong SMILES for:  8604117 (removed!)\n",
      "Wrong SMILES for:  8604130 (removed!)\n",
      "Wrong SMILES for:  8604349 (removed!)\n",
      "Wrong SMILES for:  8604534 (removed!)\n",
      "Wrong SMILES for:  8604570 (removed!)\n",
      "Wrong SMILES for:  8604736 (removed!)\n"
     ]
    },
    {
     "name": "stderr",
     "output_type": "stream",
     "text": [
      "[03:21:57] Explicit valence for atom # 19 Cl, 2, is greater than permitted\n"
     ]
    },
    {
     "name": "stdout",
     "output_type": "stream",
     "text": [
      "Wrong SMILES for:  8604977 (removed!)\n"
     ]
    },
    {
     "name": "stderr",
     "output_type": "stream",
     "text": [
      "[03:21:58] Explicit valence for atom # 20 Cl, 2, is greater than permitted\n",
      "[03:21:58] Explicit valence for atom # 6 Cl, 2, is greater than permitted\n"
     ]
    },
    {
     "name": "stdout",
     "output_type": "stream",
     "text": [
      "Wrong SMILES for:  8606023 (removed!)\n",
      "Wrong SMILES for:  8606625 (removed!)\n"
     ]
    },
    {
     "name": "stderr",
     "output_type": "stream",
     "text": [
      "[03:21:58] Explicit valence for atom # 6 Cl, 2, is greater than permitted\n",
      "[03:21:58] Explicit valence for atom # 6 Cl, 2, is greater than permitted\n",
      "[03:21:58] Explicit valence for atom # 6 Cl, 2, is greater than permitted\n"
     ]
    },
    {
     "name": "stdout",
     "output_type": "stream",
     "text": [
      "Wrong SMILES for:  8606792 (removed!)\n",
      "Wrong SMILES for:  8606801 (removed!)\n",
      "Wrong SMILES for:  8607038 (removed!)\n"
     ]
    },
    {
     "name": "stderr",
     "output_type": "stream",
     "text": [
      "[03:21:58] Explicit valence for atom # 20 Cl, 2, is greater than permitted\n"
     ]
    },
    {
     "name": "stdout",
     "output_type": "stream",
     "text": [
      "Wrong SMILES for:  8607944 (removed!)\n"
     ]
    },
    {
     "name": "stderr",
     "output_type": "stream",
     "text": [
      "[03:21:58] Explicit valence for atom # 19 Cl, 2, is greater than permitted\n",
      "[03:21:59] Explicit valence for atom # 6 Cl, 2, is greater than permitted\n"
     ]
    },
    {
     "name": "stdout",
     "output_type": "stream",
     "text": [
      "Wrong SMILES for:  8608980 (removed!)\n",
      "Wrong SMILES for:  8609431 (removed!)\n"
     ]
    },
    {
     "name": "stderr",
     "output_type": "stream",
     "text": [
      "[03:21:59] Explicit valence for atom # 20 Cl, 2, is greater than permitted\n",
      "[03:21:59] Explicit valence for atom # 6 Cl, 2, is greater than permitted\n",
      "[03:21:59] Explicit valence for atom # 20 Cl, 2, is greater than permitted\n"
     ]
    },
    {
     "name": "stdout",
     "output_type": "stream",
     "text": [
      "Wrong SMILES for:  8609849 (removed!)\n",
      "Wrong SMILES for:  8610379 (removed!)\n",
      "Wrong SMILES for:  8610550 (removed!)\n"
     ]
    },
    {
     "name": "stderr",
     "output_type": "stream",
     "text": [
      "[03:21:59] Explicit valence for atom # 6 Cl, 2, is greater than permitted\n",
      "[03:21:59] Explicit valence for atom # 6 Cl, 2, is greater than permitted\n",
      "[03:21:59] Explicit valence for atom # 20 Cl, 2, is greater than permitted\n"
     ]
    },
    {
     "name": "stdout",
     "output_type": "stream",
     "text": [
      "Wrong SMILES for:  8610786 (removed!)\n",
      "Wrong SMILES for:  8611019 (removed!)\n",
      "Wrong SMILES for:  8611433 (removed!)\n"
     ]
    },
    {
     "name": "stderr",
     "output_type": "stream",
     "text": [
      "[03:21:59] Explicit valence for atom # 18 Cl, 2, is greater than permitted\n"
     ]
    },
    {
     "name": "stdout",
     "output_type": "stream",
     "text": [
      "Wrong SMILES for:  8611947 (removed!)\n"
     ]
    },
    {
     "name": "stderr",
     "output_type": "stream",
     "text": [
      "[03:22:00] Explicit valence for atom # 6 Cl, 2, is greater than permitted\n",
      "[03:22:00] Explicit valence for atom # 6 Cl, 2, is greater than permitted\n",
      "[03:22:00] Explicit valence for atom # 20 Cl, 2, is greater than permitted\n",
      "[03:22:00] Explicit valence for atom # 6 Cl, 2, is greater than permitted\n"
     ]
    },
    {
     "name": "stdout",
     "output_type": "stream",
     "text": [
      "Wrong SMILES for:  8612682 (removed!)\n",
      "Wrong SMILES for:  8612748 (removed!)\n",
      "Wrong SMILES for:  8612898 (removed!)\n",
      "Wrong SMILES for:  8613459 (removed!)\n"
     ]
    },
    {
     "name": "stderr",
     "output_type": "stream",
     "text": [
      "[03:22:00] Explicit valence for atom # 6 Cl, 2, is greater than permitted\n",
      "[03:22:00] Explicit valence for atom # 6 Cl, 2, is greater than permitted\n",
      "[03:22:00] Explicit valence for atom # 6 Cl, 2, is greater than permitted\n"
     ]
    },
    {
     "name": "stdout",
     "output_type": "stream",
     "text": [
      "Wrong SMILES for:  8613669 (removed!)\n",
      "Wrong SMILES for:  8614179 (removed!)\n",
      "Wrong SMILES for:  8614363 (removed!)\n"
     ]
    },
    {
     "name": "stderr",
     "output_type": "stream",
     "text": [
      "[03:22:00] Explicit valence for atom # 22 Cl, 2, is greater than permitted\n",
      "[03:22:00] Explicit valence for atom # 6 Cl, 2, is greater than permitted\n",
      "[03:22:00] Explicit valence for atom # 6 Cl, 2, is greater than permitted\n"
     ]
    },
    {
     "name": "stdout",
     "output_type": "stream",
     "text": [
      "Wrong SMILES for:  8614908 (removed!)\n",
      "Wrong SMILES for:  8615034 (removed!)\n",
      "Wrong SMILES for:  8615369 (removed!)\n"
     ]
    },
    {
     "name": "stderr",
     "output_type": "stream",
     "text": [
      "[03:22:01] Explicit valence for atom # 19 Cl, 2, is greater than permitted\n"
     ]
    },
    {
     "name": "stdout",
     "output_type": "stream",
     "text": [
      "Wrong SMILES for:  8616256 (removed!)\n"
     ]
    },
    {
     "name": "stderr",
     "output_type": "stream",
     "text": [
      "[03:22:01] Explicit valence for atom # 6 Cl, 2, is greater than permitted\n",
      "[03:22:01] Explicit valence for atom # 6 Cl, 2, is greater than permitted\n",
      "[03:22:01] Explicit valence for atom # 6 Cl, 2, is greater than permitted\n"
     ]
    },
    {
     "name": "stdout",
     "output_type": "stream",
     "text": [
      "Wrong SMILES for:  8617093 (removed!)\n",
      "Wrong SMILES for:  8617675 (removed!)\n",
      "Wrong SMILES for:  8617827 (removed!)\n"
     ]
    },
    {
     "name": "stderr",
     "output_type": "stream",
     "text": [
      "[03:22:01] Explicit valence for atom # 18 Cl, 2, is greater than permitted\n"
     ]
    },
    {
     "name": "stdout",
     "output_type": "stream",
     "text": [
      "Wrong SMILES for:  8618711 (removed!)\n"
     ]
    },
    {
     "name": "stderr",
     "output_type": "stream",
     "text": [
      "[03:22:02] Explicit valence for atom # 22 Cl, 2, is greater than permitted\n",
      "[03:22:02] Explicit valence for atom # 6 Cl, 2, is greater than permitted\n"
     ]
    },
    {
     "name": "stdout",
     "output_type": "stream",
     "text": [
      "Wrong SMILES for:  8619806 (removed!)\n",
      "Wrong SMILES for:  8620347 (removed!)\n"
     ]
    },
    {
     "name": "stderr",
     "output_type": "stream",
     "text": [
      "[03:22:02] Explicit valence for atom # 6 Cl, 2, is greater than permitted\n",
      "[03:22:02] Explicit valence for atom # 6 Cl, 2, is greater than permitted\n"
     ]
    },
    {
     "name": "stdout",
     "output_type": "stream",
     "text": [
      "Wrong SMILES for:  8620541 (removed!)\n",
      "Wrong SMILES for:  8621299 (removed!)\n"
     ]
    },
    {
     "name": "stderr",
     "output_type": "stream",
     "text": [
      "[03:22:02] Explicit valence for atom # 6 Cl, 2, is greater than permitted\n",
      "[03:22:02] Explicit valence for atom # 6 Cl, 2, is greater than permitted\n"
     ]
    },
    {
     "name": "stdout",
     "output_type": "stream",
     "text": [
      "Wrong SMILES for:  8621823 (removed!)\n",
      "Wrong SMILES for:  8622028 (removed!)\n"
     ]
    },
    {
     "name": "stderr",
     "output_type": "stream",
     "text": [
      "[03:22:03] Explicit valence for atom # 6 Cl, 2, is greater than permitted\n"
     ]
    },
    {
     "name": "stdout",
     "output_type": "stream",
     "text": [
      "Wrong SMILES for:  8622790 (removed!)\n"
     ]
    },
    {
     "name": "stderr",
     "output_type": "stream",
     "text": [
      "[03:22:03] Explicit valence for atom # 20 Cl, 2, is greater than permitted\n",
      "[03:22:03] Explicit valence for atom # 6 Cl, 2, is greater than permitted\n",
      "[03:22:03] Explicit valence for atom # 6 Cl, 2, is greater than permitted\n"
     ]
    },
    {
     "name": "stdout",
     "output_type": "stream",
     "text": [
      "Wrong SMILES for:  8623486 (removed!)\n",
      "Wrong SMILES for:  8623984 (removed!)\n",
      "Wrong SMILES for:  8624216 (removed!)\n"
     ]
    },
    {
     "name": "stderr",
     "output_type": "stream",
     "text": [
      "[03:22:03] Explicit valence for atom # 6 Cl, 2, is greater than permitted\n",
      "[03:22:03] Explicit valence for atom # 6 Cl, 2, is greater than permitted\n"
     ]
    },
    {
     "name": "stdout",
     "output_type": "stream",
     "text": [
      "Wrong SMILES for:  8624901 (removed!)\n",
      "Wrong SMILES for:  8625307 (removed!)\n"
     ]
    },
    {
     "name": "stderr",
     "output_type": "stream",
     "text": [
      "[03:22:04] Explicit valence for atom # 6 Cl, 2, is greater than permitted\n",
      "[03:22:04] Explicit valence for atom # 6 Cl, 2, is greater than permitted\n",
      "[03:22:04] Explicit valence for atom # 22 Cl, 2, is greater than permitted\n",
      "[03:22:04] Explicit valence for atom # 6 Cl, 2, is greater than permitted\n"
     ]
    },
    {
     "name": "stdout",
     "output_type": "stream",
     "text": [
      "Wrong SMILES for:  8626179 (removed!)\n",
      "Wrong SMILES for:  8626430 (removed!)\n",
      "Wrong SMILES for:  8626547 (removed!)\n",
      "Wrong SMILES for:  8626608 (removed!)\n"
     ]
    },
    {
     "name": "stderr",
     "output_type": "stream",
     "text": [
      "[03:22:04] Explicit valence for atom # 6 Cl, 2, is greater than permitted\n",
      "[03:22:04] Explicit valence for atom # 6 Cl, 2, is greater than permitted\n",
      "[03:22:04] Explicit valence for atom # 6 Cl, 2, is greater than permitted\n",
      "[03:22:04] Explicit valence for atom # 6 Cl, 2, is greater than permitted\n",
      "[03:22:04] Explicit valence for atom # 6 Cl, 2, is greater than permitted\n"
     ]
    },
    {
     "name": "stdout",
     "output_type": "stream",
     "text": [
      "Wrong SMILES for:  8627141 (removed!)\n",
      "Wrong SMILES for:  8627301 (removed!)\n",
      "Wrong SMILES for:  8627359 (removed!)\n",
      "Wrong SMILES for:  8627583 (removed!)\n",
      "Wrong SMILES for:  8627746 (removed!)\n"
     ]
    },
    {
     "name": "stderr",
     "output_type": "stream",
     "text": [
      "[03:22:04] Explicit valence for atom # 6 Cl, 2, is greater than permitted\n"
     ]
    },
    {
     "name": "stdout",
     "output_type": "stream",
     "text": [
      "Wrong SMILES for:  8628106 (removed!)\n"
     ]
    },
    {
     "name": "stderr",
     "output_type": "stream",
     "text": [
      "[03:22:04] Explicit valence for atom # 6 Cl, 2, is greater than permitted\n",
      "[03:22:05] Explicit valence for atom # 6 Cl, 2, is greater than permitted\n",
      "[03:22:05] Explicit valence for atom # 6 Cl, 2, is greater than permitted\n"
     ]
    },
    {
     "name": "stdout",
     "output_type": "stream",
     "text": [
      "Wrong SMILES for:  8628826 (removed!)\n",
      "Wrong SMILES for:  8629140 (removed!)\n",
      "Wrong SMILES for:  8629491 (removed!)\n",
      "Wrong SMILES for:  8629736 (removed!)\n"
     ]
    },
    {
     "name": "stderr",
     "output_type": "stream",
     "text": [
      "[03:22:05] Explicit valence for atom # 6 Cl, 2, is greater than permitted\n",
      "[03:22:05] Explicit valence for atom # 6 Cl, 2, is greater than permitted\n",
      "[03:22:05] Explicit valence for atom # 6 Cl, 2, is greater than permitted\n",
      "[03:22:05] Explicit valence for atom # 6 Cl, 2, is greater than permitted\n"
     ]
    },
    {
     "name": "stdout",
     "output_type": "stream",
     "text": [
      "Wrong SMILES for:  8631367 (removed!)\n",
      "Wrong SMILES for:  8631852 (removed!)\n",
      "Wrong SMILES for:  8632030 (removed!)\n"
     ]
    },
    {
     "name": "stderr",
     "output_type": "stream",
     "text": [
      "[03:22:05] Explicit valence for atom # 6 Cl, 2, is greater than permitted\n",
      "[03:22:06] Explicit valence for atom # 6 Cl, 2, is greater than permitted\n"
     ]
    },
    {
     "name": "stdout",
     "output_type": "stream",
     "text": [
      "Wrong SMILES for:  8632070 (removed!)\n",
      "Wrong SMILES for:  8632806 (removed!)\n",
      "Wrong SMILES for:  8632993 (removed!)\n"
     ]
    },
    {
     "name": "stderr",
     "output_type": "stream",
     "text": [
      "[03:22:06] Explicit valence for atom # 6 Cl, 2, is greater than permitted\n",
      "[03:22:06] Explicit valence for atom # 6 Cl, 2, is greater than permitted\n",
      "[03:22:06] Explicit valence for atom # 6 Cl, 2, is greater than permitted\n",
      "[03:22:06] Explicit valence for atom # 6 Cl, 2, is greater than permitted\n",
      "[03:22:06] Explicit valence for atom # 6 Cl, 2, is greater than permitted\n",
      "[03:22:06] Explicit valence for atom # 6 Cl, 2, is greater than permitted\n",
      "[03:22:06] Explicit valence for atom # 6 Cl, 2, is greater than permitted\n"
     ]
    },
    {
     "name": "stdout",
     "output_type": "stream",
     "text": [
      "Wrong SMILES for:  8633704 (removed!)\n",
      "Wrong SMILES for:  8633822 (removed!)\n",
      "Wrong SMILES for:  8633842 (removed!)\n",
      "Wrong SMILES for:  8634129 (removed!)\n",
      "Wrong SMILES for:  8634240 (removed!)\n",
      "Wrong SMILES for:  8634296 (removed!)\n"
     ]
    },
    {
     "name": "stderr",
     "output_type": "stream",
     "text": [
      "[03:22:06] Explicit valence for atom # 22 Cl, 2, is greater than permitted\n",
      "[03:22:06] Explicit valence for atom # 6 Cl, 2, is greater than permitted\n",
      "[03:22:06] Explicit valence for atom # 6 Cl, 2, is greater than permitted\n"
     ]
    },
    {
     "name": "stdout",
     "output_type": "stream",
     "text": [
      "Wrong SMILES for:  8634466 (removed!)\n",
      "Wrong SMILES for:  8634506 (removed!)\n",
      "Wrong SMILES for:  8634931 (removed!)\n"
     ]
    },
    {
     "name": "stderr",
     "output_type": "stream",
     "text": [
      "[03:22:07] Explicit valence for atom # 6 Cl, 2, is greater than permitted\n",
      "[03:22:07] Explicit valence for atom # 6 Cl, 2, is greater than permitted\n",
      "[03:22:07] Explicit valence for atom # 6 Cl, 2, is greater than permitted\n"
     ]
    },
    {
     "name": "stdout",
     "output_type": "stream",
     "text": [
      "Wrong SMILES for:  8635861 (removed!)\n",
      "Wrong SMILES for:  8636150 (removed!)\n",
      "Wrong SMILES for:  8636263 (removed!)\n"
     ]
    },
    {
     "name": "stderr",
     "output_type": "stream",
     "text": [
      "[03:22:07] Explicit valence for atom # 6 Cl, 2, is greater than permitted\n",
      "[03:22:07] Explicit valence for atom # 6 Cl, 2, is greater than permitted\n",
      "[03:22:07] Explicit valence for atom # 6 Cl, 2, is greater than permitted\n",
      "[03:22:07] Explicit valence for atom # 6 Cl, 2, is greater than permitted\n"
     ]
    },
    {
     "name": "stdout",
     "output_type": "stream",
     "text": [
      "Wrong SMILES for:  8636575 (removed!)\n",
      "Wrong SMILES for:  8636738 (removed!)\n",
      "Wrong SMILES for:  8636898 (removed!)\n",
      "Wrong SMILES for:  8637146 (removed!)\n"
     ]
    },
    {
     "name": "stderr",
     "output_type": "stream",
     "text": [
      "[03:22:07] Explicit valence for atom # 6 Cl, 2, is greater than permitted\n",
      "[03:22:07] Explicit valence for atom # 6 Cl, 2, is greater than permitted\n",
      "[03:22:07] Explicit valence for atom # 6 Cl, 2, is greater than permitted\n",
      "[03:22:07] Explicit valence for atom # 6 Cl, 2, is greater than permitted\n",
      "[03:22:07] Explicit valence for atom # 6 Cl, 2, is greater than permitted\n",
      "[03:22:07] Explicit valence for atom # 6 Cl, 2, is greater than permitted\n",
      "[03:22:07] Explicit valence for atom # 6 Cl, 2, is greater than permitted\n"
     ]
    },
    {
     "name": "stdout",
     "output_type": "stream",
     "text": [
      "Wrong SMILES for:  8637519 (removed!)\n",
      "Wrong SMILES for:  8637535 (removed!)\n",
      "Wrong SMILES for:  8637687 (removed!)\n",
      "Wrong SMILES for:  8637764 (removed!)\n",
      "Wrong SMILES for:  8637943 (removed!)\n",
      "Wrong SMILES for:  8638109 (removed!)\n",
      "Wrong SMILES for:  8638328 (removed!)\n"
     ]
    },
    {
     "name": "stderr",
     "output_type": "stream",
     "text": [
      "[03:22:08] Explicit valence for atom # 6 Cl, 2, is greater than permitted\n",
      "[03:22:08] Explicit valence for atom # 6 Cl, 2, is greater than permitted\n",
      "[03:22:08] Explicit valence for atom # 6 Cl, 2, is greater than permitted\n",
      "[03:22:08] Explicit valence for atom # 6 Cl, 2, is greater than permitted\n"
     ]
    },
    {
     "name": "stdout",
     "output_type": "stream",
     "text": [
      "Wrong SMILES for:  8639003 (removed!)\n",
      "Wrong SMILES for:  8639380 (removed!)\n",
      "Wrong SMILES for:  8639544 (removed!)\n",
      "Wrong SMILES for:  8639562 (removed!)\n"
     ]
    },
    {
     "name": "stderr",
     "output_type": "stream",
     "text": [
      "[03:22:08] Explicit valence for atom # 6 Cl, 2, is greater than permitted\n",
      "[03:22:08] Explicit valence for atom # 21 Cl, 2, is greater than permitted\n",
      "[03:22:08] Explicit valence for atom # 6 Cl, 2, is greater than permitted\n"
     ]
    },
    {
     "name": "stdout",
     "output_type": "stream",
     "text": [
      "Wrong SMILES for:  8640131 (removed!)\n",
      "Wrong SMILES for:  8640176 (removed!)\n",
      "Wrong SMILES for:  8640523 (removed!)\n"
     ]
    },
    {
     "name": "stderr",
     "output_type": "stream",
     "text": [
      "[03:22:08] Explicit valence for atom # 6 Cl, 2, is greater than permitted\n",
      "[03:22:08] Explicit valence for atom # 6 Cl, 2, is greater than permitted\n"
     ]
    },
    {
     "name": "stdout",
     "output_type": "stream",
     "text": [
      "Wrong SMILES for:  8641202 (removed!)\n",
      "Wrong SMILES for:  8641516 (removed!)\n"
     ]
    },
    {
     "name": "stderr",
     "output_type": "stream",
     "text": [
      "[03:22:09] Explicit valence for atom # 6 Cl, 2, is greater than permitted\n",
      "[03:22:09] Explicit valence for atom # 6 Cl, 2, is greater than permitted\n",
      "[03:22:09] Explicit valence for atom # 6 Cl, 2, is greater than permitted\n",
      "[03:22:09] Explicit valence for atom # 6 Cl, 2, is greater than permitted\n"
     ]
    },
    {
     "name": "stdout",
     "output_type": "stream",
     "text": [
      "Wrong SMILES for:  8642609 (removed!)\n",
      "Wrong SMILES for:  8642699 (removed!)\n",
      "Wrong SMILES for:  8642718 (removed!)\n",
      "Wrong SMILES for:  8643228 (removed!)\n"
     ]
    },
    {
     "name": "stderr",
     "output_type": "stream",
     "text": [
      "[03:22:09] Explicit valence for atom # 6 Cl, 2, is greater than permitted\n",
      "[03:22:09] Explicit valence for atom # 6 Cl, 2, is greater than permitted\n",
      "[03:22:09] Explicit valence for atom # 6 Cl, 2, is greater than permitted\n",
      "[03:22:09] Explicit valence for atom # 6 Cl, 2, is greater than permitted\n"
     ]
    },
    {
     "name": "stdout",
     "output_type": "stream",
     "text": [
      "Wrong SMILES for:  8643416 (removed!)\n",
      "Wrong SMILES for:  8644031 (removed!)\n",
      "Wrong SMILES for:  8644134 (removed!)\n",
      "Wrong SMILES for:  8644140 (removed!)\n"
     ]
    },
    {
     "name": "stderr",
     "output_type": "stream",
     "text": [
      "[03:22:09] Explicit valence for atom # 6 Cl, 2, is greater than permitted\n",
      "[03:22:09] Explicit valence for atom # 6 Cl, 2, is greater than permitted\n",
      "[03:22:09] Explicit valence for atom # 6 Cl, 2, is greater than permitted\n",
      "[03:22:09] Explicit valence for atom # 6 Cl, 2, is greater than permitted\n",
      "[03:22:09] Explicit valence for atom # 19 Cl, 2, is greater than permitted\n",
      "[03:22:09] Explicit valence for atom # 6 Cl, 2, is greater than permitted\n",
      "[03:22:09] Explicit valence for atom # 6 Cl, 2, is greater than permitted\n",
      "[03:22:09] Explicit valence for atom # 6 Cl, 2, is greater than permitted\n",
      "[03:22:09] Explicit valence for atom # 23 Cl, 2, is greater than permitted\n"
     ]
    },
    {
     "name": "stdout",
     "output_type": "stream",
     "text": [
      "Wrong SMILES for:  8644301 (removed!)\n",
      "Wrong SMILES for:  8644313 (removed!)\n",
      "Wrong SMILES for:  8644405 (removed!)\n",
      "Wrong SMILES for:  8644424 (removed!)\n",
      "Wrong SMILES for:  8644697 (removed!)\n",
      "Wrong SMILES for:  8644716 (removed!)\n",
      "Wrong SMILES for:  8644891 (removed!)\n",
      "Wrong SMILES for:  8644915 (removed!)\n",
      "Wrong SMILES for:  8645040 (removed!)\n"
     ]
    },
    {
     "name": "stderr",
     "output_type": "stream",
     "text": [
      "[03:22:10] Explicit valence for atom # 21 Cl, 2, is greater than permitted\n",
      "[03:22:10] Explicit valence for atom # 6 Cl, 2, is greater than permitted\n",
      "[03:22:10] Explicit valence for atom # 6 Cl, 2, is greater than permitted\n",
      "[03:22:10] Explicit valence for atom # 20 Cl, 2, is greater than permitted\n"
     ]
    },
    {
     "name": "stdout",
     "output_type": "stream",
     "text": [
      "Wrong SMILES for:  8645877 (removed!)\n",
      "Wrong SMILES for:  8646000 (removed!)\n",
      "Wrong SMILES for:  8646104 (removed!)\n",
      "Wrong SMILES for:  8646378 (removed!)\n"
     ]
    },
    {
     "name": "stderr",
     "output_type": "stream",
     "text": [
      "[03:22:10] Explicit valence for atom # 6 Cl, 2, is greater than permitted\n",
      "[03:22:10] Explicit valence for atom # 20 Cl, 2, is greater than permitted\n",
      "[03:22:10] Explicit valence for atom # 20 Cl, 2, is greater than permitted\n",
      "[03:22:10] Explicit valence for atom # 6 Cl, 2, is greater than permitted\n",
      "[03:22:10] Explicit valence for atom # 23 Cl, 2, is greater than permitted\n",
      "[03:22:10] Explicit valence for atom # 6 Cl, 2, is greater than permitted\n",
      "[03:22:10] Explicit valence for atom # 21 Cl, 2, is greater than permitted\n",
      "[03:22:10] Explicit valence for atom # 6 Cl, 2, is greater than permitted\n"
     ]
    },
    {
     "name": "stdout",
     "output_type": "stream",
     "text": [
      "Wrong SMILES for:  8646577 (removed!)\n",
      "Wrong SMILES for:  8646615 (removed!)\n",
      "Wrong SMILES for:  8646797 (removed!)\n",
      "Wrong SMILES for:  8647079 (removed!)\n",
      "Wrong SMILES for:  8647232 (removed!)\n",
      "Wrong SMILES for:  8647356 (removed!)\n",
      "Wrong SMILES for:  8647408 (removed!)\n",
      "Wrong SMILES for:  8647423 (removed!)\n"
     ]
    },
    {
     "name": "stderr",
     "output_type": "stream",
     "text": [
      "[03:22:10] Explicit valence for atom # 22 Cl, 2, is greater than permitted\n",
      "[03:22:10] Explicit valence for atom # 6 Cl, 2, is greater than permitted\n",
      "[03:22:10] Explicit valence for atom # 6 Cl, 2, is greater than permitted\n",
      "[03:22:10] Explicit valence for atom # 24 Cl, 2, is greater than permitted\n",
      "[03:22:10] Explicit valence for atom # 6 Cl, 2, is greater than permitted\n",
      "[03:22:10] Explicit valence for atom # 25 Cl, 2, is greater than permitted\n"
     ]
    },
    {
     "name": "stdout",
     "output_type": "stream",
     "text": [
      "Wrong SMILES for:  8647515 (removed!)\n",
      "Wrong SMILES for:  8647933 (removed!)\n",
      "Wrong SMILES for:  8648142 (removed!)\n",
      "Wrong SMILES for:  8648234 (removed!)\n",
      "Wrong SMILES for:  8648254 (removed!)\n",
      "Wrong SMILES for:  8648264 (removed!)\n"
     ]
    },
    {
     "name": "stderr",
     "output_type": "stream",
     "text": [
      "[03:22:10] Explicit valence for atom # 6 Cl, 2, is greater than permitted\n",
      "[03:22:11] Explicit valence for atom # 6 Cl, 2, is greater than permitted\n",
      "[03:22:11] Explicit valence for atom # 6 Cl, 2, is greater than permitted\n",
      "[03:22:11] Explicit valence for atom # 6 Cl, 2, is greater than permitted\n"
     ]
    },
    {
     "name": "stdout",
     "output_type": "stream",
     "text": [
      "Wrong SMILES for:  8648381 (removed!)\n",
      "Wrong SMILES for:  8648675 (removed!)\n",
      "Wrong SMILES for:  8649058 (removed!)\n",
      "Wrong SMILES for:  8649137 (removed!)\n"
     ]
    },
    {
     "name": "stderr",
     "output_type": "stream",
     "text": [
      "[03:22:11] Explicit valence for atom # 6 Cl, 2, is greater than permitted\n",
      "[03:22:11] Explicit valence for atom # 6 Cl, 2, is greater than permitted\n",
      "[03:22:11] Explicit valence for atom # 6 Cl, 2, is greater than permitted\n",
      "[03:22:11] Explicit valence for atom # 6 Cl, 2, is greater than permitted\n",
      "[03:22:11] Explicit valence for atom # 6 Cl, 2, is greater than permitted\n"
     ]
    },
    {
     "name": "stdout",
     "output_type": "stream",
     "text": [
      "Wrong SMILES for:  8649504 (removed!)\n",
      "Wrong SMILES for:  8649573 (removed!)\n",
      "Wrong SMILES for:  8649659 (removed!)\n",
      "Wrong SMILES for:  8649829 (removed!)\n",
      "Wrong SMILES for:  8649947 (removed!)\n"
     ]
    },
    {
     "name": "stderr",
     "output_type": "stream",
     "text": [
      "[03:22:11] Explicit valence for atom # 6 Cl, 2, is greater than permitted\n",
      "[03:22:11] Explicit valence for atom # 6 Cl, 2, is greater than permitted\n",
      "[03:22:11] Explicit valence for atom # 6 Cl, 2, is greater than permitted\n",
      "[03:22:11] Explicit valence for atom # 6 Cl, 2, is greater than permitted\n",
      "[03:22:11] Explicit valence for atom # 24 Cl, 2, is greater than permitted\n",
      "[03:22:11] Explicit valence for atom # 6 Cl, 2, is greater than permitted\n"
     ]
    },
    {
     "name": "stdout",
     "output_type": "stream",
     "text": [
      "Wrong SMILES for:  8650198 (removed!)\n",
      "Wrong SMILES for:  8650346 (removed!)\n",
      "Wrong SMILES for:  8650446 (removed!)\n",
      "Wrong SMILES for:  8650834 (removed!)\n",
      "Wrong SMILES for:  8650841 (removed!)\n",
      "Wrong SMILES for:  8650960 (removed!)\n"
     ]
    },
    {
     "name": "stderr",
     "output_type": "stream",
     "text": [
      "[03:22:12] Explicit valence for atom # 6 Cl, 2, is greater than permitted\n",
      "[03:22:12] Explicit valence for atom # 6 Cl, 2, is greater than permitted\n",
      "[03:22:12] Explicit valence for atom # 6 Cl, 2, is greater than permitted\n",
      "[03:22:12] Explicit valence for atom # 6 Cl, 2, is greater than permitted\n",
      "[03:22:12] Explicit valence for atom # 6 Cl, 2, is greater than permitted\n",
      "[03:22:12] Explicit valence for atom # 6 Cl, 2, is greater than permitted\n"
     ]
    },
    {
     "name": "stdout",
     "output_type": "stream",
     "text": [
      "Wrong SMILES for:  8651762 (removed!)\n",
      "Wrong SMILES for:  8651787 (removed!)\n",
      "Wrong SMILES for:  8651852 (removed!)\n",
      "Wrong SMILES for:  8651900 (removed!)\n",
      "Wrong SMILES for:  8652223 (removed!)\n",
      "Wrong SMILES for:  8652311 (removed!)\n"
     ]
    },
    {
     "name": "stderr",
     "output_type": "stream",
     "text": [
      "[03:22:12] Explicit valence for atom # 21 Cl, 2, is greater than permitted\n",
      "[03:22:12] Explicit valence for atom # 6 Cl, 2, is greater than permitted\n",
      "[03:22:12] Explicit valence for atom # 6 Cl, 2, is greater than permitted\n",
      "[03:22:12] Explicit valence for atom # 6 Cl, 2, is greater than permitted\n"
     ]
    },
    {
     "name": "stdout",
     "output_type": "stream",
     "text": [
      "Wrong SMILES for:  8652500 (removed!)\n",
      "Wrong SMILES for:  8652747 (removed!)\n",
      "Wrong SMILES for:  8653043 (removed!)\n",
      "Wrong SMILES for:  8653294 (removed!)\n"
     ]
    },
    {
     "name": "stderr",
     "output_type": "stream",
     "text": [
      "[03:22:12] Explicit valence for atom # 6 Cl, 2, is greater than permitted\n",
      "[03:22:12] Explicit valence for atom # 6 Cl, 2, is greater than permitted\n",
      "[03:22:12] Explicit valence for atom # 22 Cl, 2, is greater than permitted\n",
      "[03:22:12] Explicit valence for atom # 6 Cl, 2, is greater than permitted\n",
      "[03:22:12] Explicit valence for atom # 6 Cl, 2, is greater than permitted\n",
      "[03:22:12] Explicit valence for atom # 6 Cl, 2, is greater than permitted\n",
      "[03:22:12] Explicit valence for atom # 23 Cl, 2, is greater than permitted\n"
     ]
    },
    {
     "name": "stdout",
     "output_type": "stream",
     "text": [
      "Wrong SMILES for:  8653315 (removed!)\n",
      "Wrong SMILES for:  8653340 (removed!)\n",
      "Wrong SMILES for:  8653406 (removed!)\n",
      "Wrong SMILES for:  8653564 (removed!)\n",
      "Wrong SMILES for:  8653593 (removed!)\n",
      "Wrong SMILES for:  8653823 (removed!)\n",
      "Wrong SMILES for:  8653885 (removed!)\n"
     ]
    },
    {
     "name": "stderr",
     "output_type": "stream",
     "text": [
      "[03:22:12] Explicit valence for atom # 6 Cl, 2, is greater than permitted\n",
      "[03:22:12] Explicit valence for atom # 6 Cl, 2, is greater than permitted\n",
      "[03:22:12] Explicit valence for atom # 6 Cl, 2, is greater than permitted\n",
      "[03:22:12] Explicit valence for atom # 6 Cl, 2, is greater than permitted\n",
      "[03:22:12] Explicit valence for atom # 6 Cl, 2, is greater than permitted\n",
      "[03:22:12] Explicit valence for atom # 6 Cl, 2, is greater than permitted\n",
      "[03:22:13] Explicit valence for atom # 6 Cl, 2, is greater than permitted\n"
     ]
    },
    {
     "name": "stdout",
     "output_type": "stream",
     "text": [
      "Wrong SMILES for:  8654287 (removed!)\n",
      "Wrong SMILES for:  8654310 (removed!)\n",
      "Wrong SMILES for:  8654466 (removed!)\n",
      "Wrong SMILES for:  8654601 (removed!)\n",
      "Wrong SMILES for:  8654716 (removed!)\n",
      "Wrong SMILES for:  8654752 (removed!)\n",
      "Wrong SMILES for:  8654903 (removed!)\n"
     ]
    },
    {
     "name": "stderr",
     "output_type": "stream",
     "text": [
      "[03:22:13] Explicit valence for atom # 6 Cl, 2, is greater than permitted\n",
      "[03:22:13] Explicit valence for atom # 6 Cl, 2, is greater than permitted\n",
      "[03:22:13] Explicit valence for atom # 6 Cl, 2, is greater than permitted\n",
      "[03:22:13] Explicit valence for atom # 6 Cl, 2, is greater than permitted\n",
      "[03:22:13] Explicit valence for atom # 6 Cl, 2, is greater than permitted\n",
      "[03:22:13] Explicit valence for atom # 6 Cl, 2, is greater than permitted\n"
     ]
    },
    {
     "name": "stdout",
     "output_type": "stream",
     "text": [
      "Wrong SMILES for:  8655176 (removed!)\n",
      "Wrong SMILES for:  8655213 (removed!)\n",
      "Wrong SMILES for:  8655302 (removed!)\n",
      "Wrong SMILES for:  8655450 (removed!)\n",
      "Wrong SMILES for:  8655533 (removed!)\n",
      "Wrong SMILES for:  8655734 (removed!)\n"
     ]
    },
    {
     "name": "stderr",
     "output_type": "stream",
     "text": [
      "[03:22:13] Explicit valence for atom # 6 Cl, 2, is greater than permitted\n"
     ]
    },
    {
     "name": "stdout",
     "output_type": "stream",
     "text": [
      "Wrong SMILES for:  8655993 (removed!)\n"
     ]
    },
    {
     "name": "stderr",
     "output_type": "stream",
     "text": [
      "[03:22:13] Explicit valence for atom # 6 Cl, 2, is greater than permitted\n",
      "[03:22:13] Explicit valence for atom # 6 Cl, 2, is greater than permitted\n",
      "[03:22:13] Explicit valence for atom # 6 Cl, 2, is greater than permitted\n"
     ]
    },
    {
     "name": "stdout",
     "output_type": "stream",
     "text": [
      "Wrong SMILES for:  8656867 (removed!)\n",
      "Wrong SMILES for:  8656988 (removed!)\n",
      "Wrong SMILES for:  8657515 (removed!)\n"
     ]
    },
    {
     "name": "stderr",
     "output_type": "stream",
     "text": [
      "[03:22:13] Explicit valence for atom # 6 Cl, 2, is greater than permitted\n",
      "[03:22:14] Explicit valence for atom # 19 Cl, 2, is greater than permitted\n",
      "[03:22:14] Explicit valence for atom # 6 Cl, 2, is greater than permitted\n",
      "[03:22:14] Explicit valence for atom # 6 Cl, 2, is greater than permitted\n",
      "[03:22:14] Explicit valence for atom # 6 Cl, 2, is greater than permitted\n",
      "[03:22:14] Explicit valence for atom # 6 Cl, 2, is greater than permitted\n",
      "[03:22:14] Explicit valence for atom # 6 Cl, 2, is greater than permitted\n",
      "[03:22:14] Explicit valence for atom # 6 Cl, 2, is greater than permitted\n"
     ]
    },
    {
     "name": "stdout",
     "output_type": "stream",
     "text": [
      "Wrong SMILES for:  8657794 (removed!)\n",
      "Wrong SMILES for:  8657845 (removed!)\n",
      "Wrong SMILES for:  8658060 (removed!)\n",
      "Wrong SMILES for:  8658096 (removed!)\n",
      "Wrong SMILES for:  8658162 (removed!)\n",
      "Wrong SMILES for:  8658242 (removed!)\n",
      "Wrong SMILES for:  8658355 (removed!)\n",
      "Wrong SMILES for:  8658496 (removed!)\n"
     ]
    },
    {
     "name": "stderr",
     "output_type": "stream",
     "text": [
      "[03:22:14] Explicit valence for atom # 6 Cl, 2, is greater than permitted\n",
      "[03:22:14] Explicit valence for atom # 6 Cl, 2, is greater than permitted\n",
      "[03:22:14] Explicit valence for atom # 23 Cl, 2, is greater than permitted\n",
      "[03:22:14] Explicit valence for atom # 6 Cl, 2, is greater than permitted\n",
      "[03:22:14] Explicit valence for atom # 6 Cl, 2, is greater than permitted\n",
      "[03:22:14] Explicit valence for atom # 6 Cl, 2, is greater than permitted\n",
      "[03:22:14] Explicit valence for atom # 6 Cl, 2, is greater than permitted\n"
     ]
    },
    {
     "name": "stdout",
     "output_type": "stream",
     "text": [
      "Wrong SMILES for:  8658579 (removed!)\n",
      "Wrong SMILES for:  8658640 (removed!)\n",
      "Wrong SMILES for:  8658817 (removed!)\n",
      "Wrong SMILES for:  8658915 (removed!)\n",
      "Wrong SMILES for:  8658936 (removed!)\n",
      "Wrong SMILES for:  8659106 (removed!)\n",
      "Wrong SMILES for:  8659242 (removed!)\n"
     ]
    },
    {
     "name": "stderr",
     "output_type": "stream",
     "text": [
      "[03:22:14] Explicit valence for atom # 6 Cl, 2, is greater than permitted\n",
      "[03:22:14] Explicit valence for atom # 6 Cl, 2, is greater than permitted\n",
      "[03:22:14] Explicit valence for atom # 6 Cl, 2, is greater than permitted\n",
      "[03:22:14] Explicit valence for atom # 6 Cl, 2, is greater than permitted\n",
      "[03:22:14] Explicit valence for atom # 6 Cl, 2, is greater than permitted\n",
      "[03:22:14] Explicit valence for atom # 6 Cl, 2, is greater than permitted\n"
     ]
    },
    {
     "name": "stdout",
     "output_type": "stream",
     "text": [
      "Wrong SMILES for:  8659579 (removed!)\n",
      "Wrong SMILES for:  8659590 (removed!)\n",
      "Wrong SMILES for:  8659617 (removed!)\n",
      "Wrong SMILES for:  8659726 (removed!)\n",
      "Wrong SMILES for:  8659913 (removed!)\n",
      "Wrong SMILES for:  8660167 (removed!)\n"
     ]
    },
    {
     "name": "stderr",
     "output_type": "stream",
     "text": [
      "[03:22:14] Explicit valence for atom # 6 Cl, 2, is greater than permitted\n",
      "[03:22:14] Explicit valence for atom # 6 Cl, 2, is greater than permitted\n",
      "[03:22:15] Explicit valence for atom # 6 Cl, 2, is greater than permitted\n"
     ]
    },
    {
     "name": "stdout",
     "output_type": "stream",
     "text": [
      "Wrong SMILES for:  8660570 (removed!)\n",
      "Wrong SMILES for:  8660777 (removed!)\n",
      "Wrong SMILES for:  8660969 (removed!)\n"
     ]
    },
    {
     "name": "stderr",
     "output_type": "stream",
     "text": [
      "[03:22:15] Explicit valence for atom # 6 Cl, 2, is greater than permitted\n",
      "[03:22:15] Explicit valence for atom # 6 Cl, 2, is greater than permitted\n",
      "[03:22:15] Explicit valence for atom # 6 Cl, 2, is greater than permitted\n"
     ]
    },
    {
     "name": "stdout",
     "output_type": "stream",
     "text": [
      "Wrong SMILES for:  8661264 (removed!)\n",
      "Wrong SMILES for:  8661465 (removed!)\n",
      "Wrong SMILES for:  8661729 (removed!)\n"
     ]
    },
    {
     "name": "stderr",
     "output_type": "stream",
     "text": [
      "[03:22:15] Explicit valence for atom # 6 Cl, 2, is greater than permitted\n",
      "[03:22:15] Explicit valence for atom # 6 Cl, 2, is greater than permitted\n",
      "[03:22:15] Explicit valence for atom # 6 Cl, 2, is greater than permitted\n",
      "[03:22:15] Explicit valence for atom # 6 Cl, 2, is greater than permitted\n",
      "[03:22:15] Explicit valence for atom # 6 Cl, 2, is greater than permitted\n",
      "[03:22:15] Explicit valence for atom # 6 Cl, 2, is greater than permitted\n",
      "[03:22:15] Explicit valence for atom # 21 Cl, 2, is greater than permitted\n",
      "[03:22:15] Explicit valence for atom # 6 Cl, 2, is greater than permitted\n",
      "[03:22:15] Explicit valence for atom # 6 Cl, 2, is greater than permitted\n",
      "[03:22:15] Explicit valence for atom # 6 Cl, 2, is greater than permitted\n"
     ]
    },
    {
     "name": "stdout",
     "output_type": "stream",
     "text": [
      "Wrong SMILES for:  8662160 (removed!)\n",
      "Wrong SMILES for:  8662319 (removed!)\n",
      "Wrong SMILES for:  8662423 (removed!)\n",
      "Wrong SMILES for:  8662567 (removed!)\n",
      "Wrong SMILES for:  8662695 (removed!)\n",
      "Wrong SMILES for:  8662710 (removed!)\n",
      "Wrong SMILES for:  8662787 (removed!)\n",
      "Wrong SMILES for:  8662798 (removed!)\n",
      "Wrong SMILES for:  8662936 (removed!)\n",
      "Wrong SMILES for:  8662956 (removed!)\n"
     ]
    },
    {
     "name": "stderr",
     "output_type": "stream",
     "text": [
      "[03:22:15] Explicit valence for atom # 6 Cl, 2, is greater than permitted\n",
      "[03:22:15] Explicit valence for atom # 6 Cl, 2, is greater than permitted\n",
      "[03:22:15] Explicit valence for atom # 6 Cl, 2, is greater than permitted\n",
      "[03:22:15] Explicit valence for atom # 6 Cl, 2, is greater than permitted\n",
      "[03:22:15] Explicit valence for atom # 17 Cl, 2, is greater than permitted\n"
     ]
    },
    {
     "name": "stdout",
     "output_type": "stream",
     "text": [
      "Wrong SMILES for:  8663246 (removed!)\n",
      "Wrong SMILES for:  8663278 (removed!)\n",
      "Wrong SMILES for:  8663310 (removed!)\n",
      "Wrong SMILES for:  8663361 (removed!)\n",
      "Wrong SMILES for:  8663505 (removed!)\n"
     ]
    },
    {
     "name": "stderr",
     "output_type": "stream",
     "text": [
      "[03:22:16] Explicit valence for atom # 6 Cl, 2, is greater than permitted\n",
      "[03:22:16] Explicit valence for atom # 6 Cl, 2, is greater than permitted\n",
      "[03:22:16] Explicit valence for atom # 6 Cl, 2, is greater than permitted\n"
     ]
    },
    {
     "name": "stdout",
     "output_type": "stream",
     "text": [
      "Wrong SMILES for:  8664321 (removed!)\n",
      "Wrong SMILES for:  8664497 (removed!)\n",
      "Wrong SMILES for:  8664546 (removed!)\n"
     ]
    },
    {
     "name": "stderr",
     "output_type": "stream",
     "text": [
      "[03:22:16] Explicit valence for atom # 6 Cl, 2, is greater than permitted\n",
      "[03:22:16] Explicit valence for atom # 6 Cl, 2, is greater than permitted\n",
      "[03:22:16] Explicit valence for atom # 6 Cl, 2, is greater than permitted\n",
      "[03:22:16] Explicit valence for atom # 6 Cl, 2, is greater than permitted\n"
     ]
    },
    {
     "name": "stdout",
     "output_type": "stream",
     "text": [
      "Wrong SMILES for:  8665048 (removed!)\n",
      "Wrong SMILES for:  8665132 (removed!)\n",
      "Wrong SMILES for:  8665264 (removed!)\n",
      "Wrong SMILES for:  8665341 (removed!)\n"
     ]
    },
    {
     "name": "stderr",
     "output_type": "stream",
     "text": [
      "[03:22:16] Explicit valence for atom # 6 Cl, 2, is greater than permitted\n",
      "[03:22:16] Explicit valence for atom # 6 Cl, 2, is greater than permitted\n",
      "[03:22:16] Explicit valence for atom # 6 Cl, 2, is greater than permitted\n",
      "[03:22:16] Explicit valence for atom # 6 Cl, 2, is greater than permitted\n",
      "[03:22:16] Explicit valence for atom # 20 Cl, 2, is greater than permitted\n",
      "[03:22:16] Explicit valence for atom # 6 Cl, 2, is greater than permitted\n",
      "[03:22:16] Explicit valence for atom # 6 Cl, 2, is greater than permitted\n",
      "[03:22:16] Explicit valence for atom # 6 Cl, 2, is greater than permitted\n"
     ]
    },
    {
     "name": "stdout",
     "output_type": "stream",
     "text": [
      "Wrong SMILES for:  8665853 (removed!)\n",
      "Wrong SMILES for:  8665928 (removed!)\n",
      "Wrong SMILES for:  8666000 (removed!)\n",
      "Wrong SMILES for:  8666187 (removed!)\n",
      "Wrong SMILES for:  8666342 (removed!)\n",
      "Wrong SMILES for:  8666482 (removed!)\n",
      "Wrong SMILES for:  8666602 (removed!)\n",
      "Wrong SMILES for:  8666679 (removed!)\n"
     ]
    },
    {
     "name": "stderr",
     "output_type": "stream",
     "text": [
      "[03:22:17] Explicit valence for atom # 6 Cl, 2, is greater than permitted\n",
      "[03:22:17] Explicit valence for atom # 6 Cl, 2, is greater than permitted\n",
      "[03:22:17] Explicit valence for atom # 19 Cl, 2, is greater than permitted\n",
      "[03:22:17] Explicit valence for atom # 6 Cl, 2, is greater than permitted\n",
      "[03:22:17] Explicit valence for atom # 6 Cl, 2, is greater than permitted\n"
     ]
    },
    {
     "name": "stdout",
     "output_type": "stream",
     "text": [
      "Wrong SMILES for:  8666997 (removed!)\n",
      "Wrong SMILES for:  8667109 (removed!)\n",
      "Wrong SMILES for:  8667271 (removed!)\n",
      "Wrong SMILES for:  8667443 (removed!)\n",
      "Wrong SMILES for:  8667494 (removed!)\n"
     ]
    },
    {
     "name": "stderr",
     "output_type": "stream",
     "text": [
      "[03:22:17] Explicit valence for atom # 6 Cl, 2, is greater than permitted\n",
      "[03:22:17] Explicit valence for atom # 25 Cl, 2, is greater than permitted\n",
      "[03:22:17] Explicit valence for atom # 6 Cl, 2, is greater than permitted\n",
      "[03:22:17] Explicit valence for atom # 6 Cl, 2, is greater than permitted\n"
     ]
    },
    {
     "name": "stdout",
     "output_type": "stream",
     "text": [
      "Wrong SMILES for:  8667653 (removed!)\n",
      "Wrong SMILES for:  8668159 (removed!)\n",
      "Wrong SMILES for:  8668344 (removed!)\n",
      "Wrong SMILES for:  8668389 (removed!)\n"
     ]
    },
    {
     "name": "stderr",
     "output_type": "stream",
     "text": [
      "[03:22:17] Explicit valence for atom # 24 Cl, 2, is greater than permitted\n",
      "[03:22:17] Explicit valence for atom # 6 Cl, 2, is greater than permitted\n",
      "[03:22:17] Explicit valence for atom # 6 Cl, 2, is greater than permitted\n",
      "[03:22:17] Explicit valence for atom # 18 Cl, 2, is greater than permitted\n"
     ]
    },
    {
     "name": "stdout",
     "output_type": "stream",
     "text": [
      "Wrong SMILES for:  8668603 (removed!)\n",
      "Wrong SMILES for:  8668906 (removed!)\n",
      "Wrong SMILES for:  8669006 (removed!)\n",
      "Wrong SMILES for:  8669153 (removed!)\n"
     ]
    },
    {
     "name": "stderr",
     "output_type": "stream",
     "text": [
      "[03:22:17] Explicit valence for atom # 6 Cl, 2, is greater than permitted\n",
      "[03:22:18] Explicit valence for atom # 6 Cl, 2, is greater than permitted\n",
      "[03:22:18] Explicit valence for atom # 6 Cl, 2, is greater than permitted\n",
      "[03:22:18] Explicit valence for atom # 19 Cl, 2, is greater than permitted\n"
     ]
    },
    {
     "name": "stdout",
     "output_type": "stream",
     "text": [
      "Wrong SMILES for:  8669489 (removed!)\n",
      "Wrong SMILES for:  8669834 (removed!)\n",
      "Wrong SMILES for:  8669896 (removed!)\n",
      "Wrong SMILES for:  8670013 (removed!)\n"
     ]
    },
    {
     "name": "stderr",
     "output_type": "stream",
     "text": [
      "[03:22:18] Explicit valence for atom # 6 Cl, 2, is greater than permitted\n",
      "[03:22:18] Explicit valence for atom # 24 Cl, 2, is greater than permitted\n",
      "[03:22:18] Explicit valence for atom # 6 Cl, 2, is greater than permitted\n",
      "[03:22:18] Explicit valence for atom # 6 Cl, 2, is greater than permitted\n",
      "[03:22:18] Explicit valence for atom # 6 Cl, 2, is greater than permitted\n"
     ]
    },
    {
     "name": "stdout",
     "output_type": "stream",
     "text": [
      "Wrong SMILES for:  8670249 (removed!)\n",
      "Wrong SMILES for:  8670557 (removed!)\n",
      "Wrong SMILES for:  8670947 (removed!)\n",
      "Wrong SMILES for:  8671027 (removed!)\n",
      "Wrong SMILES for:  8671073 (removed!)\n"
     ]
    },
    {
     "name": "stderr",
     "output_type": "stream",
     "text": [
      "[03:22:18] Explicit valence for atom # 6 Cl, 2, is greater than permitted\n",
      "[03:22:18] Explicit valence for atom # 22 Cl, 2, is greater than permitted\n"
     ]
    },
    {
     "name": "stdout",
     "output_type": "stream",
     "text": [
      "Wrong SMILES for:  8671414 (removed!)\n",
      "Wrong SMILES for:  8671996 (removed!)\n"
     ]
    },
    {
     "name": "stderr",
     "output_type": "stream",
     "text": [
      "[03:22:18] Explicit valence for atom # 6 Cl, 2, is greater than permitted\n",
      "[03:22:18] Explicit valence for atom # 23 Cl, 2, is greater than permitted\n",
      "[03:22:18] Explicit valence for atom # 20 Cl, 2, is greater than permitted\n",
      "[03:22:18] Explicit valence for atom # 6 Cl, 2, is greater than permitted\n",
      "[03:22:18] Explicit valence for atom # 6 Cl, 2, is greater than permitted\n",
      "[03:22:18] Explicit valence for atom # 6 Cl, 2, is greater than permitted\n",
      "[03:22:18] Explicit valence for atom # 20 Cl, 2, is greater than permitted\n",
      "[03:22:18] Explicit valence for atom # 6 Cl, 2, is greater than permitted\n",
      "[03:22:19] Explicit valence for atom # 6 Cl, 2, is greater than permitted\n"
     ]
    },
    {
     "name": "stdout",
     "output_type": "stream",
     "text": [
      "Wrong SMILES for:  8672068 (removed!)\n",
      "Wrong SMILES for:  8672075 (removed!)\n",
      "Wrong SMILES for:  8672108 (removed!)\n",
      "Wrong SMILES for:  8672249 (removed!)\n",
      "Wrong SMILES for:  8672340 (removed!)\n",
      "Wrong SMILES for:  8672400 (removed!)\n",
      "Wrong SMILES for:  8672491 (removed!)\n",
      "Wrong SMILES for:  8672749 (removed!)\n",
      "Wrong SMILES for:  8672785 (removed!)\n",
      "Wrong SMILES for:  8672832 (removed!)\n",
      "Wrong SMILES for:  8672870 (removed!)\n",
      "Wrong SMILES for:  8672907 (removed!)\n",
      "Wrong SMILES for:  8672967 (removed!)\n"
     ]
    },
    {
     "name": "stderr",
     "output_type": "stream",
     "text": [
      "[03:22:19] Explicit valence for atom # 6 Cl, 2, is greater than permitted\n",
      "[03:22:19] Explicit valence for atom # 6 Cl, 2, is greater than permitted\n",
      "[03:22:19] Explicit valence for atom # 25 Cl, 2, is greater than permitted\n",
      "[03:22:19] Explicit valence for atom # 24 Cl, 2, is greater than permitted\n",
      "[03:22:19] Explicit valence for atom # 6 Cl, 2, is greater than permitted\n",
      "[03:22:19] Explicit valence for atom # 6 Cl, 2, is greater than permitted\n",
      "[03:22:19] Explicit valence for atom # 21 Cl, 2, is greater than permitted\n",
      "[03:22:19] Explicit valence for atom # 25 Cl, 2, is greater than permitted\n"
     ]
    },
    {
     "name": "stdout",
     "output_type": "stream",
     "text": [
      "Wrong SMILES for:  8673129 (removed!)\n",
      "Wrong SMILES for:  8673302 (removed!)\n",
      "Wrong SMILES for:  8673330 (removed!)\n",
      "Wrong SMILES for:  8673400 (removed!)\n",
      "Wrong SMILES for:  8673643 (removed!)\n"
     ]
    },
    {
     "name": "stderr",
     "output_type": "stream",
     "text": [
      "[03:22:19] Explicit valence for atom # 6 Cl, 2, is greater than permitted\n",
      "[03:22:19] Explicit valence for atom # 6 Cl, 2, is greater than permitted\n",
      "[03:22:19] Explicit valence for atom # 6 Cl, 2, is greater than permitted\n",
      "[03:22:19] Explicit valence for atom # 6 Cl, 2, is greater than permitted\n",
      "[03:22:19] Explicit valence for atom # 21 Cl, 2, is greater than permitted\n",
      "[03:22:19] Explicit valence for atom # 6 Cl, 2, is greater than permitted\n"
     ]
    },
    {
     "name": "stdout",
     "output_type": "stream",
     "text": [
      "Wrong SMILES for:  8673834 (removed!)\n",
      "Wrong SMILES for:  8674087 (removed!)\n",
      "Wrong SMILES for:  8674128 (removed!)\n",
      "Wrong SMILES for:  8674171 (removed!)\n",
      "Wrong SMILES for:  8674320 (removed!)\n",
      "Wrong SMILES for:  8674395 (removed!)\n",
      "Wrong SMILES for:  8674425 (removed!)\n"
     ]
    },
    {
     "name": "stderr",
     "output_type": "stream",
     "text": [
      "[03:22:19] Explicit valence for atom # 6 Cl, 2, is greater than permitted\n",
      "[03:22:19] Explicit valence for atom # 6 Cl, 2, is greater than permitted\n",
      "[03:22:19] Explicit valence for atom # 6 Cl, 2, is greater than permitted\n",
      "[03:22:19] Explicit valence for atom # 6 Cl, 2, is greater than permitted\n"
     ]
    },
    {
     "name": "stdout",
     "output_type": "stream",
     "text": [
      "Wrong SMILES for:  8674566 (removed!)\n",
      "Wrong SMILES for:  8674720 (removed!)\n",
      "Wrong SMILES for:  8675249 (removed!)\n"
     ]
    },
    {
     "name": "stderr",
     "output_type": "stream",
     "text": [
      "[03:22:19] Explicit valence for atom # 24 Cl, 2, is greater than permitted\n",
      "[03:22:19] Explicit valence for atom # 25 Cl, 2, is greater than permitted\n",
      "[03:22:20] Explicit valence for atom # 6 Cl, 2, is greater than permitted\n"
     ]
    },
    {
     "name": "stdout",
     "output_type": "stream",
     "text": [
      "Wrong SMILES for:  8675496 (removed!)\n",
      "Wrong SMILES for:  8675816 (removed!)\n"
     ]
    },
    {
     "name": "stderr",
     "output_type": "stream",
     "text": [
      "[03:22:20] Explicit valence for atom # 20 Cl, 2, is greater than permitted\n",
      "[03:22:20] Explicit valence for atom # 6 Cl, 2, is greater than permitted\n"
     ]
    },
    {
     "name": "stdout",
     "output_type": "stream",
     "text": [
      "Wrong SMILES for:  8676163 (removed!)\n",
      "Wrong SMILES for:  8676581 (removed!)\n"
     ]
    },
    {
     "name": "stderr",
     "output_type": "stream",
     "text": [
      "[03:22:20] Explicit valence for atom # 6 Cl, 2, is greater than permitted\n",
      "[03:22:20] Explicit valence for atom # 6 Cl, 2, is greater than permitted\n",
      "[03:22:20] Explicit valence for atom # 6 Cl, 2, is greater than permitted\n",
      "[03:22:20] Explicit valence for atom # 6 Cl, 2, is greater than permitted\n"
     ]
    },
    {
     "name": "stdout",
     "output_type": "stream",
     "text": [
      "Wrong SMILES for:  8676940 (removed!)\n",
      "Wrong SMILES for:  8677123 (removed!)\n",
      "Wrong SMILES for:  8677693 (removed!)\n",
      "Wrong SMILES for:  8677704 (removed!)\n"
     ]
    },
    {
     "name": "stderr",
     "output_type": "stream",
     "text": [
      "[03:22:20] Explicit valence for atom # 6 Cl, 2, is greater than permitted\n",
      "[03:22:20] Explicit valence for atom # 6 Cl, 2, is greater than permitted\n",
      "[03:22:20] Explicit valence for atom # 6 Cl, 2, is greater than permitted\n",
      "[03:22:20] Explicit valence for atom # 5 Cl, 2, is greater than permitted\n",
      "[03:22:20] Explicit valence for atom # 6 Cl, 2, is greater than permitted\n",
      "[03:22:20] Explicit valence for atom # 8 Cl, 2, is greater than permitted\n",
      "[03:22:20] Explicit valence for atom # 6 Cl, 2, is greater than permitted\n"
     ]
    },
    {
     "name": "stdout",
     "output_type": "stream",
     "text": [
      "Wrong SMILES for:  8677828 (removed!)\n",
      "Wrong SMILES for:  8678204 (removed!)\n",
      "Wrong SMILES for:  8678276 (removed!)\n",
      "Wrong SMILES for:  8678314 (removed!)\n",
      "Wrong SMILES for:  8678477 (removed!)\n",
      "Wrong SMILES for:  8678522 (removed!)\n",
      "Wrong SMILES for:  8678540 (removed!)\n"
     ]
    },
    {
     "name": "stderr",
     "output_type": "stream",
     "text": [
      "[03:22:20] Explicit valence for atom # 6 Cl, 2, is greater than permitted\n",
      "[03:22:21] Explicit valence for atom # 22 Cl, 2, is greater than permitted\n",
      "[03:22:21] Explicit valence for atom # 6 Cl, 2, is greater than permitted\n",
      "[03:22:21] Explicit valence for atom # 24 Cl, 2, is greater than permitted\n",
      "[03:22:21] Explicit valence for atom # 6 Cl, 2, is greater than permitted\n",
      "[03:22:21] Explicit valence for atom # 19 Cl, 2, is greater than permitted\n",
      "[03:22:21] Explicit valence for atom # 6 Cl, 2, is greater than permitted\n"
     ]
    },
    {
     "name": "stdout",
     "output_type": "stream",
     "text": [
      "Wrong SMILES for:  8678813 (removed!)\n",
      "Wrong SMILES for:  8678841 (removed!)\n",
      "Wrong SMILES for:  8678944 (removed!)\n",
      "Wrong SMILES for:  8679064 (removed!)\n",
      "Wrong SMILES for:  8679418 (removed!)\n",
      "Wrong SMILES for:  8679449 (removed!)\n",
      "Wrong SMILES for:  8679505 (removed!)\n"
     ]
    },
    {
     "name": "stderr",
     "output_type": "stream",
     "text": [
      "[03:22:21] Explicit valence for atom # 6 Cl, 2, is greater than permitted\n",
      "[03:22:21] Explicit valence for atom # 24 Cl, 2, is greater than permitted\n",
      "[03:22:21] Explicit valence for atom # 24 Cl, 2, is greater than permitted\n",
      "[03:22:21] Explicit valence for atom # 24 Cl, 2, is greater than permitted\n",
      "[03:22:21] Explicit valence for atom # 25 Cl, 2, is greater than permitted\n"
     ]
    },
    {
     "name": "stdout",
     "output_type": "stream",
     "text": [
      "Wrong SMILES for:  8679591 (removed!)\n",
      "Wrong SMILES for:  8679634 (removed!)\n",
      "Wrong SMILES for:  8680087 (removed!)\n",
      "Wrong SMILES for:  8680336 (removed!)\n",
      "Wrong SMILES for:  8680361 (removed!)\n"
     ]
    },
    {
     "name": "stderr",
     "output_type": "stream",
     "text": [
      "[03:22:21] Explicit valence for atom # 6 Cl, 2, is greater than permitted\n",
      "[03:22:21] Explicit valence for atom # 6 Cl, 2, is greater than permitted\n",
      "[03:22:21] Explicit valence for atom # 6 Cl, 2, is greater than permitted\n",
      "[03:22:21] Explicit valence for atom # 18 Cl, 2, is greater than permitted\n"
     ]
    },
    {
     "name": "stdout",
     "output_type": "stream",
     "text": [
      "Wrong SMILES for:  8680975 (removed!)\n",
      "Wrong SMILES for:  8681344 (removed!)\n",
      "Wrong SMILES for:  8681492 (removed!)\n",
      "Wrong SMILES for:  8681496 (removed!)\n"
     ]
    },
    {
     "name": "stderr",
     "output_type": "stream",
     "text": [
      "[03:22:21] Explicit valence for atom # 6 Cl, 2, is greater than permitted\n",
      "[03:22:22] Explicit valence for atom # 6 Cl, 2, is greater than permitted\n",
      "[03:22:22] Explicit valence for atom # 6 Cl, 2, is greater than permitted\n",
      "[03:22:22] Explicit valence for atom # 21 Cl, 2, is greater than permitted\n",
      "[03:22:22] Explicit valence for atom # 6 Cl, 2, is greater than permitted\n",
      "[03:22:22] Explicit valence for atom # 6 Cl, 2, is greater than permitted\n",
      "[03:22:22] Explicit valence for atom # 6 Cl, 2, is greater than permitted\n",
      "[03:22:22] Explicit valence for atom # 21 Cl, 2, is greater than permitted\n"
     ]
    },
    {
     "name": "stdout",
     "output_type": "stream",
     "text": [
      "Wrong SMILES for:  8681725 (removed!)\n",
      "Wrong SMILES for:  8681937 (removed!)\n",
      "Wrong SMILES for:  8681980 (removed!)\n",
      "Wrong SMILES for:  8682049 (removed!)\n",
      "Wrong SMILES for:  8682080 (removed!)\n",
      "Wrong SMILES for:  8682343 (removed!)\n",
      "Wrong SMILES for:  8682450 (removed!)\n",
      "Wrong SMILES for:  8682470 (removed!)\n"
     ]
    },
    {
     "name": "stderr",
     "output_type": "stream",
     "text": [
      "[03:22:22] Explicit valence for atom # 6 Cl, 2, is greater than permitted\n",
      "[03:22:22] Explicit valence for atom # 6 Cl, 2, is greater than permitted\n",
      "[03:22:22] Explicit valence for atom # 6 Cl, 2, is greater than permitted\n",
      "[03:22:22] Explicit valence for atom # 6 Cl, 2, is greater than permitted\n"
     ]
    },
    {
     "name": "stdout",
     "output_type": "stream",
     "text": [
      "Wrong SMILES for:  8682545 (removed!)\n",
      "Wrong SMILES for:  8682870 (removed!)\n",
      "Wrong SMILES for:  8683255 (removed!)\n",
      "Wrong SMILES for:  8683314 (removed!)\n"
     ]
    },
    {
     "name": "stderr",
     "output_type": "stream",
     "text": [
      "[03:22:22] Explicit valence for atom # 6 Cl, 2, is greater than permitted\n",
      "[03:22:22] Explicit valence for atom # 6 Cl, 2, is greater than permitted\n",
      "[03:22:22] Explicit valence for atom # 6 Cl, 2, is greater than permitted\n"
     ]
    },
    {
     "name": "stdout",
     "output_type": "stream",
     "text": [
      "Wrong SMILES for:  8683464 (removed!)\n",
      "Wrong SMILES for:  8683551 (removed!)\n",
      "Wrong SMILES for:  8684016 (removed!)\n"
     ]
    },
    {
     "name": "stderr",
     "output_type": "stream",
     "text": [
      "[03:22:22] Explicit valence for atom # 6 Cl, 2, is greater than permitted\n",
      "[03:22:22] Explicit valence for atom # 6 Cl, 2, is greater than permitted\n",
      "[03:22:22] Explicit valence for atom # 6 Cl, 2, is greater than permitted\n",
      "[03:22:23] Explicit valence for atom # 6 Cl, 2, is greater than permitted\n",
      "[03:22:23] Explicit valence for atom # 6 Cl, 2, is greater than permitted\n",
      "[03:22:23] Explicit valence for atom # 6 Cl, 2, is greater than permitted\n",
      "[03:22:23] Explicit valence for atom # 6 Cl, 2, is greater than permitted\n",
      "[03:22:23] Explicit valence for atom # 24 Cl, 2, is greater than permitted\n"
     ]
    },
    {
     "name": "stdout",
     "output_type": "stream",
     "text": [
      "Wrong SMILES for:  8684432 (removed!)\n",
      "Wrong SMILES for:  8684518 (removed!)\n",
      "Wrong SMILES for:  8684561 (removed!)\n",
      "Wrong SMILES for:  8684838 (removed!)\n",
      "Wrong SMILES for:  8684974 (removed!)\n",
      "Wrong SMILES for:  8684996 (removed!)\n",
      "Wrong SMILES for:  8685025 (removed!)\n",
      "Wrong SMILES for:  8685052 (removed!)\n"
     ]
    },
    {
     "name": "stderr",
     "output_type": "stream",
     "text": [
      "[03:22:23] Explicit valence for atom # 6 Cl, 2, is greater than permitted\n",
      "[03:22:23] Explicit valence for atom # 6 Cl, 2, is greater than permitted\n",
      "[03:22:23] Explicit valence for atom # 6 Cl, 2, is greater than permitted\n",
      "[03:22:23] Explicit valence for atom # 6 Cl, 2, is greater than permitted\n"
     ]
    },
    {
     "name": "stdout",
     "output_type": "stream",
     "text": [
      "Wrong SMILES for:  8685436 (removed!)\n",
      "Wrong SMILES for:  8685777 (removed!)\n",
      "Wrong SMILES for:  8685811 (removed!)\n",
      "Wrong SMILES for:  8685982 (removed!)\n"
     ]
    },
    {
     "name": "stderr",
     "output_type": "stream",
     "text": [
      "[03:22:23] Explicit valence for atom # 6 Cl, 2, is greater than permitted\n",
      "[03:22:23] Explicit valence for atom # 22 Cl, 2, is greater than permitted\n",
      "[03:22:23] Explicit valence for atom # 6 Cl, 2, is greater than permitted\n",
      "[03:22:23] Explicit valence for atom # 6 Cl, 2, is greater than permitted\n",
      "[03:22:23] Explicit valence for atom # 6 Cl, 2, is greater than permitted\n",
      "[03:22:23] Explicit valence for atom # 6 Cl, 2, is greater than permitted\n",
      "[03:22:23] Explicit valence for atom # 6 Cl, 2, is greater than permitted\n"
     ]
    },
    {
     "name": "stdout",
     "output_type": "stream",
     "text": [
      "Wrong SMILES for:  8686250 (removed!)\n",
      "Wrong SMILES for:  8686344 (removed!)\n",
      "Wrong SMILES for:  8686395 (removed!)\n",
      "Wrong SMILES for:  8686431 (removed!)\n",
      "Wrong SMILES for:  8686512 (removed!)\n",
      "Wrong SMILES for:  8686596 (removed!)\n",
      "Wrong SMILES for:  8686837 (removed!)\n"
     ]
    },
    {
     "name": "stderr",
     "output_type": "stream",
     "text": [
      "[03:22:23] Explicit valence for atom # 6 Cl, 2, is greater than permitted\n",
      "[03:22:23] Explicit valence for atom # 6 Cl, 2, is greater than permitted\n",
      "[03:22:23] Explicit valence for atom # 6 Cl, 2, is greater than permitted\n",
      "[03:22:23] Explicit valence for atom # 6 Cl, 2, is greater than permitted\n",
      "[03:22:23] Explicit valence for atom # 6 Cl, 2, is greater than permitted\n",
      "[03:22:23] Explicit valence for atom # 6 Cl, 2, is greater than permitted\n"
     ]
    },
    {
     "name": "stdout",
     "output_type": "stream",
     "text": [
      "Wrong SMILES for:  8686890 (removed!)\n",
      "Wrong SMILES for:  8687084 (removed!)\n",
      "Wrong SMILES for:  8687208 (removed!)\n",
      "Wrong SMILES for:  8687224 (removed!)\n",
      "Wrong SMILES for:  8687515 (removed!)\n",
      "Wrong SMILES for:  8687578 (removed!)\n"
     ]
    },
    {
     "name": "stderr",
     "output_type": "stream",
     "text": [
      "[03:22:24] Explicit valence for atom # 6 Cl, 2, is greater than permitted\n",
      "[03:22:24] Explicit valence for atom # 6 Cl, 2, is greater than permitted\n",
      "[03:22:24] Explicit valence for atom # 6 Cl, 2, is greater than permitted\n"
     ]
    },
    {
     "name": "stdout",
     "output_type": "stream",
     "text": [
      "Wrong SMILES for:  8688267 (removed!)\n",
      "Wrong SMILES for:  8688301 (removed!)\n",
      "Wrong SMILES for:  8688670 (removed!)\n"
     ]
    },
    {
     "name": "stderr",
     "output_type": "stream",
     "text": [
      "[03:22:24] Explicit valence for atom # 6 Cl, 2, is greater than permitted\n",
      "[03:22:24] Explicit valence for atom # 6 Cl, 2, is greater than permitted\n",
      "[03:22:24] Explicit valence for atom # 23 Cl, 2, is greater than permitted\n",
      "[03:22:24] Explicit valence for atom # 6 Cl, 2, is greater than permitted\n",
      "[03:22:24] Explicit valence for atom # 21 Cl, 2, is greater than permitted\n",
      "[03:22:24] Explicit valence for atom # 6 Cl, 2, is greater than permitted\n",
      "[03:22:24] Explicit valence for atom # 20 Cl, 2, is greater than permitted\n"
     ]
    },
    {
     "name": "stdout",
     "output_type": "stream",
     "text": [
      "Wrong SMILES for:  8688857 (removed!)\n",
      "Wrong SMILES for:  8688922 (removed!)\n",
      "Wrong SMILES for:  8688998 (removed!)\n",
      "Wrong SMILES for:  8689031 (removed!)\n",
      "Wrong SMILES for:  8689157 (removed!)\n",
      "Wrong SMILES for:  8689242 (removed!)\n",
      "Wrong SMILES for:  8689488 (removed!)\n",
      "Wrong SMILES for:  8689644 (removed!)\n"
     ]
    },
    {
     "name": "stderr",
     "output_type": "stream",
     "text": [
      "[03:22:24] Explicit valence for atom # 6 Cl, 2, is greater than permitted\n",
      "[03:22:24] Explicit valence for atom # 6 Cl, 2, is greater than permitted\n"
     ]
    },
    {
     "name": "stdout",
     "output_type": "stream",
     "text": [
      "Wrong SMILES for:  8689796 (removed!)\n",
      "Wrong SMILES for:  8690347 (removed!)\n",
      "Wrong SMILES for:  8690367 (removed!)\n",
      "Wrong SMILES for:  8690404 (removed!)\n"
     ]
    },
    {
     "name": "stderr",
     "output_type": "stream",
     "text": [
      "[03:22:24] Explicit valence for atom # 6 Cl, 2, is greater than permitted\n",
      "[03:22:24] Explicit valence for atom # 6 Cl, 2, is greater than permitted\n",
      "[03:22:24] Explicit valence for atom # 6 Cl, 2, is greater than permitted\n",
      "[03:22:24] Explicit valence for atom # 6 Cl, 2, is greater than permitted\n",
      "[03:22:25] Explicit valence for atom # 6 Cl, 2, is greater than permitted\n"
     ]
    },
    {
     "name": "stdout",
     "output_type": "stream",
     "text": [
      "Wrong SMILES for:  8690427 (removed!)\n",
      "Wrong SMILES for:  8690538 (removed!)\n",
      "Wrong SMILES for:  8691097 (removed!)\n"
     ]
    },
    {
     "name": "stderr",
     "output_type": "stream",
     "text": [
      "[03:22:25] Explicit valence for atom # 6 Cl, 2, is greater than permitted\n",
      "[03:22:25] Explicit valence for atom # 6 Cl, 2, is greater than permitted\n",
      "[03:22:25] Explicit valence for atom # 6 Cl, 2, is greater than permitted\n",
      "[03:22:25] Explicit valence for atom # 6 Cl, 2, is greater than permitted\n",
      "[03:22:25] Explicit valence for atom # 24 Cl, 2, is greater than permitted\n"
     ]
    },
    {
     "name": "stdout",
     "output_type": "stream",
     "text": [
      "Wrong SMILES for:  8691379 (removed!)\n",
      "Wrong SMILES for:  8691565 (removed!)\n",
      "Wrong SMILES for:  8691621 (removed!)\n",
      "Wrong SMILES for:  8691663 (removed!)\n",
      "Wrong SMILES for:  8691844 (removed!)\n"
     ]
    },
    {
     "name": "stderr",
     "output_type": "stream",
     "text": [
      "[03:22:25] Explicit valence for atom # 19 Cl, 2, is greater than permitted\n",
      "[03:22:25] Explicit valence for atom # 24 Cl, 2, is greater than permitted\n",
      "[03:22:25] Explicit valence for atom # 6 Cl, 2, is greater than permitted\n",
      "[03:22:25] Explicit valence for atom # 6 Cl, 2, is greater than permitted\n",
      "[03:22:25] Explicit valence for atom # 6 Cl, 2, is greater than permitted\n"
     ]
    },
    {
     "name": "stdout",
     "output_type": "stream",
     "text": [
      "Wrong SMILES for:  8692096 (removed!)\n",
      "Wrong SMILES for:  8692146 (removed!)\n",
      "Wrong SMILES for:  8692281 (removed!)\n",
      "Wrong SMILES for:  8692318 (removed!)\n",
      "Wrong SMILES for:  8692567 (removed!)\n",
      "Wrong SMILES for:  8692684 (removed!)\n"
     ]
    },
    {
     "name": "stderr",
     "output_type": "stream",
     "text": [
      "[03:22:25] Explicit valence for atom # 21 Cl, 2, is greater than permitted\n",
      "[03:22:25] Explicit valence for atom # 6 Cl, 2, is greater than permitted\n",
      "[03:22:25] Explicit valence for atom # 6 Cl, 2, is greater than permitted\n",
      "[03:22:25] Explicit valence for atom # 6 Cl, 2, is greater than permitted\n"
     ]
    },
    {
     "name": "stdout",
     "output_type": "stream",
     "text": [
      "Wrong SMILES for:  8692741 (removed!)\n",
      "Wrong SMILES for:  8692904 (removed!)\n",
      "Wrong SMILES for:  8693246 (removed!)\n"
     ]
    },
    {
     "name": "stderr",
     "output_type": "stream",
     "text": [
      "[03:22:25] Explicit valence for atom # 6 Cl, 2, is greater than permitted\n",
      "[03:22:26] Explicit valence for atom # 6 Cl, 2, is greater than permitted\n",
      "[03:22:26] Explicit valence for atom # 6 Cl, 2, is greater than permitted\n",
      "[03:22:26] Explicit valence for atom # 23 Cl, 2, is greater than permitted\n",
      "[03:22:26] Explicit valence for atom # 6 Cl, 2, is greater than permitted\n",
      "[03:22:26] Explicit valence for atom # 25 Cl, 2, is greater than permitted\n"
     ]
    },
    {
     "name": "stdout",
     "output_type": "stream",
     "text": [
      "Wrong SMILES for:  8693525 (removed!)\n",
      "Wrong SMILES for:  8693990 (removed!)\n",
      "Wrong SMILES for:  8694053 (removed!)\n",
      "Wrong SMILES for:  8694250 (removed!)\n",
      "Wrong SMILES for:  8694263 (removed!)\n"
     ]
    },
    {
     "name": "stderr",
     "output_type": "stream",
     "text": [
      "[03:22:26] Explicit valence for atom # 6 Cl, 2, is greater than permitted\n",
      "[03:22:27] Explicit valence for atom # 6 Cl, 2, is greater than permitted\n"
     ]
    },
    {
     "name": "stdout",
     "output_type": "stream",
     "text": [
      "Wrong SMILES for:  8696239 (removed!)\n",
      "Wrong SMILES for:  8696928 (removed!)\n"
     ]
    },
    {
     "name": "stderr",
     "output_type": "stream",
     "text": [
      "[03:22:27] Explicit valence for atom # 6 Cl, 2, is greater than permitted\n",
      "[03:22:27] Explicit valence for atom # 25 Cl, 2, is greater than permitted\n"
     ]
    },
    {
     "name": "stdout",
     "output_type": "stream",
     "text": [
      "Wrong SMILES for:  8697411 (removed!)\n",
      "Wrong SMILES for:  8697849 (removed!)\n"
     ]
    },
    {
     "name": "stderr",
     "output_type": "stream",
     "text": [
      "[03:22:27] Explicit valence for atom # 23 Cl, 2, is greater than permitted\n"
     ]
    },
    {
     "name": "stdout",
     "output_type": "stream",
     "text": [
      "Wrong SMILES for:  8698794 (removed!)\n"
     ]
    },
    {
     "name": "stderr",
     "output_type": "stream",
     "text": [
      "[03:22:27] Explicit valence for atom # 23 Cl, 2, is greater than permitted\n",
      "[03:22:28] Explicit valence for atom # 6 Cl, 2, is greater than permitted\n",
      "[03:22:28] Explicit valence for atom # 6 Cl, 2, is greater than permitted\n"
     ]
    },
    {
     "name": "stdout",
     "output_type": "stream",
     "text": [
      "Wrong SMILES for:  8699714 (removed!)\n",
      "Currently on 8700000th data\n",
      "Wrong SMILES for:  8700206 (removed!)\n",
      "Wrong SMILES for:  8700449 (removed!)\n"
     ]
    },
    {
     "name": "stderr",
     "output_type": "stream",
     "text": [
      "[03:22:28] Explicit valence for atom # 6 Cl, 2, is greater than permitted\n",
      "[03:22:28] Explicit valence for atom # 6 Cl, 2, is greater than permitted\n"
     ]
    },
    {
     "name": "stdout",
     "output_type": "stream",
     "text": [
      "Wrong SMILES for:  8701837 (removed!)\n",
      "Wrong SMILES for:  8702303 (removed!)\n"
     ]
    },
    {
     "name": "stderr",
     "output_type": "stream",
     "text": [
      "[03:22:28] Explicit valence for atom # 6 Cl, 2, is greater than permitted\n",
      "[03:22:28] Explicit valence for atom # 25 Cl, 2, is greater than permitted\n"
     ]
    },
    {
     "name": "stdout",
     "output_type": "stream",
     "text": [
      "Wrong SMILES for:  8703167 (removed!)\n",
      "Wrong SMILES for:  8703413 (removed!)\n"
     ]
    },
    {
     "name": "stderr",
     "output_type": "stream",
     "text": [
      "[03:22:29] Explicit valence for atom # 25 Cl, 2, is greater than permitted\n",
      "[03:22:29] Explicit valence for atom # 6 Cl, 2, is greater than permitted\n",
      "[03:22:29] Explicit valence for atom # 6 Cl, 2, is greater than permitted\n",
      "[03:22:29] Explicit valence for atom # 6 Cl, 2, is greater than permitted\n"
     ]
    },
    {
     "name": "stdout",
     "output_type": "stream",
     "text": [
      "Wrong SMILES for:  8705255 (removed!)\n",
      "Wrong SMILES for:  8705483 (removed!)\n",
      "Wrong SMILES for:  8705545 (removed!)\n",
      "Wrong SMILES for:  8705777 (removed!)\n"
     ]
    },
    {
     "name": "stderr",
     "output_type": "stream",
     "text": [
      "[03:22:29] Explicit valence for atom # 6 Cl, 2, is greater than permitted\n",
      "[03:22:29] Explicit valence for atom # 6 Cl, 2, is greater than permitted\n",
      "[03:22:30] Explicit valence for atom # 6 Cl, 2, is greater than permitted\n"
     ]
    },
    {
     "name": "stdout",
     "output_type": "stream",
     "text": [
      "Wrong SMILES for:  8706471 (removed!)\n",
      "Wrong SMILES for:  8706938 (removed!)\n",
      "Wrong SMILES for:  8707000 (removed!)\n"
     ]
    },
    {
     "name": "stderr",
     "output_type": "stream",
     "text": [
      "[03:22:30] Explicit valence for atom # 6 Cl, 2, is greater than permitted\n"
     ]
    },
    {
     "name": "stdout",
     "output_type": "stream",
     "text": [
      "Wrong SMILES for:  8708428 (removed!)\n"
     ]
    },
    {
     "name": "stderr",
     "output_type": "stream",
     "text": [
      "[03:22:30] Explicit valence for atom # 6 Cl, 2, is greater than permitted\n",
      "[03:22:30] Explicit valence for atom # 25 Cl, 2, is greater than permitted\n",
      "[03:22:30] Explicit valence for atom # 23 Cl, 2, is greater than permitted\n"
     ]
    },
    {
     "name": "stdout",
     "output_type": "stream",
     "text": [
      "Wrong SMILES for:  8709905 (removed!)\n",
      "Wrong SMILES for:  8710455 (removed!)\n",
      "Wrong SMILES for:  8710464 (removed!)\n"
     ]
    },
    {
     "name": "stderr",
     "output_type": "stream",
     "text": [
      "[03:22:31] Explicit valence for atom # 6 Cl, 2, is greater than permitted\n",
      "[03:22:31] Explicit valence for atom # 23 Cl, 2, is greater than permitted\n"
     ]
    },
    {
     "name": "stdout",
     "output_type": "stream",
     "text": [
      "Wrong SMILES for:  8710700 (removed!)\n",
      "Wrong SMILES for:  8710934 (removed!)\n"
     ]
    },
    {
     "name": "stderr",
     "output_type": "stream",
     "text": [
      "[03:22:31] Explicit valence for atom # 20 Cl, 2, is greater than permitted\n"
     ]
    },
    {
     "name": "stdout",
     "output_type": "stream",
     "text": [
      "Wrong SMILES for:  8712388 (removed!)\n"
     ]
    },
    {
     "name": "stderr",
     "output_type": "stream",
     "text": [
      "[03:22:31] Explicit valence for atom # 6 Cl, 2, is greater than permitted\n",
      "[03:22:31] Explicit valence for atom # 6 Cl, 2, is greater than permitted\n",
      "[03:22:32] Explicit valence for atom # 6 Cl, 2, is greater than permitted\n"
     ]
    },
    {
     "name": "stdout",
     "output_type": "stream",
     "text": [
      "Wrong SMILES for:  8713170 (removed!)\n",
      "Wrong SMILES for:  8713849 (removed!)\n",
      "Wrong SMILES for:  8714081 (removed!)\n"
     ]
    },
    {
     "name": "stderr",
     "output_type": "stream",
     "text": [
      "[03:22:32] Explicit valence for atom # 6 Cl, 2, is greater than permitted\n",
      "[03:22:32] Explicit valence for atom # 25 Cl, 2, is greater than permitted\n",
      "[03:22:32] Explicit valence for atom # 6 Cl, 2, is greater than permitted\n"
     ]
    },
    {
     "name": "stdout",
     "output_type": "stream",
     "text": [
      "Wrong SMILES for:  8714769 (removed!)\n",
      "Wrong SMILES for:  8714816 (removed!)\n",
      "Wrong SMILES for:  8715285 (removed!)\n"
     ]
    },
    {
     "name": "stderr",
     "output_type": "stream",
     "text": [
      "[03:22:32] Explicit valence for atom # 25 Cl, 2, is greater than permitted\n",
      "[03:22:32] Explicit valence for atom # 6 Cl, 2, is greater than permitted\n"
     ]
    },
    {
     "name": "stdout",
     "output_type": "stream",
     "text": [
      "Wrong SMILES for:  8715767 (removed!)\n",
      "Wrong SMILES for:  8716170 (removed!)\n"
     ]
    },
    {
     "name": "stderr",
     "output_type": "stream",
     "text": [
      "[03:22:32] Explicit valence for atom # 6 Cl, 2, is greater than permitted\n",
      "[03:22:32] Explicit valence for atom # 23 Cl, 2, is greater than permitted\n"
     ]
    },
    {
     "name": "stdout",
     "output_type": "stream",
     "text": [
      "Wrong SMILES for:  8716675 (removed!)\n",
      "Wrong SMILES for:  8716917 (removed!)\n"
     ]
    },
    {
     "name": "stderr",
     "output_type": "stream",
     "text": [
      "[03:22:33] Explicit valence for atom # 6 Cl, 2, is greater than permitted\n",
      "[03:22:33] Explicit valence for atom # 6 Cl, 2, is greater than permitted\n",
      "[03:22:33] Explicit valence for atom # 6 Cl, 2, is greater than permitted\n"
     ]
    },
    {
     "name": "stdout",
     "output_type": "stream",
     "text": [
      "Wrong SMILES for:  8718434 (removed!)\n",
      "Wrong SMILES for:  8718656 (removed!)\n",
      "Wrong SMILES for:  8718846 (removed!)\n"
     ]
    },
    {
     "name": "stderr",
     "output_type": "stream",
     "text": [
      "[03:22:33] Explicit valence for atom # 6 Cl, 2, is greater than permitted\n"
     ]
    },
    {
     "name": "stdout",
     "output_type": "stream",
     "text": [
      "Wrong SMILES for:  8720152 (removed!)\n"
     ]
    },
    {
     "name": "stderr",
     "output_type": "stream",
     "text": [
      "[03:22:34] Explicit valence for atom # 6 Cl, 2, is greater than permitted\n"
     ]
    },
    {
     "name": "stdout",
     "output_type": "stream",
     "text": [
      "Wrong SMILES for:  8721018 (removed!)\n"
     ]
    },
    {
     "name": "stderr",
     "output_type": "stream",
     "text": [
      "[03:22:34] Explicit valence for atom # 6 Cl, 2, is greater than permitted\n",
      "[03:22:34] Explicit valence for atom # 6 Cl, 2, is greater than permitted\n",
      "[03:22:34] Explicit valence for atom # 25 Cl, 2, is greater than permitted\n"
     ]
    },
    {
     "name": "stdout",
     "output_type": "stream",
     "text": [
      "Wrong SMILES for:  8722122 (removed!)\n",
      "Wrong SMILES for:  8722151 (removed!)\n",
      "Wrong SMILES for:  8722573 (removed!)\n"
     ]
    },
    {
     "name": "stderr",
     "output_type": "stream",
     "text": [
      "[03:22:34] Explicit valence for atom # 23 Cl, 2, is greater than permitted\n",
      "[03:22:34] Explicit valence for atom # 6 Cl, 2, is greater than permitted\n"
     ]
    },
    {
     "name": "stdout",
     "output_type": "stream",
     "text": [
      "Wrong SMILES for:  8723900 (removed!)\n",
      "Wrong SMILES for:  8724309 (removed!)\n"
     ]
    },
    {
     "name": "stderr",
     "output_type": "stream",
     "text": [
      "[03:22:35] Explicit valence for atom # 23 Cl, 2, is greater than permitted\n",
      "[03:22:35] Explicit valence for atom # 6 Cl, 2, is greater than permitted\n"
     ]
    },
    {
     "name": "stdout",
     "output_type": "stream",
     "text": [
      "Wrong SMILES for:  8726518 (removed!)\n",
      "Wrong SMILES for:  8726929 (removed!)\n"
     ]
    },
    {
     "name": "stderr",
     "output_type": "stream",
     "text": [
      "[03:22:36] Explicit valence for atom # 22 Cl, 2, is greater than permitted\n",
      "[03:22:36] Explicit valence for atom # 6 Cl, 2, is greater than permitted\n"
     ]
    },
    {
     "name": "stdout",
     "output_type": "stream",
     "text": [
      "Wrong SMILES for:  8728133 (removed!)\n",
      "Wrong SMILES for:  8728583 (removed!)\n"
     ]
    },
    {
     "name": "stderr",
     "output_type": "stream",
     "text": [
      "[03:22:36] Explicit valence for atom # 6 Cl, 2, is greater than permitted\n",
      "[03:22:36] Explicit valence for atom # 6 Cl, 2, is greater than permitted\n"
     ]
    },
    {
     "name": "stdout",
     "output_type": "stream",
     "text": [
      "Wrong SMILES for:  8728956 (removed!)\n",
      "Wrong SMILES for:  8729169 (removed!)\n"
     ]
    },
    {
     "name": "stderr",
     "output_type": "stream",
     "text": [
      "[03:22:37] Explicit valence for atom # 6 Cl, 2, is greater than permitted\n",
      "[03:22:37] Explicit valence for atom # 6 Cl, 2, is greater than permitted\n",
      "[03:22:37] Explicit valence for atom # 6 Cl, 2, is greater than permitted\n"
     ]
    },
    {
     "name": "stdout",
     "output_type": "stream",
     "text": [
      "Wrong SMILES for:  8732124 (removed!)\n",
      "Wrong SMILES for:  8732336 (removed!)\n",
      "Wrong SMILES for:  8732522 (removed!)\n"
     ]
    },
    {
     "name": "stderr",
     "output_type": "stream",
     "text": [
      "[03:22:37] Explicit valence for atom # 6 Cl, 2, is greater than permitted\n"
     ]
    },
    {
     "name": "stdout",
     "output_type": "stream",
     "text": [
      "Wrong SMILES for:  8733420 (removed!)\n"
     ]
    },
    {
     "name": "stderr",
     "output_type": "stream",
     "text": [
      "[03:22:38] Explicit valence for atom # 6 Cl, 2, is greater than permitted\n",
      "[03:22:38] Explicit valence for atom # 6 Cl, 2, is greater than permitted\n"
     ]
    },
    {
     "name": "stdout",
     "output_type": "stream",
     "text": [
      "Wrong SMILES for:  8734917 (removed!)\n",
      "Wrong SMILES for:  8735370 (removed!)\n"
     ]
    },
    {
     "name": "stderr",
     "output_type": "stream",
     "text": [
      "[03:22:38] Explicit valence for atom # 6 Cl, 2, is greater than permitted\n",
      "[03:22:38] Explicit valence for atom # 6 Cl, 2, is greater than permitted\n"
     ]
    },
    {
     "name": "stdout",
     "output_type": "stream",
     "text": [
      "Wrong SMILES for:  8735780 (removed!)\n",
      "Wrong SMILES for:  8735789 (removed!)\n"
     ]
    },
    {
     "name": "stderr",
     "output_type": "stream",
     "text": [
      "[03:22:38] Explicit valence for atom # 6 Cl, 2, is greater than permitted\n"
     ]
    },
    {
     "name": "stdout",
     "output_type": "stream",
     "text": [
      "Wrong SMILES for:  8737038 (removed!)\n"
     ]
    },
    {
     "name": "stderr",
     "output_type": "stream",
     "text": [
      "[03:22:39] Explicit valence for atom # 6 Cl, 2, is greater than permitted\n"
     ]
    },
    {
     "name": "stdout",
     "output_type": "stream",
     "text": [
      "Wrong SMILES for:  8740088 (removed!)\n"
     ]
    },
    {
     "name": "stderr",
     "output_type": "stream",
     "text": [
      "[03:22:40] Explicit valence for atom # 6 Cl, 2, is greater than permitted\n"
     ]
    },
    {
     "name": "stdout",
     "output_type": "stream",
     "text": [
      "Wrong SMILES for:  8741745 (removed!)\n"
     ]
    },
    {
     "name": "stderr",
     "output_type": "stream",
     "text": [
      "[03:22:40] Explicit valence for atom # 6 Cl, 2, is greater than permitted\n"
     ]
    },
    {
     "name": "stdout",
     "output_type": "stream",
     "text": [
      "Wrong SMILES for:  8743157 (removed!)\n"
     ]
    },
    {
     "name": "stderr",
     "output_type": "stream",
     "text": [
      "[03:22:40] Explicit valence for atom # 21 Cl, 2, is greater than permitted\n",
      "[03:22:40] Explicit valence for atom # 23 Cl, 2, is greater than permitted\n"
     ]
    },
    {
     "name": "stdout",
     "output_type": "stream",
     "text": [
      "Wrong SMILES for:  8744661 (removed!)\n",
      "Wrong SMILES for:  8745102 (removed!)\n"
     ]
    },
    {
     "name": "stderr",
     "output_type": "stream",
     "text": [
      "[03:22:41] Explicit valence for atom # 6 Cl, 2, is greater than permitted\n"
     ]
    },
    {
     "name": "stdout",
     "output_type": "stream",
     "text": [
      "Wrong SMILES for:  8746815 (removed!)\n"
     ]
    },
    {
     "name": "stderr",
     "output_type": "stream",
     "text": [
      "[03:22:41] Explicit valence for atom # 6 Cl, 2, is greater than permitted\n",
      "[03:22:41] Explicit valence for atom # 23 Cl, 2, is greater than permitted\n"
     ]
    },
    {
     "name": "stdout",
     "output_type": "stream",
     "text": [
      "Wrong SMILES for:  8747909 (removed!)\n",
      "Wrong SMILES for:  8748576 (removed!)\n"
     ]
    },
    {
     "name": "stderr",
     "output_type": "stream",
     "text": [
      "[03:22:42] Explicit valence for atom # 6 Cl, 2, is greater than permitted\n",
      "[03:22:42] Explicit valence for atom # 6 Cl, 2, is greater than permitted\n"
     ]
    },
    {
     "name": "stdout",
     "output_type": "stream",
     "text": [
      "Wrong SMILES for:  8749643 (removed!)\n",
      "Wrong SMILES for:  8750326 (removed!)\n",
      "Currently on 8800000th data\n",
      "Currently on 8900000th data\n",
      "Currently on 9000000th data\n",
      "Currently on 9100000th data\n",
      "Currently on 9200000th data\n",
      "Currently on 9300000th data\n",
      "Currently on 9400000th data\n",
      "Currently on 9500000th data\n",
      "Currently on 9600000th data\n",
      "Currently on 9700000th data\n"
     ]
    },
    {
     "name": "stderr",
     "output_type": "stream",
     "text": [
      "[03:27:27] WARNING: not removing hydrogen atom without neighbors\n",
      "[03:27:27] WARNING: not removing hydrogen atom without neighbors\n",
      "[03:27:29] Can't kekulize mol.  Unkekulized atoms: 1 2 3 5 17\n"
     ]
    },
    {
     "name": "stdout",
     "output_type": "stream",
     "text": [
      "Wrong SMILES for:  9753848 (removed!)\n"
     ]
    },
    {
     "name": "stderr",
     "output_type": "stream",
     "text": [
      "[03:27:30] Can't kekulize mol.  Unkekulized atoms: 1 2 3 4 5\n",
      "[03:27:30] Can't kekulize mol.  Unkekulized atoms: 1 2 3 4 5\n",
      "[03:27:30] Can't kekulize mol.  Unkekulized atoms: 1 2 3 4 5\n",
      "[03:27:30] Can't kekulize mol.  Unkekulized atoms: 5 6 7 8 9\n",
      "[03:27:30] Can't kekulize mol.  Unkekulized atoms: 4 5 6 7 8\n",
      "[03:27:30] Can't kekulize mol.  Unkekulized atoms: 4 5 6 7 8\n",
      "[03:27:30] Can't kekulize mol.  Unkekulized atoms: 4 5 6 7 8\n",
      "[03:27:30] Can't kekulize mol.  Unkekulized atoms: 2 3 5 7 9\n",
      "[03:27:30] Can't kekulize mol.  Unkekulized atoms: 1 2 3 4 5\n",
      "[03:27:30] Can't kekulize mol.  Unkekulized atoms: 2 3 4 6 8\n",
      "[03:27:30] Can't kekulize mol.  Unkekulized atoms: 1 2 3 4 5\n",
      "[03:27:30] Can't kekulize mol.  Unkekulized atoms: 1 2 3 4 5\n",
      "[03:27:31] Can't kekulize mol.  Unkekulized atoms: 4 5 6 7 8\n",
      "[03:27:31] Can't kekulize mol.  Unkekulized atoms: 2 3 4 5 6\n",
      "[03:27:31] Can't kekulize mol.  Unkekulized atoms: 1 2 3 4 5\n",
      "[03:27:31] Can't kekulize mol.  Unkekulized atoms: 4 5 6 7 8\n",
      "[03:27:31] Can't kekulize mol.  Unkekulized atoms: 1 2 3 4 5\n",
      "[03:27:31] Can't kekulize mol.  Unkekulized atoms: 1 2 3 4 5\n",
      "[03:27:31] Can't kekulize mol.  Unkekulized atoms: 1 2 3 4 5\n",
      "[03:27:31] Can't kekulize mol.  Unkekulized atoms: 1 2 3 4 5\n",
      "[03:27:31] Can't kekulize mol.  Unkekulized atoms: 1 2 3 4 5\n",
      "[03:27:31] Can't kekulize mol.  Unkekulized atoms: 4 5 6 7 8\n"
     ]
    },
    {
     "name": "stdout",
     "output_type": "stream",
     "text": [
      "Wrong SMILES for:  9760081 (removed!)\n",
      "Wrong SMILES for:  9760175 (removed!)\n",
      "Wrong SMILES for:  9760176 (removed!)\n",
      "Wrong SMILES for:  9760177 (removed!)\n",
      "Wrong SMILES for:  9760276 (removed!)\n",
      "Wrong SMILES for:  9760277 (removed!)\n",
      "Wrong SMILES for:  9760278 (removed!)\n",
      "Wrong SMILES for:  9760361 (removed!)\n",
      "Wrong SMILES for:  9760362 (removed!)\n",
      "Wrong SMILES for:  9760363 (removed!)\n",
      "Wrong SMILES for:  9760364 (removed!)\n",
      "Wrong SMILES for:  9760365 (removed!)\n",
      "Wrong SMILES for:  9760467 (removed!)\n",
      "Wrong SMILES for:  9760468 (removed!)\n",
      "Wrong SMILES for:  9760558 (removed!)\n",
      "Wrong SMILES for:  9760559 (removed!)\n",
      "Wrong SMILES for:  9760560 (removed!)\n",
      "Wrong SMILES for:  9760652 (removed!)\n",
      "Wrong SMILES for:  9760653 (removed!)\n",
      "Wrong SMILES for:  9760654 (removed!)\n",
      "Wrong SMILES for:  9760745 (removed!)\n",
      "Wrong SMILES for:  9760746 (removed!)\n"
     ]
    },
    {
     "name": "stderr",
     "output_type": "stream",
     "text": [
      "[03:27:31] Can't kekulize mol.  Unkekulized atoms: 2 3 4 5 6\n",
      "[03:27:31] Can't kekulize mol.  Unkekulized atoms: 2 3 4 6 8\n",
      "[03:27:31] Can't kekulize mol.  Unkekulized atoms: 1 2 3 4 5\n",
      "[03:27:31] Can't kekulize mol.  Unkekulized atoms: 1 2 3 4 5\n",
      "[03:27:31] Can't kekulize mol.  Unkekulized atoms: 2 3 5 7 9\n",
      "[03:27:31] Can't kekulize mol.  Unkekulized atoms: 1 2 3 4 5\n",
      "[03:27:31] Can't kekulize mol.  Unkekulized atoms: 1 2 3 4 5\n",
      "[03:27:31] Can't kekulize mol.  Unkekulized atoms: 1 2 3 4 5\n",
      "[03:27:31] Can't kekulize mol.  Unkekulized atoms: 2 3 4 6 8\n",
      "[03:27:31] Can't kekulize mol.  Unkekulized atoms: 1 2 3 4 5\n",
      "[03:27:31] Can't kekulize mol.  Unkekulized atoms: 4 5 6 7 8\n",
      "[03:27:31] Can't kekulize mol.  Unkekulized atoms: 4 5 6 7 8\n"
     ]
    },
    {
     "name": "stdout",
     "output_type": "stream",
     "text": [
      "Wrong SMILES for:  9760846 (removed!)\n",
      "Wrong SMILES for:  9760847 (removed!)\n",
      "Wrong SMILES for:  9760938 (removed!)\n",
      "Wrong SMILES for:  9760940 (removed!)\n",
      "Wrong SMILES for:  9761136 (removed!)\n",
      "Wrong SMILES for:  9761137 (removed!)\n",
      "Wrong SMILES for:  9761242 (removed!)\n",
      "Wrong SMILES for:  9761243 (removed!)\n",
      "Wrong SMILES for:  9761244 (removed!)\n",
      "Wrong SMILES for:  9761335 (removed!)\n",
      "Wrong SMILES for:  9761336 (removed!)\n",
      "Wrong SMILES for:  9761433 (removed!)\n"
     ]
    },
    {
     "name": "stderr",
     "output_type": "stream",
     "text": [
      "[03:27:32] Explicit valence for atom # 3 O, 5, is greater than permitted\n"
     ]
    },
    {
     "name": "stdout",
     "output_type": "stream",
     "text": [
      "Wrong SMILES for:  9767321 (removed!)\n"
     ]
    },
    {
     "name": "stderr",
     "output_type": "stream",
     "text": [
      "[03:27:33] Explicit valence for atom # 0 N, 5, is greater than permitted\n",
      "[03:27:33] Explicit valence for atom # 6 C, 5, is greater than permitted\n",
      "[03:27:33] Explicit valence for atom # 0 O, 3, is greater than permitted\n",
      "[03:27:33] Explicit valence for atom # 0 O, 3, is greater than permitted\n",
      "[03:27:33] Explicit valence for atom # 4 O, 3, is greater than permitted\n",
      "[03:27:33] Explicit valence for atom # 0 O, 3, is greater than permitted\n",
      "[03:27:33] Explicit valence for atom # 4 O, 3, is greater than permitted\n",
      "[03:27:33] Explicit valence for atom # 0 O, 3, is greater than permitted\n",
      "[03:27:33] Explicit valence for atom # 0 O, 3, is greater than permitted\n"
     ]
    },
    {
     "name": "stdout",
     "output_type": "stream",
     "text": [
      "Wrong SMILES for:  9770330 (removed!)\n",
      "Wrong SMILES for:  9770511 (removed!)\n",
      "Wrong SMILES for:  9770533 (removed!)\n",
      "Wrong SMILES for:  9770534 (removed!)\n",
      "Wrong SMILES for:  9770591 (removed!)\n",
      "Wrong SMILES for:  9770655 (removed!)\n",
      "Wrong SMILES for:  9770656 (removed!)\n",
      "Wrong SMILES for:  9770711 (removed!)\n",
      "Wrong SMILES for:  9770991 (removed!)\n"
     ]
    },
    {
     "name": "stderr",
     "output_type": "stream",
     "text": [
      "[03:27:33] WARNING: not removing hydrogen atom without neighbors\n",
      "[03:27:33] WARNING: not removing hydrogen atom without neighbors\n",
      "[03:27:33] WARNING: not removing hydrogen atom without neighbors\n",
      "[03:27:33] WARNING: not removing hydrogen atom without neighbors\n",
      "[03:27:33] WARNING: not removing hydrogen atom without neighbors\n",
      "[03:27:33] WARNING: not removing hydrogen atom without neighbors\n",
      "[03:27:33] WARNING: could not find number of expected rings. Switching to an approximate ring finding algorithm.\n",
      "[03:27:34] Explicit valence for atom # 1 N, 4, is greater than permitted\n"
     ]
    },
    {
     "name": "stdout",
     "output_type": "stream",
     "text": [
      "Wrong SMILES for:  9771182 (removed!)\n"
     ]
    },
    {
     "name": "stderr",
     "output_type": "stream",
     "text": [
      "[03:27:36] Can't kekulize mol.  Unkekulized atoms: 2 3 4 5 6\n"
     ]
    },
    {
     "name": "stdout",
     "output_type": "stream",
     "text": [
      "Wrong SMILES for:  9778418 (removed!)\n"
     ]
    },
    {
     "name": "stderr",
     "output_type": "stream",
     "text": [
      "[03:27:37] Explicit valence for atom # 1 N, 5, is greater than permitted\n"
     ]
    },
    {
     "name": "stdout",
     "output_type": "stream",
     "text": [
      "Wrong SMILES for:  9784059 (removed!)\n"
     ]
    },
    {
     "name": "stderr",
     "output_type": "stream",
     "text": [
      "[03:27:37] Explicit valence for atom # 4 N, 4, is greater than permitted\n"
     ]
    },
    {
     "name": "stdout",
     "output_type": "stream",
     "text": [
      "Wrong SMILES for:  9785201 (removed!)\n"
     ]
    },
    {
     "name": "stderr",
     "output_type": "stream",
     "text": [
      "[03:27:38] Explicit valence for atom # 6 N, 4, is greater than permitted\n"
     ]
    },
    {
     "name": "stdout",
     "output_type": "stream",
     "text": [
      "Wrong SMILES for:  9787652 (removed!)\n"
     ]
    },
    {
     "name": "stderr",
     "output_type": "stream",
     "text": [
      "[03:27:40] Explicit valence for atom # 13 C, 5, is greater than permitted\n",
      "[03:27:40] Explicit valence for atom # 10 C, 6, is greater than permitted\n"
     ]
    },
    {
     "name": "stdout",
     "output_type": "stream",
     "text": [
      "Wrong SMILES for:  9792851 (removed!)\n",
      "Wrong SMILES for:  9792976 (removed!)\n"
     ]
    },
    {
     "name": "stderr",
     "output_type": "stream",
     "text": [
      "[03:27:40] Explicit valence for atom # 15 C, 5, is greater than permitted\n"
     ]
    },
    {
     "name": "stdout",
     "output_type": "stream",
     "text": [
      "Wrong SMILES for:  9794921 (removed!)\n"
     ]
    },
    {
     "name": "stderr",
     "output_type": "stream",
     "text": [
      "[03:27:41] Explicit valence for atom # 10 N, 4, is greater than permitted\n"
     ]
    },
    {
     "name": "stdout",
     "output_type": "stream",
     "text": [
      "Wrong SMILES for:  9796710 (removed!)\n"
     ]
    },
    {
     "name": "stderr",
     "output_type": "stream",
     "text": [
      "[03:27:41] Explicit valence for atom # 0 O, 3, is greater than permitted\n"
     ]
    },
    {
     "name": "stdout",
     "output_type": "stream",
     "text": [
      "Wrong SMILES for:  9799330 (removed!)\n",
      "Currently on 9800000th data\n"
     ]
    },
    {
     "name": "stderr",
     "output_type": "stream",
     "text": [
      "[03:27:43] WARNING: not removing hydrogen atom without neighbors\n",
      "[03:27:43] WARNING: not removing hydrogen atom without neighbors\n",
      "[03:27:43] Explicit valence for atom # 5 C, 5, is greater than permitted\n"
     ]
    },
    {
     "name": "stdout",
     "output_type": "stream",
     "text": [
      "Wrong SMILES for:  9805274 (removed!)\n"
     ]
    },
    {
     "name": "stderr",
     "output_type": "stream",
     "text": [
      "[03:27:44] Explicit valence for atom # 2 N, 4, is greater than permitted\n"
     ]
    },
    {
     "name": "stdout",
     "output_type": "stream",
     "text": [
      "Wrong SMILES for:  9807407 (removed!)\n"
     ]
    },
    {
     "name": "stderr",
     "output_type": "stream",
     "text": [
      "[03:27:46] Explicit valence for atom # 28 N, 4, is greater than permitted\n",
      "[03:27:46] Explicit valence for atom # 13 O, 3, is greater than permitted\n"
     ]
    },
    {
     "name": "stdout",
     "output_type": "stream",
     "text": [
      "Wrong SMILES for:  9816859 (removed!)\n",
      "Wrong SMILES for:  9817306 (removed!)\n"
     ]
    },
    {
     "name": "stderr",
     "output_type": "stream",
     "text": [
      "[03:27:46] Explicit valence for atom # 15 N, 4, is greater than permitted\n",
      "[03:27:46] Explicit valence for atom # 3 C, 6, is greater than permitted\n"
     ]
    },
    {
     "name": "stdout",
     "output_type": "stream",
     "text": [
      "Wrong SMILES for:  9818183 (removed!)\n",
      "Wrong SMILES for:  9818242 (removed!)\n"
     ]
    },
    {
     "name": "stderr",
     "output_type": "stream",
     "text": [
      "[03:27:47] Explicit valence for atom # 9 C, 5, is greater than permitted\n",
      "[03:27:47] Explicit valence for atom # 2 B, 4, is greater than permitted\n"
     ]
    },
    {
     "name": "stdout",
     "output_type": "stream",
     "text": [
      "Wrong SMILES for:  9819067 (removed!)\n",
      "Wrong SMILES for:  9819598 (removed!)\n"
     ]
    },
    {
     "name": "stderr",
     "output_type": "stream",
     "text": [
      "[03:27:47] Explicit valence for atom # 10 B, 4, is greater than permitted\n",
      "[03:27:47] Explicit valence for atom # 10 B, 4, is greater than permitted\n"
     ]
    },
    {
     "name": "stdout",
     "output_type": "stream",
     "text": [
      "Wrong SMILES for:  9820038 (removed!)\n",
      "Wrong SMILES for:  9820197 (removed!)\n"
     ]
    },
    {
     "name": "stderr",
     "output_type": "stream",
     "text": [
      "[03:27:48] Explicit valence for atom # 4 C, 5, is greater than permitted\n"
     ]
    },
    {
     "name": "stdout",
     "output_type": "stream",
     "text": [
      "Wrong SMILES for:  9824724 (removed!)\n"
     ]
    },
    {
     "name": "stderr",
     "output_type": "stream",
     "text": [
      "[03:27:49] Can't kekulize mol.  Unkekulized atoms: 2 3 4 5 6\n",
      "[03:27:49] Can't kekulize mol.  Unkekulized atoms: 2 3 4 5 8\n",
      "[03:27:49] Explicit valence for atom # 13 O, 3, is greater than permitted\n"
     ]
    },
    {
     "name": "stdout",
     "output_type": "stream",
     "text": [
      "Wrong SMILES for:  9827148 (removed!)\n",
      "Wrong SMILES for:  9827184 (removed!)\n",
      "Wrong SMILES for:  9827659 (removed!)\n"
     ]
    },
    {
     "name": "stderr",
     "output_type": "stream",
     "text": [
      "[03:27:49] Explicit valence for atom # 3 O, 3, is greater than permitted\n",
      "[03:27:49] Can't kekulize mol.  Unkekulized atoms: 22 23 24 25 26\n",
      "[03:27:49] Explicit valence for atom # 2 O, 3, is greater than permitted\n"
     ]
    },
    {
     "name": "stdout",
     "output_type": "stream",
     "text": [
      "Wrong SMILES for:  9828294 (removed!)\n",
      "Wrong SMILES for:  9828829 (removed!)\n",
      "Wrong SMILES for:  9829024 (removed!)\n"
     ]
    },
    {
     "name": "stderr",
     "output_type": "stream",
     "text": [
      "[03:27:50] Explicit valence for atom # 3 C, 5, is greater than permitted\n",
      "[03:27:50] Explicit valence for atom # 2 B, 4, is greater than permitted\n"
     ]
    },
    {
     "name": "stdout",
     "output_type": "stream",
     "text": [
      "Wrong SMILES for:  9830764 (removed!)\n",
      "Wrong SMILES for:  9831121 (removed!)\n",
      "Currently on 9900000th data\n"
     ]
    },
    {
     "name": "stderr",
     "output_type": "stream",
     "text": [
      "[03:28:21] Explicit valence for atom # 7 N, 4, is greater than permitted\n",
      "[03:28:21] Explicit valence for atom # 18 B, 4, is greater than permitted\n",
      "[03:28:21] Explicit valence for atom # 6 N, 4, is greater than permitted\n"
     ]
    },
    {
     "name": "stdout",
     "output_type": "stream",
     "text": [
      "Wrong SMILES for:  9970766 (removed!)\n",
      "Wrong SMILES for:  9970893 (removed!)\n",
      "Wrong SMILES for:  9971030 (removed!)\n"
     ]
    },
    {
     "name": "stderr",
     "output_type": "stream",
     "text": [
      "[03:28:25] Can't kekulize mol.  Unkekulized atoms: 77 78 79 80 81\n",
      "[03:28:26] Can't kekulize mol.  Unkekulized atoms: 25 26 27 28 29 30 31 32 33\n",
      "[03:28:26] Can't kekulize mol.  Unkekulized atoms: 80 81 82 83 84 85 86 87 88\n",
      "[03:28:26] Can't kekulize mol.  Unkekulized atoms: 201 202 203 204 205\n",
      "[03:28:26] Can't kekulize mol.  Unkekulized atoms: 318 319 320 321 322 323 324 325 326\n",
      "[03:28:26] Can't kekulize mol.  Unkekulized atoms: 165 166 167 168 169\n",
      "[03:28:26] Can't kekulize mol.  Unkekulized atoms: 173 174 175 176 177 178 179 180 181\n"
     ]
    },
    {
     "name": "stdout",
     "output_type": "stream",
     "text": [
      "Wrong SMILES for:  9992450 (removed!)\n",
      "Wrong SMILES for:  9992588 (removed!)\n",
      "Wrong SMILES for:  9992589 (removed!)\n",
      "Wrong SMILES for:  9992852 (removed!)\n",
      "Wrong SMILES for:  9992983 (removed!)\n",
      "Wrong SMILES for:  9992984 (removed!)\n",
      "Wrong SMILES for:  9993247 (removed!)\n"
     ]
    },
    {
     "name": "stderr",
     "output_type": "stream",
     "text": [
      "[03:28:26] Can't kekulize mol.  Unkekulized atoms: 48 49 50 51 52 53 54 55 56\n",
      "[03:28:26] Can't kekulize mol.  Unkekulized atoms: 99 100 101 102 103 104 105 106 107\n",
      "[03:28:26] Can't kekulize mol.  Unkekulized atoms: 45 46 47 48 49 50 51 52 53\n",
      "[03:28:26] Can't kekulize mol.  Unkekulized atoms: 75 76 77 78 79 80 81 82 83\n",
      "[03:28:26] Can't kekulize mol.  Unkekulized atoms: 160 161 162 163 164 165 166 167 168\n",
      "[03:28:26] Can't kekulize mol.  Unkekulized atoms: 51 52 53 54 55\n",
      "[03:28:26] Can't kekulize mol.  Unkekulized atoms: 170 171 172 173 174 175 176 177 178\n",
      "[03:28:26] Can't kekulize mol.  Unkekulized atoms: 95 96 97 98 99\n",
      "[03:28:26] Can't kekulize mol.  Unkekulized atoms: 135 136 137 138 139\n",
      "[03:28:26] Can't kekulize mol.  Unkekulized atoms: 36 37 38 39 40\n",
      "[03:28:26] Can't kekulize mol.  Unkekulized atoms: 137 138 139 140 141\n",
      "[03:28:26] Can't kekulize mol.  Unkekulized atoms: 181 182 183 184 185 186 187 188 189\n"
     ]
    },
    {
     "name": "stdout",
     "output_type": "stream",
     "text": [
      "Wrong SMILES for:  9993509 (removed!)\n",
      "Wrong SMILES for:  9993512 (removed!)\n",
      "Wrong SMILES for:  9993646 (removed!)\n",
      "Wrong SMILES for:  9993647 (removed!)\n",
      "Wrong SMILES for:  9993648 (removed!)\n",
      "Wrong SMILES for:  9993778 (removed!)\n",
      "Wrong SMILES for:  9993779 (removed!)\n",
      "Wrong SMILES for:  9994039 (removed!)\n",
      "Wrong SMILES for:  9994041 (removed!)\n",
      "Wrong SMILES for:  9994043 (removed!)\n",
      "Wrong SMILES for:  9994180 (removed!)\n",
      "Wrong SMILES for:  9994314 (removed!)\n"
     ]
    },
    {
     "name": "stderr",
     "output_type": "stream",
     "text": [
      "[03:28:26] Can't kekulize mol.  Unkekulized atoms: 278 279 280 281 282\n",
      "[03:28:26] Can't kekulize mol.  Unkekulized atoms: 127 128 129 130 131 132 133 134 135\n",
      "[03:28:26] Can't kekulize mol.  Unkekulized atoms: 18 19 20 21 22\n",
      "[03:28:26] Can't kekulize mol.  Unkekulized atoms: 135 136 137 138 139\n",
      "[03:28:26] Can't kekulize mol.  Unkekulized atoms: 77 78 79 80 81\n",
      "[03:28:26] Can't kekulize mol.  Unkekulized atoms: 96 97 98 99 100\n",
      "[03:28:26] Can't kekulize mol.  Unkekulized atoms: 18 19 20 21 22 23 24 25 26\n",
      "[03:28:26] Can't kekulize mol.  Unkekulized atoms: 167 168 169 170 171 172 173 174 175\n",
      "[03:28:26] Can't kekulize mol.  Unkekulized atoms: 135 136 137 138 139\n",
      "[03:28:26] Can't kekulize mol.  Unkekulized atoms: 128 129 130 131 132\n",
      "[03:28:26] Can't kekulize mol.  Unkekulized atoms: 36 37 38 39 40\n",
      "[03:28:26] Can't kekulize mol.  Unkekulized atoms: 61 62 63 64 65\n",
      "[03:28:26] Can't kekulize mol.  Unkekulized atoms: 30 31 32 33 34\n",
      "[03:28:26] Can't kekulize mol.  Unkekulized atoms: 128 129 130 131 132\n"
     ]
    },
    {
     "name": "stdout",
     "output_type": "stream",
     "text": [
      "Wrong SMILES for:  9994449 (removed!)\n",
      "Wrong SMILES for:  9994450 (removed!)\n",
      "Wrong SMILES for:  9994580 (removed!)\n",
      "Wrong SMILES for:  9994725 (removed!)\n",
      "Wrong SMILES for:  9994870 (removed!)\n",
      "Wrong SMILES for:  9994871 (removed!)\n",
      "Wrong SMILES for:  9994872 (removed!)\n",
      "Wrong SMILES for:  9995018 (removed!)\n",
      "Wrong SMILES for:  9995019 (removed!)\n",
      "Wrong SMILES for:  9995020 (removed!)\n",
      "Wrong SMILES for:  9995167 (removed!)\n",
      "Wrong SMILES for:  9995168 (removed!)\n",
      "Wrong SMILES for:  9995169 (removed!)\n",
      "Wrong SMILES for:  9995170 (removed!)\n"
     ]
    },
    {
     "name": "stderr",
     "output_type": "stream",
     "text": [
      "[03:28:26] Can't kekulize mol.  Unkekulized atoms: 129 130 131 132 133\n",
      "[03:28:26] Can't kekulize mol.  Unkekulized atoms: 167 168 169 170 171 172 173 174 175\n",
      "[03:28:26] Can't kekulize mol.  Unkekulized atoms: 181 182 183 184 185 186 187 188 189\n",
      "[03:28:26] Can't kekulize mol.  Unkekulized atoms: 107 108 109 110 111\n",
      "[03:28:26] Can't kekulize mol.  Unkekulized atoms: 25 26 27 28 29\n",
      "[03:28:26] Can't kekulize mol.  Unkekulized atoms: 51 52 53 54 55\n",
      "[03:28:26] Can't kekulize mol.  Unkekulized atoms: 56 57 58 59 60 61 62 63 64\n",
      "[03:28:26] Can't kekulize mol.  Unkekulized atoms: 123 124 125 126 127\n",
      "[03:28:26] Can't kekulize mol.  Unkekulized atoms: 130 131 132 133 134\n"
     ]
    },
    {
     "name": "stdout",
     "output_type": "stream",
     "text": [
      "Wrong SMILES for:  9995315 (removed!)\n",
      "Wrong SMILES for:  9995457 (removed!)\n",
      "Wrong SMILES for:  9995599 (removed!)\n",
      "Wrong SMILES for:  9995600 (removed!)\n",
      "Wrong SMILES for:  9995601 (removed!)\n",
      "Wrong SMILES for:  9995895 (removed!)\n",
      "Wrong SMILES for:  9996044 (removed!)\n",
      "Wrong SMILES for:  9996045 (removed!)\n",
      "Wrong SMILES for:  9996188 (removed!)\n"
     ]
    },
    {
     "name": "stderr",
     "output_type": "stream",
     "text": [
      "[03:28:26] Can't kekulize mol.  Unkekulized atoms: 25 26 27 28 29\n",
      "[03:28:26] Can't kekulize mol.  Unkekulized atoms: 25 26 27 28 29\n",
      "[03:28:27] Can't kekulize mol.  Unkekulized atoms: 41 42 43 44 45\n",
      "[03:28:27] Can't kekulize mol.  Unkekulized atoms: 34 35 36 37 38 39 40 41 42\n",
      "[03:28:27] Can't kekulize mol.  Unkekulized atoms: 135 136 137 138 139\n",
      "[03:28:27] Can't kekulize mol.  Unkekulized atoms: 71 72 73 74 75\n",
      "[03:28:27] Can't kekulize mol.  Unkekulized atoms: 193 194 195 196 197 198 199 200 201\n",
      "[03:28:27] Can't kekulize mol.  Unkekulized atoms: 129 130 131 132 133\n",
      "[03:28:27] Can't kekulize mol.  Unkekulized atoms: 17 18 19 20 21 22 23 24 25\n",
      "[03:28:27] Can't kekulize mol.  Unkekulized atoms: 40 41 42 43 44\n",
      "[03:28:27] Can't kekulize mol.  Unkekulized atoms: 31 32 33 34 35 36 37 38 39\n"
     ]
    },
    {
     "name": "stdout",
     "output_type": "stream",
     "text": [
      "Wrong SMILES for:  9996336 (removed!)\n",
      "Wrong SMILES for:  9996644 (removed!)\n",
      "Wrong SMILES for:  9996794 (removed!)\n",
      "Wrong SMILES for:  9996941 (removed!)\n",
      "Wrong SMILES for:  9996942 (removed!)\n",
      "Wrong SMILES for:  9997231 (removed!)\n",
      "Wrong SMILES for:  9997232 (removed!)\n",
      "Wrong SMILES for:  9997382 (removed!)\n",
      "Wrong SMILES for:  9997383 (removed!)\n",
      "Wrong SMILES for:  9997538 (removed!)\n",
      "Wrong SMILES for:  9997540 (removed!)\n"
     ]
    },
    {
     "name": "stderr",
     "output_type": "stream",
     "text": [
      "[03:28:27] Can't kekulize mol.  Unkekulized atoms: 163 164 165 166 167 168 169 170 171\n",
      "[03:28:27] Can't kekulize mol.  Unkekulized atoms: 165 166 167 168 169\n",
      "[03:28:27] Can't kekulize mol.  Unkekulized atoms: 47 48 49 50 51\n",
      "[03:28:27] Can't kekulize mol.  Unkekulized atoms: 305 306 307 308 309\n",
      "[03:28:27] Can't kekulize mol.  Unkekulized atoms: 129 130 131 132 133\n",
      "[03:28:27] Can't kekulize mol.  Unkekulized atoms: 135 136 137 138 139\n",
      "[03:28:27] Can't kekulize mol.  Unkekulized atoms: 134 135 136 137 138\n",
      "[03:28:27] Can't kekulize mol.  Unkekulized atoms: 71 72 73 74 75\n",
      "[03:28:27] Can't kekulize mol.  Unkekulized atoms: 100 101 102 103 104 105 106 107 108\n",
      "[03:28:27] Can't kekulize mol.  Unkekulized atoms: 31 32 33 34 35 36 37 38 39\n"
     ]
    },
    {
     "name": "stdout",
     "output_type": "stream",
     "text": [
      "Wrong SMILES for:  9997688 (removed!)\n",
      "Wrong SMILES for:  9997838 (removed!)\n",
      "Wrong SMILES for:  9997973 (removed!)\n",
      "Wrong SMILES for:  9997974 (removed!)\n",
      "Wrong SMILES for:  9997975 (removed!)\n",
      "Wrong SMILES for:  9998265 (removed!)\n",
      "Wrong SMILES for:  9998701 (removed!)\n",
      "Wrong SMILES for:  9998702 (removed!)\n",
      "Wrong SMILES for:  9998703 (removed!)\n"
     ]
    },
    {
     "name": "stderr",
     "output_type": "stream",
     "text": [
      "[03:28:27] Can't kekulize mol.  Unkekulized atoms: 128 129 130 131 132\n",
      "[03:28:27] Can't kekulize mol.  Unkekulized atoms: 128 129 130 131 132\n",
      "[03:28:27] Can't kekulize mol.  Unkekulized atoms: 166 167 168 169 170 171 172 173 174\n",
      "[03:28:27] Can't kekulize mol.  Unkekulized atoms: 191 192 193 194 195 196 197 198 199\n",
      "[03:28:27] Can't kekulize mol.  Unkekulized atoms: 65 66 67 68 69 70 71 72 73\n",
      "[03:28:27] Can't kekulize mol.  Unkekulized atoms: 142 143 144 145 146\n",
      "[03:28:27] Can't kekulize mol.  Unkekulized atoms: 173 174 175 176 177\n"
     ]
    },
    {
     "name": "stdout",
     "output_type": "stream",
     "text": [
      "Wrong SMILES for:  9998704 (removed!)\n",
      "Wrong SMILES for:  9998705 (removed!)\n",
      "Wrong SMILES for:  9999009 (removed!)\n",
      "Wrong SMILES for:  9999167 (removed!)\n",
      "Wrong SMILES for:  9999462 (removed!)\n",
      "Wrong SMILES for:  9999463 (removed!)\n",
      "Wrong SMILES for:  9999464 (removed!)\n",
      "Wrong SMILES for:  9999467 (removed!)\n",
      "Wrong SMILES for:  9999613 (removed!)\n",
      "Wrong SMILES for:  9999614 (removed!)\n",
      "Wrong SMILES for:  9999615 (removed!)\n"
     ]
    },
    {
     "name": "stderr",
     "output_type": "stream",
     "text": [
      "[03:28:27] Can't kekulize mol.  Unkekulized atoms: 35 36 37 38 39\n",
      "[03:28:27] Can't kekulize mol.  Unkekulized atoms: 76 77 78 79 80\n",
      "[03:28:27] Can't kekulize mol.  Unkekulized atoms: 175 176 177 178 179\n",
      "[03:28:27] Can't kekulize mol.  Unkekulized atoms: 180 181 182 183 184 185 186 187 188\n",
      "[03:28:27] Can't kekulize mol.  Unkekulized atoms: 174 175 176 177 178\n",
      "[03:28:27] Can't kekulize mol.  Unkekulized atoms: 135 136 137 138 139\n",
      "[03:28:27] Can't kekulize mol.  Unkekulized atoms: 171 172 173 174 175\n",
      "[03:28:27] Can't kekulize mol.  Unkekulized atoms: 135 136 137 138 139\n",
      "[03:28:27] Can't kekulize mol.  Unkekulized atoms: 202 203 204 205 206 207 208 209 210\n",
      "[03:28:27] Can't kekulize mol.  Unkekulized atoms: 63 64 65 66 67 68 69 70 71\n",
      "[03:28:27] Can't kekulize mol.  Unkekulized atoms: 62 63 64 65 66\n",
      "[03:28:27] Can't kekulize mol.  Unkekulized atoms: 43 44 45 46 47\n",
      "[03:28:27] Can't kekulize mol.  Unkekulized atoms: 135 136 137 138 139\n",
      "[03:28:27] Can't kekulize mol.  Unkekulized atoms: 28 29 30 31 32\n"
     ]
    },
    {
     "name": "stdout",
     "output_type": "stream",
     "text": [
      "Wrong SMILES for:  9999771 (removed!)\n",
      "Wrong SMILES for:  9999775 (removed!)\n",
      "Wrong SMILES for:  9999917 (removed!)\n",
      "Wrong SMILES for:  9999919 (removed!)\n",
      "Currently on 10000000th data\n",
      "Wrong SMILES for:  10000069 (removed!)\n",
      "Wrong SMILES for:  10000070 (removed!)\n",
      "Wrong SMILES for:  10000071 (removed!)\n",
      "Wrong SMILES for:  10000213 (removed!)\n",
      "Wrong SMILES for:  10000362 (removed!)\n",
      "Wrong SMILES for:  10000363 (removed!)\n",
      "Wrong SMILES for:  10000364 (removed!)\n",
      "Wrong SMILES for:  10000503 (removed!)\n",
      "Wrong SMILES for:  10000663 (removed!)\n"
     ]
    },
    {
     "name": "stderr",
     "output_type": "stream",
     "text": [
      "[03:28:27] Can't kekulize mol.  Unkekulized atoms: 135 136 137 138 139\n",
      "[03:28:27] Can't kekulize mol.  Unkekulized atoms: 174 175 176 177 178\n",
      "[03:28:27] Can't kekulize mol.  Unkekulized atoms: 135 136 137 138 139\n",
      "[03:28:27] Can't kekulize mol.  Unkekulized atoms: 174 175 176 177 178\n",
      "[03:28:28] Can't kekulize mol.  Unkekulized atoms: 135 136 137 138 139\n",
      "[03:28:28] Can't kekulize mol.  Unkekulized atoms: 60 61 62 63 64\n",
      "[03:28:28] Can't kekulize mol.  Unkekulized atoms: 55 56 57 58 59\n",
      "[03:28:28] Can't kekulize mol.  Unkekulized atoms: 126 127 128 129 130\n"
     ]
    },
    {
     "name": "stdout",
     "output_type": "stream",
     "text": [
      "Wrong SMILES for:  10000815 (removed!)\n",
      "Wrong SMILES for:  10000817 (removed!)\n",
      "Wrong SMILES for:  10001115 (removed!)\n",
      "Wrong SMILES for:  10001271 (removed!)\n",
      "Wrong SMILES for:  10001272 (removed!)\n",
      "Wrong SMILES for:  10001422 (removed!)\n",
      "Wrong SMILES for:  10001576 (removed!)\n",
      "Wrong SMILES for:  10001577 (removed!)\n",
      "Wrong SMILES for:  10001722 (removed!)\n",
      "Wrong SMILES for:  10001724 (removed!)\n"
     ]
    },
    {
     "name": "stderr",
     "output_type": "stream",
     "text": [
      "[03:28:28] Can't kekulize mol.  Unkekulized atoms: 170 171 172 173 174\n",
      "[03:28:28] Can't kekulize mol.  Unkekulized atoms: 84 85 86 87 88 89 90 91 92\n",
      "[03:28:28] Can't kekulize mol.  Unkekulized atoms: 165 166 167 168 169 170 171 172 173\n",
      "[03:28:28] Can't kekulize mol.  Unkekulized atoms: 126 127 128 129 130\n",
      "[03:28:28] Can't kekulize mol.  Unkekulized atoms: 108 109 110 111 112\n",
      "[03:28:28] Can't kekulize mol.  Unkekulized atoms: 166 167 168 169 170 171 172 173 174\n",
      "[03:28:28] Can't kekulize mol.  Unkekulized atoms: 126 127 128 129 130\n",
      "[03:28:28] Can't kekulize mol.  Unkekulized atoms: 129 130 131 132 133\n",
      "[03:28:28] Can't kekulize mol.  Unkekulized atoms: 135 136 137 138 139\n"
     ]
    },
    {
     "name": "stdout",
     "output_type": "stream",
     "text": [
      "Wrong SMILES for:  10001870 (removed!)\n",
      "Wrong SMILES for:  10001872 (removed!)\n",
      "Wrong SMILES for:  10002020 (removed!)\n",
      "Wrong SMILES for:  10002305 (removed!)\n",
      "Wrong SMILES for:  10002306 (removed!)\n",
      "Wrong SMILES for:  10002452 (removed!)\n",
      "Wrong SMILES for:  10002453 (removed!)\n",
      "Wrong SMILES for:  10002592 (removed!)\n",
      "Wrong SMILES for:  10002729 (removed!)\n",
      "Wrong SMILES for:  10002730 (removed!)\n",
      "Wrong SMILES for:  10002731 (removed!)\n"
     ]
    },
    {
     "name": "stderr",
     "output_type": "stream",
     "text": [
      "[03:28:28] Can't kekulize mol.  Unkekulized atoms: 49 50 51 52 53\n",
      "[03:28:28] Can't kekulize mol.  Unkekulized atoms: 135 136 137 138 139\n",
      "[03:28:28] Can't kekulize mol.  Unkekulized atoms: 135 136 137 138 139\n",
      "[03:28:28] Can't kekulize mol.  Unkekulized atoms: 135 136 137 138 139\n",
      "[03:28:28] Can't kekulize mol.  Unkekulized atoms: 71 72 73 74 75\n",
      "[03:28:28] Can't kekulize mol.  Unkekulized atoms: 177 178 179 180 181 182 183 184 185\n",
      "[03:28:28] Can't kekulize mol.  Unkekulized atoms: 325 326 327 328 329 330 331 332 333\n",
      "[03:28:28] Can't kekulize mol.  Unkekulized atoms: 135 136 137 138 139\n",
      "[03:28:28] Can't kekulize mol.  Unkekulized atoms: 259 260 261 262 263 264 265 266 267\n",
      "[03:28:28] Can't kekulize mol.  Unkekulized atoms: 100 101 102 103 104 105 106 107 108\n",
      "[03:28:28] Can't kekulize mol.  Unkekulized atoms: 135 136 137 138 139\n"
     ]
    },
    {
     "name": "stdout",
     "output_type": "stream",
     "text": [
      "Wrong SMILES for:  10002867 (removed!)\n",
      "Wrong SMILES for:  10003009 (removed!)\n",
      "Wrong SMILES for:  10003144 (removed!)\n",
      "Wrong SMILES for:  10003284 (removed!)\n",
      "Wrong SMILES for:  10003285 (removed!)\n",
      "Wrong SMILES for:  10003428 (removed!)\n",
      "Wrong SMILES for:  10003571 (removed!)\n",
      "Wrong SMILES for:  10003572 (removed!)\n",
      "Wrong SMILES for:  10003708 (removed!)\n"
     ]
    },
    {
     "name": "stderr",
     "output_type": "stream",
     "text": [
      "[03:28:28] Can't kekulize mol.  Unkekulized atoms: 193 194 195 196 197 198 199 200 201\n",
      "[03:28:28] Can't kekulize mol.  Unkekulized atoms: 135 136 137 138 139\n",
      "[03:28:28] Can't kekulize mol.  Unkekulized atoms: 315 316 317 318 319 320 321 322 323\n",
      "[03:28:28] Can't kekulize mol.  Unkekulized atoms: 102 103 104 105 106 107 108 109 110\n",
      "[03:28:28] Can't kekulize mol.  Unkekulized atoms: 126 127 128 129 130\n",
      "[03:28:28] Can't kekulize mol.  Unkekulized atoms: 179 180 181 182 183 184 185 186 187\n",
      "[03:28:28] Can't kekulize mol.  Unkekulized atoms: 50 51 52 53 54\n"
     ]
    },
    {
     "name": "stdout",
     "output_type": "stream",
     "text": [
      "Wrong SMILES for:  10003852 (removed!)\n",
      "Wrong SMILES for:  10003854 (removed!)\n",
      "Wrong SMILES for:  10003855 (removed!)\n"
     ]
    },
    {
     "name": "stderr",
     "output_type": "stream",
     "text": [
      "[03:28:33] Explicit valence for atom # 2 O, 3, is greater than permitted\n"
     ]
    },
    {
     "name": "stdout",
     "output_type": "stream",
     "text": [
      "Wrong SMILES for:  10026430 (removed!)\n"
     ]
    },
    {
     "name": "stderr",
     "output_type": "stream",
     "text": [
      "[03:28:33] Can't kekulize mol.  Unkekulized atoms: 77 78 79 80 81\n",
      "[03:28:34] Can't kekulize mol.  Unkekulized atoms: 68 69 70 71 72\n",
      "[03:28:34] Can't kekulize mol.  Unkekulized atoms: 66 67 68 69 70\n",
      "[03:28:34] Can't kekulize mol.  Unkekulized atoms: 176 177 178 179 180 181 182 183 184\n"
     ]
    },
    {
     "name": "stdout",
     "output_type": "stream",
     "text": [
      "Wrong SMILES for:  10028440 (removed!)\n",
      "Wrong SMILES for:  10028691 (removed!)\n",
      "Wrong SMILES for:  10028979 (removed!)\n",
      "Wrong SMILES for:  10029278 (removed!)\n"
     ]
    },
    {
     "name": "stderr",
     "output_type": "stream",
     "text": [
      "[03:28:34] Can't kekulize mol.  Unkekulized atoms: 39 40 41 42 43\n",
      "[03:28:34] Can't kekulize mol.  Unkekulized atoms: 68 69 70 71 72\n",
      "[03:28:34] Can't kekulize mol.  Unkekulized atoms: 37 38 39 40 41\n",
      "[03:28:34] Can't kekulize mol.  Unkekulized atoms: 42 43 44 45 46 47 48 49 50\n",
      "[03:28:34] Can't kekulize mol.  Unkekulized atoms: 51 52 53 54 55\n",
      "[03:28:34] Can't kekulize mol.  Unkekulized atoms: 99 100 101 102 103 104 105 106 107\n",
      "[03:28:34] Can't kekulize mol.  Unkekulized atoms: 64 65 66 67 68\n",
      "[03:28:34] Can't kekulize mol.  Unkekulized atoms: 42 43 44 45 46 47 48 49 50\n",
      "[03:28:34] Can't kekulize mol.  Unkekulized atoms: 73 74 75 76 77\n",
      "[03:28:34] Can't kekulize mol.  Unkekulized atoms: 135 136 137 138 139\n",
      "[03:28:34] Can't kekulize mol.  Unkekulized atoms: 42 43 44 45 46 47 48 49 50\n",
      "[03:28:34] Can't kekulize mol.  Unkekulized atoms: 63 64 65 66 67\n",
      "[03:28:34] Can't kekulize mol.  Unkekulized atoms: 135 136 137 138 139\n",
      "[03:28:34] Can't kekulize mol.  Unkekulized atoms: 22 23 24 25 26\n"
     ]
    },
    {
     "name": "stdout",
     "output_type": "stream",
     "text": [
      "Wrong SMILES for:  10029428 (removed!)\n",
      "Wrong SMILES for:  10029429 (removed!)\n",
      "Wrong SMILES for:  10029430 (removed!)\n",
      "Wrong SMILES for:  10029431 (removed!)\n",
      "Wrong SMILES for:  10029581 (removed!)\n",
      "Wrong SMILES for:  10029582 (removed!)\n",
      "Wrong SMILES for:  10029734 (removed!)\n",
      "Wrong SMILES for:  10029735 (removed!)\n",
      "Wrong SMILES for:  10030042 (removed!)\n",
      "Wrong SMILES for:  10030043 (removed!)\n",
      "Wrong SMILES for:  10030044 (removed!)\n",
      "Wrong SMILES for:  10030191 (removed!)\n",
      "Wrong SMILES for:  10030192 (removed!)\n",
      "Wrong SMILES for:  10030339 (removed!)\n"
     ]
    },
    {
     "name": "stderr",
     "output_type": "stream",
     "text": [
      "[03:28:34] Can't kekulize mol.  Unkekulized atoms: 128 129 130 131 132\n",
      "[03:28:34] Can't kekulize mol.  Unkekulized atoms: 212 213 214 215 216\n",
      "[03:28:34] Can't kekulize mol.  Unkekulized atoms: 159 160 161 162 163 164 165 166 167\n",
      "[03:28:34] Can't kekulize mol.  Unkekulized atoms: 128 129 130 131 132\n",
      "[03:28:34] Can't kekulize mol.  Unkekulized atoms: 159 160 161 162 163 164 165 166 167\n",
      "[03:28:34] Can't kekulize mol.  Unkekulized atoms: 171 172 173 174 175\n",
      "[03:28:34] Can't kekulize mol.  Unkekulized atoms: 207 208 209 210 211 212 213 214 215\n",
      "[03:28:34] Can't kekulize mol.  Unkekulized atoms: 64 65 66 67 68\n",
      "[03:28:34] Can't kekulize mol.  Unkekulized atoms: 175 176 177 178 179\n",
      "[03:28:34] Can't kekulize mol.  Unkekulized atoms: 29 30 31 32 33\n"
     ]
    },
    {
     "name": "stdout",
     "output_type": "stream",
     "text": [
      "Wrong SMILES for:  10030477 (removed!)\n",
      "Wrong SMILES for:  10030618 (removed!)\n",
      "Wrong SMILES for:  10030619 (removed!)\n",
      "Wrong SMILES for:  10030620 (removed!)\n",
      "Wrong SMILES for:  10030763 (removed!)\n",
      "Wrong SMILES for:  10030764 (removed!)\n",
      "Wrong SMILES for:  10030911 (removed!)\n",
      "Wrong SMILES for:  10030912 (removed!)\n",
      "Wrong SMILES for:  10030913 (removed!)\n",
      "Wrong SMILES for:  10031070 (removed!)\n",
      "Currently on 10100000th data\n",
      "Currently on 10200000th data\n",
      "Currently on 10300000th data\n",
      "Currently on 10400000th data\n",
      "Currently on 10500000th data\n",
      "Currently on 10600000th data\n",
      "Currently on 10700000th data\n",
      "Currently on 10800000th data\n",
      "Currently on 10900000th data\n",
      "Currently on 11000000th data\n",
      "Currently on 11100000th data\n",
      "Currently on 11200000th data\n",
      "Currently on 11300000th data\n",
      "Currently on 11400000th data\n",
      "Currently on 11500000th data\n",
      "Currently on 11600000th data\n",
      "Currently on 11700000th data\n",
      "Currently on 11800000th data\n",
      "Currently on 11900000th data\n",
      "Currently on 12000000th data\n",
      "Currently on 12100000th data\n",
      "Currently on 12200000th data\n",
      "Currently on 12300000th data\n",
      "Currently on 12400000th data\n",
      "Currently on 12500000th data\n",
      "Currently on 12600000th data\n",
      "Currently on 12700000th data\n",
      "Currently on 12800000th data\n",
      "Currently on 12900000th data\n",
      "Currently on 13000000th data\n",
      "Currently on 13100000th data\n",
      "Currently on 13200000th data\n",
      "Currently on 13300000th data\n",
      "Currently on 13400000th data\n",
      "Currently on 13500000th data\n",
      "Currently on 13600000th data\n",
      "Currently on 13700000th data\n"
     ]
    },
    {
     "name": "stderr",
     "output_type": "stream",
     "text": [
      "[03:48:43] Can't kekulize mol.  Unkekulized atoms: 6 7 8 9 10 11 12 13 14\n",
      "[03:48:43] Can't kekulize mol.  Unkekulized atoms: 3 4 5 7 8 9 10\n",
      "[03:48:43] Can't kekulize mol.  Unkekulized atoms: 3 5 8\n",
      "[03:48:43] Can't kekulize mol.  Unkekulized atoms: 3 4 7 8 9 10 11 12 13\n"
     ]
    },
    {
     "name": "stdout",
     "output_type": "stream",
     "text": [
      "Wrong SMILES for:  13725492 (removed!)\n",
      "Wrong SMILES for:  13725542 (removed!)\n",
      "Wrong SMILES for:  13725598 (removed!)\n",
      "Wrong SMILES for:  13725654 (removed!)\n"
     ]
    },
    {
     "name": "stderr",
     "output_type": "stream",
     "text": [
      "[03:48:43] Explicit valence for atom # 10 C, 5, is greater than permitted\n",
      "[03:48:44] Can't kekulize mol.  Unkekulized atoms: 3 4 5 6 7 8 9 10 11\n",
      "[03:48:44] Can't kekulize mol.  Unkekulized atoms: 6 7 8 9 10\n",
      "[03:48:44] Can't kekulize mol.  Unkekulized atoms: 1 2 3 4 5\n",
      "[03:48:44] Can't kekulize mol.  Unkekulized atoms: 6 7 8 9 10\n",
      "[03:48:44] Can't kekulize mol.  Unkekulized atoms: 1 2 3 4 5\n"
     ]
    },
    {
     "name": "stdout",
     "output_type": "stream",
     "text": [
      "Wrong SMILES for:  13726093 (removed!)\n",
      "Wrong SMILES for:  13726316 (removed!)\n",
      "Wrong SMILES for:  13726573 (removed!)\n",
      "Wrong SMILES for:  13726574 (removed!)\n",
      "Wrong SMILES for:  13726626 (removed!)\n",
      "Wrong SMILES for:  13726732 (removed!)\n",
      "Wrong SMILES for:  13726785 (removed!)\n",
      "Wrong SMILES for:  13726836 (removed!)\n"
     ]
    },
    {
     "name": "stderr",
     "output_type": "stream",
     "text": [
      "[03:48:44] Can't kekulize mol.  Unkekulized atoms: 5 6 7 8 9\n",
      "[03:48:44] Explicit valence for atom # 45 C, 6, is greater than permitted\n",
      "[03:48:44] Explicit valence for atom # 0 Br, 3, is greater than permitted\n"
     ]
    },
    {
     "name": "stdout",
     "output_type": "stream",
     "text": [
      "Wrong SMILES for:  13726940 (removed!)\n",
      "Currently on 13800000th data\n"
     ]
    },
    {
     "name": "stderr",
     "output_type": "stream",
     "text": [
      "[03:49:11] Explicit valence for atom # 27 N, 4, is greater than permitted\n",
      "[03:49:11] Explicit valence for atom # 34 N, 4, is greater than permitted\n"
     ]
    },
    {
     "name": "stdout",
     "output_type": "stream",
     "text": [
      "Wrong SMILES for:  13836711 (removed!)\n",
      "Wrong SMILES for:  13837408 (removed!)\n"
     ]
    },
    {
     "name": "stderr",
     "output_type": "stream",
     "text": [
      "[03:49:11] Explicit valence for atom # 16 N, 4, is greater than permitted\n"
     ]
    },
    {
     "name": "stdout",
     "output_type": "stream",
     "text": [
      "Wrong SMILES for:  13837735 (removed!)\n"
     ]
    },
    {
     "name": "stderr",
     "output_type": "stream",
     "text": [
      "[03:49:11] Explicit valence for atom # 4 C, 5, is greater than permitted\n"
     ]
    },
    {
     "name": "stdout",
     "output_type": "stream",
     "text": [
      "Wrong SMILES for:  13838590 (removed!)\n"
     ]
    },
    {
     "name": "stderr",
     "output_type": "stream",
     "text": [
      "[03:49:15] Explicit valence for atom # 2 N, 4, is greater than permitted\n",
      "[03:49:15] Explicit valence for atom # 1 N, 4, is greater than permitted\n",
      "[03:49:15] Explicit valence for atom # 1 N, 4, is greater than permitted\n",
      "[03:49:15] Explicit valence for atom # 1 N, 4, is greater than permitted\n",
      "[03:49:15] Explicit valence for atom # 12 N, 4, is greater than permitted\n"
     ]
    },
    {
     "name": "stdout",
     "output_type": "stream",
     "text": [
      "Wrong SMILES for:  13852310 (removed!)\n",
      "Wrong SMILES for:  13852457 (removed!)\n",
      "Wrong SMILES for:  13852602 (removed!)\n",
      "Wrong SMILES for:  13852748 (removed!)\n",
      "Wrong SMILES for:  13852749 (removed!)\n"
     ]
    },
    {
     "name": "stderr",
     "output_type": "stream",
     "text": [
      "[03:49:15] Explicit valence for atom # 5 C, 6, is greater than permitted\n",
      "[03:49:15] Explicit valence for atom # 11 N, 4, is greater than permitted\n"
     ]
    },
    {
     "name": "stdout",
     "output_type": "stream",
     "text": [
      "Wrong SMILES for:  13853553 (removed!)\n",
      "Wrong SMILES for:  13853619 (removed!)\n"
     ]
    },
    {
     "name": "stderr",
     "output_type": "stream",
     "text": [
      "[03:49:16] Explicit valence for atom # 9 C, 5, is greater than permitted\n"
     ]
    },
    {
     "name": "stdout",
     "output_type": "stream",
     "text": [
      "Wrong SMILES for:  13854987 (removed!)\n"
     ]
    },
    {
     "name": "stderr",
     "output_type": "stream",
     "text": [
      "[03:49:16] Explicit valence for atom # 28 O, 4, is greater than permitted\n",
      "[03:49:16] Explicit valence for atom # 16 C, 5, is greater than permitted\n",
      "[03:49:16] Explicit valence for atom # 2 C, 5, is greater than permitted\n"
     ]
    },
    {
     "name": "stdout",
     "output_type": "stream",
     "text": [
      "Wrong SMILES for:  13857742 (removed!)\n",
      "Wrong SMILES for:  13857941 (removed!)\n",
      "Wrong SMILES for:  13858328 (removed!)\n"
     ]
    },
    {
     "name": "stderr",
     "output_type": "stream",
     "text": [
      "[03:49:16] Explicit valence for atom # 1 O, 4, is greater than permitted\n"
     ]
    },
    {
     "name": "stdout",
     "output_type": "stream",
     "text": [
      "Wrong SMILES for:  13858871 (removed!)\n"
     ]
    },
    {
     "name": "stderr",
     "output_type": "stream",
     "text": [
      "[03:49:17] Explicit valence for atom # 12 C, 5, is greater than permitted\n",
      "[03:49:17] Explicit valence for atom # 2 C, 5, is greater than permitted\n",
      "[03:49:17] Explicit valence for atom # 2 C, 5, is greater than permitted\n"
     ]
    },
    {
     "name": "stdout",
     "output_type": "stream",
     "text": [
      "Wrong SMILES for:  13860124 (removed!)\n",
      "Wrong SMILES for:  13860301 (removed!)\n",
      "Wrong SMILES for:  13860655 (removed!)\n"
     ]
    },
    {
     "name": "stderr",
     "output_type": "stream",
     "text": [
      "[03:49:20] Can't kekulize mol.  Unkekulized atoms: 2 3 6\n"
     ]
    },
    {
     "name": "stdout",
     "output_type": "stream",
     "text": [
      "Wrong SMILES for:  13873184 (removed!)\n",
      "Currently on 13900000th data\n"
     ]
    },
    {
     "name": "stderr",
     "output_type": "stream",
     "text": [
      "[03:49:32] Can't kekulize mol.  Unkekulized atoms: 1 2 3 4 14\n"
     ]
    },
    {
     "name": "stdout",
     "output_type": "stream",
     "text": [
      "Wrong SMILES for:  13926732 (removed!)\n"
     ]
    },
    {
     "name": "stderr",
     "output_type": "stream",
     "text": [
      "[03:49:33] Can't kekulize mol.  Unkekulized atoms: 4 5 7 9 11\n",
      "[03:49:33] Can't kekulize mol.  Unkekulized atoms: 3 4 5 6 7\n",
      "[03:49:33] Can't kekulize mol.  Unkekulized atoms: 3 4 5 6 7\n",
      "[03:49:33] Can't kekulize mol.  Unkekulized atoms: 3 4 5 6 7\n",
      "[03:49:33] Can't kekulize mol.  Unkekulized atoms: 5 6 7 8 9\n",
      "[03:49:33] Can't kekulize mol.  Unkekulized atoms: 3 4 5 6 7\n",
      "[03:49:33] Can't kekulize mol.  Unkekulized atoms: 3 4 5 6 7\n",
      "[03:49:33] Can't kekulize mol.  Unkekulized atoms: 5 6 7 8 9\n",
      "[03:49:33] Can't kekulize mol.  Unkekulized atoms: 6 7 8 9 10\n",
      "[03:49:33] Can't kekulize mol.  Unkekulized atoms: 3 4 5 6 7\n"
     ]
    },
    {
     "name": "stdout",
     "output_type": "stream",
     "text": [
      "Wrong SMILES for:  13929781 (removed!)\n",
      "Wrong SMILES for:  13929869 (removed!)\n",
      "Wrong SMILES for:  13929870 (removed!)\n",
      "Wrong SMILES for:  13929949 (removed!)\n",
      "Wrong SMILES for:  13930034 (removed!)\n",
      "Wrong SMILES for:  13930120 (removed!)\n",
      "Wrong SMILES for:  13930122 (removed!)\n",
      "Wrong SMILES for:  13930204 (removed!)\n",
      "Wrong SMILES for:  13930292 (removed!)\n",
      "Wrong SMILES for:  13930542 (removed!)\n"
     ]
    },
    {
     "name": "stderr",
     "output_type": "stream",
     "text": [
      "[03:49:33] Explicit valence for atom # 2 C, 5, is greater than permitted\n"
     ]
    },
    {
     "name": "stdout",
     "output_type": "stream",
     "text": [
      "Wrong SMILES for:  13932549 (removed!)\n"
     ]
    },
    {
     "name": "stderr",
     "output_type": "stream",
     "text": [
      "[03:49:34] Can't kekulize mol.  Unkekulized atoms: 8 9 10 11 12\n",
      "[03:49:35] Explicit valence for atom # 7 O, 3, is greater than permitted\n",
      "[03:49:35] Explicit valence for atom # 9 C, 5, is greater than permitted\n"
     ]
    },
    {
     "name": "stdout",
     "output_type": "stream",
     "text": [
      "Wrong SMILES for:  13936538 (removed!)\n",
      "Wrong SMILES for:  13937142 (removed!)\n",
      "Wrong SMILES for:  13937152 (removed!)\n"
     ]
    },
    {
     "name": "stderr",
     "output_type": "stream",
     "text": [
      "[03:49:35] Explicit valence for atom # 6 C, 5, is greater than permitted\n",
      "[03:49:35] Explicit valence for atom # 1 H, 2, is greater than permitted\n"
     ]
    },
    {
     "name": "stdout",
     "output_type": "stream",
     "text": [
      "Wrong SMILES for:  13937777 (removed!)\n",
      "Wrong SMILES for:  13938142 (removed!)\n"
     ]
    },
    {
     "name": "stderr",
     "output_type": "stream",
     "text": [
      "[03:49:35] Explicit valence for atom # 8 C, 5, is greater than permitted\n",
      "[03:49:35] Explicit valence for atom # 4 N, 4, is greater than permitted\n"
     ]
    },
    {
     "name": "stdout",
     "output_type": "stream",
     "text": [
      "Wrong SMILES for:  13938666 (removed!)\n",
      "Wrong SMILES for:  13939047 (removed!)\n"
     ]
    },
    {
     "name": "stderr",
     "output_type": "stream",
     "text": [
      "[03:49:35] Explicit valence for atom # 2 C, 5, is greater than permitted\n"
     ]
    },
    {
     "name": "stdout",
     "output_type": "stream",
     "text": [
      "Wrong SMILES for:  13939458 (removed!)\n"
     ]
    },
    {
     "name": "stderr",
     "output_type": "stream",
     "text": [
      "[03:49:35] Explicit valence for atom # 9 C, 5, is greater than permitted\n",
      "[03:49:36] Explicit valence for atom # 6 C, 5, is greater than permitted\n",
      "[03:49:36] Explicit valence for atom # 4 B, 4, is greater than permitted\n",
      "[03:49:36] Explicit valence for atom # 16 B, 4, is greater than permitted\n"
     ]
    },
    {
     "name": "stdout",
     "output_type": "stream",
     "text": [
      "Wrong SMILES for:  13940258 (removed!)\n",
      "Wrong SMILES for:  13940896 (removed!)\n",
      "Wrong SMILES for:  13941014 (removed!)\n",
      "Wrong SMILES for:  13941148 (removed!)\n"
     ]
    },
    {
     "name": "stderr",
     "output_type": "stream",
     "text": [
      "[03:49:37] Explicit valence for atom # 2 N, 4, is greater than permitted\n"
     ]
    },
    {
     "name": "stdout",
     "output_type": "stream",
     "text": [
      "Wrong SMILES for:  13946039 (removed!)\n"
     ]
    },
    {
     "name": "stderr",
     "output_type": "stream",
     "text": [
      "[03:49:37] Explicit valence for atom # 1 H, 2, is greater than permitted\n"
     ]
    },
    {
     "name": "stdout",
     "output_type": "stream",
     "text": [
      "Wrong SMILES for:  13946977 (removed!)\n"
     ]
    },
    {
     "name": "stderr",
     "output_type": "stream",
     "text": [
      "[03:49:37] WARNING: not removing hydrogen atom without neighbors\n",
      "[03:49:38] Explicit valence for atom # 0 N, 5, is greater than permitted\n"
     ]
    },
    {
     "name": "stdout",
     "output_type": "stream",
     "text": [
      "Wrong SMILES for:  13951266 (removed!)\n"
     ]
    },
    {
     "name": "stderr",
     "output_type": "stream",
     "text": [
      "[03:49:39] Explicit valence for atom # 6 B, 4, is greater than permitted\n"
     ]
    },
    {
     "name": "stdout",
     "output_type": "stream",
     "text": [
      "Wrong SMILES for:  13955981 (removed!)\n"
     ]
    },
    {
     "name": "stderr",
     "output_type": "stream",
     "text": [
      "[03:49:40] Can't kekulize mol.  Unkekulized atoms: 5 6 7 8 9 10 11\n"
     ]
    },
    {
     "name": "stdout",
     "output_type": "stream",
     "text": [
      "Wrong SMILES for:  13956914 (removed!)\n"
     ]
    },
    {
     "name": "stderr",
     "output_type": "stream",
     "text": [
      "[03:49:40] Explicit valence for atom # 5 N, 4, is greater than permitted\n",
      "[03:49:40] Explicit valence for atom # 11 C, 5, is greater than permitted\n"
     ]
    },
    {
     "name": "stdout",
     "output_type": "stream",
     "text": [
      "Wrong SMILES for:  13958212 (removed!)\n",
      "Wrong SMILES for:  13958795 (removed!)\n"
     ]
    },
    {
     "name": "stderr",
     "output_type": "stream",
     "text": [
      "[03:49:40] Explicit valence for atom # 10 O, 3, is greater than permitted\n"
     ]
    },
    {
     "name": "stdout",
     "output_type": "stream",
     "text": [
      "Wrong SMILES for:  13959919 (removed!)\n"
     ]
    },
    {
     "name": "stderr",
     "output_type": "stream",
     "text": [
      "[03:49:43] Explicit valence for atom # 5 C, 5, is greater than permitted\n"
     ]
    },
    {
     "name": "stdout",
     "output_type": "stream",
     "text": [
      "Wrong SMILES for:  13970234 (removed!)\n"
     ]
    },
    {
     "name": "stderr",
     "output_type": "stream",
     "text": [
      "[03:49:43] Explicit valence for atom # 0 Na, 3, is greater than permitted\n"
     ]
    },
    {
     "name": "stdout",
     "output_type": "stream",
     "text": [
      "Wrong SMILES for:  13971994 (removed!)\n"
     ]
    },
    {
     "name": "stderr",
     "output_type": "stream",
     "text": [
      "[03:49:44] Explicit valence for atom # 1 Br, 2, is greater than permitted\n"
     ]
    },
    {
     "name": "stdout",
     "output_type": "stream",
     "text": [
      "Wrong SMILES for:  13973424 (removed!)\n"
     ]
    },
    {
     "name": "stderr",
     "output_type": "stream",
     "text": [
      "[03:49:44] Explicit valence for atom # 11 B, 4, is greater than permitted\n"
     ]
    },
    {
     "name": "stdout",
     "output_type": "stream",
     "text": [
      "Wrong SMILES for:  13976154 (removed!)\n"
     ]
    },
    {
     "name": "stderr",
     "output_type": "stream",
     "text": [
      "[03:49:49] Explicit valence for atom # 13 N, 4, is greater than permitted\n"
     ]
    },
    {
     "name": "stdout",
     "output_type": "stream",
     "text": [
      "Wrong SMILES for:  13992430 (removed!)\n"
     ]
    },
    {
     "name": "stderr",
     "output_type": "stream",
     "text": [
      "[03:49:50] Explicit valence for atom # 1 N, 4, is greater than permitted\n"
     ]
    },
    {
     "name": "stdout",
     "output_type": "stream",
     "text": [
      "Wrong SMILES for:  13997085 (removed!)\n",
      "Currently on 14000000th data\n"
     ]
    },
    {
     "name": "stderr",
     "output_type": "stream",
     "text": [
      "[03:49:52] Explicit valence for atom # 1 C, 5, is greater than permitted\n",
      "[03:49:52] Explicit valence for atom # 1 N, 4, is greater than permitted\n",
      "[03:49:52] Explicit valence for atom # 1 C, 5, is greater than permitted\n"
     ]
    },
    {
     "name": "stdout",
     "output_type": "stream",
     "text": [
      "Wrong SMILES for:  14003699 (removed!)\n",
      "Wrong SMILES for:  14003700 (removed!)\n",
      "Wrong SMILES for:  14003796 (removed!)\n"
     ]
    },
    {
     "name": "stderr",
     "output_type": "stream",
     "text": [
      "[03:49:52] Can't kekulize mol.  Unkekulized atoms: 1 2 3 4 5\n",
      "[03:49:52] Can't kekulize mol.  Unkekulized atoms: 8 9 10 11 16\n",
      "[03:49:52] Can't kekulize mol.  Unkekulized atoms: 2 3 4 5 6\n"
     ]
    },
    {
     "name": "stdout",
     "output_type": "stream",
     "text": [
      "Wrong SMILES for:  14005604 (removed!)\n",
      "Wrong SMILES for:  14005799 (removed!)\n",
      "Wrong SMILES for:  14005974 (removed!)\n"
     ]
    },
    {
     "name": "stderr",
     "output_type": "stream",
     "text": [
      "[03:49:58] Can't kekulize mol.  Unkekulized atoms: 3 4 5 6 7 9 10 11 12\n",
      "[03:49:58] Explicit valence for atom # 2 O, 3, is greater than permitted\n",
      "[03:49:58] Explicit valence for atom # 16 O, 3, is greater than permitted\n",
      "[03:49:58] Explicit valence for atom # 27 O, 3, is greater than permitted\n"
     ]
    },
    {
     "name": "stdout",
     "output_type": "stream",
     "text": [
      "Wrong SMILES for:  14026942 (removed!)\n",
      "Wrong SMILES for:  14027411 (removed!)\n",
      "Wrong SMILES for:  14027525 (removed!)\n",
      "Wrong SMILES for:  14027598 (removed!)\n"
     ]
    },
    {
     "name": "stderr",
     "output_type": "stream",
     "text": [
      "[03:49:58] Explicit valence for atom # 2 N, 4, is greater than permitted\n"
     ]
    },
    {
     "name": "stdout",
     "output_type": "stream",
     "text": [
      "Wrong SMILES for:  14027709 (removed!)\n"
     ]
    },
    {
     "name": "stderr",
     "output_type": "stream",
     "text": [
      "[03:49:58] Can't kekulize mol.  Unkekulized atoms: 6 7 8 9 10\n"
     ]
    },
    {
     "name": "stdout",
     "output_type": "stream",
     "text": [
      "Wrong SMILES for:  14029329 (removed!)\n"
     ]
    },
    {
     "name": "stderr",
     "output_type": "stream",
     "text": [
      "[03:49:59] Can't kekulize mol.  Unkekulized atoms: 3 4 5 6 7\n"
     ]
    },
    {
     "name": "stdout",
     "output_type": "stream",
     "text": [
      "Wrong SMILES for:  14031710 (removed!)\n",
      "Currently on 14100000th data\n",
      "Currently on 14200000th data\n",
      "Currently on 14300000th data\n",
      "Currently on 14400000th data\n",
      "Currently on 14500000th data\n",
      "Currently on 14600000th data\n",
      "Currently on 14700000th data\n",
      "Currently on 14800000th data\n",
      "Currently on 14900000th data\n",
      "Currently on 15000000th data\n",
      "Currently on 15100000th data\n",
      "Currently on 15200000th data\n",
      "Currently on 15300000th data\n",
      "Currently on 15400000th data\n",
      "Currently on 15500000th data\n",
      "Currently on 15600000th data\n",
      "Currently on 15700000th data\n",
      "Currently on 15800000th data\n",
      "Currently on 15900000th data\n",
      "Currently on 16000000th data\n",
      "Currently on 16100000th data\n",
      "Currently on 16200000th data\n",
      "Currently on 16300000th data\n",
      "Currently on 16400000th data\n",
      "Currently on 16500000th data\n",
      "Currently on 16600000th data\n",
      "Currently on 16700000th data\n",
      "Currently on 16800000th data\n",
      "Currently on 16900000th data\n",
      "Currently on 17000000th data\n",
      "Currently on 17100000th data\n"
     ]
    },
    {
     "name": "stderr",
     "output_type": "stream",
     "text": [
      "[04:06:45] Explicit valence for atom # 15 O, 3, is greater than permitted\n"
     ]
    },
    {
     "name": "stdout",
     "output_type": "stream",
     "text": [
      "Wrong SMILES for:  17122814 (removed!)\n"
     ]
    },
    {
     "name": "stderr",
     "output_type": "stream",
     "text": [
      "[04:06:45] Explicit valence for atom # 3 O, 3, is greater than permitted\n",
      "[04:06:45] Explicit valence for atom # 3 O, 3, is greater than permitted\n"
     ]
    },
    {
     "name": "stdout",
     "output_type": "stream",
     "text": [
      "Wrong SMILES for:  17123701 (removed!)\n",
      "Wrong SMILES for:  17123994 (removed!)\n"
     ]
    },
    {
     "name": "stderr",
     "output_type": "stream",
     "text": [
      "[04:06:45] Explicit valence for atom # 18 O, 3, is greater than permitted\n"
     ]
    },
    {
     "name": "stdout",
     "output_type": "stream",
     "text": [
      "Wrong SMILES for:  17124613 (removed!)\n"
     ]
    },
    {
     "name": "stderr",
     "output_type": "stream",
     "text": [
      "[04:06:46] Explicit valence for atom # 20 O, 3, is greater than permitted\n"
     ]
    },
    {
     "name": "stdout",
     "output_type": "stream",
     "text": [
      "Wrong SMILES for:  17126746 (removed!)\n"
     ]
    },
    {
     "name": "stderr",
     "output_type": "stream",
     "text": [
      "[04:06:47] Explicit valence for atom # 22 O, 3, is greater than permitted\n"
     ]
    },
    {
     "name": "stdout",
     "output_type": "stream",
     "text": [
      "Wrong SMILES for:  17127936 (removed!)\n"
     ]
    },
    {
     "name": "stderr",
     "output_type": "stream",
     "text": [
      "[04:06:47] Explicit valence for atom # 24 O, 3, is greater than permitted\n",
      "[04:06:47] Explicit valence for atom # 20 O, 3, is greater than permitted\n",
      "[04:06:47] Explicit valence for atom # 15 O, 3, is greater than permitted\n"
     ]
    },
    {
     "name": "stdout",
     "output_type": "stream",
     "text": [
      "Wrong SMILES for:  17129864 (removed!)\n",
      "Wrong SMILES for:  17130148 (removed!)\n",
      "Wrong SMILES for:  17130491 (removed!)\n"
     ]
    },
    {
     "name": "stderr",
     "output_type": "stream",
     "text": [
      "[04:06:48] Explicit valence for atom # 3 O, 3, is greater than permitted\n",
      "[04:06:48] Explicit valence for atom # 18 O, 3, is greater than permitted\n"
     ]
    },
    {
     "name": "stdout",
     "output_type": "stream",
     "text": [
      "Wrong SMILES for:  17131963 (removed!)\n",
      "Wrong SMILES for:  17131991 (removed!)\n"
     ]
    },
    {
     "name": "stderr",
     "output_type": "stream",
     "text": [
      "[04:06:48] Explicit valence for atom # 19 O, 3, is greater than permitted\n",
      "[04:06:48] Explicit valence for atom # 3 O, 3, is greater than permitted\n",
      "[04:06:48] Explicit valence for atom # 22 O, 3, is greater than permitted\n"
     ]
    },
    {
     "name": "stdout",
     "output_type": "stream",
     "text": [
      "Wrong SMILES for:  17132605 (removed!)\n",
      "Wrong SMILES for:  17133175 (removed!)\n",
      "Wrong SMILES for:  17133794 (removed!)\n"
     ]
    },
    {
     "name": "stderr",
     "output_type": "stream",
     "text": [
      "[04:06:48] Explicit valence for atom # 19 O, 3, is greater than permitted\n"
     ]
    },
    {
     "name": "stdout",
     "output_type": "stream",
     "text": [
      "Wrong SMILES for:  17133824 (removed!)\n"
     ]
    },
    {
     "name": "stderr",
     "output_type": "stream",
     "text": [
      "[04:06:49] Explicit valence for atom # 22 O, 3, is greater than permitted\n",
      "[04:06:50] Explicit valence for atom # 3 O, 3, is greater than permitted\n"
     ]
    },
    {
     "name": "stdout",
     "output_type": "stream",
     "text": [
      "Wrong SMILES for:  17136958 (removed!)\n",
      "Wrong SMILES for:  17137313 (removed!)\n"
     ]
    },
    {
     "name": "stderr",
     "output_type": "stream",
     "text": [
      "[04:06:50] Explicit valence for atom # 20 O, 3, is greater than permitted\n",
      "[04:06:50] Explicit valence for atom # 3 O, 3, is greater than permitted\n"
     ]
    },
    {
     "name": "stdout",
     "output_type": "stream",
     "text": [
      "Wrong SMILES for:  17138537 (removed!)\n",
      "Wrong SMILES for:  17138866 (removed!)\n"
     ]
    },
    {
     "name": "stderr",
     "output_type": "stream",
     "text": [
      "[04:06:50] Explicit valence for atom # 3 O, 3, is greater than permitted\n"
     ]
    },
    {
     "name": "stdout",
     "output_type": "stream",
     "text": [
      "Wrong SMILES for:  17139471 (removed!)\n"
     ]
    },
    {
     "name": "stderr",
     "output_type": "stream",
     "text": [
      "[04:06:50] Explicit valence for atom # 19 O, 3, is greater than permitted\n"
     ]
    },
    {
     "name": "stdout",
     "output_type": "stream",
     "text": [
      "Wrong SMILES for:  17140148 (removed!)\n"
     ]
    },
    {
     "name": "stderr",
     "output_type": "stream",
     "text": [
      "[04:06:52] Explicit valence for atom # 22 O, 3, is greater than permitted\n",
      "[04:06:52] Explicit valence for atom # 21 O, 3, is greater than permitted\n"
     ]
    },
    {
     "name": "stdout",
     "output_type": "stream",
     "text": [
      "Wrong SMILES for:  17143440 (removed!)\n",
      "Wrong SMILES for:  17143455 (removed!)\n"
     ]
    },
    {
     "name": "stderr",
     "output_type": "stream",
     "text": [
      "[04:06:52] Explicit valence for atom # 3 O, 3, is greater than permitted\n"
     ]
    },
    {
     "name": "stdout",
     "output_type": "stream",
     "text": [
      "Wrong SMILES for:  17144707 (removed!)\n"
     ]
    },
    {
     "name": "stderr",
     "output_type": "stream",
     "text": [
      "[04:06:53] Explicit valence for atom # 20 O, 3, is greater than permitted\n"
     ]
    },
    {
     "name": "stdout",
     "output_type": "stream",
     "text": [
      "Wrong SMILES for:  17148124 (removed!)\n"
     ]
    },
    {
     "name": "stderr",
     "output_type": "stream",
     "text": [
      "[04:06:53] Explicit valence for atom # 19 O, 3, is greater than permitted\n"
     ]
    },
    {
     "name": "stdout",
     "output_type": "stream",
     "text": [
      "Wrong SMILES for:  17149397 (removed!)\n"
     ]
    },
    {
     "name": "stderr",
     "output_type": "stream",
     "text": [
      "[04:06:54] Explicit valence for atom # 18 O, 3, is greater than permitted\n",
      "[04:06:54] Explicit valence for atom # 20 O, 3, is greater than permitted\n",
      "[04:06:54] Explicit valence for atom # 20 O, 3, is greater than permitted\n"
     ]
    },
    {
     "name": "stdout",
     "output_type": "stream",
     "text": [
      "Wrong SMILES for:  17150377 (removed!)\n",
      "Wrong SMILES for:  17150700 (removed!)\n",
      "Wrong SMILES for:  17150964 (removed!)\n"
     ]
    },
    {
     "name": "stderr",
     "output_type": "stream",
     "text": [
      "[04:06:54] Explicit valence for atom # 15 O, 3, is greater than permitted\n",
      "[04:06:54] Explicit valence for atom # 19 O, 3, is greater than permitted\n"
     ]
    },
    {
     "name": "stdout",
     "output_type": "stream",
     "text": [
      "Wrong SMILES for:  17151866 (removed!)\n",
      "Wrong SMILES for:  17152122 (removed!)\n"
     ]
    },
    {
     "name": "stderr",
     "output_type": "stream",
     "text": [
      "[04:06:55] Explicit valence for atom # 19 O, 3, is greater than permitted\n"
     ]
    },
    {
     "name": "stdout",
     "output_type": "stream",
     "text": [
      "Wrong SMILES for:  17153008 (removed!)\n"
     ]
    },
    {
     "name": "stderr",
     "output_type": "stream",
     "text": [
      "[04:06:55] Explicit valence for atom # 3 O, 3, is greater than permitted\n"
     ]
    },
    {
     "name": "stdout",
     "output_type": "stream",
     "text": [
      "Wrong SMILES for:  17154402 (removed!)\n"
     ]
    },
    {
     "name": "stderr",
     "output_type": "stream",
     "text": [
      "[04:06:55] Explicit valence for atom # 15 O, 3, is greater than permitted\n",
      "[04:06:55] Explicit valence for atom # 3 O, 3, is greater than permitted\n",
      "[04:06:56] Explicit valence for atom # 18 O, 3, is greater than permitted\n",
      "[04:06:56] Explicit valence for atom # 18 O, 3, is greater than permitted\n"
     ]
    },
    {
     "name": "stdout",
     "output_type": "stream",
     "text": [
      "Wrong SMILES for:  17155224 (removed!)\n",
      "Wrong SMILES for:  17155278 (removed!)\n",
      "Wrong SMILES for:  17155532 (removed!)\n",
      "Wrong SMILES for:  17155857 (removed!)\n"
     ]
    },
    {
     "name": "stderr",
     "output_type": "stream",
     "text": [
      "[04:06:56] Explicit valence for atom # 20 O, 3, is greater than permitted\n",
      "[04:06:57] Explicit valence for atom # 19 O, 3, is greater than permitted\n",
      "[04:06:57] Explicit valence for atom # 20 O, 3, is greater than permitted\n"
     ]
    },
    {
     "name": "stdout",
     "output_type": "stream",
     "text": [
      "Wrong SMILES for:  17158238 (removed!)\n",
      "Wrong SMILES for:  17158534 (removed!)\n",
      "Wrong SMILES for:  17158554 (removed!)\n"
     ]
    },
    {
     "name": "stderr",
     "output_type": "stream",
     "text": [
      "[04:06:57] Explicit valence for atom # 21 O, 3, is greater than permitted\n",
      "[04:06:57] Explicit valence for atom # 20 O, 3, is greater than permitted\n",
      "[04:06:57] Explicit valence for atom # 20 O, 3, is greater than permitted\n"
     ]
    },
    {
     "name": "stdout",
     "output_type": "stream",
     "text": [
      "Wrong SMILES for:  17160033 (removed!)\n",
      "Wrong SMILES for:  17160574 (removed!)\n",
      "Wrong SMILES for:  17160585 (removed!)\n"
     ]
    },
    {
     "name": "stderr",
     "output_type": "stream",
     "text": [
      "[04:06:57] Explicit valence for atom # 21 O, 3, is greater than permitted\n",
      "[04:06:57] Explicit valence for atom # 22 O, 3, is greater than permitted\n",
      "[04:06:57] Explicit valence for atom # 19 O, 3, is greater than permitted\n",
      "[04:06:58] Explicit valence for atom # 23 O, 3, is greater than permitted\n"
     ]
    },
    {
     "name": "stdout",
     "output_type": "stream",
     "text": [
      "Wrong SMILES for:  17161520 (removed!)\n",
      "Wrong SMILES for:  17161524 (removed!)\n",
      "Wrong SMILES for:  17161536 (removed!)\n",
      "Wrong SMILES for:  17161912 (removed!)\n"
     ]
    },
    {
     "name": "stderr",
     "output_type": "stream",
     "text": [
      "[04:06:58] Explicit valence for atom # 18 O, 3, is greater than permitted\n",
      "[04:06:58] Explicit valence for atom # 20 O, 3, is greater than permitted\n",
      "[04:06:58] Explicit valence for atom # 15 O, 3, is greater than permitted\n"
     ]
    },
    {
     "name": "stdout",
     "output_type": "stream",
     "text": [
      "Wrong SMILES for:  17162222 (removed!)\n",
      "Wrong SMILES for:  17162892 (removed!)\n",
      "Wrong SMILES for:  17163021 (removed!)\n"
     ]
    },
    {
     "name": "stderr",
     "output_type": "stream",
     "text": [
      "[04:06:58] Explicit valence for atom # 3 O, 3, is greater than permitted\n",
      "[04:06:58] Explicit valence for atom # 13 O, 3, is greater than permitted\n",
      "[04:06:58] Explicit valence for atom # 19 O, 3, is greater than permitted\n",
      "[04:06:58] Explicit valence for atom # 21 O, 3, is greater than permitted\n",
      "[04:06:58] Explicit valence for atom # 14 O, 3, is greater than permitted\n",
      "[04:06:58] Explicit valence for atom # 3 O, 3, is greater than permitted\n",
      "[04:06:58] Explicit valence for atom # 3 O, 3, is greater than permitted\n"
     ]
    },
    {
     "name": "stdout",
     "output_type": "stream",
     "text": [
      "Wrong SMILES for:  17163242 (removed!)\n",
      "Wrong SMILES for:  17163375 (removed!)\n",
      "Wrong SMILES for:  17163555 (removed!)\n",
      "Wrong SMILES for:  17163641 (removed!)\n",
      "Wrong SMILES for:  17163725 (removed!)\n",
      "Wrong SMILES for:  17163726 (removed!)\n",
      "Wrong SMILES for:  17164017 (removed!)\n"
     ]
    },
    {
     "name": "stderr",
     "output_type": "stream",
     "text": [
      "[04:06:58] Explicit valence for atom # 15 O, 3, is greater than permitted\n",
      "[04:06:58] Explicit valence for atom # 3 O, 3, is greater than permitted\n",
      "[04:06:58] Explicit valence for atom # 3 O, 3, is greater than permitted\n",
      "[04:06:58] Explicit valence for atom # 3 O, 3, is greater than permitted\n",
      "[04:06:59] Explicit valence for atom # 17 O, 3, is greater than permitted\n",
      "[04:06:59] Explicit valence for atom # 22 O, 3, is greater than permitted\n"
     ]
    },
    {
     "name": "stdout",
     "output_type": "stream",
     "text": [
      "Wrong SMILES for:  17164079 (removed!)\n",
      "Wrong SMILES for:  17164080 (removed!)\n",
      "Wrong SMILES for:  17164432 (removed!)\n",
      "Wrong SMILES for:  17164433 (removed!)\n",
      "Wrong SMILES for:  17164789 (removed!)\n",
      "Wrong SMILES for:  17164790 (removed!)\n",
      "Wrong SMILES for:  17165070 (removed!)\n"
     ]
    },
    {
     "name": "stderr",
     "output_type": "stream",
     "text": [
      "[04:06:59] Explicit valence for atom # 21 O, 3, is greater than permitted\n",
      "[04:06:59] Explicit valence for atom # 3 O, 3, is greater than permitted\n",
      "[04:06:59] Explicit valence for atom # 3 O, 3, is greater than permitted\n",
      "[04:06:59] Explicit valence for atom # 3 O, 3, is greater than permitted\n"
     ]
    },
    {
     "name": "stdout",
     "output_type": "stream",
     "text": [
      "Wrong SMILES for:  17165143 (removed!)\n",
      "Wrong SMILES for:  17165144 (removed!)\n",
      "Wrong SMILES for:  17165497 (removed!)\n",
      "Wrong SMILES for:  17165815 (removed!)\n",
      "Wrong SMILES for:  17165816 (removed!)\n",
      "Wrong SMILES for:  17165817 (removed!)\n",
      "Wrong SMILES for:  17165818 (removed!)\n",
      "Wrong SMILES for:  17165819 (removed!)\n"
     ]
    },
    {
     "name": "stderr",
     "output_type": "stream",
     "text": [
      "[04:06:59] Explicit valence for atom # 3 O, 3, is greater than permitted\n",
      "[04:06:59] Explicit valence for atom # 3 O, 3, is greater than permitted\n",
      "[04:06:59] Explicit valence for atom # 16 O, 3, is greater than permitted\n",
      "[04:06:59] Explicit valence for atom # 3 O, 3, is greater than permitted\n",
      "[04:06:59] Explicit valence for atom # 3 O, 3, is greater than permitted\n",
      "[04:06:59] Explicit valence for atom # 16 O, 3, is greater than permitted\n",
      "[04:06:59] Explicit valence for atom # 3 O, 3, is greater than permitted\n",
      "[04:06:59] Explicit valence for atom # 17 O, 3, is greater than permitted\n",
      "[04:06:59] Explicit valence for atom # 17 O, 3, is greater than permitted\n",
      "[04:06:59] Explicit valence for atom # 3 O, 3, is greater than permitted\n",
      "[04:06:59] Explicit valence for atom # 3 O, 3, is greater than permitted\n",
      "[04:06:59] Explicit valence for atom # 3 O, 3, is greater than permitted\n"
     ]
    },
    {
     "name": "stdout",
     "output_type": "stream",
     "text": [
      "Wrong SMILES for:  17166058 (removed!)\n",
      "Wrong SMILES for:  17166148 (removed!)\n",
      "Wrong SMILES for:  17166149 (removed!)\n",
      "Wrong SMILES for:  17166150 (removed!)\n",
      "Wrong SMILES for:  17166151 (removed!)\n",
      "Wrong SMILES for:  17166262 (removed!)\n",
      "Wrong SMILES for:  17166379 (removed!)\n",
      "Wrong SMILES for:  17166486 (removed!)\n",
      "Wrong SMILES for:  17166487 (removed!)\n",
      "Wrong SMILES for:  17166488 (removed!)\n",
      "Wrong SMILES for:  17166489 (removed!)\n"
     ]
    },
    {
     "name": "stderr",
     "output_type": "stream",
     "text": [
      "[04:06:59] Explicit valence for atom # 3 O, 3, is greater than permitted\n",
      "[04:06:59] Explicit valence for atom # 3 O, 3, is greater than permitted\n",
      "[04:06:59] Explicit valence for atom # 17 O, 3, is greater than permitted\n",
      "[04:06:59] Explicit valence for atom # 3 O, 3, is greater than permitted\n",
      "[04:06:59] Explicit valence for atom # 20 O, 3, is greater than permitted\n",
      "[04:06:59] Explicit valence for atom # 24 O, 3, is greater than permitted\n",
      "[04:06:59] Explicit valence for atom # 16 O, 3, is greater than permitted\n",
      "[04:06:59] Explicit valence for atom # 18 O, 3, is greater than permitted\n",
      "[04:06:59] Explicit valence for atom # 16 O, 3, is greater than permitted\n",
      "[04:06:59] Explicit valence for atom # 22 O, 3, is greater than permitted\n",
      "[04:06:59] Explicit valence for atom # 3 O, 3, is greater than permitted\n",
      "[04:06:59] Explicit valence for atom # 17 O, 3, is greater than permitted\n",
      "[04:06:59] Explicit valence for atom # 3 O, 3, is greater than permitted\n",
      "[04:06:59] Explicit valence for atom # 3 O, 3, is greater than permitted\n",
      "[04:06:59] Explicit valence for atom # 3 O, 3, is greater than permitted\n"
     ]
    },
    {
     "name": "stdout",
     "output_type": "stream",
     "text": [
      "Wrong SMILES for:  17166674 (removed!)\n",
      "Wrong SMILES for:  17166778 (removed!)\n",
      "Wrong SMILES for:  17166813 (removed!)\n",
      "Wrong SMILES for:  17166814 (removed!)\n",
      "Wrong SMILES for:  17166815 (removed!)\n",
      "Wrong SMILES for:  17166816 (removed!)\n",
      "Wrong SMILES for:  17166817 (removed!)\n",
      "Wrong SMILES for:  17167148 (removed!)\n",
      "Wrong SMILES for:  17167149 (removed!)\n",
      "Wrong SMILES for:  17167150 (removed!)\n",
      "Wrong SMILES for:  17167151 (removed!)\n",
      "Wrong SMILES for:  17167342 (removed!)\n"
     ]
    },
    {
     "name": "stderr",
     "output_type": "stream",
     "text": [
      "[04:06:59] Explicit valence for atom # 3 O, 3, is greater than permitted\n",
      "[04:06:59] Explicit valence for atom # 18 O, 3, is greater than permitted\n",
      "[04:06:59] Explicit valence for atom # 12 O, 3, is greater than permitted\n",
      "[04:06:59] Explicit valence for atom # 16 O, 3, is greater than permitted\n",
      "[04:06:59] Explicit valence for atom # 19 O, 3, is greater than permitted\n",
      "[04:07:00] Explicit valence for atom # 3 O, 3, is greater than permitted\n",
      "[04:07:00] Explicit valence for atom # 19 O, 3, is greater than permitted\n",
      "[04:07:00] Explicit valence for atom # 15 O, 3, is greater than permitted\n",
      "[04:07:00] Explicit valence for atom # 3 O, 3, is greater than permitted\n"
     ]
    },
    {
     "name": "stdout",
     "output_type": "stream",
     "text": [
      "Wrong SMILES for:  17167477 (removed!)\n",
      "Wrong SMILES for:  17167478 (removed!)\n",
      "Wrong SMILES for:  17167479 (removed!)\n",
      "Wrong SMILES for:  17167480 (removed!)\n",
      "Wrong SMILES for:  17167806 (removed!)\n",
      "Wrong SMILES for:  17167807 (removed!)\n",
      "Wrong SMILES for:  17167808 (removed!)\n",
      "Wrong SMILES for:  17167809 (removed!)\n"
     ]
    },
    {
     "name": "stderr",
     "output_type": "stream",
     "text": [
      "[04:07:00] Explicit valence for atom # 3 O, 3, is greater than permitted\n",
      "[04:07:00] Explicit valence for atom # 15 O, 3, is greater than permitted\n",
      "[04:07:00] Explicit valence for atom # 21 O, 3, is greater than permitted\n",
      "[04:07:00] Explicit valence for atom # 19 O, 3, is greater than permitted\n",
      "[04:07:00] Explicit valence for atom # 15 O, 3, is greater than permitted\n",
      "[04:07:00] Explicit valence for atom # 3 O, 3, is greater than permitted\n",
      "[04:07:00] Explicit valence for atom # 16 O, 3, is greater than permitted\n",
      "[04:07:00] Explicit valence for atom # 18 O, 3, is greater than permitted\n",
      "[04:07:00] Explicit valence for atom # 16 O, 3, is greater than permitted\n",
      "[04:07:00] Explicit valence for atom # 22 O, 3, is greater than permitted\n",
      "[04:07:00] Explicit valence for atom # 3 O, 3, is greater than permitted\n",
      "[04:07:00] Explicit valence for atom # 3 O, 3, is greater than permitted\n",
      "[04:07:00] Explicit valence for atom # 3 O, 3, is greater than permitted\n",
      "[04:07:00] Explicit valence for atom # 17 O, 3, is greater than permitted\n",
      "[04:07:00] Explicit valence for atom # 3 O, 3, is greater than permitted\n",
      "[04:07:00] Explicit valence for atom # 3 O, 3, is greater than permitted\n",
      "[04:07:00] Explicit valence for atom # 3 O, 3, is greater than permitted\n",
      "[04:07:00] Explicit valence for atom # 21 O, 3, is greater than permitted\n"
     ]
    },
    {
     "name": "stdout",
     "output_type": "stream",
     "text": [
      "Wrong SMILES for:  17168137 (removed!)\n",
      "Wrong SMILES for:  17168138 (removed!)\n",
      "Wrong SMILES for:  17168139 (removed!)\n",
      "Wrong SMILES for:  17168140 (removed!)\n",
      "Wrong SMILES for:  17168282 (removed!)\n",
      "Wrong SMILES for:  17168283 (removed!)\n",
      "Wrong SMILES for:  17168284 (removed!)\n",
      "Wrong SMILES for:  17168285 (removed!)\n",
      "Wrong SMILES for:  17168286 (removed!)\n",
      "Wrong SMILES for:  17168287 (removed!)\n",
      "Wrong SMILES for:  17168288 (removed!)\n",
      "Wrong SMILES for:  17168621 (removed!)\n",
      "Wrong SMILES for:  17168622 (removed!)\n",
      "Wrong SMILES for:  17168623 (removed!)\n",
      "Wrong SMILES for:  17168624 (removed!)\n",
      "Wrong SMILES for:  17168625 (removed!)\n",
      "Wrong SMILES for:  17168626 (removed!)\n",
      "Wrong SMILES for:  17168690 (removed!)\n"
     ]
    },
    {
     "name": "stderr",
     "output_type": "stream",
     "text": [
      "[04:07:00] Explicit valence for atom # 17 O, 3, is greater than permitted\n",
      "[04:07:00] Explicit valence for atom # 22 O, 3, is greater than permitted\n",
      "[04:07:00] Explicit valence for atom # 18 O, 3, is greater than permitted\n",
      "[04:07:00] Explicit valence for atom # 12 O, 3, is greater than permitted\n",
      "[04:07:00] Explicit valence for atom # 16 O, 3, is greater than permitted\n",
      "[04:07:00] Explicit valence for atom # 19 O, 3, is greater than permitted\n",
      "[04:07:00] Explicit valence for atom # 21 O, 3, is greater than permitted\n",
      "[04:07:00] Explicit valence for atom # 3 O, 3, is greater than permitted\n",
      "[04:07:00] Explicit valence for atom # 3 O, 3, is greater than permitted\n",
      "[04:07:00] Explicit valence for atom # 3 O, 3, is greater than permitted\n",
      "[04:07:00] Explicit valence for atom # 19 O, 3, is greater than permitted\n",
      "[04:07:00] Explicit valence for atom # 15 O, 3, is greater than permitted\n",
      "[04:07:00] Explicit valence for atom # 3 O, 3, is greater than permitted\n",
      "[04:07:00] Explicit valence for atom # 3 O, 3, is greater than permitted\n",
      "[04:07:00] Explicit valence for atom # 3 O, 3, is greater than permitted\n",
      "[04:07:00] Explicit valence for atom # 15 O, 3, is greater than permitted\n",
      "[04:07:00] Explicit valence for atom # 21 O, 3, is greater than permitted\n",
      "[04:07:00] Explicit valence for atom # 19 O, 3, is greater than permitted\n",
      "[04:07:00] Explicit valence for atom # 20 O, 3, is greater than permitted\n",
      "[04:07:00] Explicit valence for atom # 3 O, 3, is greater than permitted\n"
     ]
    },
    {
     "name": "stdout",
     "output_type": "stream",
     "text": [
      "Wrong SMILES for:  17168958 (removed!)\n",
      "Wrong SMILES for:  17168959 (removed!)\n",
      "Wrong SMILES for:  17168960 (removed!)\n",
      "Wrong SMILES for:  17168961 (removed!)\n",
      "Wrong SMILES for:  17168962 (removed!)\n",
      "Wrong SMILES for:  17168963 (removed!)\n",
      "Wrong SMILES for:  17169005 (removed!)\n",
      "Wrong SMILES for:  17169298 (removed!)\n",
      "Wrong SMILES for:  17169299 (removed!)\n",
      "Wrong SMILES for:  17169300 (removed!)\n",
      "Wrong SMILES for:  17169301 (removed!)\n",
      "Wrong SMILES for:  17169302 (removed!)\n",
      "Wrong SMILES for:  17169303 (removed!)\n",
      "Wrong SMILES for:  17169640 (removed!)\n",
      "Wrong SMILES for:  17169641 (removed!)\n",
      "Wrong SMILES for:  17169642 (removed!)\n",
      "Wrong SMILES for:  17169643 (removed!)\n",
      "Wrong SMILES for:  17169644 (removed!)\n",
      "Wrong SMILES for:  17169756 (removed!)\n",
      "Wrong SMILES for:  17169778 (removed!)\n"
     ]
    },
    {
     "name": "stderr",
     "output_type": "stream",
     "text": [
      "[04:07:00] Explicit valence for atom # 15 O, 3, is greater than permitted\n",
      "[04:07:00] Explicit valence for atom # 3 O, 3, is greater than permitted\n",
      "[04:07:00] Explicit valence for atom # 3 O, 3, is greater than permitted\n",
      "[04:07:00] Explicit valence for atom # 16 O, 3, is greater than permitted\n",
      "[04:07:00] Explicit valence for atom # 3 O, 3, is greater than permitted\n",
      "[04:07:00] Explicit valence for atom # 3 O, 3, is greater than permitted\n",
      "[04:07:00] Explicit valence for atom # 22 O, 3, is greater than permitted\n",
      "[04:07:00] Explicit valence for atom # 13 O, 3, is greater than permitted\n",
      "[04:07:00] Explicit valence for atom # 3 O, 3, is greater than permitted\n",
      "[04:07:00] Explicit valence for atom # 17 O, 3, is greater than permitted\n",
      "[04:07:00] Explicit valence for atom # 17 O, 3, is greater than permitted\n",
      "[04:07:00] Explicit valence for atom # 3 O, 3, is greater than permitted\n",
      "[04:07:00] Explicit valence for atom # 20 O, 3, is greater than permitted\n",
      "[04:07:00] Explicit valence for atom # 3 O, 3, is greater than permitted\n",
      "[04:07:00] Explicit valence for atom # 14 O, 3, is greater than permitted\n",
      "[04:07:00] Explicit valence for atom # 3 O, 3, is greater than permitted\n",
      "[04:07:00] Explicit valence for atom # 3 O, 3, is greater than permitted\n",
      "[04:07:00] Explicit valence for atom # 3 O, 3, is greater than permitted\n",
      "[04:07:00] Explicit valence for atom # 17 O, 3, is greater than permitted\n",
      "[04:07:00] Explicit valence for atom # 3 O, 3, is greater than permitted\n"
     ]
    },
    {
     "name": "stdout",
     "output_type": "stream",
     "text": [
      "Wrong SMILES for:  17169981 (removed!)\n",
      "Wrong SMILES for:  17169982 (removed!)\n",
      "Wrong SMILES for:  17169983 (removed!)\n",
      "Wrong SMILES for:  17169984 (removed!)\n",
      "Wrong SMILES for:  17169985 (removed!)\n",
      "Wrong SMILES for:  17169986 (removed!)\n",
      "Wrong SMILES for:  17170075 (removed!)\n",
      "Wrong SMILES for:  17170321 (removed!)\n",
      "Wrong SMILES for:  17170322 (removed!)\n",
      "Wrong SMILES for:  17170323 (removed!)\n",
      "Wrong SMILES for:  17170324 (removed!)\n",
      "Wrong SMILES for:  17170325 (removed!)\n",
      "Wrong SMILES for:  17170377 (removed!)\n",
      "Wrong SMILES for:  17170560 (removed!)\n",
      "Wrong SMILES for:  17170666 (removed!)\n",
      "Wrong SMILES for:  17170667 (removed!)\n",
      "Wrong SMILES for:  17170668 (removed!)\n",
      "Wrong SMILES for:  17170669 (removed!)\n",
      "Wrong SMILES for:  17170670 (removed!)\n",
      "Wrong SMILES for:  17170671 (removed!)\n"
     ]
    },
    {
     "name": "stderr",
     "output_type": "stream",
     "text": [
      "[04:07:01] Explicit valence for atom # 20 O, 3, is greater than permitted\n",
      "[04:07:01] Explicit valence for atom # 24 O, 3, is greater than permitted\n"
     ]
    },
    {
     "name": "stdout",
     "output_type": "stream",
     "text": [
      "Wrong SMILES for:  17171101 (removed!)\n",
      "Wrong SMILES for:  17171728 (removed!)\n"
     ]
    },
    {
     "name": "stderr",
     "output_type": "stream",
     "text": [
      "[04:07:01] Explicit valence for atom # 3 O, 3, is greater than permitted\n",
      "[04:07:01] Explicit valence for atom # 21 O, 3, is greater than permitted\n",
      "[04:07:01] Explicit valence for atom # 16 O, 3, is greater than permitted\n"
     ]
    },
    {
     "name": "stdout",
     "output_type": "stream",
     "text": [
      "Wrong SMILES for:  17172015 (removed!)\n",
      "Wrong SMILES for:  17172082 (removed!)\n",
      "Wrong SMILES for:  17172112 (removed!)\n"
     ]
    },
    {
     "name": "stderr",
     "output_type": "stream",
     "text": [
      "[04:07:01] Explicit valence for atom # 3 O, 3, is greater than permitted\n"
     ]
    },
    {
     "name": "stdout",
     "output_type": "stream",
     "text": [
      "Wrong SMILES for:  17173665 (removed!)\n"
     ]
    },
    {
     "name": "stderr",
     "output_type": "stream",
     "text": [
      "[04:07:02] Explicit valence for atom # 22 O, 3, is greater than permitted\n",
      "[04:07:02] Explicit valence for atom # 3 O, 3, is greater than permitted\n",
      "[04:07:02] Explicit valence for atom # 3 O, 3, is greater than permitted\n",
      "[04:07:02] Explicit valence for atom # 23 O, 3, is greater than permitted\n",
      "[04:07:02] Explicit valence for atom # 21 O, 3, is greater than permitted\n"
     ]
    },
    {
     "name": "stdout",
     "output_type": "stream",
     "text": [
      "Wrong SMILES for:  17174371 (removed!)\n",
      "Wrong SMILES for:  17174996 (removed!)\n",
      "Wrong SMILES for:  17175042 (removed!)\n",
      "Wrong SMILES for:  17175050 (removed!)\n",
      "Wrong SMILES for:  17175072 (removed!)\n"
     ]
    },
    {
     "name": "stderr",
     "output_type": "stream",
     "text": [
      "[04:07:02] Explicit valence for atom # 24 O, 3, is greater than permitted\n",
      "[04:07:02] Explicit valence for atom # 21 O, 3, is greater than permitted\n"
     ]
    },
    {
     "name": "stdout",
     "output_type": "stream",
     "text": [
      "Wrong SMILES for:  17175669 (removed!)\n",
      "Wrong SMILES for:  17176297 (removed!)\n"
     ]
    },
    {
     "name": "stderr",
     "output_type": "stream",
     "text": [
      "[04:07:02] Explicit valence for atom # 18 O, 3, is greater than permitted\n",
      "[04:07:02] Explicit valence for atom # 3 O, 3, is greater than permitted\n"
     ]
    },
    {
     "name": "stdout",
     "output_type": "stream",
     "text": [
      "Wrong SMILES for:  17176678 (removed!)\n",
      "Wrong SMILES for:  17176690 (removed!)\n"
     ]
    },
    {
     "name": "stderr",
     "output_type": "stream",
     "text": [
      "[04:07:03] Explicit valence for atom # 21 O, 3, is greater than permitted\n",
      "[04:07:03] Explicit valence for atom # 20 O, 3, is greater than permitted\n"
     ]
    },
    {
     "name": "stdout",
     "output_type": "stream",
     "text": [
      "Wrong SMILES for:  17177604 (removed!)\n",
      "Wrong SMILES for:  17177901 (removed!)\n"
     ]
    },
    {
     "name": "stderr",
     "output_type": "stream",
     "text": [
      "[04:07:03] Explicit valence for atom # 18 O, 3, is greater than permitted\n"
     ]
    },
    {
     "name": "stdout",
     "output_type": "stream",
     "text": [
      "Wrong SMILES for:  17178613 (removed!)\n"
     ]
    },
    {
     "name": "stderr",
     "output_type": "stream",
     "text": [
      "[04:07:03] Explicit valence for atom # 19 O, 3, is greater than permitted\n",
      "[04:07:03] Explicit valence for atom # 22 O, 3, is greater than permitted\n"
     ]
    },
    {
     "name": "stdout",
     "output_type": "stream",
     "text": [
      "Wrong SMILES for:  17179942 (removed!)\n",
      "Wrong SMILES for:  17180256 (removed!)\n"
     ]
    },
    {
     "name": "stderr",
     "output_type": "stream",
     "text": [
      "[04:07:04] Explicit valence for atom # 3 O, 3, is greater than permitted\n",
      "[04:07:04] Explicit valence for atom # 3 O, 3, is greater than permitted\n",
      "[04:07:04] Explicit valence for atom # 16 O, 3, is greater than permitted\n"
     ]
    },
    {
     "name": "stdout",
     "output_type": "stream",
     "text": [
      "Wrong SMILES for:  17181122 (removed!)\n",
      "Wrong SMILES for:  17181177 (removed!)\n",
      "Wrong SMILES for:  17181518 (removed!)\n"
     ]
    },
    {
     "name": "stderr",
     "output_type": "stream",
     "text": [
      "[04:07:04] Explicit valence for atom # 19 O, 3, is greater than permitted\n",
      "[04:07:04] Explicit valence for atom # 19 O, 3, is greater than permitted\n",
      "[04:07:04] Explicit valence for atom # 20 O, 3, is greater than permitted\n",
      "[04:07:04] Explicit valence for atom # 24 O, 3, is greater than permitted\n"
     ]
    },
    {
     "name": "stdout",
     "output_type": "stream",
     "text": [
      "Wrong SMILES for:  17181811 (removed!)\n",
      "Wrong SMILES for:  17182485 (removed!)\n",
      "Wrong SMILES for:  17182506 (removed!)\n",
      "Wrong SMILES for:  17182570 (removed!)\n",
      "Wrong SMILES for:  17182869 (removed!)\n"
     ]
    },
    {
     "name": "stderr",
     "output_type": "stream",
     "text": [
      "[04:07:04] Explicit valence for atom # 22 O, 3, is greater than permitted\n",
      "[04:07:05] Explicit valence for atom # 19 O, 3, is greater than permitted\n",
      "[04:07:05] Explicit valence for atom # 20 O, 3, is greater than permitted\n",
      "[04:07:05] Explicit valence for atom # 22 O, 3, is greater than permitted\n"
     ]
    },
    {
     "name": "stdout",
     "output_type": "stream",
     "text": [
      "Wrong SMILES for:  17183828 (removed!)\n",
      "Wrong SMILES for:  17183908 (removed!)\n",
      "Wrong SMILES for:  17184175 (removed!)\n"
     ]
    },
    {
     "name": "stderr",
     "output_type": "stream",
     "text": [
      "[04:07:05] Explicit valence for atom # 19 O, 3, is greater than permitted\n",
      "[04:07:05] Explicit valence for atom # 16 O, 3, is greater than permitted\n"
     ]
    },
    {
     "name": "stdout",
     "output_type": "stream",
     "text": [
      "Wrong SMILES for:  17185194 (removed!)\n",
      "Wrong SMILES for:  17185552 (removed!)\n"
     ]
    },
    {
     "name": "stderr",
     "output_type": "stream",
     "text": [
      "[04:07:06] Explicit valence for atom # 22 O, 3, is greater than permitted\n",
      "[04:07:06] Explicit valence for atom # 21 O, 3, is greater than permitted\n",
      "[04:07:06] Explicit valence for atom # 3 O, 3, is greater than permitted\n"
     ]
    },
    {
     "name": "stdout",
     "output_type": "stream",
     "text": [
      "Wrong SMILES for:  17186766 (removed!)\n",
      "Wrong SMILES for:  17186837 (removed!)\n",
      "Wrong SMILES for:  17187134 (removed!)\n"
     ]
    },
    {
     "name": "stderr",
     "output_type": "stream",
     "text": [
      "[04:07:06] Explicit valence for atom # 20 O, 3, is greater than permitted\n"
     ]
    },
    {
     "name": "stdout",
     "output_type": "stream",
     "text": [
      "Wrong SMILES for:  17188095 (removed!)\n"
     ]
    },
    {
     "name": "stderr",
     "output_type": "stream",
     "text": [
      "[04:07:06] Explicit valence for atom # 20 O, 3, is greater than permitted\n"
     ]
    },
    {
     "name": "stdout",
     "output_type": "stream",
     "text": [
      "Wrong SMILES for:  17189161 (removed!)\n"
     ]
    },
    {
     "name": "stderr",
     "output_type": "stream",
     "text": [
      "[04:07:07] Explicit valence for atom # 24 O, 3, is greater than permitted\n",
      "[04:07:07] Explicit valence for atom # 17 O, 3, is greater than permitted\n",
      "[04:07:07] Explicit valence for atom # 3 O, 3, is greater than permitted\n",
      "[04:07:07] Explicit valence for atom # 24 O, 3, is greater than permitted\n"
     ]
    },
    {
     "name": "stdout",
     "output_type": "stream",
     "text": [
      "Wrong SMILES for:  17190196 (removed!)\n",
      "Wrong SMILES for:  17190533 (removed!)\n",
      "Wrong SMILES for:  17190805 (removed!)\n",
      "Wrong SMILES for:  17190845 (removed!)\n"
     ]
    },
    {
     "name": "stderr",
     "output_type": "stream",
     "text": [
      "[04:07:07] Explicit valence for atom # 3 O, 3, is greater than permitted\n",
      "[04:07:07] Explicit valence for atom # 20 O, 3, is greater than permitted\n"
     ]
    },
    {
     "name": "stdout",
     "output_type": "stream",
     "text": [
      "Wrong SMILES for:  17191162 (removed!)\n",
      "Wrong SMILES for:  17191825 (removed!)\n"
     ]
    },
    {
     "name": "stderr",
     "output_type": "stream",
     "text": [
      "[04:07:07] Explicit valence for atom # 19 O, 3, is greater than permitted\n",
      "[04:07:07] Explicit valence for atom # 22 O, 3, is greater than permitted\n",
      "[04:07:07] Explicit valence for atom # 22 O, 3, is greater than permitted\n"
     ]
    },
    {
     "name": "stdout",
     "output_type": "stream",
     "text": [
      "Wrong SMILES for:  17191896 (removed!)\n",
      "Wrong SMILES for:  17192221 (removed!)\n",
      "Wrong SMILES for:  17192496 (removed!)\n"
     ]
    },
    {
     "name": "stderr",
     "output_type": "stream",
     "text": [
      "[04:07:08] Explicit valence for atom # 21 O, 3, is greater than permitted\n",
      "[04:07:08] Explicit valence for atom # 22 O, 3, is greater than permitted\n"
     ]
    },
    {
     "name": "stdout",
     "output_type": "stream",
     "text": [
      "Wrong SMILES for:  17193876 (removed!)\n",
      "Wrong SMILES for:  17193890 (removed!)\n"
     ]
    },
    {
     "name": "stderr",
     "output_type": "stream",
     "text": [
      "[04:07:08] Explicit valence for atom # 20 O, 3, is greater than permitted\n",
      "[04:07:08] Explicit valence for atom # 22 O, 3, is greater than permitted\n"
     ]
    },
    {
     "name": "stdout",
     "output_type": "stream",
     "text": [
      "Wrong SMILES for:  17195268 (removed!)\n",
      "Wrong SMILES for:  17195587 (removed!)\n"
     ]
    },
    {
     "name": "stderr",
     "output_type": "stream",
     "text": [
      "[04:07:08] Explicit valence for atom # 22 O, 3, is greater than permitted\n",
      "[04:07:09] Explicit valence for atom # 22 O, 3, is greater than permitted\n"
     ]
    },
    {
     "name": "stdout",
     "output_type": "stream",
     "text": [
      "Wrong SMILES for:  17196226 (removed!)\n",
      "Wrong SMILES for:  17196295 (removed!)\n"
     ]
    },
    {
     "name": "stderr",
     "output_type": "stream",
     "text": [
      "[04:07:09] Explicit valence for atom # 25 O, 3, is greater than permitted\n"
     ]
    },
    {
     "name": "stdout",
     "output_type": "stream",
     "text": [
      "Wrong SMILES for:  17196941 (removed!)\n"
     ]
    },
    {
     "name": "stderr",
     "output_type": "stream",
     "text": [
      "[04:07:09] Explicit valence for atom # 17 O, 3, is greater than permitted\n",
      "[04:07:09] Explicit valence for atom # 19 O, 3, is greater than permitted\n"
     ]
    },
    {
     "name": "stdout",
     "output_type": "stream",
     "text": [
      "Wrong SMILES for:  17198347 (removed!)\n",
      "Wrong SMILES for:  17198682 (removed!)\n",
      "Wrong SMILES for:  17199001 (removed!)\n",
      "Currently on 17200000th data\n",
      "Wrong SMILES for:  17200086 (removed!)\n",
      "Wrong SMILES for:  17200161 (removed!)\n",
      "Wrong SMILES for:  17200478 (removed!)\n"
     ]
    },
    {
     "name": "stderr",
     "output_type": "stream",
     "text": [
      "[04:07:09] Explicit valence for atom # 20 O, 3, is greater than permitted\n",
      "[04:07:10] Explicit valence for atom # 3 O, 3, is greater than permitted\n",
      "[04:07:10] Explicit valence for atom # 20 O, 3, is greater than permitted\n",
      "[04:07:10] Explicit valence for atom # 22 O, 3, is greater than permitted\n",
      "[04:07:10] Explicit valence for atom # 20 O, 3, is greater than permitted\n",
      "[04:07:11] Explicit valence for atom # 3 O, 3, is greater than permitted\n"
     ]
    },
    {
     "name": "stdout",
     "output_type": "stream",
     "text": [
      "Wrong SMILES for:  17202198 (removed!)\n",
      "Wrong SMILES for:  17202589 (removed!)\n"
     ]
    },
    {
     "name": "stderr",
     "output_type": "stream",
     "text": [
      "[04:07:11] Explicit valence for atom # 15 O, 3, is greater than permitted\n"
     ]
    },
    {
     "name": "stdout",
     "output_type": "stream",
     "text": [
      "Wrong SMILES for:  17202965 (removed!)\n",
      "Currently on 17300000th data\n",
      "Currently on 17400000th data\n"
     ]
    },
    {
     "name": "stderr",
     "output_type": "stream",
     "text": [
      "[04:08:31] Explicit valence for atom # 14 C, 5, is greater than permitted\n",
      "[04:08:32] Explicit valence for atom # 8 C, 5, is greater than permitted\n"
     ]
    },
    {
     "name": "stdout",
     "output_type": "stream",
     "text": [
      "Wrong SMILES for:  17441740 (removed!)\n",
      "Wrong SMILES for:  17442331 (removed!)\n"
     ]
    },
    {
     "name": "stderr",
     "output_type": "stream",
     "text": [
      "[04:08:32] Can't kekulize mol.  Unkekulized atoms: 6 7 8 9 10\n"
     ]
    },
    {
     "name": "stdout",
     "output_type": "stream",
     "text": [
      "Wrong SMILES for:  17443054 (removed!)\n"
     ]
    },
    {
     "name": "stderr",
     "output_type": "stream",
     "text": [
      "[04:08:32] Explicit valence for atom # 6 C, 5, is greater than permitted\n",
      "[04:08:32] Explicit valence for atom # 4 C, 5, is greater than permitted\n"
     ]
    },
    {
     "name": "stdout",
     "output_type": "stream",
     "text": [
      "Wrong SMILES for:  17443876 (removed!)\n",
      "Wrong SMILES for:  17444013 (removed!)\n"
     ]
    },
    {
     "name": "stderr",
     "output_type": "stream",
     "text": [
      "[04:08:32] Can't kekulize mol.  Unkekulized atoms: 1 2 3 4 5 6 7 8 15\n"
     ]
    },
    {
     "name": "stdout",
     "output_type": "stream",
     "text": [
      "Wrong SMILES for:  17444813 (removed!)\n"
     ]
    },
    {
     "name": "stderr",
     "output_type": "stream",
     "text": [
      "[04:08:34] Explicit valence for atom # 1 O, 3, is greater than permitted\n",
      "[04:08:34] Can't kekulize mol.  Unkekulized atoms: 127 128 129 130 131\n"
     ]
    },
    {
     "name": "stdout",
     "output_type": "stream",
     "text": [
      "Wrong SMILES for:  17448884 (removed!)\n",
      "Wrong SMILES for:  17449395 (removed!)\n"
     ]
    },
    {
     "name": "stderr",
     "output_type": "stream",
     "text": [
      "[04:08:34] Can't kekulize mol.  Unkekulized atoms: 62 63 64 65 66\n",
      "[04:08:34] Can't kekulize mol.  Unkekulized atoms: 204 205 206 207 208 209 210 211 212\n",
      "[04:08:34] Can't kekulize mol.  Unkekulized atoms: 285 286 287 288 289\n"
     ]
    },
    {
     "name": "stdout",
     "output_type": "stream",
     "text": [
      "Wrong SMILES for:  17449677 (removed!)\n",
      "Wrong SMILES for:  17449678 (removed!)\n",
      "Wrong SMILES for:  17450080 (removed!)\n"
     ]
    },
    {
     "name": "stderr",
     "output_type": "stream",
     "text": [
      "[04:08:38] Explicit valence for atom # 12 N, 4, is greater than permitted\n",
      "[04:08:38] Explicit valence for atom # 1 N, 4, is greater than permitted\n",
      "[04:08:38] Explicit valence for atom # 4 N, 4, is greater than permitted\n",
      "[04:08:38] Explicit valence for atom # 9 N, 4, is greater than permitted\n"
     ]
    },
    {
     "name": "stdout",
     "output_type": "stream",
     "text": [
      "Wrong SMILES for:  17461641 (removed!)\n",
      "Wrong SMILES for:  17461900 (removed!)\n",
      "Wrong SMILES for:  17462027 (removed!)\n",
      "Wrong SMILES for:  17462156 (removed!)\n"
     ]
    },
    {
     "name": "stderr",
     "output_type": "stream",
     "text": [
      "[04:08:38] Explicit valence for atom # 1 N, 4, is greater than permitted\n"
     ]
    },
    {
     "name": "stdout",
     "output_type": "stream",
     "text": [
      "Wrong SMILES for:  17462282 (removed!)\n"
     ]
    },
    {
     "name": "stderr",
     "output_type": "stream",
     "text": [
      "[04:08:39] Explicit valence for atom # 0 B, 4, is greater than permitted\n"
     ]
    },
    {
     "name": "stdout",
     "output_type": "stream",
     "text": [
      "Wrong SMILES for:  17466423 (removed!)\n"
     ]
    },
    {
     "name": "stderr",
     "output_type": "stream",
     "text": [
      "[04:08:40] Can't kekulize mol.  Unkekulized atoms: 3 4 5 6 7\n"
     ]
    },
    {
     "name": "stdout",
     "output_type": "stream",
     "text": [
      "Wrong SMILES for:  17470233 (removed!)\n"
     ]
    },
    {
     "name": "stderr",
     "output_type": "stream",
     "text": [
      "[04:08:41] Explicit valence for atom # 6 B, 4, is greater than permitted\n",
      "[04:08:41] Can't kekulize mol.  Unkekulized atoms: 0 1 2 3 4\n"
     ]
    },
    {
     "name": "stdout",
     "output_type": "stream",
     "text": [
      "Wrong SMILES for:  17472676 (removed!)\n",
      "Wrong SMILES for:  17473063 (removed!)\n"
     ]
    },
    {
     "name": "stderr",
     "output_type": "stream",
     "text": [
      "[04:08:41] Explicit valence for atom # 0 O, 3, is greater than permitted\n"
     ]
    },
    {
     "name": "stdout",
     "output_type": "stream",
     "text": [
      "Wrong SMILES for:  17473585 (removed!)\n"
     ]
    },
    {
     "name": "stderr",
     "output_type": "stream",
     "text": [
      "[04:08:42] Explicit valence for atom # 4 N, 4, is greater than permitted\n"
     ]
    },
    {
     "name": "stdout",
     "output_type": "stream",
     "text": [
      "Wrong SMILES for:  17475070 (removed!)\n",
      "Currently on 17500000th data\n",
      "Currently on 17600000th data\n",
      "Currently on 17700000th data\n"
     ]
    },
    {
     "name": "stderr",
     "output_type": "stream",
     "text": [
      "[04:09:37] Can't kekulize mol.  Unkekulized atoms: 3 4 5 6 7\n",
      "[04:09:37] Explicit valence for atom # 2 S, 7, is greater than permitted\n",
      "[04:09:37] Explicit valence for atom # 5 C, 5, is greater than permitted\n",
      "[04:09:37] Explicit valence for atom # 4 C, 5, is greater than permitted\n"
     ]
    },
    {
     "name": "stdout",
     "output_type": "stream",
     "text": [
      "Wrong SMILES for:  17735358 (removed!)\n",
      "Wrong SMILES for:  17735652 (removed!)\n",
      "Wrong SMILES for:  17735936 (removed!)\n",
      "Wrong SMILES for:  17736046 (removed!)\n"
     ]
    },
    {
     "name": "stderr",
     "output_type": "stream",
     "text": [
      "[04:09:37] Explicit valence for atom # 0 Na, 3, is greater than permitted\n",
      "[04:09:37] Explicit valence for atom # 41 N, 5, is greater than permitted\n",
      "[04:09:37] Explicit valence for atom # 35 N, 5, is greater than permitted\n"
     ]
    },
    {
     "name": "stdout",
     "output_type": "stream",
     "text": [
      "Wrong SMILES for:  17737607 (removed!)\n",
      "Wrong SMILES for:  17737710 (removed!)\n",
      "Wrong SMILES for:  17737768 (removed!)\n"
     ]
    },
    {
     "name": "stderr",
     "output_type": "stream",
     "text": [
      "[04:09:38] Explicit valence for atom # 4 N, 4, is greater than permitted\n",
      "[04:09:38] Can't kekulize mol.  Unkekulized atoms: 3 4 5 6 7\n"
     ]
    },
    {
     "name": "stdout",
     "output_type": "stream",
     "text": [
      "Wrong SMILES for:  17741712 (removed!)\n",
      "Wrong SMILES for:  17742285 (removed!)\n"
     ]
    },
    {
     "name": "stderr",
     "output_type": "stream",
     "text": [
      "[04:09:38] Explicit valence for atom # 7 O, 3, is greater than permitted\n"
     ]
    },
    {
     "name": "stdout",
     "output_type": "stream",
     "text": [
      "Wrong SMILES for:  17742877 (removed!)\n"
     ]
    },
    {
     "name": "stderr",
     "output_type": "stream",
     "text": [
      "[04:09:39] Explicit valence for atom # 4 N, 4, is greater than permitted\n"
     ]
    },
    {
     "name": "stdout",
     "output_type": "stream",
     "text": [
      "Wrong SMILES for:  17746407 (removed!)\n"
     ]
    },
    {
     "name": "stderr",
     "output_type": "stream",
     "text": [
      "[04:09:40] Explicit valence for atom # 4 N, 4, is greater than permitted\n",
      "[04:09:40] Explicit valence for atom # 14 B, 4, is greater than permitted\n"
     ]
    },
    {
     "name": "stdout",
     "output_type": "stream",
     "text": [
      "Wrong SMILES for:  17750868 (removed!)\n",
      "Wrong SMILES for:  17751136 (removed!)\n"
     ]
    },
    {
     "name": "stderr",
     "output_type": "stream",
     "text": [
      "[04:09:48] Explicit valence for atom # 8 C, 5, is greater than permitted\n"
     ]
    },
    {
     "name": "stdout",
     "output_type": "stream",
     "text": [
      "Wrong SMILES for:  17784113 (removed!)\n",
      "Currently on 17800000th data\n"
     ]
    },
    {
     "name": "stderr",
     "output_type": "stream",
     "text": [
      "[04:10:02] Explicit valence for atom # 4 N, 4, is greater than permitted\n"
     ]
    },
    {
     "name": "stdout",
     "output_type": "stream",
     "text": [
      "Wrong SMILES for:  17847161 (removed!)\n"
     ]
    },
    {
     "name": "stderr",
     "output_type": "stream",
     "text": [
      "[04:10:05] Explicit valence for atom # 2 S, 7, is greater than permitted\n"
     ]
    },
    {
     "name": "stdout",
     "output_type": "stream",
     "text": [
      "Wrong SMILES for:  17863117 (removed!)\n"
     ]
    },
    {
     "name": "stderr",
     "output_type": "stream",
     "text": [
      "[04:10:08] Explicit valence for atom # 3 C, 5, is greater than permitted\n"
     ]
    },
    {
     "name": "stdout",
     "output_type": "stream",
     "text": [
      "Wrong SMILES for:  17873980 (removed!)\n"
     ]
    },
    {
     "name": "stderr",
     "output_type": "stream",
     "text": [
      "[04:10:08] Explicit valence for atom # 4 C, 5, is greater than permitted\n"
     ]
    },
    {
     "name": "stdout",
     "output_type": "stream",
     "text": [
      "Wrong SMILES for:  17876550 (removed!)\n"
     ]
    },
    {
     "name": "stderr",
     "output_type": "stream",
     "text": [
      "[04:10:09] Explicit valence for atom # 2 N, 4, is greater than permitted\n"
     ]
    },
    {
     "name": "stdout",
     "output_type": "stream",
     "text": [
      "Wrong SMILES for:  17880197 (removed!)\n",
      "Currently on 17900000th data\n"
     ]
    },
    {
     "name": "stderr",
     "output_type": "stream",
     "text": [
      "[04:10:21] Explicit valence for atom # 1 H, 2, is greater than permitted\n"
     ]
    },
    {
     "name": "stdout",
     "output_type": "stream",
     "text": [
      "Wrong SMILES for:  17929607 (removed!)\n"
     ]
    },
    {
     "name": "stderr",
     "output_type": "stream",
     "text": [
      "[04:10:21] Explicit valence for atom # 17 N, 4, is greater than permitted\n"
     ]
    },
    {
     "name": "stdout",
     "output_type": "stream",
     "text": [
      "Wrong SMILES for:  17931370 (removed!)\n"
     ]
    },
    {
     "name": "stderr",
     "output_type": "stream",
     "text": [
      "[04:10:22] Explicit valence for atom # 11 C, 5, is greater than permitted\n",
      "[04:10:22] Can't kekulize mol.  Unkekulized atoms: 4 5 6 7 8\n"
     ]
    },
    {
     "name": "stdout",
     "output_type": "stream",
     "text": [
      "Wrong SMILES for:  17935126 (removed!)\n",
      "Wrong SMILES for:  17935265 (removed!)\n"
     ]
    },
    {
     "name": "stderr",
     "output_type": "stream",
     "text": [
      "[04:10:22] Explicit valence for atom # 16 C, 5, is greater than permitted\n",
      "[04:10:22] Can't kekulize mol.  Unkekulized atoms: 5 6 7 8 9\n"
     ]
    },
    {
     "name": "stdout",
     "output_type": "stream",
     "text": [
      "Wrong SMILES for:  17936073 (removed!)\n",
      "Wrong SMILES for:  17936160 (removed!)\n"
     ]
    },
    {
     "name": "stderr",
     "output_type": "stream",
     "text": [
      "[04:10:23] Explicit valence for atom # 4 N, 4, is greater than permitted\n"
     ]
    },
    {
     "name": "stdout",
     "output_type": "stream",
     "text": [
      "Wrong SMILES for:  17938307 (removed!)\n"
     ]
    },
    {
     "name": "stderr",
     "output_type": "stream",
     "text": [
      "[04:10:24] Explicit valence for atom # 2 N, 4, is greater than permitted\n",
      "[04:10:24] Explicit valence for atom # 1 N, 4, is greater than permitted\n"
     ]
    },
    {
     "name": "stdout",
     "output_type": "stream",
     "text": [
      "Wrong SMILES for:  17942380 (removed!)\n",
      "Wrong SMILES for:  17942499 (removed!)\n"
     ]
    },
    {
     "name": "stderr",
     "output_type": "stream",
     "text": [
      "[04:10:24] Explicit valence for atom # 3 C, 5, is greater than permitted\n",
      "[04:10:24] Explicit valence for atom # 5 C, 5, is greater than permitted\n",
      "[04:10:24] Explicit valence for atom # 4 C, 5, is greater than permitted\n",
      "[04:10:24] Explicit valence for atom # 4 C, 5, is greater than permitted\n",
      "[04:10:24] Explicit valence for atom # 1 S, 7, is greater than permitted\n",
      "[04:10:24] Can't kekulize mol.  Unkekulized atoms: 9 10 11 13 14 16 17 18 20 21\n",
      "[04:10:24] Explicit valence for atom # 19 C, 5, is greater than permitted\n",
      "[04:10:24] Explicit valence for atom # 7 C, 5, is greater than permitted\n"
     ]
    },
    {
     "name": "stdout",
     "output_type": "stream",
     "text": [
      "Wrong SMILES for:  17943318 (removed!)\n",
      "Wrong SMILES for:  17943383 (removed!)\n",
      "Wrong SMILES for:  17943504 (removed!)\n",
      "Wrong SMILES for:  17943573 (removed!)\n",
      "Wrong SMILES for:  17943644 (removed!)\n",
      "Wrong SMILES for:  17943740 (removed!)\n",
      "Wrong SMILES for:  17943936 (removed!)\n",
      "Wrong SMILES for:  17944190 (removed!)\n"
     ]
    },
    {
     "name": "stderr",
     "output_type": "stream",
     "text": [
      "[04:10:24] Can't kekulize mol.  Unkekulized atoms: 4 5 7 9 11\n",
      "[04:10:25] Explicit valence for atom # 5 N, 4, is greater than permitted\n"
     ]
    },
    {
     "name": "stdout",
     "output_type": "stream",
     "text": [
      "Wrong SMILES for:  17944902 (removed!)\n",
      "Wrong SMILES for:  17945671 (removed!)\n"
     ]
    },
    {
     "name": "stderr",
     "output_type": "stream",
     "text": [
      "[04:10:25] Explicit valence for atom # 3 C, 5, is greater than permitted\n"
     ]
    },
    {
     "name": "stdout",
     "output_type": "stream",
     "text": [
      "Wrong SMILES for:  17946389 (removed!)\n"
     ]
    },
    {
     "name": "stderr",
     "output_type": "stream",
     "text": [
      "[04:10:25] Explicit valence for atom # 6 C, 5, is greater than permitted\n"
     ]
    },
    {
     "name": "stdout",
     "output_type": "stream",
     "text": [
      "Wrong SMILES for:  17947338 (removed!)\n",
      "Wrong SMILES for:  17949934 (removed!)\n"
     ]
    },
    {
     "name": "stderr",
     "output_type": "stream",
     "text": [
      "[04:10:26] Explicit valence for atom # 30 N, 4, is greater than permitted\n"
     ]
    }
   ],
   "source": [
    "smiles_arr = []\n",
    "for i in range(len(df)):\n",
    "    if i % 100000 == 0:\n",
    "        print(\"Currently on {}th data\".format(i))\n",
    "    smile = df['smiles'][i]\n",
    "    mol = Chem.MolFromSmiles(smile)\n",
    "    try:\n",
    "        num = mol.GetNumHeavyAtoms()\n",
    "        mw = MolDescriptors.CalcExactMolWt(mol)\n",
    "        if MolDescriptors.CalcNumAromaticRings(mol) >= 1:\n",
    "            continue\n",
    "    #     elif rdMolDescriptors.CalcNumHBD(mol) >= 1:\n",
    "    #         rem_ind.append(i)\n",
    "        elif Fragments.fr_Imine(mol) >= 1:\n",
    "            continue\n",
    "        elif Fragments.fr_nitroso(mol) >= 1:\n",
    "            continue\n",
    "        elif '@' in smile:\n",
    "            continue\n",
    "        elif num_double_bond(mol) >= 1:\n",
    "            continue\n",
    "        elif '+' in smile:\n",
    "            continue\n",
    "        elif '-' in smile:\n",
    "            continue\n",
    "        elif '[2H' in smile:\n",
    "            continue\n",
    "        elif '[13C' in smile:\n",
    "            continue\n",
    "        elif '.' in smile:\n",
    "            continue\n",
    "        elif float(mw) > 500:\n",
    "            continue\n",
    "        elif num <= 4:\n",
    "            continue\n",
    "        elif check_present(smile) >= 1:\n",
    "            continue\n",
    "        else:\n",
    "            smiles_arr.append(smile)\n",
    "    except AttributeError:\n",
    "        print(\"Wrong SMILES for: \", i, \"(removed!)\")\n",
    "        pass"
   ]
  },
  {
   "cell_type": "code",
   "execution_count": 28,
   "id": "4c8dcab4",
   "metadata": {},
   "outputs": [
    {
     "data": {
      "text/plain": [
       "328119"
      ]
     },
     "execution_count": 28,
     "metadata": {},
     "output_type": "execute_result"
    }
   ],
   "source": [
    "len(smiles_arr)"
   ]
  },
  {
   "cell_type": "code",
   "execution_count": 29,
   "id": "7fdb79b4",
   "metadata": {
    "scrolled": false
   },
   "outputs": [
    {
     "data": {
      "text/html": [
       "<div>\n",
       "<style scoped>\n",
       "    .dataframe tbody tr th:only-of-type {\n",
       "        vertical-align: middle;\n",
       "    }\n",
       "\n",
       "    .dataframe tbody tr th {\n",
       "        vertical-align: top;\n",
       "    }\n",
       "\n",
       "    .dataframe thead th {\n",
       "        text-align: right;\n",
       "    }\n",
       "</style>\n",
       "<table border=\"1\" class=\"dataframe\">\n",
       "  <thead>\n",
       "    <tr style=\"text-align: right;\">\n",
       "      <th></th>\n",
       "      <th>smiles</th>\n",
       "    </tr>\n",
       "  </thead>\n",
       "  <tbody>\n",
       "    <tr>\n",
       "      <th>0</th>\n",
       "      <td>CC1(C)CC(CCO1)C(=O)CCl</td>\n",
       "    </tr>\n",
       "    <tr>\n",
       "      <th>1</th>\n",
       "      <td>CC1(C)CC(CCC#N)(CCO1)C=O</td>\n",
       "    </tr>\n",
       "    <tr>\n",
       "      <th>2</th>\n",
       "      <td>CCOC(=O)C1COC(C)(C)CC1=O</td>\n",
       "    </tr>\n",
       "    <tr>\n",
       "      <th>3</th>\n",
       "      <td>CCOC(=O)C(N)C(C)C</td>\n",
       "    </tr>\n",
       "    <tr>\n",
       "      <th>4</th>\n",
       "      <td>CN(C)CCOC(=O)CCC(=O)OCCN(C)C</td>\n",
       "    </tr>\n",
       "    <tr>\n",
       "      <th>...</th>\n",
       "      <td>...</td>\n",
       "    </tr>\n",
       "    <tr>\n",
       "      <th>328114</th>\n",
       "      <td>COC(F)(F)C12CC(CO)(C1)C2</td>\n",
       "    </tr>\n",
       "    <tr>\n",
       "      <th>328115</th>\n",
       "      <td>CS(=O)(=O)NC1(F)CNC1</td>\n",
       "    </tr>\n",
       "    <tr>\n",
       "      <th>328116</th>\n",
       "      <td>CCCCCCCCCCCCCCCCNC(=O)OC(C)C</td>\n",
       "    </tr>\n",
       "    <tr>\n",
       "      <th>328117</th>\n",
       "      <td>CC(C)(C)OC(=O)N1CCC2(CNCC2N)CC1</td>\n",
       "    </tr>\n",
       "    <tr>\n",
       "      <th>328118</th>\n",
       "      <td>NC(=O)C12CNC(CS1)C2</td>\n",
       "    </tr>\n",
       "  </tbody>\n",
       "</table>\n",
       "<p>328119 rows × 1 columns</p>\n",
       "</div>"
      ],
      "text/plain": [
       "                                 smiles\n",
       "0                CC1(C)CC(CCO1)C(=O)CCl\n",
       "1              CC1(C)CC(CCC#N)(CCO1)C=O\n",
       "2              CCOC(=O)C1COC(C)(C)CC1=O\n",
       "3                     CCOC(=O)C(N)C(C)C\n",
       "4          CN(C)CCOC(=O)CCC(=O)OCCN(C)C\n",
       "...                                 ...\n",
       "328114         COC(F)(F)C12CC(CO)(C1)C2\n",
       "328115             CS(=O)(=O)NC1(F)CNC1\n",
       "328116     CCCCCCCCCCCCCCCCNC(=O)OC(C)C\n",
       "328117  CC(C)(C)OC(=O)N1CCC2(CNCC2N)CC1\n",
       "328118              NC(=O)C12CNC(CS1)C2\n",
       "\n",
       "[328119 rows x 1 columns]"
      ]
     },
     "execution_count": 29,
     "metadata": {},
     "output_type": "execute_result"
    }
   ],
   "source": [
    "df_1 = pd.DataFrame()\n",
    "df_1['smiles'] = smiles_arr\n",
    "df_1"
   ]
  },
  {
   "cell_type": "code",
   "execution_count": 30,
   "id": "57ed9ec8",
   "metadata": {},
   "outputs": [],
   "source": [
    "df_1.to_csv('filter_1_smiles_list_emol.csv', index=False)"
   ]
  },
  {
   "cell_type": "markdown",
   "id": "ed297233",
   "metadata": {},
   "source": [
    "**Replace -OH, -NH2, -SH, etc. with -OCH3, -N(CH3)2, -SCH3, etc.**"
   ]
  },
  {
   "cell_type": "code",
   "execution_count": 31,
   "id": "c28e6a28",
   "metadata": {},
   "outputs": [
    {
     "data": {
      "text/html": [
       "<div>\n",
       "<style scoped>\n",
       "    .dataframe tbody tr th:only-of-type {\n",
       "        vertical-align: middle;\n",
       "    }\n",
       "\n",
       "    .dataframe tbody tr th {\n",
       "        vertical-align: top;\n",
       "    }\n",
       "\n",
       "    .dataframe thead th {\n",
       "        text-align: right;\n",
       "    }\n",
       "</style>\n",
       "<table border=\"1\" class=\"dataframe\">\n",
       "  <thead>\n",
       "    <tr style=\"text-align: right;\">\n",
       "      <th></th>\n",
       "      <th>smiles</th>\n",
       "    </tr>\n",
       "  </thead>\n",
       "  <tbody>\n",
       "    <tr>\n",
       "      <th>0</th>\n",
       "      <td>CC1(C)CC(CCO1)C(=O)CCl</td>\n",
       "    </tr>\n",
       "    <tr>\n",
       "      <th>1</th>\n",
       "      <td>CC1(C)CC(CCC#N)(CCO1)C=O</td>\n",
       "    </tr>\n",
       "    <tr>\n",
       "      <th>2</th>\n",
       "      <td>CCOC(=O)C1COC(C)(C)CC1=O</td>\n",
       "    </tr>\n",
       "    <tr>\n",
       "      <th>3</th>\n",
       "      <td>CCOC(=O)C(N)C(C)C</td>\n",
       "    </tr>\n",
       "    <tr>\n",
       "      <th>4</th>\n",
       "      <td>CN(C)CCOC(=O)CCC(=O)OCCN(C)C</td>\n",
       "    </tr>\n",
       "    <tr>\n",
       "      <th>...</th>\n",
       "      <td>...</td>\n",
       "    </tr>\n",
       "    <tr>\n",
       "      <th>328114</th>\n",
       "      <td>COC(F)(F)C12CC(CO)(C1)C2</td>\n",
       "    </tr>\n",
       "    <tr>\n",
       "      <th>328115</th>\n",
       "      <td>CS(=O)(=O)NC1(F)CNC1</td>\n",
       "    </tr>\n",
       "    <tr>\n",
       "      <th>328116</th>\n",
       "      <td>CCCCCCCCCCCCCCCCNC(=O)OC(C)C</td>\n",
       "    </tr>\n",
       "    <tr>\n",
       "      <th>328117</th>\n",
       "      <td>CC(C)(C)OC(=O)N1CCC2(CNCC2N)CC1</td>\n",
       "    </tr>\n",
       "    <tr>\n",
       "      <th>328118</th>\n",
       "      <td>NC(=O)C12CNC(CS1)C2</td>\n",
       "    </tr>\n",
       "  </tbody>\n",
       "</table>\n",
       "<p>328119 rows × 1 columns</p>\n",
       "</div>"
      ],
      "text/plain": [
       "                                 smiles\n",
       "0                CC1(C)CC(CCO1)C(=O)CCl\n",
       "1              CC1(C)CC(CCC#N)(CCO1)C=O\n",
       "2              CCOC(=O)C1COC(C)(C)CC1=O\n",
       "3                     CCOC(=O)C(N)C(C)C\n",
       "4          CN(C)CCOC(=O)CCC(=O)OCCN(C)C\n",
       "...                                 ...\n",
       "328114         COC(F)(F)C12CC(CO)(C1)C2\n",
       "328115             CS(=O)(=O)NC1(F)CNC1\n",
       "328116     CCCCCCCCCCCCCCCCNC(=O)OC(C)C\n",
       "328117  CC(C)(C)OC(=O)N1CCC2(CNCC2N)CC1\n",
       "328118              NC(=O)C12CNC(CS1)C2\n",
       "\n",
       "[328119 rows x 1 columns]"
      ]
     },
     "execution_count": 31,
     "metadata": {},
     "output_type": "execute_result"
    }
   ],
   "source": [
    "df_1 = pd.read_csv('filter_1_smiles_list_emol.csv')\n",
    "df_1"
   ]
  },
  {
   "cell_type": "code",
   "execution_count": 32,
   "id": "7f0b107b",
   "metadata": {},
   "outputs": [],
   "source": [
    "def replace_hbd_methyl(smiles):\n",
    "    mol = Chem.MolFromSmiles(smiles)\n",
    "    if MolDescriptors.CalcNumHBD(mol) >= 1:\n",
    "        mol = Chem.AddHs(mol)\n",
    "        edit = Chem.RWMol(mol)\n",
    "        for atom in edit.GetAtoms():\n",
    "            if atom.GetAtomicNum() != 6:\n",
    "                for nbr in atom.GetNeighbors():\n",
    "                    if nbr.GetAtomicNum() == 1:\n",
    "                        nbr.SetAtomicNum(6)\n",
    "\n",
    "        Chem.SanitizeMol(edit)\n",
    "        mol_ = Chem.RemoveHs(edit)  # Also converts back to standard Mol\n",
    "        smiles_ = Chem.MolToSmiles(mol_)\n",
    "    else:\n",
    "        smiles_ = Chem.MolToSmiles(mol)\n",
    "    return smiles_"
   ]
  },
  {
   "cell_type": "code",
   "execution_count": null,
   "id": "ecb9ae98",
   "metadata": {},
   "outputs": [],
   "source": [
    "df_1_ = df_1.copy()\n",
    "df_2 = df_1_.apply(lambda x: replace_hbd_methyl(x['smiles']), axis=1)\n",
    "df_2"
   ]
  },
  {
   "cell_type": "code",
   "execution_count": 33,
   "id": "29a3910d",
   "metadata": {},
   "outputs": [
    {
     "name": "stdout",
     "output_type": "stream",
     "text": [
      "Currently on 0th data\n",
      "Currently on 10000th data\n",
      "Currently on 20000th data\n",
      "Currently on 30000th data\n",
      "Currently on 40000th data\n",
      "Currently on 50000th data\n",
      "Currently on 60000th data\n",
      "Currently on 70000th data\n",
      "Currently on 80000th data\n",
      "Currently on 90000th data\n",
      "Currently on 100000th data\n",
      "Currently on 110000th data\n",
      "Currently on 120000th data\n",
      "Currently on 130000th data\n",
      "Currently on 140000th data\n",
      "Currently on 150000th data\n",
      "Currently on 160000th data\n",
      "Currently on 170000th data\n",
      "Currently on 180000th data\n",
      "Currently on 190000th data\n",
      "Currently on 200000th data\n",
      "Currently on 210000th data\n",
      "Currently on 220000th data\n",
      "Currently on 230000th data\n",
      "Currently on 240000th data\n",
      "Currently on 250000th data\n",
      "Currently on 260000th data\n",
      "Currently on 270000th data\n",
      "Currently on 280000th data\n",
      "Currently on 290000th data\n",
      "Currently on 300000th data\n",
      "Currently on 310000th data\n",
      "Currently on 320000th data\n"
     ]
    }
   ],
   "source": [
    "new_smiles_arr = []\n",
    "for i in range(len(df_1)):\n",
    "    if i % 10000 == 0:\n",
    "        print(\"Currently on {}th data\".format(i))\n",
    "    smiles = df_1['smiles'][i]\n",
    "    smiles_ = replace_hbd_methyl(smiles)\n",
    "    new_smiles_arr.append(smiles_)"
   ]
  },
  {
   "cell_type": "code",
   "execution_count": 34,
   "id": "f8c62cf1",
   "metadata": {},
   "outputs": [
    {
     "data": {
      "text/plain": [
       "328119"
      ]
     },
     "execution_count": 34,
     "metadata": {},
     "output_type": "execute_result"
    }
   ],
   "source": [
    "len(new_smiles_arr)"
   ]
  },
  {
   "cell_type": "code",
   "execution_count": 35,
   "id": "273f524b",
   "metadata": {},
   "outputs": [
    {
     "data": {
      "text/html": [
       "<div>\n",
       "<style scoped>\n",
       "    .dataframe tbody tr th:only-of-type {\n",
       "        vertical-align: middle;\n",
       "    }\n",
       "\n",
       "    .dataframe tbody tr th {\n",
       "        vertical-align: top;\n",
       "    }\n",
       "\n",
       "    .dataframe thead th {\n",
       "        text-align: right;\n",
       "    }\n",
       "</style>\n",
       "<table border=\"1\" class=\"dataframe\">\n",
       "  <thead>\n",
       "    <tr style=\"text-align: right;\">\n",
       "      <th></th>\n",
       "      <th>smiles</th>\n",
       "    </tr>\n",
       "  </thead>\n",
       "  <tbody>\n",
       "    <tr>\n",
       "      <th>0</th>\n",
       "      <td>CC1(C)CC(C(=O)CCl)CCO1</td>\n",
       "    </tr>\n",
       "    <tr>\n",
       "      <th>1</th>\n",
       "      <td>CC1(C)CC(C=O)(CCC#N)CCO1</td>\n",
       "    </tr>\n",
       "    <tr>\n",
       "      <th>2</th>\n",
       "      <td>CCOC(=O)C1COC(C)(C)CC1=O</td>\n",
       "    </tr>\n",
       "    <tr>\n",
       "      <th>3</th>\n",
       "      <td>CCOC(=O)C(C(C)C)N(C)C</td>\n",
       "    </tr>\n",
       "    <tr>\n",
       "      <th>4</th>\n",
       "      <td>CN(C)CCOC(=O)CCC(=O)OCCN(C)C</td>\n",
       "    </tr>\n",
       "    <tr>\n",
       "      <th>...</th>\n",
       "      <td>...</td>\n",
       "    </tr>\n",
       "    <tr>\n",
       "      <th>328114</th>\n",
       "      <td>COCC12CC(C(F)(F)OC)(C1)C2</td>\n",
       "    </tr>\n",
       "    <tr>\n",
       "      <th>328115</th>\n",
       "      <td>CN1CC(F)(N(C)S(C)(=O)=O)C1</td>\n",
       "    </tr>\n",
       "    <tr>\n",
       "      <th>328116</th>\n",
       "      <td>CCCCCCCCCCCCCCCCN(C)C(=O)OC(C)C</td>\n",
       "    </tr>\n",
       "    <tr>\n",
       "      <th>328117</th>\n",
       "      <td>CN1CC(N(C)C)C2(CCN(C(=O)OC(C)(C)C)CC2)C1</td>\n",
       "    </tr>\n",
       "    <tr>\n",
       "      <th>328118</th>\n",
       "      <td>CN(C)C(=O)C12CC(CS1)N(C)C2</td>\n",
       "    </tr>\n",
       "  </tbody>\n",
       "</table>\n",
       "<p>328119 rows × 1 columns</p>\n",
       "</div>"
      ],
      "text/plain": [
       "                                          smiles\n",
       "0                         CC1(C)CC(C(=O)CCl)CCO1\n",
       "1                       CC1(C)CC(C=O)(CCC#N)CCO1\n",
       "2                       CCOC(=O)C1COC(C)(C)CC1=O\n",
       "3                          CCOC(=O)C(C(C)C)N(C)C\n",
       "4                   CN(C)CCOC(=O)CCC(=O)OCCN(C)C\n",
       "...                                          ...\n",
       "328114                 COCC12CC(C(F)(F)OC)(C1)C2\n",
       "328115                CN1CC(F)(N(C)S(C)(=O)=O)C1\n",
       "328116           CCCCCCCCCCCCCCCCN(C)C(=O)OC(C)C\n",
       "328117  CN1CC(N(C)C)C2(CCN(C(=O)OC(C)(C)C)CC2)C1\n",
       "328118                CN(C)C(=O)C12CC(CS1)N(C)C2\n",
       "\n",
       "[328119 rows x 1 columns]"
      ]
     },
     "execution_count": 35,
     "metadata": {},
     "output_type": "execute_result"
    }
   ],
   "source": [
    "df_3 = pd.DataFrame()\n",
    "df_3['smiles'] = new_smiles_arr\n",
    "# df_3.to_csv('mod_filter_1_smiles_list_emol.csv', index=False)\n",
    "df_3"
   ]
  },
  {
   "cell_type": "code",
   "execution_count": 36,
   "id": "3dc57953",
   "metadata": {},
   "outputs": [
    {
     "data": {
      "text/html": [
       "<div>\n",
       "<style scoped>\n",
       "    .dataframe tbody tr th:only-of-type {\n",
       "        vertical-align: middle;\n",
       "    }\n",
       "\n",
       "    .dataframe tbody tr th {\n",
       "        vertical-align: top;\n",
       "    }\n",
       "\n",
       "    .dataframe thead th {\n",
       "        text-align: right;\n",
       "    }\n",
       "</style>\n",
       "<table border=\"1\" class=\"dataframe\">\n",
       "  <thead>\n",
       "    <tr style=\"text-align: right;\">\n",
       "      <th></th>\n",
       "      <th>smiles</th>\n",
       "    </tr>\n",
       "  </thead>\n",
       "  <tbody>\n",
       "    <tr>\n",
       "      <th>0</th>\n",
       "      <td>CC1(C)CC(C(=O)CCl)CCO1</td>\n",
       "    </tr>\n",
       "    <tr>\n",
       "      <th>1</th>\n",
       "      <td>CC1(C)CC(C=O)(CCC#N)CCO1</td>\n",
       "    </tr>\n",
       "    <tr>\n",
       "      <th>2</th>\n",
       "      <td>CCOC(=O)C1COC(C)(C)CC1=O</td>\n",
       "    </tr>\n",
       "    <tr>\n",
       "      <th>3</th>\n",
       "      <td>CCOC(=O)C(C(C)C)N(C)C</td>\n",
       "    </tr>\n",
       "    <tr>\n",
       "      <th>4</th>\n",
       "      <td>CN(C)CCOC(=O)CCC(=O)OCCN(C)C</td>\n",
       "    </tr>\n",
       "    <tr>\n",
       "      <th>...</th>\n",
       "      <td>...</td>\n",
       "    </tr>\n",
       "    <tr>\n",
       "      <th>297527</th>\n",
       "      <td>COCC12CC(C(F)(F)OC)(C1)C2</td>\n",
       "    </tr>\n",
       "    <tr>\n",
       "      <th>297528</th>\n",
       "      <td>CN1CC(F)(N(C)S(C)(=O)=O)C1</td>\n",
       "    </tr>\n",
       "    <tr>\n",
       "      <th>297529</th>\n",
       "      <td>CCCCCCCCCCCCCCCCN(C)C(=O)OC(C)C</td>\n",
       "    </tr>\n",
       "    <tr>\n",
       "      <th>297530</th>\n",
       "      <td>CN1CC(N(C)C)C2(CCN(C(=O)OC(C)(C)C)CC2)C1</td>\n",
       "    </tr>\n",
       "    <tr>\n",
       "      <th>297531</th>\n",
       "      <td>CN(C)C(=O)C12CC(CS1)N(C)C2</td>\n",
       "    </tr>\n",
       "  </tbody>\n",
       "</table>\n",
       "<p>297532 rows × 1 columns</p>\n",
       "</div>"
      ],
      "text/plain": [
       "                                          smiles\n",
       "0                         CC1(C)CC(C(=O)CCl)CCO1\n",
       "1                       CC1(C)CC(C=O)(CCC#N)CCO1\n",
       "2                       CCOC(=O)C1COC(C)(C)CC1=O\n",
       "3                          CCOC(=O)C(C(C)C)N(C)C\n",
       "4                   CN(C)CCOC(=O)CCC(=O)OCCN(C)C\n",
       "...                                          ...\n",
       "297527                 COCC12CC(C(F)(F)OC)(C1)C2\n",
       "297528                CN1CC(F)(N(C)S(C)(=O)=O)C1\n",
       "297529           CCCCCCCCCCCCCCCCN(C)C(=O)OC(C)C\n",
       "297530  CN1CC(N(C)C)C2(CCN(C(=O)OC(C)(C)C)CC2)C1\n",
       "297531                CN(C)C(=O)C12CC(CS1)N(C)C2\n",
       "\n",
       "[297532 rows x 1 columns]"
      ]
     },
     "execution_count": 36,
     "metadata": {},
     "output_type": "execute_result"
    }
   ],
   "source": [
    "unique_smiles = df_3['smiles'].unique()\n",
    "len(unique_smiles)\n",
    "df_3_unique = pd.DataFrame()\n",
    "df_3_unique['smiles'] = unique_smiles\n",
    "df_3_unique"
   ]
  },
  {
   "cell_type": "code",
   "execution_count": 37,
   "id": "9d04d05c",
   "metadata": {},
   "outputs": [],
   "source": [
    "df_3_unique.to_csv('mod_filter_1_smiles_list_emol.csv', index=False)"
   ]
  },
  {
   "cell_type": "code",
   "execution_count": 15,
   "id": "e2fcb400",
   "metadata": {},
   "outputs": [
    {
     "name": "stderr",
     "output_type": "stream",
     "text": [
      "[02:33:04] WARNING: could not find number of expected rings. Switching to an approximate ring finding algorithm.\n",
      "[02:34:45] WARNING: could not find number of expected rings. Switching to an approximate ring finding algorithm.\n",
      "[02:40:12] WARNING: could not find number of expected rings. Switching to an approximate ring finding algorithm.\n"
     ]
    }
   ],
   "source": [
    "for i in range(len(df_3_unique)):\n",
    "    smile = df_3_unique['smiles'][i]\n",
    "    mol = Chem.MolFromSmiles(smile)\n",
    "    if MolDescriptors.CalcNumHBD(mol) >= 1:\n",
    "        print(i, smile)"
   ]
  },
  {
   "cell_type": "code",
   "execution_count": null,
   "id": "89ff5d3b",
   "metadata": {},
   "outputs": [],
   "source": []
  }
 ],
 "metadata": {
  "kernelspec": {
   "display_name": "Python 3 (ipykernel)",
   "language": "python",
   "name": "python3"
  },
  "language_info": {
   "codemirror_mode": {
    "name": "ipython",
    "version": 3
   },
   "file_extension": ".py",
   "mimetype": "text/x-python",
   "name": "python",
   "nbconvert_exporter": "python",
   "pygments_lexer": "ipython3",
   "version": "3.7.4"
  }
 },
 "nbformat": 4,
 "nbformat_minor": 5
}
